{
 "cells": [
  {
   "cell_type": "code",
   "execution_count": 1,
   "metadata": {
    "collapsed": true
   },
   "outputs": [],
   "source": [
    "%load_ext autoreload\n",
    "%autoreload 2\n",
    "from graph_algo.adt import LinkedGraph as LG, MatrixGraph as MG, Vertex, Edge, MapGraph"
   ]
  },
  {
   "cell_type": "code",
   "execution_count": 2,
   "outputs": [
    {
     "name": "stdout",
     "output_type": "stream",
     "text": [
      "  0 1 2 3 4 5 6 7 \n",
      "0 0 1 0 0 0 0 0 0 \n",
      "1 1 0 0 0 0 0 0 0 \n",
      "2 0 0 0 1 0 0 0 0 \n",
      "3 0 0 1 0 0 0 0 0 \n",
      "4 0 0 0 0 0 0 1 0 \n",
      "5 0 0 0 0 0 0 0 0 \n",
      "6 0 0 0 0 1 0 0 0 \n",
      "7 0 0 0 0 0 0 0 0 \n"
     ]
    },
    {
     "data": {
      "text/plain": ""
     },
     "execution_count": 2,
     "metadata": {},
     "output_type": "execute_result"
    }
   ],
   "source": [
    "g = MG()\n",
    "g.insert_edge(Edge(Vertex(0), Vertex(1)))\n",
    "g.insert_edge(Edge(Vertex(6), Vertex(4)))\n",
    "g.insert_edge(Edge(Vertex(3), Vertex(2)))\n",
    "g"
   ],
   "metadata": {
    "collapsed": false,
    "pycharm": {
     "name": "#%%\n"
    }
   }
  },
  {
   "cell_type": "code",
   "execution_count": 3,
   "outputs": [
    {
     "name": "stdout",
     "output_type": "stream",
     "text": [
      "Edge(Vertex(value=0), Vertex(value=1))\n",
      "Edge(Vertex(value=6), Vertex(value=4))\n",
      "Edge(Vertex(value=3), Vertex(value=2))\n"
     ]
    },
    {
     "data": {
      "text/plain": "[Vertex(value=0),\n Vertex(value=1),\n Vertex(value=6),\n Vertex(value=4),\n Vertex(value=3),\n Vertex(value=2)]"
     },
     "execution_count": 3,
     "metadata": {},
     "output_type": "execute_result"
    }
   ],
   "source": [
    "list(g.vertices)"
   ],
   "metadata": {
    "collapsed": false,
    "pycharm": {
     "name": "#%%\n"
    }
   }
  },
  {
   "cell_type": "code",
   "execution_count": 4,
   "outputs": [
    {
     "data": {
      "text/plain": "[Edge(Vertex(value=0), Vertex(value=1)),\n Edge(Vertex(value=6), Vertex(value=4)),\n Edge(Vertex(value=3), Vertex(value=2))]"
     },
     "execution_count": 4,
     "metadata": {},
     "output_type": "execute_result"
    }
   ],
   "source": [
    "list(g.edges)"
   ],
   "metadata": {
    "collapsed": false,
    "pycharm": {
     "name": "#%%\n"
    }
   }
  },
  {
   "cell_type": "code",
   "execution_count": 5,
   "outputs": [
    {
     "name": "stdout",
     "output_type": "stream",
     "text": [
      "  0 1 2 3 4 5 6 7 \n",
      "0 0 1 0 0 0 0 0 0 \n",
      "1 1 0 0 0 0 0 0 0 \n",
      "2 0 0 0 1 0 0 0 0 \n",
      "3 0 0 1 0 0 0 0 0 \n",
      "4 0 0 0 0 0 0 0 0 \n",
      "5 0 0 0 0 0 0 0 0 \n",
      "6 0 0 0 0 0 0 0 0 \n",
      "7 0 0 0 0 0 0 0 0 \n"
     ]
    },
    {
     "data": {
      "text/plain": ""
     },
     "execution_count": 5,
     "metadata": {},
     "output_type": "execute_result"
    }
   ],
   "source": [
    "g.remove_edge(g.edges[1])\n",
    "g"
   ],
   "metadata": {
    "collapsed": false,
    "pycharm": {
     "name": "#%%\n"
    }
   }
  },
  {
   "cell_type": "code",
   "execution_count": 6,
   "outputs": [
    {
     "name": "stdout",
     "output_type": "stream",
     "text": [
      "0 1->2\n",
      "\n",
      "1 0\n",
      "\n",
      "2 0->3\n",
      "\n",
      "3 2\n",
      "\n",
      "4 6\n",
      "\n",
      "5 \n",
      "6 4\n",
      "\n",
      "7 \n"
     ]
    },
    {
     "data": {
      "text/plain": ""
     },
     "execution_count": 6,
     "metadata": {},
     "output_type": "execute_result"
    }
   ],
   "source": [
    "g = LG()\n",
    "g.insert_edge(Edge(Vertex(0), Vertex(1)))\n",
    "g.insert_edge(Edge(Vertex(0), Vertex(2)))\n",
    "g.insert_edge(Edge(Vertex(6), Vertex(4)))\n",
    "g.insert_edge(Edge(Vertex(3), Vertex(2)))\n",
    "g"
   ],
   "metadata": {
    "collapsed": false,
    "pycharm": {
     "name": "#%%\n"
    }
   }
  },
  {
   "cell_type": "code",
   "execution_count": 7,
   "outputs": [
    {
     "data": {
      "text/plain": "[Vertex(value=0),\n Vertex(value=1),\n Vertex(value=2),\n Vertex(value=3),\n Vertex(value=4),\n Vertex(value=6)]"
     },
     "execution_count": 7,
     "metadata": {},
     "output_type": "execute_result"
    }
   ],
   "source": [
    "g.vertices"
   ],
   "metadata": {
    "collapsed": false,
    "pycharm": {
     "name": "#%%\n"
    }
   }
  },
  {
   "cell_type": "code",
   "execution_count": 8,
   "outputs": [],
   "source": [
    "edges = list(g.edges)\n"
   ],
   "metadata": {
    "collapsed": false,
    "pycharm": {
     "name": "#%%\n"
    }
   }
  },
  {
   "cell_type": "code",
   "execution_count": 9,
   "outputs": [],
   "source": [
    "g.remove_edge(edges[-1])"
   ],
   "metadata": {
    "collapsed": false,
    "pycharm": {
     "name": "#%%\n"
    }
   }
  },
  {
   "cell_type": "code",
   "execution_count": 10,
   "outputs": [
    {
     "data": {
      "text/plain": "[(Vertex(value=0), Vertex(value=1)),\n (Vertex(value=0), Vertex(value=2)),\n (Vertex(value=2), Vertex(value=3))]"
     },
     "execution_count": 10,
     "metadata": {},
     "output_type": "execute_result"
    }
   ],
   "source": [
    "list(g.edges)"
   ],
   "metadata": {
    "collapsed": false,
    "pycharm": {
     "name": "#%%\n"
    }
   }
  },
  {
   "cell_type": "code",
   "execution_count": 11,
   "outputs": [
    {
     "name": "stdout",
     "output_type": "stream",
     "text": [
      "0 1->2\n",
      "\n",
      "1 0\n",
      "\n",
      "2 0->3\n",
      "\n",
      "3 2\n",
      "\n",
      "4 \n",
      "5 \n",
      "6 \n",
      "7 \n"
     ]
    },
    {
     "data": {
      "text/plain": ""
     },
     "execution_count": 11,
     "metadata": {},
     "output_type": "execute_result"
    }
   ],
   "source": [
    "g"
   ],
   "metadata": {
    "collapsed": false,
    "pycharm": {
     "name": "#%%\n"
    }
   }
  },
  {
   "cell_type": "code",
   "execution_count": 12,
   "outputs": [],
   "source": [
    "g = MapGraph()"
   ],
   "metadata": {
    "collapsed": false,
    "pycharm": {
     "name": "#%%\n"
    }
   }
  },
  {
   "cell_type": "code",
   "execution_count": 26,
   "outputs": [],
   "source": [
    "g.generate_graph(10, 5)"
   ],
   "metadata": {
    "collapsed": false,
    "pycharm": {
     "name": "#%%\n"
    }
   }
  },
  {
   "cell_type": "code",
   "execution_count": 27,
   "outputs": [
    {
     "data": {
      "text/plain": "[Vertex(value=1),\n Vertex(value=2),\n Vertex(value=3),\n Vertex(value=4),\n Vertex(value=5),\n Vertex(value=8),\n Vertex(value=9)]"
     },
     "execution_count": 27,
     "metadata": {},
     "output_type": "execute_result"
    }
   ],
   "source": [
    "list(g.vertices)"
   ],
   "metadata": {
    "collapsed": false,
    "pycharm": {
     "name": "#%%\n"
    }
   }
  },
  {
   "cell_type": "code",
   "execution_count": 28,
   "outputs": [
    {
     "data": {
      "text/plain": "[Edge(Vertex(value=9), Vertex(value=3)),\n Edge(Vertex(value=8), Vertex(value=1)),\n Edge(Vertex(value=5), Vertex(value=4)),\n Edge(Vertex(value=4), Vertex(value=2)),\n Edge(Vertex(value=9), Vertex(value=4))]"
     },
     "execution_count": 28,
     "metadata": {},
     "output_type": "execute_result"
    }
   ],
   "source": [
    "list(g.edges)"
   ],
   "metadata": {
    "collapsed": false,
    "pycharm": {
     "name": "#%%\n"
    }
   }
  },
  {
   "cell_type": "code",
   "execution_count": 31,
   "outputs": [
    {
     "data": {
      "text/plain": "Edge(Vertex(value=9), Vertex(value=3))\nEdge(Vertex(value=8), Vertex(value=1))\nEdge(Vertex(value=5), Vertex(value=4))\nEdge(Vertex(value=4), Vertex(value=2))\nEdge(Vertex(value=9), Vertex(value=4))"
     },
     "execution_count": 31,
     "metadata": {},
     "output_type": "execute_result"
    }
   ],
   "source": [
    "g"
   ],
   "metadata": {
    "collapsed": false,
    "pycharm": {
     "name": "#%%\n"
    }
   }
  },
  {
   "cell_type": "code",
   "execution_count": null,
   "outputs": [],
   "source": [],
   "metadata": {
    "collapsed": false,
    "pycharm": {
     "name": "#%%\n"
    }
   }
  }
 ],
 "metadata": {
  "kernelspec": {
   "display_name": "Python 3",
   "language": "python",
   "name": "python3"
  },
  "language_info": {
   "codemirror_mode": {
    "name": "ipython",
    "version": 2
   },
   "file_extension": ".py",
   "mimetype": "text/x-python",
   "name": "python",
   "nbconvert_exporter": "python",
   "pygments_lexer": "ipython2",
   "version": "2.7.6"
  }
 },
 "nbformat": 4,
 "nbformat_minor": 0
}