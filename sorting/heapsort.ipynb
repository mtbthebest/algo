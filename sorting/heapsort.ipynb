{
 "cells": [
  {
   "cell_type": "code",
   "execution_count": 30,
   "metadata": {
    "collapsed": true
   },
   "outputs": [],
   "source": [
    "import numpy as np\n",
    "from copy import deepcopy\n",
    "import math"
   ]
  },
  {
   "cell_type": "code",
   "execution_count": 90,
   "outputs": [],
   "source": [
    "data = [ 16, 17, 14, -4, 3 , 27, -1,  14, 8, 13,  10, 1]"
   ],
   "metadata": {
    "collapsed": false,
    "pycharm": {
     "name": "#%%\n"
    }
   }
  },
  {
   "cell_type": "code",
   "execution_count": 114,
   "outputs": [
    {
     "name": "stdout",
     "output_type": "stream",
     "text": [
      "[27, 17, 16, 14, 13, 14, -1, -4, 8, 3, 10, 1]\n",
      "[-4, -1, 1, 3, 8, 10, 13, 14, 14, 16, 17, 27]\n"
     ]
    }
   ],
   "source": [
    "def index_format(func):\n",
    "    def wrapper(self, i):\n",
    "        i  += 1\n",
    "        res = func(self, i)\n",
    "        if res is not None:\n",
    "            res -= 1\n",
    "        return res\n",
    "    return wrapper\n",
    "\n",
    "def  maxify(val1, val2):\n",
    "        return val1 > val2\n",
    "\n",
    "def  minify( val1, val2):\n",
    "        return val1 < val2\n",
    "\n",
    "class Heap(object):\n",
    "\n",
    "    def __init__(self, data=None):\n",
    "        if data is None:\n",
    "            data = []\n",
    "        self.data = deepcopy(data)\n",
    "        self.heapsize = len(data)\n",
    "\n",
    "    @index_format\n",
    "    def parent(self, i):\n",
    "        if i == 1:\n",
    "            return None\n",
    "        return math.floor(i / 2)\n",
    "\n",
    "    @index_format\n",
    "    def left(self, i):\n",
    "        return 2*i\n",
    "\n",
    "    @index_format\n",
    "    def right(self, i):\n",
    "        return 2*i + 1\n",
    "\n",
    "\n",
    "\n",
    "    def heapify(self, i, reverse=False):\n",
    "        \"O(lgn)\"\n",
    "        l = self.left(i)\n",
    "        r = self.right(i)\n",
    "        cmp_func = minify if reverse else maxify\n",
    "        largest = i\n",
    "        if l < self.heapsize and cmp_func( self.data[l], self.data[largest]):\n",
    "            largest = l\n",
    "        if r < self.heapsize and cmp_func(self.data[r], self.data[largest]):\n",
    "            largest = r\n",
    "\n",
    "        if largest != i:\n",
    "            val = self.data[i]\n",
    "            self.data[i] = self.data[largest]\n",
    "            self.data[largest]= val\n",
    "            self.heapify(largest, reverse=reverse)\n",
    "\n",
    "    def build_max_heap(self, reverse=False):\n",
    "        \"O(n)\"\n",
    "        for i in range(len(self.data) // 2, -1, -1):\n",
    "            self.heapify(i, reverse=reverse)\n",
    "\n",
    "    def sort(self, reverse=False):\n",
    "        \"O(nlgn)\"\n",
    "        self.build_max_heap(reverse=reverse)\n",
    "        print(self.data)\n",
    "        for i in range(self.heapsize - 1, 0, -1):\n",
    "            maximum = self.data[0]\n",
    "            self.data[0] = self.data[i]\n",
    "            self.data[i] = maximum\n",
    "            self.heapsize -=1\n",
    "            self.heapify(0, reverse=reverse)\n",
    "        self.heapsize = len(data)\n",
    "\n",
    "    def delete(self, i):\n",
    "        pass\n",
    "\n",
    "heap = Heap(data)\n",
    "heap.build_max_heap()\n",
    "# heap.sort()\n",
    "heap.sort(reverse=False)\n",
    "print(heap.data)"
   ],
   "metadata": {
    "collapsed": false,
    "pycharm": {
     "name": "#%%\n"
    }
   }
  },
  {
   "cell_type": "code",
   "execution_count": 119,
   "outputs": [
    {
     "name": "stdout",
     "output_type": "stream",
     "text": [
      "[16, 17, 14, -4, 3, 27, -1, 14, 8, 13, 10, 1]\n",
      "[-4, -1, 1, 16, 3, 27, 17, 14, 8, 13, 10, 14]\n",
      "[27, 17, 16, 14, 14, 13, 10, 8, 3, 1, -1, -4]\n"
     ]
    }
   ],
   "source": [
    "class DHeap():\n",
    "\n",
    "    def __init__(self, d=2,data=None):\n",
    "        if data is None:\n",
    "            data = []\n",
    "        self.data = deepcopy(data)\n",
    "        self.heapsize = len(data)\n",
    "        self.d = d\n",
    "\n",
    "    @index_format\n",
    "    def parent(self, i):\n",
    "        if i == 1:\n",
    "            return None\n",
    "        return (i - 2) // self.d\n",
    "\n",
    "    def child(self, i, j):\n",
    "        if j >= self.d:\n",
    "            raise ValueError(f\"Indice child allowed: {range(self.d)}\")\n",
    "\n",
    "        return i*self.d + (j+1)\n",
    "\n",
    "    def heapify(self, i, reverse=False):\n",
    "        largest = i\n",
    "        cmp_func = minify if reverse else maxify\n",
    "        for k in range(self.d):\n",
    "            child = self.child(i, k)\n",
    "            if child < self.heapsize and cmp_func(self.data[child], self.data[largest]):\n",
    "                largest = child\n",
    "        if largest != i:\n",
    "            val = self.data[i]\n",
    "            self.data[i] = self.data[largest]\n",
    "            self.data[largest] = val\n",
    "            self.heapify(largest, reverse=reverse)\n",
    "\n",
    "    def build_heap(self, reverse=False):\n",
    "        for i in range(len(data) // 4, -1, -1):\n",
    "            self.heapify(i, reverse=reverse)\n",
    "\n",
    "    def sort(self, reverse=False):\n",
    "        self.build_heap(reverse=reverse)\n",
    "        for i in range(self.heapsize - 1, 0, -1):\n",
    "            maximum = self.data[0]\n",
    "            self.data[0] = self.data[i]\n",
    "            self.data[i] = maximum\n",
    "            self.heapsize -=1\n",
    "            self.heapify(0, reverse=reverse)\n",
    "        self.heapsize = len(data)\n",
    "\n",
    "\n",
    "dheap = DHeap(4, data)\n",
    "print(dheap.data)\n",
    "for i in range(len(dheap.data)):\n",
    "    # print(i, dheap.parent(i))\n",
    "    dheap.parent(i)\n",
    "\n",
    "dheap.data[dheap.child(2,2)]\n",
    "dheap.sort(reverse=True)\n",
    "print(dheap.data)"
   ],
   "metadata": {
    "collapsed": false,
    "pycharm": {
     "name": "#%%\n"
    }
   }
  },
  {
   "cell_type": "code",
   "execution_count": null,
   "outputs": [],
   "source": [
    "\n"
   ],
   "metadata": {
    "collapsed": false,
    "pycharm": {
     "name": "#%%\n"
    }
   }
  }
 ],
 "metadata": {
  "kernelspec": {
   "display_name": "Python 3",
   "language": "python",
   "name": "python3"
  },
  "language_info": {
   "codemirror_mode": {
    "name": "ipython",
    "version": 2
   },
   "file_extension": ".py",
   "mimetype": "text/x-python",
   "name": "python",
   "nbconvert_exporter": "python",
   "pygments_lexer": "ipython2",
   "version": "2.7.6"
  }
 },
 "nbformat": 4,
 "nbformat_minor": 0
}