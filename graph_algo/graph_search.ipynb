{
 "cells": [
  {
   "cell_type": "code",
   "execution_count": 2,
   "metadata": {
    "collapsed": true
   },
   "outputs": [],
   "source": [
    "\n",
    "%load_ext autoreload\n",
    "%autoreload 2\n",
    "import copy\n",
    "from graph_algo.adt import LinkedGraph as LG, MatrixGraph as MG, Vertex, Edge, MapGraph\n",
    "import  math"
   ]
  },
  {
   "cell_type": "code",
   "execution_count": 3,
   "outputs": [],
   "source": [
    "def make_graph(string, max_vertices):\n",
    "    g = MapGraph()\n",
    "    vertices = [Vertex(i) for i in range(max_vertices + 1)]\n",
    "    for uv in string.split(\" \"):\n",
    "        u, v = map(lambda x:int(x), uv.split(\"-\"))\n",
    "        g.insert_edge(Edge(vertices[u], vertices[v]))\n",
    "    return g"
   ],
   "metadata": {
    "collapsed": false,
    "pycharm": {
     "name": "#%%\n"
    }
   }
  },
  {
   "cell_type": "code",
   "execution_count": 4,
   "outputs": [
    {
     "name": "stdout",
     "output_type": "stream",
     "text": [
      "0-2\n",
      "2-6\n",
      "4-6\n",
      "3-4\n",
      "3-5\n",
      "4-7\n",
      "1-7\n"
     ]
    },
    {
     "data": {
      "text/plain": "[Edge(Vertex(value=0), Vertex(value=2)),\n Edge(Vertex(value=2), Vertex(value=6)),\n Edge(Vertex(value=4), Vertex(value=6)),\n Edge(Vertex(value=3), Vertex(value=4)),\n Edge(Vertex(value=3), Vertex(value=5)),\n Edge(Vertex(value=4), Vertex(value=7)),\n Edge(Vertex(value=1), Vertex(value=7))]"
     },
     "execution_count": 4,
     "metadata": {},
     "output_type": "execute_result"
    }
   ],
   "source": [
    "def dfs(g, root=None, path=None):\n",
    "    \"\"\"Depth first search\"\"\"\n",
    "    path = [] if path is None else path\n",
    "    if root is None:\n",
    "        for _ in g.vertices:\n",
    "            root = _\n",
    "            root.visited = True\n",
    "            break\n",
    "\n",
    "    for vertex in g.adjacent(root):\n",
    "        edge = g.get_edge(root, vertex)\n",
    "        if not hasattr(vertex, \"visited\"):\n",
    "            vertex.visited = True\n",
    "            path.append(edge)\n",
    "            g.print_edge(edge)\n",
    "            dfs(g, vertex, path)\n",
    "\n",
    "    return path\n",
    "\n",
    "dfs(make_graph(\"0-2 0-5 0-7 1-7 2-6 3-4 3-5 4-5 4-6 4-7\",7))"
   ],
   "metadata": {
    "collapsed": false,
    "pycharm": {
     "name": "#%%\n"
    }
   }
  },
  {
   "cell_type": "code",
   "execution_count": 5,
   "outputs": [
    {
     "data": {
      "text/plain": "[Vertex(value=0),\n Vertex(value=2),\n Vertex(value=5),\n Vertex(value=7),\n Vertex(value=6),\n Vertex(value=3),\n Vertex(value=4),\n Vertex(value=1)]"
     },
     "execution_count": 5,
     "metadata": {},
     "output_type": "execute_result"
    }
   ],
   "source": [
    "from data_structures import LinkedQueue\n",
    "def bfs(g, root=None, path=None):\n",
    "    \"\"\"Depth first search\"\"\"\n",
    "    path = [] if path is None else path\n",
    "    if root is None:\n",
    "        for _ in g.vertices:\n",
    "            root = _\n",
    "            root.visited = True\n",
    "            path.append(root)\n",
    "            break\n",
    "    q = LinkedQueue()\n",
    "    q.enqueue(root)\n",
    "    while not q.is_empty():\n",
    "        vertex = q.dequeue()\n",
    "        for adj in g.adjacent(vertex):\n",
    "            if not hasattr(adj, \"visited\"):\n",
    "                q.enqueue(adj)\n",
    "                adj.visited = True\n",
    "                path.append(adj)\n",
    "    return path\n",
    "\n",
    "bfs(make_graph(\"0-2 0-5 0-7 1-7 2-6 3-4 3-5 4-5 4-6 4-7\",7))"
   ],
   "metadata": {
    "collapsed": false,
    "pycharm": {
     "name": "#%%\n"
    }
   }
  },
  {
   "cell_type": "code",
   "execution_count": 5,
   "outputs": [],
   "source": [
    "\n"
   ],
   "metadata": {
    "collapsed": false,
    "pycharm": {
     "name": "#%%\n"
    }
   }
  }
 ],
 "metadata": {
  "kernelspec": {
   "display_name": "Python 3",
   "language": "python",
   "name": "python3"
  },
  "language_info": {
   "codemirror_mode": {
    "name": "ipython",
    "version": 2
   },
   "file_extension": ".py",
   "mimetype": "text/x-python",
   "name": "python",
   "nbconvert_exporter": "python",
   "pygments_lexer": "ipython2",
   "version": "2.7.6"
  }
 },
 "nbformat": 4,
 "nbformat_minor": 0
}