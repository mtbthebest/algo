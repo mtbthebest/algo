{
 "cells": [
  {
   "cell_type": "code",
   "execution_count": 8,
   "metadata": {
    "collapsed": true
   },
   "outputs": [
    {
     "name": "stdout",
     "output_type": "stream",
     "text": [
      "0 end  6\n",
      "s :  3\n",
      "1 end  3\n",
      "s :  1\n",
      "2 end  1\n",
      "s :  0\n",
      "2\n"
     ]
    }
   ],
   "source": [
    "def count_bits(x):\n",
    "    \"\"\"Writing a program to count the number of bits that are set to 1 in a positive integer is a good way to\n",
    "get up to speed with primitive types.\"\"\"\n",
    "    num_bits = 0\n",
    "    while x:\n",
    "        num_bits += x & 1 # Bitwise and\n",
    "        x >>=1\n",
    "    return num_bits\n",
    "\n",
    "print(count_bits(6))"
   ]
  },
  {
   "cell_type": "code",
   "execution_count": 13,
   "outputs": [
    {
     "name": "stdout",
     "output_type": "stream",
     "text": [
      "res  1 1 0b11001\n",
      "res  1 0 0b1100\n",
      "res  1 0 0b110\n",
      "res  0 1 0b11\n",
      "res  1 1 0b1\n",
      "1\n"
     ]
    }
   ],
   "source": [
    "\n",
    "def parity(x):\n",
    "    \"\"\"O(n)\"\"\"\n",
    "    res = 0\n",
    "    while x:\n",
    "        res ^= x & 1\n",
    "        x >>= 1\n",
    "    return res\n",
    "\n",
    "print(parity(25))"
   ],
   "metadata": {
    "collapsed": false,
    "pycharm": {
     "name": "#%%\n"
    }
   }
  },
  {
   "cell_type": "code",
   "execution_count": 31,
   "outputs": [
    {
     "name": "stdout",
     "output_type": "stream",
     "text": [
      "0\n"
     ]
    }
   ],
   "source": [
    "def parity2(x):\n",
    "    \"\"\"O(lgn)\"\"\"\n",
    "    x ^= x >> 32\n",
    "    x ^= x >> 16\n",
    "    x ^= x >> 8\n",
    "    x ^= x >> 4\n",
    "    x ^= x >> 2\n",
    "    x ^= x >> 1\n",
    "    # assert x & 0x1 == x & 1\n",
    "    return x & 1\n",
    "\n",
    "print(parity2(6))"
   ],
   "metadata": {
    "collapsed": false,
    "pycharm": {
     "name": "#%%\n"
    }
   }
  },
  {
   "cell_type": "code",
   "execution_count": 38,
   "outputs": [
    {
     "name": "stdout",
     "output_type": "stream",
     "text": [
      "0b110\n",
      "0b10100\n"
     ]
    }
   ],
   "source": [
    "\n",
    "def swap_bits(x, i, j):\n",
    "    print(bin(x))\n",
    "    if (x >> i) & 1 !=  (x >> j) & 1:\n",
    "        bit_mask = (1 << i) | (1 << j)\n",
    "        x ^= bit_mask\n",
    "    return x\n",
    "print(bin(swap_bits(6, 1, 4)))"
   ],
   "metadata": {
    "collapsed": false,
    "pycharm": {
     "name": "#%%\n"
    }
   }
  },
  {
   "cell_type": "code",
   "execution_count": 44,
   "outputs": [
    {
     "name": "stdout",
     "output_type": "stream",
     "text": [
      "0b11001\n",
      "0b10011\n"
     ]
    }
   ],
   "source": [
    "def reverse_bits(x):\n",
    "    print(bin(x))\n",
    "    def meth1():\n",
    "        nonlocal x\n",
    "        rev = 0\n",
    "        while x:\n",
    "            rev <<= 1\n",
    "            if x & 1 == 1:\n",
    "                rev ^= 1\n",
    "            x >>= 1\n",
    "\n",
    "        return rev\n",
    "\n",
    "    def meth2():\n",
    "        nonlocal x\n",
    "        \"\"\"Calculate Reverse Table\"\"\"\n",
    "        BitReverseTable = []\n",
    "        mask_size = 16\n",
    "        bit_mask = 0xFFFF\n",
    "        return BitReverseTable[x & bit_mask] << (3* mask_size) \\\n",
    "              | BitReverseTable[(x >> mask_size) & bit_mask] << (2* mask_size) \\\n",
    "              | BitReverseTable[(x >> (2*mask_size)) & bit_mask] << (mask_size) \\\n",
    "              | BitReverseTable[(x >> (3*mask_size)) & bit_mask]\n",
    "\n",
    "    return meth1\n",
    "print(bin(reverse_bits(25)()))\n"
   ],
   "metadata": {
    "collapsed": false,
    "pycharm": {
     "name": "#%%\n"
    }
   }
  },
  {
   "cell_type": "code",
   "execution_count": null,
   "outputs": [],
   "source": [
    "def closest_int_same_bit_count(x):\n",
    "    NUM_UNSIGNED_BITS = 64\n",
    "    for i in range(NUM_UNSIGNED_BITS):\n",
    "        if (x >> i) & 1 != (x >> (i + 1)) & 1:\n",
    "            x ^= (1 >> i) | (1 << (i + 1))\n",
    "            return x\n",
    "    raise ValueError(\"All bits are 0 or 1\")\n"
   ],
   "metadata": {
    "collapsed": false,
    "pycharm": {
     "name": "#%%\n"
    }
   }
  },
  {
   "cell_type": "code",
   "execution_count": null,
   "outputs": [],
   "source": [
    "def right_propagate(x):\n",
    "    return x | (x - 1)"
   ],
   "metadata": {
    "collapsed": false,
    "pycharm": {
     "name": "#%%\n"
    }
   }
  },
  {
   "cell_type": "code",
   "execution_count": null,
   "outputs": [],
   "source": [
    "\n"
   ],
   "metadata": {
    "collapsed": false,
    "pycharm": {
     "name": "#%%\n"
    }
   }
  }
 ],
 "metadata": {
  "kernelspec": {
   "display_name": "Python 3",
   "language": "python",
   "name": "python3"
  },
  "language_info": {
   "codemirror_mode": {
    "name": "ipython",
    "version": 2
   },
   "file_extension": ".py",
   "mimetype": "text/x-python",
   "name": "python",
   "nbconvert_exporter": "python",
   "pygments_lexer": "ipython2",
   "version": "2.7.6"
  }
 },
 "nbformat": 4,
 "nbformat_minor": 0
}