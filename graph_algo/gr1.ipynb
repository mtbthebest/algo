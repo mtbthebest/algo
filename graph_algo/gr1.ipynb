{
 "cells": [
  {
   "cell_type": "code",
   "execution_count": 175,
   "outputs": [
    {
     "name": "stdout",
     "output_type": "stream",
     "text": [
      "The autoreload extension is already loaded. To reload it, use:\n",
      "  %reload_ext autoreload\n"
     ]
    }
   ],
   "source": [
    "%load_ext autoreload\n",
    "%autoreload 2\n",
    "import copy\n",
    "from graph_algo.adt import LinkedGraph as LG, MatrixGraph as MG, Vertex, Edge, MapGraph"
   ],
   "metadata": {
    "collapsed": false,
    "pycharm": {
     "name": "#%%\n"
    }
   }
  },
  {
   "cell_type": "code",
   "execution_count": 176,
   "outputs": [
    {
     "name": "stdout",
     "output_type": "stream",
     "text": [
      "  0 1 2 3 4 5 6 7 \n",
      "0 0 1 0 0 0 0 0 0 \n",
      "1 1 0 0 0 0 0 0 0 \n",
      "2 0 0 0 1 0 0 0 0 \n",
      "3 0 0 1 0 0 0 0 0 \n",
      "4 0 0 0 0 0 0 1 0 \n",
      "5 0 0 0 0 0 0 0 0 \n",
      "6 0 0 0 0 1 0 0 0 \n",
      "7 0 0 0 0 0 0 0 0 \n"
     ]
    },
    {
     "data": {
      "text/plain": ""
     },
     "execution_count": 176,
     "metadata": {},
     "output_type": "execute_result"
    }
   ],
   "source": [
    "g = MG()\n",
    "g.insert_edge(Edge(Vertex(0), Vertex(1)))\n",
    "g.insert_edge(Edge(Vertex(6), Vertex(4)))\n",
    "g.insert_edge(Edge(Vertex(3), Vertex(2)))\n",
    "g"
   ],
   "metadata": {
    "collapsed": false,
    "pycharm": {
     "name": "#%%\n"
    }
   }
  },
  {
   "cell_type": "code",
   "execution_count": 177,
   "outputs": [
    {
     "name": "stdout",
     "output_type": "stream",
     "text": [
      "Edge(Vertex(value=0), Vertex(value=1))\n",
      "Edge(Vertex(value=6), Vertex(value=4))\n",
      "Edge(Vertex(value=3), Vertex(value=2))\n"
     ]
    },
    {
     "data": {
      "text/plain": "[Vertex(value=0),\n Vertex(value=1),\n Vertex(value=6),\n Vertex(value=4),\n Vertex(value=3),\n Vertex(value=2)]"
     },
     "execution_count": 177,
     "metadata": {},
     "output_type": "execute_result"
    }
   ],
   "source": [
    "list(g.vertices)"
   ],
   "metadata": {
    "collapsed": false,
    "pycharm": {
     "name": "#%%\n"
    }
   }
  },
  {
   "cell_type": "code",
   "execution_count": 178,
   "outputs": [
    {
     "data": {
      "text/plain": "[Edge(Vertex(value=0), Vertex(value=1)),\n Edge(Vertex(value=6), Vertex(value=4)),\n Edge(Vertex(value=3), Vertex(value=2))]"
     },
     "execution_count": 178,
     "metadata": {},
     "output_type": "execute_result"
    }
   ],
   "source": [
    "list(g.edges)"
   ],
   "metadata": {
    "collapsed": false,
    "pycharm": {
     "name": "#%%\n"
    }
   }
  },
  {
   "cell_type": "code",
   "execution_count": 179,
   "outputs": [
    {
     "name": "stdout",
     "output_type": "stream",
     "text": [
      "  0 1 2 3 4 5 6 7 \n",
      "0 0 1 0 0 0 0 0 0 \n",
      "1 1 0 0 0 0 0 0 0 \n",
      "2 0 0 0 1 0 0 0 0 \n",
      "3 0 0 1 0 0 0 0 0 \n",
      "4 0 0 0 0 0 0 0 0 \n",
      "5 0 0 0 0 0 0 0 0 \n",
      "6 0 0 0 0 0 0 0 0 \n",
      "7 0 0 0 0 0 0 0 0 \n"
     ]
    },
    {
     "data": {
      "text/plain": ""
     },
     "execution_count": 179,
     "metadata": {},
     "output_type": "execute_result"
    }
   ],
   "source": [
    "g.remove_edge(g.edges[1])\n",
    "g"
   ],
   "metadata": {
    "collapsed": false,
    "pycharm": {
     "name": "#%%\n"
    }
   }
  },
  {
   "cell_type": "code",
   "execution_count": 180,
   "outputs": [
    {
     "name": "stdout",
     "output_type": "stream",
     "text": [
      "0 1->2\n",
      "\n",
      "1 0\n",
      "\n",
      "2 0->3\n",
      "\n",
      "3 2\n",
      "\n",
      "4 6\n",
      "\n",
      "5 \n",
      "6 4\n",
      "\n",
      "7 \n"
     ]
    },
    {
     "data": {
      "text/plain": ""
     },
     "execution_count": 180,
     "metadata": {},
     "output_type": "execute_result"
    }
   ],
   "source": [
    "g = LG()\n",
    "g.insert_edge(Edge(Vertex(0), Vertex(1)))\n",
    "g.insert_edge(Edge(Vertex(0), Vertex(2)))\n",
    "g.insert_edge(Edge(Vertex(6), Vertex(4)))\n",
    "g.insert_edge(Edge(Vertex(3), Vertex(2)))\n",
    "g"
   ],
   "metadata": {
    "collapsed": false,
    "pycharm": {
     "name": "#%%\n"
    }
   }
  },
  {
   "cell_type": "code",
   "execution_count": 181,
   "outputs": [
    {
     "data": {
      "text/plain": "[Vertex(value=0),\n Vertex(value=1),\n Vertex(value=2),\n Vertex(value=3),\n Vertex(value=4),\n Vertex(value=6)]"
     },
     "execution_count": 181,
     "metadata": {},
     "output_type": "execute_result"
    }
   ],
   "source": [
    "g.vertices"
   ],
   "metadata": {
    "collapsed": false,
    "pycharm": {
     "name": "#%%\n"
    }
   }
  },
  {
   "cell_type": "code",
   "execution_count": 182,
   "outputs": [],
   "source": [
    "edges = list(g.edges)\n"
   ],
   "metadata": {
    "collapsed": false,
    "pycharm": {
     "name": "#%%\n"
    }
   }
  },
  {
   "cell_type": "code",
   "execution_count": 183,
   "outputs": [],
   "source": [
    "g.remove_edge(edges[-1])"
   ],
   "metadata": {
    "collapsed": false,
    "pycharm": {
     "name": "#%%\n"
    }
   }
  },
  {
   "cell_type": "code",
   "execution_count": 184,
   "outputs": [
    {
     "data": {
      "text/plain": "[(Vertex(value=0), Vertex(value=1)),\n (Vertex(value=0), Vertex(value=2)),\n (Vertex(value=2), Vertex(value=3))]"
     },
     "execution_count": 184,
     "metadata": {},
     "output_type": "execute_result"
    }
   ],
   "source": [
    "list(g.edges)"
   ],
   "metadata": {
    "collapsed": false,
    "pycharm": {
     "name": "#%%\n"
    }
   }
  },
  {
   "cell_type": "code",
   "execution_count": 185,
   "outputs": [
    {
     "name": "stdout",
     "output_type": "stream",
     "text": [
      "0 1->2\n",
      "\n",
      "1 0\n",
      "\n",
      "2 0->3\n",
      "\n",
      "3 2\n",
      "\n",
      "4 \n",
      "5 \n",
      "6 \n",
      "7 \n"
     ]
    },
    {
     "data": {
      "text/plain": ""
     },
     "execution_count": 185,
     "metadata": {},
     "output_type": "execute_result"
    }
   ],
   "source": [
    "g"
   ],
   "metadata": {
    "collapsed": false,
    "pycharm": {
     "name": "#%%\n"
    }
   }
  },
  {
   "cell_type": "code",
   "execution_count": 186,
   "outputs": [],
   "source": [
    "g = MapGraph()"
   ],
   "metadata": {
    "collapsed": false,
    "pycharm": {
     "name": "#%%\n"
    }
   }
  },
  {
   "cell_type": "code",
   "execution_count": 187,
   "outputs": [],
   "source": [
    "g.generate_graph(10, 5)"
   ],
   "metadata": {
    "collapsed": false,
    "pycharm": {
     "name": "#%%\n"
    }
   }
  },
  {
   "cell_type": "code",
   "execution_count": 188,
   "outputs": [
    {
     "data": {
      "text/plain": "[Vertex(value=0),\n Vertex(value=2),\n Vertex(value=3),\n Vertex(value=4),\n Vertex(value=5),\n Vertex(value=6),\n Vertex(value=8)]"
     },
     "execution_count": 188,
     "metadata": {},
     "output_type": "execute_result"
    }
   ],
   "source": [
    "list(g.vertices)"
   ],
   "metadata": {
    "collapsed": false,
    "pycharm": {
     "name": "#%%\n"
    }
   }
  },
  {
   "cell_type": "code",
   "execution_count": 189,
   "outputs": [
    {
     "data": {
      "text/plain": "[Edge(Vertex(value=5), Vertex(value=4)),\n Edge(Vertex(value=6), Vertex(value=4)),\n Edge(Vertex(value=8), Vertex(value=0)),\n Edge(Vertex(value=8), Vertex(value=3)),\n Edge(Vertex(value=5), Vertex(value=2))]"
     },
     "execution_count": 189,
     "metadata": {},
     "output_type": "execute_result"
    }
   ],
   "source": [
    "list(g.edges)"
   ],
   "metadata": {
    "collapsed": false,
    "pycharm": {
     "name": "#%%\n"
    }
   }
  },
  {
   "cell_type": "code",
   "execution_count": 190,
   "outputs": [
    {
     "data": {
      "text/plain": "Edge(Vertex(value=5), Vertex(value=4))\nEdge(Vertex(value=6), Vertex(value=4))\nEdge(Vertex(value=8), Vertex(value=0))\nEdge(Vertex(value=8), Vertex(value=3))\nEdge(Vertex(value=5), Vertex(value=2))"
     },
     "execution_count": 190,
     "metadata": {},
     "output_type": "execute_result"
    }
   ],
   "source": [
    "g"
   ],
   "metadata": {
    "collapsed": false,
    "pycharm": {
     "name": "#%%\n"
    }
   }
  },
  {
   "cell_type": "code",
   "execution_count": 191,
   "outputs": [
    {
     "name": "stdout",
     "output_type": "stream",
     "text": [
      "Adjacent to  Vertex(value=4) : \n",
      " [Vertex(value=5), Vertex(value=6)]\n"
     ]
    }
   ],
   "source": [
    "edge = list(g.edges)[1]\n",
    "vertex = edge[1]\n",
    "print(\"Adjacent to \", vertex, \": \\n\", list(g.adjacent(vertex)))"
   ],
   "metadata": {
    "collapsed": false,
    "pycharm": {
     "name": "#%%\n"
    }
   }
  },
  {
   "cell_type": "code",
   "execution_count": 191,
   "outputs": [],
   "source": [],
   "metadata": {
    "collapsed": false,
    "pycharm": {
     "name": "#%%\n"
    }
   }
  },
  {
   "cell_type": "code",
   "execution_count": 192,
   "outputs": [],
   "source": [
    "def pathR_GRAPH():\n",
    "    g = MapGraph()\n",
    "    g.insert_edge(Edge(Vertex(0), Vertex(6)))\n",
    "    g.insert_edge(Edge(Vertex(0), Vertex(2)))\n",
    "    g.insert_edge(Edge(Vertex(0), Vertex(1)))\n",
    "    g.insert_edge(Edge(Vertex(0), Vertex(5)))\n",
    "    g.insert_edge(Edge(Vertex(1), Vertex(2)))\n",
    "    g.insert_edge(Edge(Vertex(3), Vertex(2)))\n",
    "    g.insert_edge(Edge(Vertex(4), Vertex(2)))\n",
    "    g.insert_edge(Edge(Vertex(4), Vertex(3)))\n",
    "    g.insert_edge(Edge(Vertex(4), Vertex(5)))\n",
    "    g.insert_edge(Edge(Vertex(4), Vertex(6)))\n",
    "\n",
    "    return g"
   ],
   "metadata": {
    "collapsed": false,
    "pycharm": {
     "name": "#%%\n"
    }
   }
  },
  {
   "cell_type": "code",
   "execution_count": 193,
   "outputs": [
    {
     "name": "stdout",
     "output_type": "stream",
     "text": [
      "[5, 6]\n",
      "[5, 6, 0]\n"
     ]
    },
    {
     "data": {
      "text/plain": "(True, [5, 0, 6])"
     },
     "execution_count": 193,
     "metadata": {},
     "output_type": "execute_result"
    }
   ],
   "source": [
    "def pathR(g, start, end, tour= None):\n",
    "    \"\"\"Simple path\"\"\"\n",
    "\n",
    "    if not (isinstance(start, Vertex) and isinstance(end, Vertex)):\n",
    "        raise ValueError\n",
    "    if tour is None:\n",
    "        tour= [start.value]\n",
    "\n",
    "    if start == end:\n",
    "        tour.append(end.value)\n",
    "        return True\n",
    "\n",
    "    if hasattr(start, \"visited\") and start.visited == True:\n",
    "        return False\n",
    "\n",
    "    adj_start = list(g.adjacent(start))\n",
    "    start.visited = True\n",
    "    for vertex in adj_start:\n",
    "        has_path = pathR(g, vertex, end, tour)\n",
    "        if has_path:\n",
    "            print(tour)\n",
    "            if tour[0]== start.value:\n",
    "                tour = [tour[0]] +list(reversed(tour[1:]))\n",
    "                return True, tour\n",
    "            tour.append(start.value)\n",
    "            return True\n",
    "    return False\n",
    "\n",
    "\n",
    "pathR(pathR_GRAPH(), Vertex(5), Vertex(6))"
   ],
   "metadata": {
    "collapsed": false,
    "pycharm": {
     "name": "#%%\n"
    }
   }
  },
  {
   "cell_type": "code",
   "execution_count": 194,
   "outputs": [
    {
     "data": {
      "text/plain": "[Vertex(value=0),\n Vertex(value=6),\n Vertex(value=4),\n Vertex(value=2),\n Vertex(value=1),\n Vertex(value=3),\n Vertex(value=5)]"
     },
     "execution_count": 194,
     "metadata": {},
     "output_type": "execute_result"
    }
   ],
   "source": [
    "def pathH_GRAPH():\n",
    "    g = MapGraph()\n",
    "\n",
    "    vertices = [Vertex(i) for i in range(7)]\n",
    "    g.insert_edge(Edge(vertices[0], vertices[6]))\n",
    "    g.insert_edge(Edge(vertices[0], vertices[2]))\n",
    "    g.insert_edge(Edge(vertices[0], vertices[1]))\n",
    "    g.insert_edge(Edge(vertices[0], vertices[5]))\n",
    "    g.insert_edge(Edge(vertices[1], vertices[2]))\n",
    "    g.insert_edge(Edge(vertices[1], vertices[3]))\n",
    "    g.insert_edge(Edge(vertices[3], vertices[2]))\n",
    "    g.insert_edge(Edge(vertices[3], vertices[5]))\n",
    "    g.insert_edge(Edge(vertices[4], vertices[2]))\n",
    "    g.insert_edge(Edge(vertices[4], vertices[3]))\n",
    "    g.insert_edge(Edge(vertices[4], vertices[5]))\n",
    "    g.insert_edge(Edge(vertices[4], vertices[6]))\n",
    "\n",
    "    return g\n",
    "def pathH(g, start, end, tour=None):\n",
    "    \"\"\"Hamilton path\n",
    "    Given two vertices, is there a simple path connecting them that visits\n",
    "    every vertex in the graph exactly once? If the path is from a vertex back to itself, this\n",
    "    problem is known as the Hamilton tour problem. Is there a cycle that visits every vertex\n",
    "    in the graph exactly once?\n",
    "    \"\"\"\n",
    "    if not (isinstance(start, Vertex) and isinstance(end, Vertex)):\n",
    "        raise ValueError\n",
    "    tour = [] if tour is None else tour\n",
    "    if start == end:\n",
    "        tour.append(end)\n",
    "        if len(tour) == g.count_vertices():\n",
    "            return True\n",
    "        return False\n",
    "    if hasattr(start, \"visited\") and start.visited == True:\n",
    "        return False\n",
    "\n",
    "    start.visited = True\n",
    "    tour.append(start)\n",
    "    for vertex in g.adjacent(start):\n",
    "        if not hasattr(vertex, \"visited\"):\n",
    "            has_path = pathH(g, vertex, end, tour)\n",
    "            if has_path:\n",
    "                return True if tour and tour[0] != start else tour\n",
    "    tour.pop()\n",
    "    return False\n",
    "\n",
    "\n",
    "g =  pathH_GRAPH()\n",
    "vertices = list(g.vertices)\n",
    "pathH(g, vertices[0], vertices[-2])\n"
   ],
   "metadata": {
    "collapsed": false,
    "pycharm": {
     "name": "#%%\n"
    }
   }
  },
  {
   "cell_type": "code",
   "execution_count": 195,
   "outputs": [
    {
     "name": "stdout",
     "output_type": "stream",
     "text": [
      "\n"
     ]
    },
    {
     "data": {
      "text/plain": "[Vertex(value=0),\n Vertex(value=5),\n Vertex(value=4),\n Vertex(value=6),\n Vertex(value=0),\n Vertex(value=2),\n Vertex(value=3),\n Vertex(value=4),\n Vertex(value=2),\n Vertex(value=1),\n Vertex(value=0)]"
     },
     "execution_count": 195,
     "metadata": {},
     "output_type": "execute_result"
    }
   ],
   "source": [
    "def graphEulerSample():\n",
    "    g = MapGraph()\n",
    "\n",
    "    vertices = [Vertex(i) for i in range(7)]\n",
    "    g.insert_edge(Edge(vertices[0], vertices[1]))\n",
    "    g.insert_edge(Edge(vertices[0], vertices[2]))\n",
    "    g.insert_edge(Edge(vertices[0], vertices[5]))\n",
    "    g.insert_edge(Edge(vertices[0], vertices[6]))\n",
    "    g.insert_edge(Edge(vertices[1], vertices[2]))\n",
    "    g.insert_edge(Edge(vertices[2], vertices[3]))\n",
    "    g.insert_edge(Edge(vertices[2], vertices[4], ))\n",
    "    g.insert_edge(Edge( vertices[3], vertices[4],))\n",
    "    g.insert_edge(Edge(vertices[4], vertices[5]))\n",
    "    g.insert_edge(Edge(vertices[4], vertices[6]))\n",
    "\n",
    "    return g\n",
    "def get_euler_path(g, start, tour=None):\n",
    "    tour = [] if tour is None else tour\n",
    "\n",
    "    # tour = []\n",
    "    # vertex = startz\n",
    "    # while g.num_edges and (adj := next(g.adjacent(vertex))):\n",
    "    #     edge = g.get_edge(vertex, adj)\n",
    "    #     tour.append(edge)\n",
    "    #     vertex = adj\n",
    "    #     g.remove_edge(edge)\n",
    "    # if start in tour[-1]:\n",
    "    #     return tour\n",
    "    # return\n",
    "    for adj in g.adjacent(start):\n",
    "        edge = g.get_edge(start, adj)\n",
    "        if hasattr(edge, \"traversed\"):\n",
    "            continue\n",
    "        edge.traversed = True\n",
    "        get_euler_path(g, adj, tour)\n",
    "    tour.append(start)\n",
    "    return tour\n",
    "    \n",
    "g =  graphEulerSample()\n",
    "vertices = list(g.vertices)\n",
    "get_euler_path(copy.deepcopy(g), vertices[0])"
   ],
   "metadata": {
    "collapsed": false,
    "pycharm": {
     "name": "#%%\n"
    }
   }
  },
  {
   "cell_type": "code",
   "execution_count": 195,
   "outputs": [],
   "source": [
    "\n"
   ],
   "metadata": {
    "collapsed": false,
    "pycharm": {
     "name": "#%%\n"
    }
   }
  }
 ],
 "metadata": {
  "kernelspec": {
   "display_name": "Python 3",
   "language": "python",
   "name": "python3"
  },
  "language_info": {
   "codemirror_mode": {
    "name": "ipython",
    "version": 2
   },
   "file_extension": ".py",
   "mimetype": "text/x-python",
   "name": "python",
   "nbconvert_exporter": "python",
   "pygments_lexer": "ipython2",
   "version": "2.7.6"
  }
 },
 "nbformat": 4,
 "nbformat_minor": 0
}