{
 "cells": [
  {
   "cell_type": "code",
   "execution_count": null,
   "outputs": [],
   "source": [
    "%load_ext autoreload\n",
    "%autoreload 2\n",
    "from data_structures.container import Container"
   ],
   "metadata": {
    "collapsed": false,
    "pycharm": {
     "name": "#%%\n"
    }
   }
  },
  {
   "cell_type": "code",
   "execution_count": 7,
   "outputs": [],
   "source": [
    "class Node:\n",
    "    def __init__(self, key, left=None, right=None):\n",
    "        self.key= key\n",
    "        self.left = left\n",
    "        self.right = right\n",
    "    @property\n",
    "    def p(self):\n",
    "        return self.parent\n",
    "    @p.setter\n",
    "    def p(self, v):\n",
    "        self.parent = v\n",
    "\n",
    "    def __repr__(self):\n",
    "        return f\"{self.__class__.__name__}({self.key})\""
   ],
   "metadata": {
    "collapsed": false,
    "pycharm": {
     "name": "#%%\n"
    }
   }
  },
  {
   "cell_type": "code",
   "execution_count": 8,
   "metadata": {
    "collapsed": true
   },
   "outputs": [],
   "source": [
    "class BinaryTree:\n",
    "\n",
    "    def __init__(self):\n",
    "        self.root = None\n",
    "\n",
    "    def inorder_tree_walk(self, x):\n",
    "        \"\"\"O(n)\"\"\"\n",
    "        if x is not None:\n",
    "            self.inorder_tree_walk(x.left)\n",
    "            print(x.key)\n",
    "            self.inorder_tree_walk(x.right)\n",
    "\n",
    "    def postorder_tree_walk(self, x):\n",
    "        if x is not None:\n",
    "            self.postorder_tree_walk(x.left)\n",
    "            self.postorder_tree_walk(x.right)\n",
    "            print(x.key)\n",
    "\n",
    "    def preorder_tree_walk(self, x):\n",
    "        if x is not None:\n",
    "            print(x.key)\n",
    "            self.preorder_tree_walk(x.left)\n",
    "            self.preorder_tree_walk(x.right)\n",
    "\n",
    "    def search(self, x,  k):\n",
    "        \"\"\"O(h)\"\"\"\n",
    "        if x.key == k or x is None:\n",
    "            return x\n",
    "        if k < x.key:\n",
    "            return self.search(x.left, k)\n",
    "        else:\n",
    "            return self.search(x.right, x)\n",
    "    def minimum(self, x):\n",
    "        \"\"\"O(h)\"\"\"\n",
    "        while x.left is not None:\n",
    "            x = x.left\n",
    "        return x\n",
    "\n",
    "    def maximum(self, x):\n",
    "        while x.right is not None:\n",
    "            x = x.right\n",
    "        return x\n",
    "\n",
    "    def successor(self, x):\n",
    "        if x.right is not None:\n",
    "            return self.minimum(x.right)\n",
    "        y = x.parent\n",
    "        while y is not None and x == y.right:\n",
    "            x = y\n",
    "            y = y.parent\n",
    "        return y\n",
    "\n",
    "    def predecessor(self, x):\n",
    "        if x.left is not None:\n",
    "            return self.maximum(x.left)\n",
    "        y = x.parent\n",
    "        while y is not None and x == y.left:\n",
    "            x = y\n",
    "            y = y.parent\n",
    "        return y\n",
    "\n",
    "    def insert(self, z):\n",
    "        \"\"\"O(h)\"\"\"\n",
    "        y = None\n",
    "        x = self.root\n",
    "        if not isinstance(z, Node):\n",
    "            raise ValueError(\"Not a Node instance\")\n",
    "        while x is not None:\n",
    "            y = x\n",
    "            x = x.left if z.key < x.key else x.right\n",
    "\n",
    "        z.parent = y\n",
    "        if y is None:\n",
    "            self.root = z\n",
    "        elif z.key < y.key:\n",
    "            y.left = z\n",
    "        else:\n",
    "            y.right = z\n",
    "\n",
    "    def delete(self, z):\n",
    "        \"\"\"O(h)\"\"\"\n",
    "        if z.left is None:\n",
    "            self.transplant(z, z.right)\n",
    "        elif z.right is None:\n",
    "            self.transplant(z, z.left)\n",
    "        else:\n",
    "            y = self.minimum(z.right)\n",
    "            if y.p != z:\n",
    "                self.transplant(y, y.right)\n",
    "                y.right = z.right\n",
    "                y.right.p = y\n",
    "            self.transplant(z, y)\n",
    "            y.left = z.left\n",
    "            y.left.parent = y\n",
    "\n",
    "    def transplant(self, u, v):\n",
    "        if u.p is None:\n",
    "            self.root = v\n",
    "        elif u == u.parent.left:\n",
    "            u.parent.left = v\n",
    "        else:\n",
    "            u.parent.right = v\n",
    "        if v is not None:\n",
    "            v.parent = u.parent\n",
    "\n",
    "    def __repr__(self):\n",
    "        pass"
   ]
  },
  {
   "cell_type": "code",
   "execution_count": null,
   "outputs": [],
   "source": [
    "class BinaryTree:\n",
    "    \n",
    "    def __init__(self):\n",
    "        pass\n"
   ],
   "metadata": {
    "collapsed": false,
    "pycharm": {
     "name": "#%%\n"
    }
   }
  }
 ],
 "metadata": {
  "kernelspec": {
   "display_name": "Python 3",
   "language": "python",
   "name": "python3"
  },
  "language_info": {
   "codemirror_mode": {
    "name": "ipython",
    "version": 2
   },
   "file_extension": ".py",
   "mimetype": "text/x-python",
   "name": "python",
   "nbconvert_exporter": "python",
   "pygments_lexer": "ipython2",
   "version": "2.7.6"
  }
 },
 "nbformat": 4,
 "nbformat_minor": 0
}