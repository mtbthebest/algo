{
 "cells": [
  {
   "cell_type": "code",
   "execution_count": 1,
   "metadata": {
    "collapsed": true
   },
   "outputs": [],
   "source": [
    "import numpy as np\n"
   ]
  },
  {
   "cell_type": "code",
   "execution_count": 2,
   "outputs": [],
   "source": [
    "A = np.random.randint(0, 20, size=(20,))\n",
    "B = np.random.randint(0, 20, size=(45,))\n",
    "C= np.random.randint(0, 52, size=(10,))"
   ],
   "metadata": {
    "collapsed": false,
    "pycharm": {
     "name": "#%%\n"
    }
   }
  },
  {
   "cell_type": "code",
   "execution_count": 3,
   "outputs": [
    {
     "data": {
      "text/plain": "array([ 4, 11,  8,  1, 13, 18,  0, 10,  2,  4, 14, 16,  7, 11, 19, 19,  8,\n        8,  3,  6])"
     },
     "execution_count": 3,
     "metadata": {},
     "output_type": "execute_result"
    }
   ],
   "source": [
    "A"
   ],
   "metadata": {
    "collapsed": false,
    "pycharm": {
     "name": "#%%\n"
    }
   }
  },
  {
   "cell_type": "code",
   "execution_count": 4,
   "outputs": [],
   "source": [
    "def insert_sort(array, reverse=False):\n",
    "    cmp_func = lambda a, b:  a < b if reverse else a>b\n",
    "    for j in range(1, len(array) ):\n",
    "        current = array[j]\n",
    "        i = j -1\n",
    "\n",
    "        while i >=0 and cmp_func(array[i] , current):\n",
    "            array[i+1] = array[i]\n",
    "            i = i-1\n",
    "        array[i+1] = current\n",
    "\n"
   ],
   "metadata": {
    "collapsed": false,
    "pycharm": {
     "name": "#%%\n"
    }
   }
  },
  {
   "cell_type": "code",
   "execution_count": 5,
   "outputs": [
    {
     "name": "stdout",
     "output_type": "stream",
     "text": [
      "[19 19 18 16 14 13 11 11 10  8  8  8  7  6  4  4  3  2  1  0]\n",
      "[ 0  1  2  3  4  4  6  7  8  8  8 10 11 11 13 14 16 18 19 19]\n"
     ]
    }
   ],
   "source": [
    "insert_sort(A, reverse=True)\n",
    "print(A)\n",
    "insert_sort(A)\n",
    "print(A)"
   ],
   "metadata": {
    "collapsed": false,
    "pycharm": {
     "name": "#%%\n"
    }
   }
  },
  {
   "cell_type": "code",
   "execution_count": 6,
   "outputs": [
    {
     "data": {
      "text/plain": "array([ 0,  1,  2,  3,  4,  4,  6,  7,  8,  8,  8, 10, 11, 11, 13, 14, 16,\n       18, 19, 19])"
     },
     "execution_count": 6,
     "metadata": {},
     "output_type": "execute_result"
    }
   ],
   "source": [
    "A\n"
   ],
   "metadata": {
    "collapsed": false,
    "pycharm": {
     "name": "#%%\n"
    }
   }
  },
  {
   "cell_type": "code",
   "execution_count": 7,
   "outputs": [
    {
     "name": "stdout",
     "output_type": "stream",
     "text": [
      "[11  6 10 10 10  3  4  1  8 12 19 16  6  7 12 12  7 15  8  6 13  6  9  0\n",
      "  8  6  8 12 19  9 13 12 14  5 16 13  0  5  9 19 11 19  5  5 12]\n"
     ]
    },
    {
     "data": {
      "text/plain": "[0,\n 0,\n 1,\n 3,\n 4,\n 5,\n 5,\n 5,\n 5,\n 6,\n 6,\n 6,\n 6,\n 6,\n 7,\n 7,\n 8,\n 8,\n 8,\n 8,\n 9,\n 9,\n 9,\n 10,\n 10,\n 10,\n 11,\n 11,\n 12,\n 12,\n 12,\n 12,\n 12,\n 12,\n 13,\n 13,\n 13,\n 14,\n 15,\n 16,\n 16,\n 19,\n 19,\n 19,\n 19]"
     },
     "execution_count": 7,
     "metadata": {},
     "output_type": "execute_result"
    }
   ],
   "source": [
    "def merge(array1, array2):\n",
    "    array =[]\n",
    "    while 1:\n",
    "        if array1 and not array2:\n",
    "            array.extend(array1)\n",
    "            break\n",
    "        if array2 and not array1:\n",
    "            array.extend(array2)\n",
    "            break\n",
    "        if array1 and array1[0] <= array2[0]:\n",
    "            array.append(array1.pop(0))\n",
    "        else:\n",
    "            array.append(array2.pop(0))\n",
    "    return array\n",
    "    # assert len(array1) == len(array2)\n",
    "    # array1.append(float(\"inf\"))\n",
    "    # array2.append(float(\"inf\"))\n",
    "    # i, j= 0, 0\n",
    "    # new_array = []\n",
    "    # for k in range(len(array2) + len(array2) - 2):\n",
    "    #     if array1[i] <=array2[j]:\n",
    "    #         new_array.append(array1[i])\n",
    "    #         i +=1\n",
    "    #     else:\n",
    "    #         new_array.append(array2[j])\n",
    "    #         j += 1\n",
    "    # return new_array\n",
    "\n",
    "\n",
    "\n",
    "def merge_sort(array):\n",
    "    if len(array) == 1:\n",
    "        return [array[0]]\n",
    "    separator = len(array) // 2\n",
    "    left = merge_sort(array[:separator])\n",
    "    right = merge_sort(array[separator:])\n",
    "    mg= merge(left, right)\n",
    "    return mg\n",
    "\n",
    "\n",
    "print(B)\n",
    "merge_sort(B)\n",
    "\n"
   ],
   "metadata": {
    "collapsed": false,
    "pycharm": {
     "name": "#%%\n"
    }
   }
  },
  {
   "cell_type": "code",
   "execution_count": 8,
   "outputs": [
    {
     "data": {
      "text/plain": "[5, 12, 15, 17, 17, 21]"
     },
     "execution_count": 8,
     "metadata": {},
     "output_type": "execute_result"
    }
   ],
   "source": [
    "def insertion_sort_merge(arr, key):\n",
    "    for i in range(len(arr)):\n",
    "        if key <arr[i]:\n",
    "            arr.insert(i, key)\n",
    "            break\n",
    "    return arr\n",
    "\n",
    "\n",
    "\n",
    "def recursive_insertion_sort(arr):\n",
    "    if len(arr) == 1:\n",
    "        return [arr[0]]\n",
    "    key = arr[-1]\n",
    "    return insertion_sort_merge(recursive_insertion_sort(arr[:-1]), key)\n",
    "\n",
    "\n",
    "\n",
    "\n",
    "recursive_insertion_sort(C)"
   ],
   "metadata": {
    "collapsed": false,
    "pycharm": {
     "name": "#%%\n"
    }
   }
  },
  {
   "cell_type": "code",
   "execution_count": 8,
   "outputs": [],
   "source": [],
   "metadata": {
    "collapsed": false,
    "pycharm": {
     "name": "#%%\n"
    }
   }
  },
  {
   "cell_type": "code",
   "execution_count": 9,
   "outputs": [],
   "source": [
    "from math import floor\n",
    "\n",
    "class Node:\n",
    "\n",
    "    def __init__(self, indice, value):\n",
    "        self.indice = indice\n",
    "        self.value = value\n",
    "        self.parent = None\n",
    "        self.left = None\n",
    "        self.right = None\n",
    "\n",
    "    def __repr__(self):\n",
    "        \"\"\"\n",
    "                       # f\"parent={self.parent},\" \\\n",
    "\n",
    "        :return:\n",
    "        \"\"\"\n",
    "        return f\"Node(indice={self.indice}, \" \\\n",
    "               f\"value={self.value},\" \\\n",
    "\n",
    "class HeapList:\n",
    "\n",
    "    def __init__(self, data= None):\n",
    "        self.nodes = []\n",
    "        self._data = data\n",
    "        self.data = self.initialize(data)\n",
    "\n",
    "    @staticmethod\n",
    "    def initialize(data):\n",
    "        nodes = []\n",
    "        for i, v in enumerate(data, 1):\n",
    "            node = Node(i, v)\n",
    "            if i ==1:\n",
    "                nodes.append(node)\n",
    "                continue\n",
    "            parent = nodes[floor(i//2) -1 ]\n",
    "            node = Node(i, v)\n",
    "\n",
    "            if i % 2 ==0 :\n",
    "                parent.left  = node\n",
    "            else:\n",
    "                parent.right = node\n",
    "            node.parent = parent\n",
    "            nodes.append(node)\n",
    "        return nodes\n",
    "\n",
    "heap = HeapList([16, 14, 10,8,7,9,3, 2,4, 1])"
   ],
   "metadata": {
    "collapsed": false,
    "pycharm": {
     "name": "#%%\n"
    }
   }
  },
  {
   "cell_type": "code",
   "execution_count": 10,
   "outputs": [
    {
     "name": "stdout",
     "output_type": "stream",
     "text": [
      "Node(indice=10, value=1,\n"
     ]
    }
   ],
   "source": [
    "print(heap.data[4].left)"
   ],
   "metadata": {
    "collapsed": false,
    "pycharm": {
     "name": "#%%\n"
    }
   }
  },
  {
   "cell_type": "code",
   "execution_count": 11,
   "outputs": [
    {
     "name": "stdout",
     "output_type": "stream",
     "text": [
      "[0, 1, 3, 4, 5, 7, 8, 9, 10, 12, 13, 16, 17, 27]\n"
     ]
    }
   ],
   "source": [
    "class Heap(object):\n",
    "\n",
    "    def __init__(self, data=None):\n",
    "        data = [] if data is None else data\n",
    "        self.data = data\n",
    "        self.heapsize = len(self.data)\n",
    "\n",
    "    def parent(self, i):\n",
    "        # if i>1:\n",
    "        return i//2\n",
    "        # return None\n",
    "\n",
    "    def left(self, i):\n",
    "        # if 2*i < len(self.data) + 1:\n",
    "            # return self.data[2*i - 1]\n",
    "        return 2*i\n",
    "        # return None\n",
    "\n",
    "    def right(self, i):\n",
    "        # if (2*i + 1) < len(self.data) + 1:\n",
    "            # return self.data[2*i]\n",
    "            return 2*i + 1\n",
    "        # return None\n",
    "\n",
    "    def max_heapify(self, i):\n",
    "        left, right = self.left(i), self.right(i)\n",
    "        largest = i\n",
    "        if left <= self.heapsize and self.data[left -1] > self.data[largest - 1]:\n",
    "            largest = left\n",
    "        if right <=self.heapsize and self.data[right - 1] > self.data[largest - 1]:\n",
    "            largest = right\n",
    "        if largest != i:\n",
    "            tmp = self.data[i-1]\n",
    "            self.data[i-1] = self.data[largest-1]\n",
    "            self.data[largest-1] = tmp\n",
    "            self.max_heapify(largest)\n",
    "\n",
    "    def sort(self):\n",
    "        \"\"\"O(n*lgn)\"\"\"\n",
    "        self.build_max_heap()\n",
    "        for i in range(len(self.data), 1, -1):\n",
    "            tmp = self.data[i-1]\n",
    "            self.data[i-1] = self.data[0]\n",
    "            self.data[0] = tmp\n",
    "            self.heapsize -= 1\n",
    "            self.max_heapify(1)\n",
    "\n",
    "\n",
    "\n",
    "    def build_max_heap(self):\n",
    "        for i in range(len(self.data) // 2, 0, -1):\n",
    "            self.max_heapify(i)\n",
    "\n",
    "    def __getitem__(self, item):\n",
    "        return self.data[item]\n",
    "\n",
    "    def __len__(self):\n",
    "        return len(self.data)\n",
    "\n",
    "heap = Heap([ 27, 17, 3 , 16, 13,  10, 1, 5, 7, 12,\n",
    "              4, 8, 9, 0])\n",
    "heap.sort()\n",
    "print(heap.data)"
   ],
   "metadata": {
    "collapsed": false,
    "pycharm": {
     "name": "#%%\n"
    }
   }
  },
  {
   "cell_type": "code",
   "execution_count": 12,
   "outputs": [
    {
     "name": "stdout",
     "output_type": "stream",
     "text": [
      "1 0 0 2 3\n",
      "2 1 1 4 5\n",
      "3 3 1 6 7\n",
      "4 4 2 8 9\n",
      "5 5 2 10 11\n",
      "6 7 3 12 13\n",
      "7 8 3 14 15\n",
      "8 9 4 16 17\n",
      "9 10 4 18 19\n",
      "10 12 5 20 21\n",
      "11 13 5 22 23\n",
      "12 16 6 24 25\n",
      "13 17 6 26 27\n",
      "14 27 7 28 29\n"
     ]
    }
   ],
   "source": [
    "for i in range(1, len(heap.data) + 1):\n",
    "    print(i, heap[i-1], heap.parent(i),\n",
    "          heap.left(i), heap.right(i))"
   ],
   "metadata": {
    "collapsed": false,
    "pycharm": {
     "name": "#%%\n"
    }
   }
  },
  {
   "cell_type": "code",
   "execution_count": 13,
   "outputs": [
    {
     "data": {
      "text/plain": "14"
     },
     "execution_count": 13,
     "metadata": {},
     "output_type": "execute_result"
    }
   ],
   "source": [
    "len(heap)\n"
   ],
   "metadata": {
    "collapsed": false,
    "pycharm": {
     "name": "#%%\n"
    }
   }
  },
  {
   "cell_type": "code",
   "execution_count": 14,
   "outputs": [],
   "source": [
    "heap.sort()"
   ],
   "metadata": {
    "collapsed": false,
    "pycharm": {
     "name": "#%%\n"
    }
   }
  },
  {
   "cell_type": "code",
   "execution_count": 15,
   "outputs": [
    {
     "data": {
      "text/plain": "[1, 3, 4, 5, 7, 8, 9, 10, 12, 13, 16, 17, 27, 0]"
     },
     "execution_count": 15,
     "metadata": {},
     "output_type": "execute_result"
    }
   ],
   "source": [
    "heap.data\n"
   ],
   "metadata": {
    "collapsed": false,
    "pycharm": {
     "name": "#%%\n"
    }
   }
  },
  {
   "cell_type": "code",
   "execution_count": 15,
   "outputs": [],
   "source": [],
   "metadata": {
    "collapsed": false,
    "pycharm": {
     "name": "#%%\n"
    }
   }
  }
 ],
 "metadata": {
  "kernelspec": {
   "display_name": "Python 3",
   "language": "python",
   "name": "python3"
  },
  "language_info": {
   "codemirror_mode": {
    "name": "ipython",
    "version": 2
   },
   "file_extension": ".py",
   "mimetype": "text/x-python",
   "name": "python",
   "nbconvert_exporter": "python",
   "pygments_lexer": "ipython2",
   "version": "2.7.6"
  }
 },
 "nbformat": 4,
 "nbformat_minor": 0
}