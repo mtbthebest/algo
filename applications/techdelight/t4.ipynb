{
 "cells": [
  {
   "cell_type": "code",
   "execution_count": 1,
   "metadata": {
    "pycharm": {
     "name": "#%%\n"
    }
   },
   "outputs": [],
   "source": [
    "from typing import List, Tuple, Set, Dict\n",
    "import math\n",
    "import heapq\n",
    "\n",
    "from copy import deepcopy\n",
    "from collections import defaultdict, namedtuple\n",
    "import sys\n",
    "from collections import deque, Counter\n",
    "import numpy as np\n",
    "\n"
   ]
  },
  {
   "cell_type": "code",
   "execution_count": 2,
   "metadata": {
    "pycharm": {
     "name": "#%%\n"
    }
   },
   "outputs": [
    {
     "data": {
      "text/plain": "True"
     },
     "execution_count": 2,
     "metadata": {},
     "output_type": "execute_result"
    }
   ],
   "source": [
    "'''\n",
    "\n",
    "Given an integer array, check if it represents min-heap or not.\n",
    "\n",
    "Input : [2, 3, 4, 5, 10, 15]\n",
    "Output: True\n",
    "Explanation: The input represents a min-heap.\n",
    "\n",
    "\t\t   2\n",
    "\t\t /   \\\n",
    "\t\t/\t  \\\n",
    "\t   3\t   4\n",
    "\t  / \\     /\n",
    "\t /   \\   /\n",
    "\t5\t 10 15\n",
    "\n",
    "Input : [2, 10, 4, 5, 3, 15]\n",
    "Output: False\n",
    "Explanation: The input is not a min-heap, as it violate the heap property.\n",
    "\n",
    "\t\t   2\n",
    "\t\t /   \\\n",
    "\t\t/\t  \\\n",
    "\t   10\t   4\n",
    "\t  / \\\t  /\n",
    "\t /   \\   /\n",
    "\t5\t  3 15\n",
    "\n",
    "'''\n",
    "\n",
    "\n",
    "\n",
    "class Solution:\n",
    "\tdef checkMinHeap(self, nums: List[int]) -> bool:\n",
    "\t\tif not nums:\n",
    "\t\t\treturn True\n",
    "\n",
    "\t\tn = len(nums)\n",
    "\t\tlevel = 0\n",
    "\n",
    "\t\tis_check_min = True\n",
    "\t\tq = deque()\n",
    "\t\tq.append((0, nums[0]))\n",
    "\t\twhile q:\n",
    "\t\t\ti, x = q.popleft()\n",
    "\t\t\tleft_i, right_i = 2*i +1, 2*i + 2\n",
    "\t\t\tleft, right = nums[left_i] if left_i < n else None, nums[right_i] if right_i < n else None\n",
    "\n",
    "\t\t\tif left is not None:\n",
    "\t\t\t\tif left < x:\n",
    "\t\t\t\t\treturn False\n",
    "\t\t\t\tq.append((left_i, left))\n",
    "\t\t\t\n",
    "\t\t\tif right is not None:\n",
    "\t\t\t\tif right < x:\n",
    "\t\t\t\t\treturn False\n",
    "\t\t\t\tq.append((right_i, right))\n",
    "\n",
    "\n",
    "\t\treturn is_check_min\n",
    "\n",
    "Solution().checkMinHeap([-2, 1, 5, 9, 4, 7, 6])"
   ]
  },
  {
   "cell_type": "code",
   "execution_count": 3,
   "metadata": {
    "pycharm": {
     "name": "#%%\n"
    }
   },
   "outputs": [
    {
     "data": {
      "text/plain": "[-2, 1, 5, 9, 4, 6, 7]"
     },
     "execution_count": 3,
     "metadata": {},
     "output_type": "execute_result"
    }
   ],
   "source": [
    "'''\n",
    "\n",
    "Given an array representing a max-heap, in-place convert it into the min-heap in linear time.\n",
    "\n",
    "Input: [9, 4, 7, 1, -2, 6, 5]\n",
    "\n",
    "\t\t   9\n",
    "\t\t /   \\\n",
    "\t\t/\t  \\\n",
    "\t   4\t   7\n",
    "\t  / \\\t  / \\\n",
    "\t /   \\   /   \\\n",
    "\t1\t -2 6\t  5\n",
    "\n",
    "\n",
    "Output: [-2, 1, 5, 9, 4, 6, 7]\n",
    "\n",
    "\t\t   -2\n",
    "\t\t /\t  \\\n",
    "\t\t/\t   \\\n",
    "\t   1\t\t5\n",
    "\t  / \\\t   / \\\n",
    "\t /   \\\t  /   \\\n",
    "\t9\t  4  6\t   7\t\tor, any other valid min-heap.\n",
    "\n",
    "'''\n",
    "\n",
    "class Solution:\n",
    "    def left(self, i):\n",
    "        return 2*i + 1\n",
    "    \n",
    "    def right(self, i):\n",
    "        return 2*i + 2\n",
    "\n",
    "    def convert(self, nums: List[int]) -> None:\n",
    "        n = len(nums)\n",
    "        if n == 0:\n",
    "            return\n",
    "        q = deque()\n",
    "        i = n // 2\n",
    "        q.append(i)\n",
    "        while q:\n",
    "            i = q.popleft()\n",
    "            \n",
    "            if i < 0:\n",
    "                break\n",
    "            left_i, right_i = self.left(i), self.right(i)\n",
    "            left = None if left_i >= n else nums[left_i]\n",
    "            right = None if right_i >= n else nums[right_i]\n",
    "            \n",
    "            smallest = i\n",
    "            if left is not None:\n",
    "                if left < nums[smallest]:\n",
    "                    smallest = left_i\n",
    "            if right is not None:\n",
    "                if right < nums[smallest]:\n",
    "                    smallest = right_i\n",
    "            \n",
    "            if smallest != i:\n",
    "                nums[smallest], nums[i] = nums[i], nums[smallest]\n",
    "                q.appendleft(smallest)\n",
    "            q.append(i-1)\n",
    "            \n",
    "        return nums\n",
    "\n",
    "Solution().convert([9, 4, 7, 1, -2, 6, 5])"
   ]
  },
  {
   "cell_type": "code",
   "execution_count": 4,
   "metadata": {
    "pycharm": {
     "name": "#%%\n"
    }
   },
   "outputs": [
    {
     "data": {
      "text/plain": "4"
     },
     "execution_count": 4,
     "metadata": {},
     "output_type": "execute_result"
    }
   ],
   "source": [
    "'''\n",
    "\n",
    "Given an integer array, find k'th smallest element in the array where k is a positive integer less than or equal to the length of array.\n",
    "\n",
    "Input : [7, 4, 6, 3, 9, 1], k = 3\n",
    "Output: 4\n",
    "Explanation: The 3rd smallest array element is 4\n",
    "\n",
    "Input : [1, 5, 2, 2, 2, 5, 5, 4], k = 5\n",
    "Output: 4\n",
    "Explanation: The 5th smallest array element is 4\n",
    "\n",
    "'''\n",
    "\n",
    "\n",
    "class Solution:\n",
    "    def findKthSmallest(self, nums: List[int], k: int) -> int:\n",
    "        n = len(nums)\n",
    "        if k > n:\n",
    "            return -1\n",
    "        heapq.heapify(nums)\n",
    "        i = 0\n",
    "        while nums:\n",
    "            el = heapq.heappop(nums)\n",
    "            i += 1\n",
    "            if i == k:\n",
    "                return el\n",
    "\n",
    "\n",
    "Solution().findKthSmallest([7, 4, 6, 3, 9, 1], 3)\n",
    "        "
   ]
  },
  {
   "cell_type": "code",
   "execution_count": 5,
   "metadata": {
    "pycharm": {
     "name": "#%%\n"
    }
   },
   "outputs": [
    {
     "name": "stdout",
     "output_type": "stream",
     "text": [
      "[9, 7, 6, 3, 4, 1]\n"
     ]
    },
    {
     "data": {
      "text/plain": "7"
     },
     "execution_count": 5,
     "metadata": {},
     "output_type": "execute_result"
    }
   ],
   "source": [
    "'''\n",
    "\n",
    "Given an integer array, find k'th largest element in the array where k is a positive integer less than or equal to the length of array.\n",
    "\n",
    "Input : [7, 4, 6, 3, 9, 1], k = 2\n",
    "Output: 7\n",
    "Explanation: The 2nd largest array element is 7\n",
    "\n",
    "Input : [1, 5, 2, 2, 2, 5, 5, 4], k = 4\n",
    "Output: 4\n",
    "Explanation: The 4th largest array element is 4\n",
    "\n",
    "'''\n",
    "\n",
    "\n",
    "\n",
    "class Solution:\n",
    "    def findKthLargest(self, nums: List[int], k: int) -> int:\n",
    "        n = len(nums)\n",
    "        if k > n:\n",
    "            return -1\n",
    "        heapq._heapify_max(nums)\n",
    "        print(nums)\n",
    "        i = 0\n",
    "        while nums:\n",
    "            el = heapq._heappop_max(nums)\n",
    "            i += 1\n",
    "            if i == k:\n",
    "                return el\n",
    "\n",
    "Solution().findKthLargest([7, 4, 6, 3, 9, 1], k = 2)\n"
   ]
  },
  {
   "cell_type": "code",
   "execution_count": 6,
   "metadata": {
    "pycharm": {
     "name": "#%%\n"
    }
   },
   "outputs": [
    {
     "name": "stdout",
     "output_type": "stream",
     "text": [
      "[1]\n",
      "-1\n",
      "[1, 2]\n",
      "-1\n",
      "[1, 2, 3]\n",
      "1\n",
      "[2, 4, 3]\n",
      "2\n",
      "[3, 4, 5]\n",
      "3\n",
      "[4, 6, 5]\n",
      "4\n",
      "[5, 6, 7]\n",
      "5\n",
      "[6, 8, 7]\n",
      "6\n",
      "[7, 8, 9]\n",
      "7\n",
      "[8, 10, 9]\n",
      "8\n"
     ]
    }
   ],
   "source": [
    "'''\n",
    "# TODO\n",
    "Given an infinite stream of integers, return the element representing the k'th largest element in the stream.\n",
    "\n",
    "Input: k = 3, nextInt = [1, 2, 3, 4, 5, 6, 7, 8, 9, 10, ...]\n",
    "Output : [-1, -1, 1, 2, 3, 4, 5, 6, 7, 8, ...]\n",
    "\n",
    "Here, `k` is constant for each run and `nextInt` is the next integer in the infinite stream. The solution should return the next k'th largest element, and return -1 when the stream has fewer elements than `k`.\n",
    "\n",
    "'''\n",
    "\n",
    "class MinHeap:\n",
    "\n",
    "    def __init__(self, k):\n",
    "        self.k = k\n",
    "        self.pool = []\n",
    "    \n",
    "    def add(self, n):\n",
    "        if len(self.pool) < self.k:\n",
    "            heapq.heappush(self.pool, n)\n",
    "        elif self.pool[0] < n:\n",
    "            heapq.heappushpop(self.pool, n)\n",
    "        print(self.pool)\n",
    "        if len(self.pool) == self.k:\n",
    "            return self.pool[0]\n",
    "        else:\n",
    "            return -1\n",
    "\n",
    "class Solution:\n",
    "    def findKthLargest(self, k: int, nextInt: int) -> int:\n",
    "        if not hasattr(self, 'min_heap'):\n",
    "            self.min_heap = MinHeap(k)\n",
    "\n",
    "        return self.min_heap.add(nextInt)\n",
    "nextInt = [1, 2, 3, 4, 5, 6, 7, 8, 9, 10]\n",
    "s = Solution()\n",
    "while nextInt:\n",
    "    print(s.findKthLargest(3, nextInt.pop(0)))\n",
    "\n"
   ]
  },
  {
   "cell_type": "code",
   "execution_count": 7,
   "metadata": {
    "pycharm": {
     "name": "#%%\n"
    }
   },
   "outputs": [],
   "source": [
    "'''\n",
    "\n",
    "Given an infinite stream of integers, return the element representing the k'th largest element in the stream.\n",
    "\n",
    "Input: k = 3, nextInt = [1, 2, 3, 4, 5, 6, 7, 8, 9, 10, ...]\n",
    "Output : [-1, -1, 1, 2, 3, 4, 5, 6, 7, 8, ...]\n",
    "\n",
    "Here, `k` is constant for each run and `nextInt` is the next integer in the infinite stream. The solution should return the next k'th largest element, and return -1 when the stream has fewer elements than `k`.\n",
    "\n",
    "'''\n",
    "\n",
    "\n",
    "class MinHeap:\n",
    "\n",
    "    def __init__(self, k):\n",
    "        self.k = k\n",
    "        self.pool = []\n",
    "    \n",
    "    def add(self, n):\n",
    "        if len(self.pool) < self.k:\n",
    "            heapq.heappush(self.pool, n)\n",
    "        elif self.pool[0] < n:\n",
    "            heapq.heappushpop(self.pool, n)\n",
    "        if len(self.pool) == self.k:\n",
    "            return self.pool[0]\n",
    "        else:\n",
    "            return -1\n",
    "\n",
    "class Solution:\n",
    "    def findKthLargest(self, k: int, nextInt: int) -> int:\n",
    "        if not hasattr(self, 'min_heap'):\n",
    "            self.min_heap = MinHeap(k)\n",
    "\n",
    "        return self.min_heap.add(nextInt)\n",
    "\n",
    "\n"
   ]
  },
  {
   "cell_type": "code",
   "execution_count": 8,
   "metadata": {
    "pycharm": {
     "name": "#%%\n"
    }
   },
   "outputs": [
    {
     "data": {
      "text/plain": "[10, 15, 20, 25, 27, 29, 30, 32, 33, 35, 37, 40, 48, 93]"
     },
     "execution_count": 8,
     "metadata": {},
     "output_type": "execute_result"
    }
   ],
   "source": [
    "'''\n",
    "\n",
    "Given `M` sorted lists of variable length, merge them efficiently in sorted order.\n",
    "\n",
    "Input:\n",
    "\n",
    "mat = [\n",
    "\t[10, 20, 30, 40],\n",
    "\t[15, 25, 35],\n",
    "\t[27, 29, 37, 48, 93],\n",
    "\t[32, 33]\n",
    "]\n",
    "\n",
    "Output: [10, 15, 20, 25, 27, 29, 30, 32, 33, 35, 37, 40, 48, 93]\n",
    "\n",
    "'''\n",
    "\n",
    "\n",
    "\n",
    "class Solution:\n",
    "    def mergeSortedLists(self, lists: List[List[int]]) -> List[int]:\n",
    "        if not lists:\n",
    "            return lists\n",
    "        \n",
    "        if lists and not lists:\n",
    "            return lists\n",
    "        \n",
    "        res = []\n",
    "        q = []\n",
    "        for i, ls in enumerate(lists):\n",
    "            if ls:\n",
    "                q.append((ls[0], i))\n",
    "                ls.pop(0)\n",
    "\n",
    "        heapq.heapify(q)\n",
    "\n",
    "        while q:\n",
    "            it, list_index = heapq.heappop(q)\n",
    "            res.append(it)\n",
    "\n",
    "            ls = lists[list_index]\n",
    "            if ls:\n",
    "                el = ls.pop(0)\n",
    "                heapq.heappush(q, (el, list_index))\n",
    "            \n",
    "        return res\n",
    "\n",
    "Solution().mergeSortedLists( [\n",
    "\t[10, 20, 30, 40],\n",
    "\t[15, 25, 35],\n",
    "\t[27, 29, 37, 48, 93],\n",
    "\t[32, 33]\n",
    "]\n",
    ")\n"
   ]
  },
  {
   "cell_type": "code",
   "execution_count": 9,
   "metadata": {
    "pycharm": {
     "name": "#%%\n"
    }
   },
   "outputs": [
    {
     "data": {
      "text/plain": "36"
     },
     "execution_count": 9,
     "metadata": {},
     "output_type": "execute_result"
    }
   ],
   "source": [
    "'''\n",
    "# TODO\n",
    "Given n ropes of different lengths, connect them into a single rope with minimum cost. Assume that the cost to connect two ropes is the same as the sum of their lengths.\n",
    "\n",
    "Input: [5, 4, 2, 8]\n",
    "Output: 36\n",
    "Explanation: The total cost for connecting all ropes is 6 + 11 + 19 = 36.\n",
    "\n",
    "[5, 4, 2, 8] –> First, connect ropes of lengths 4 and 2 that will cost 6.\n",
    "[5, 6, 8]    –> Next, connect ropes of lengths 5 and 6 that will cost 11.\n",
    "[11, 8]      –> Finally, connect the remaining two ropes that will cost 19.\n",
    "\n",
    "'''\n",
    "\n",
    "\n",
    "class Solution:\n",
    "        \n",
    "\n",
    "    def findMinCost(self, prices: List[int]) -> int:\n",
    "        heapq.heapify(prices)\n",
    " \n",
    "        cost = 0\n",
    "    \n",
    "        while len(prices) > 1:\n",
    "    \n",
    "            x = heapq.heappop(prices)\n",
    "            y = heapq.heappop(prices)\n",
    "    \n",
    "            total = x + y\n",
    "            heapq.heappush(prices, total)\n",
    "    \n",
    "            cost += total\n",
    "    \n",
    "        return cost\n",
    "Solution().findMinCost( [5, 4, 2, 8])\n"
   ]
  },
  {
   "cell_type": "code",
   "execution_count": 10,
   "metadata": {
    "pycharm": {
     "name": "#%%\n"
    }
   },
   "outputs": [],
   "source": [
    "'''\n",
    "\n",
    "Given an array of distinct integers, replace each array element by its corresponding rank in the array. The minimum array element has the rank 1; the second minimum element has a rank of 2, and so on.\n",
    "\n",
    "Input : [10, 8, 15, 12, 6, 20, 1]\n",
    "Output: [4, 3, 6, 5, 2, 7, 1]\n",
    "\n",
    "Input : [0, 1, -1]\n",
    "Output: [2, 3, 1]\n",
    "\n",
    "'''\n",
    "\n",
    "\n",
    "class Solution:\n",
    "\tdef transform(self, nums: List[int]) -> None:\n",
    "\t\tif not nums:\n",
    "\t\t\treturn\n",
    "\t\ts = [(el, i) for i, el in enumerate(nums)]\n",
    "\t\theapq.heapify(s)\n",
    "\t\ti = 0\n",
    "\t\tn = len(nums)\n",
    "\t\twhile i < n:\n",
    "\t\t\tel, j = heapq.heappop(s)\n",
    "\t\t\tnums[j] = i + 1\n",
    "\t\t\ti += 1\n",
    "\n",
    "\t\treturn\n"
   ]
  },
  {
   "cell_type": "code",
   "execution_count": 11,
   "metadata": {
    "pycharm": {
     "name": "#%%\n"
    }
   },
   "outputs": [
    {
     "data": {
      "text/plain": "6"
     },
     "execution_count": 11,
     "metadata": {},
     "output_type": "execute_result"
    }
   ],
   "source": [
    "'''\n",
    "\n",
    "Given two sequences, find the length of the longest common subsequence (LCS) present in it. The LCS is the longest sequence which can be obtained from the first sequence by deleting some items and from the second sequence by deleting other items.\n",
    "\n",
    "Input: X = 'ABCBDAB', Y = 'BDCABA'\n",
    "Output: 4\n",
    "Explanation: The LCS are 'BDAB', 'BCAB', and 'BCBA', having length 4.\n",
    "\n",
    "'''\n",
    "\n",
    "\n",
    "\n",
    "class Solution:\n",
    "\n",
    "    def recurse(self, X, Y, m, n, lookup):\n",
    "        \n",
    "        if m == 0 or n == 0:\n",
    "            return 0\n",
    " \n",
    "        key = (m, n)\n",
    "    \n",
    "        if key not in lookup:\n",
    "    \n",
    "            if X[m - 1] == Y[n - 1]:\n",
    "                lookup[key] = self.recurse(X, Y, m - 1, n - 1, lookup) + 1\n",
    "    \n",
    "            else:\n",
    "                lookup[key] = max(self.recurse(X, Y, m, n-1, lookup),\n",
    "                                self.recurse(X, Y, m - 1, n, lookup)\n",
    "                                )    \n",
    "        return lookup[key]\n",
    "               \n",
    "\n",
    "    def findLCSLength(self, X: str, Y: str) -> int:\n",
    "        if not len(X) or not len(Y):\n",
    "            return 0\n",
    "        lookup = dict()\n",
    "        self.recurse(X, Y, len(X), len(Y), lookup)\n",
    "\n",
    "        return lookup[(len(X), len(Y))]   \n",
    "\n",
    "    \n",
    "Solution().findLCSLength(X = 'xybyaxby', Y = 'xbyxybya')\n"
   ]
  },
  {
   "cell_type": "code",
   "execution_count": 12,
   "metadata": {
    "pycharm": {
     "name": "#%%\n"
    }
   },
   "outputs": [
    {
     "name": "stdout",
     "output_type": "stream",
     "text": [
      "[[0 0 0 0 0 0 0 0 0]\n",
      " [0 1 1 1 1 1 1 1 1]\n",
      " [0 1 1 2 2 2 2 2 2]\n",
      " [0 1 2 2 2 2 3 3 3]\n",
      " [0 1 2 3 3 3 3 4 4]\n",
      " [0 1 2 3 3 3 3 4 5]\n",
      " [0 1 2 3 4 4 4 4 5]\n",
      " [0 1 2 3 4 4 5 5 5]\n",
      " [0 1 2 3 4 5 5 6 6]]\n"
     ]
    },
    {
     "data": {
      "text/plain": "'xbyxby'"
     },
     "execution_count": 12,
     "metadata": {},
     "output_type": "execute_result"
    }
   ],
   "source": [
    "'''\n",
    "\n",
    "Given two sequences, return all longest common subsequence (LCS) present in it. The LCS is the longest sequence which can be obtained from the first sequence by deleting some items and from the second sequence by deleting other items.\n",
    "\n",
    "Input: X = \"XMJYAUZ\", Y = \"MZJAWXU\"\n",
    "Output: \"MJAU\"\n",
    "\n",
    "The longest common subsequence is not guaranteed to be unique. If multiple longest common subsequence exists, the solution should return any one of them.\n",
    "\n",
    "Input: X = \"ABCBDAB\", Y = \"BDCABA\"\n",
    "Output: \"BDAB\" or \"BCAB\" or \"BCBA\"\n",
    "\n",
    "'''\n",
    "\n",
    "class Solution:\n",
    "\n",
    "    def get_table(self, X, Y):\n",
    "        m, n = len(X), len(Y)\n",
    "        lookup = [[0 for j in range(n+1)] for i in range(m+1)]\n",
    "        \n",
    "        for i in range(1, m+1):\n",
    "            for j in range(1, n+1):\n",
    "                if X[i-1] == Y[j-1]:\n",
    "                    lookup[i][j] = 1 + lookup[i-1][j-1]\n",
    "                else:\n",
    "                    lookup[i][j] = max(lookup[i][j-1], lookup[i-1][j])\n",
    "        return lookup\n",
    "    \n",
    "    def recurse(self, X, Y, m, n, lookup):\n",
    "        if m == 0 or n == 0:\n",
    "            return ['']\n",
    "\n",
    "        if X[m-1] == Y[n-1]:\n",
    "            subset = self.recurse(X, Y, m-1, n-1, lookup)\n",
    "\n",
    "            for i in range(len(subset)):\n",
    "                subset[i] = subset[i] + X[m-1]\n",
    "            return subset\n",
    "\n",
    "        if lookup[m-1][n] > lookup[m][n-1]:\n",
    "            return self.recurse(X, Y, m - 1, n, lookup)\n",
    "\n",
    "        if lookup[m][n-1] > lookup[m-1][n]:\n",
    "            return self.recurse(X, Y, m,  n- 1, lookup)\n",
    "        \n",
    "        top = self.recurse(X, Y, m-1, n, lookup)\n",
    "        left = self.recurse(X, Y, m, n-1, lookup)\n",
    "\n",
    "        return top + left\n",
    "\n",
    "    def findLCS(self, X: str, Y: str) -> str:\n",
    "        if not X or not Y:\n",
    "            return ''\n",
    "        lookup = self.get_table(X, Y)\n",
    "        print(np.array(lookup))\n",
    "        max_length = lookup[len(X)][len(Y)]\n",
    "        subset = self.recurse(X, Y, len(X), len(Y), lookup)\n",
    "        return subset[0]\n",
    "Solution().findLCS(X = 'xybyaxby', Y = 'xbyxybya')\n"
   ]
  },
  {
   "cell_type": "code",
   "execution_count": 13,
   "metadata": {
    "pycharm": {
     "name": "#%%\n"
    }
   },
   "outputs": [
    {
     "data": {
      "text/plain": "4"
     },
     "execution_count": 13,
     "metadata": {},
     "output_type": "execute_result"
    }
   ],
   "source": [
    "'''\n",
    "\n",
    "Given three sequences, find the length of the longest common subsequence (LCS) present in it. The LCS is the longest subsequence that can be obtained from each of the given sequences by deleting zero or more characters.\n",
    "\n",
    "Input: X = 'ABCBDAB', Y = 'BDCABA', Z = 'BADACB'\n",
    "Output: 4\n",
    "Explanation: The longest subsequence present in the given sequences in the same order is 'BDAB', having length 4.\n",
    "\n",
    "'''\n",
    "\n",
    "\n",
    "class Solution:\n",
    "    def _findLCSLength(self, X, Y, Z):\n",
    "        m, n, o = [len(x) for x in [X, Y, Z]]\n",
    "\n",
    "        lookup = [[[0 for i in range(o+1)] for j in range(n+1)] for k in range(m+1)]\n",
    "\n",
    "        for i in range(1, m+1):\n",
    "            for j in range(1, n+1):\n",
    "                for k in range(1, o+1):\n",
    "                    if X[i-1] == Y[j-1] == Z[k-1]:\n",
    "                        lookup[i][j][k] = 1 + lookup[i-1][j-1][k-1]\n",
    "                    else:\n",
    "                        lookup[i][j][k] = max(lookup[i-1][j][k],\n",
    "                                              lookup[i][j-1][k],\n",
    "                                              lookup[i][j][k-1],\n",
    "                        )\n",
    "        return lookup\n",
    "\n",
    "    def findLCSLength(self, X: str, Y: str, Z: str) -> int:\n",
    "        if not X or not Y or not Z:\n",
    "            return 0\n",
    "        lookup = self._findLCSLength(X, Y, Z)\n",
    "\n",
    "        return lookup[len(X)][len(Y)][len(Z)]\n",
    "\n",
    "Solution().findLCSLength( X = 'ABCBDAB', Y = 'BDCABA', Z = 'BADACB')"
   ]
  },
  {
   "cell_type": "code",
   "execution_count": 14,
   "metadata": {
    "pycharm": {
     "name": "#%%\n"
    }
   },
   "outputs": [
    {
     "data": {
      "text/plain": "'A'"
     },
     "execution_count": 14,
     "metadata": {},
     "output_type": "execute_result"
    }
   ],
   "source": [
    "'''\n",
    "def LCS(X, Y, m, n):\n",
    " \n",
    "    maxLength = 0           # stores the max length of LCS\n",
    "    endingIndex = m         # stores the ending index of LCS in `X`\n",
    " \n",
    "    # `lookup[i][j]` stores the length of LCS of substring `X[0…i-1]` and `Y[0…j-1]`\n",
    "    lookup = [[0 for x in range(n + 1)] for y in range(m + 1)]\n",
    " \n",
    "    # fill the lookup table in a bottom-up manner\n",
    "    for i in range(1, m + 1):\n",
    "        for j in range(1, n + 1):\n",
    " \n",
    "            # if the current character of `X` and `Y` matches\n",
    "            if X[i - 1] == Y[j - 1]:\n",
    "                lookup[i][j] = lookup[i - 1][j - 1] + 1\n",
    " \n",
    "                # update the maximum length and ending index\n",
    "                if lookup[i][j] > maxLength:\n",
    "                    maxLength = lookup[i][j]\n",
    "                    endingIndex = i\n",
    " \n",
    "    # return longest common substring having length `maxLength`\n",
    "    return X[endingIndex - maxLength: endingIndex]\n",
    "\n",
    "\n",
    "Given two strings, find the longest string that is a substring of both strings.\n",
    "\n",
    "Input: X = 'ABABC', Y = 'BABCA'\n",
    "Output: 'BABC'\n",
    "Explanation: The longest common substring of strings 'ABABC' and 'BABCA' is 'BABC' having length 4. The other common substrings are 'ABC', 'A', 'AB', 'B', 'BA', 'BC', and 'C'.\n",
    "\n",
    "'''\n",
    "\n",
    "\n",
    "\n",
    "class Solution:\n",
    "    \n",
    "\n",
    "    def findLongestCommonSubstring(self, X: str, Y: str) -> str:\n",
    "        if not X or not Y:\n",
    "            return ''\n",
    "\n",
    "        m, n = len(X), len(Y)\n",
    "        cs = ''\n",
    "        for i in range(m):\n",
    "            for j in range(n):\n",
    "                if X[i] == Y[j]:\n",
    "                    count = 0\n",
    "                    r, s = i, j\n",
    "                    while r >= 0 and s >= 0 and X[r] == Y[s]:\n",
    "                        count +=1\n",
    "                        r -= 1\n",
    "                        s -= 1\n",
    "                    if count > len(cs):\n",
    "                        cs = X[i-count+1:i+1]\n",
    "\n",
    "            \n",
    "    \n",
    "        return cs\n",
    "\n",
    "Solution().findLongestCommonSubstring(X = 'ADCB', Y = 'ABCD')"
   ]
  },
  {
   "cell_type": "code",
   "execution_count": 15,
   "outputs": [
    {
     "data": {
      "text/plain": "5"
     },
     "execution_count": 15,
     "metadata": {},
     "output_type": "execute_result"
    }
   ],
   "source": [
    "'''\n",
    "\n",
    "Given a sequence, find the longest subsequences of it that is also a palindrome.\n",
    "\n",
    "Input: 'ABBDCACB'\n",
    "Output: 5\n",
    "Explanation: The longest palindromic subsequence is 'BCACB', having length 5.\n",
    "\n",
    "'''\n",
    "\n",
    "\n",
    "class Solution:\n",
    "    def recurse(self, s, i, j, keys):\n",
    "        if i > j:\n",
    "            return 0\n",
    "        k = (i, j)\n",
    "        if k not in keys:\n",
    "            if i == j:\n",
    "                keys[k] = 1\n",
    "                return keys[k]\n",
    "            if s[i] == s[j]:\n",
    "                keys[k] = 2 + self.recurse(s, i+1, j-1, keys)\n",
    "            else:\n",
    "                keys[k] = max(self.recurse(s, i+1, j, keys), self.recurse(s, i, j-1, keys))\n",
    "        return keys[k]\n",
    "\n",
    "    def findLPSLength(self, s: str) -> int:\n",
    "        if not s:\n",
    "            return 0\n",
    "        i, j = 0, len(s) - 1\n",
    "        return self.recurse(s, i, j, dict())\n",
    "\n",
    "Solution().findLPSLength('ABBDCACB')"
   ],
   "metadata": {
    "collapsed": false,
    "pycharm": {
     "name": "#%%\n"
    }
   }
  },
  {
   "cell_type": "code",
   "execution_count": 16,
   "outputs": [],
   "source": [
    "'''\n",
    "# TODO\n",
    "Given a sequence, find the length of the longest subsequence of it that occurs at least twice where the repeated characters should holds a different index in the sequence.\n",
    "\n",
    "Input: 'ATACTCGGA'\n",
    "Output: 4\n",
    "Explanation: The longest repeating subsequence is 'ATCG', having length 4.\n",
    "\n",
    "'A' 'T'  A  'C'  T   C  'G'  G   A\n",
    " A   T  'A'  C  'T' 'C'  G  'G'  A\n",
    "\n",
    "Input: 'YBYXBXBB'\n",
    "Output: 5\n",
    "Explanation: The longest repeating subsequence is 'YBXBB', having length 5.\n",
    "\n",
    "'Y' 'B'  Y  'X' 'B'  X  'B'  B\n",
    " Y   B  'Y'  X  'B' 'X' 'B' 'B'\n",
    "\n",
    "'''\n",
    "\n",
    "\n",
    "class Solution:\n",
    "    def findLRSLength(self, s: str) -> int:\n",
    "        \n",
    "        return\n",
    "\n"
   ],
   "metadata": {
    "collapsed": false,
    "pycharm": {
     "name": "#%%\n"
    }
   }
  },
  {
   "cell_type": "code",
   "execution_count": 16,
   "outputs": [],
   "source": [
    "'''\n",
    "\n",
    "Given two sequences, find the length of the shortest supersequence 'Z' of given sequences 'X' and 'Y' such that both 'X' and 'Y' are subsequences of 'Z'.\n",
    "\n",
    "Input: X = 'ABCBDAB', Y = 'BDCABA'\n",
    "Output: 9\n",
    "Explanation: The SCS are 'ABCBDCABA', 'ABDCABDAB', and 'ABDCBDABA', having length 9.\n",
    "\n",
    "'''\n",
    "\n",
    "\n",
    "class Solution:\n",
    "    def findSCSLength(self, X: str, Y: str) -> int:\n",
    "        return\n",
    "\n"
   ],
   "metadata": {
    "collapsed": false,
    "pycharm": {
     "name": "#%%\n"
    }
   }
  },
  {
   "cell_type": "code",
   "execution_count": 16,
   "outputs": [],
   "source": [],
   "metadata": {
    "collapsed": false,
    "pycharm": {
     "name": "#%%\n"
    }
   }
  }
 ],
 "metadata": {
  "kernelspec": {
   "display_name": "Python 3 (ipykernel)",
   "language": "python",
   "name": "python3"
  },
  "language_info": {
   "codemirror_mode": {
    "name": "ipython",
    "version": 3
   },
   "file_extension": ".py",
   "mimetype": "text/x-python",
   "name": "python",
   "nbconvert_exporter": "python",
   "pygments_lexer": "ipython3",
   "version": "3.9.10"
  },
  "vscode": {
   "interpreter": {
    "hash": "f7d1c444690c64dc164009c81e7c7e493213a917c1ee917acb226d895d2dc691"
   }
  }
 },
 "nbformat": 4,
 "nbformat_minor": 4
}