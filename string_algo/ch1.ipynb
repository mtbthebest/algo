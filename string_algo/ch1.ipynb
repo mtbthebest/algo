{
 "cells": [
  {
   "cell_type": "code",
   "execution_count": 19,
   "metadata": {
    "collapsed": true
   },
   "outputs": [
    {
     "data": {
      "text/plain": "4"
     },
     "execution_count": 19,
     "metadata": {},
     "output_type": "execute_result"
    }
   ],
   "source": [
    "def compute_longest_border(s):\n",
    "    max_beta = 0\n",
    "    i = 0\n",
    "    n = len(s)\n",
    "    while i < (n - 1) and s[i] == s[n-1-i]:\n",
    "        max_beta += 1\n",
    "        i += 1\n",
    "\n",
    "    return max_beta\n",
    "\n",
    "compute_longest_border(\"aababaabaa\")"
   ]
  },
  {
   "cell_type": "code",
   "execution_count": 28,
   "outputs": [
    {
     "data": {
      "text/plain": "[0, 0, 1, 1, 2, 3, 2, 3, 4, 5, 6, 4, 5]"
     },
     "execution_count": 28,
     "metadata": {},
     "output_type": "execute_result"
    }
   ],
   "source": [
    "def compute_border_array(x):\n",
    "    n = len(x)\n",
    "    beta = [0] * n\n",
    "    for i in range(0, n-1):\n",
    "        b = beta[i]\n",
    "        while b > 0 and x[i + 1] != x[b]:\n",
    "            b = beta[b - 1]\n",
    "        if x[i+1] == x[b]:\n",
    "            beta[i + 1] = b + 1\n",
    "\n",
    "    return beta\n",
    "\n",
    "# compute_border_array(\"aababaabaa\")\n",
    "compute_border_array(\"abaababaabaab\")"
   ],
   "metadata": {
    "collapsed": false,
    "pycharm": {
     "name": "#%%\n"
    }
   }
  },
  {
   "cell_type": "code",
   "execution_count": null,
   "outputs": [],
   "source": [
    "def compute_right_array(x):\n",
    "    \"\"\"longest border of every suffix of x\"\"\"\n",
    "    pass"
   ],
   "metadata": {
    "collapsed": false,
    "pycharm": {
     "name": "#%%\n"
    }
   }
  }
 ],
 "metadata": {
  "kernelspec": {
   "display_name": "Python 3",
   "language": "python",
   "name": "python3"
  },
  "language_info": {
   "codemirror_mode": {
    "name": "ipython",
    "version": 2
   },
   "file_extension": ".py",
   "mimetype": "text/x-python",
   "name": "python",
   "nbconvert_exporter": "python",
   "pygments_lexer": "ipython2",
   "version": "2.7.6"
  }
 },
 "nbformat": 4,
 "nbformat_minor": 0
}