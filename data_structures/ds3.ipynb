{
 "cells": [
  {
   "cell_type": "code",
   "execution_count": 10,
   "metadata": {
    "collapsed": true
   },
   "outputs": [],
   "source": [
    "# class EmptyException(Exception):\n",
    "#     pass\n",
    "#\n",
    "# class LinkedQueue:\n",
    "#\n",
    "#     class _Node:\n",
    "#\n",
    "#         def __init__(self, element, next_node):\n",
    "#             self.element = element\n",
    "#             self.next = next_node\n",
    "#\n",
    "#     def __init__(self):\n",
    "#         self.head = None\n",
    "#         self.tail = None\n",
    "#         self.size = 0\n",
    "#\n",
    "#     def __len__(self):\n",
    "#         return self.size\n",
    "#\n",
    "#     def is_empty(self):\n",
    "#         return self.size == 0\n",
    "#\n",
    "#     def first(self):\n",
    "#         if self.is_empty():\n",
    "#             raise EmptyException(\"Empty Stack\")\n",
    "#         return self.head.element\n",
    "#\n",
    "#     def enqueue(self, e):\n",
    "#         node = self._Node(e, None)\n",
    "#         if self.is_empty():\n",
    "#             self.head = node\n",
    "#         else:\n",
    "#             self.tail.next = node\n",
    "#         self.tail = node\n",
    "#         self.size += 1\n",
    "#\n",
    "#     def dequeue(self):\n",
    "#         if self.is_empty():\n",
    "#             raise EmptyException(\"Empty Stack\")\n",
    "#         res = self.head.element\n",
    "#         self.head = self.head.element\n",
    "#         self.size -= 1\n",
    "#         if self.is_empty():\n",
    "#             self.tail = None\n",
    "#\n",
    "#         return res"
   ]
  },
  {
   "cell_type": "code",
   "execution_count": 11,
   "outputs": [],
   "source": [
    "# class Tree:\n",
    "#\n",
    "#     class Position:\n",
    "#\n",
    "#         def element(self):\n",
    "#             raise NotImplementedError\n",
    "#\n",
    "#         def __eq__(self, other):\n",
    "#             raise NotImplementedError\n",
    "#\n",
    "#         def __ne__(self, other):\n",
    "#             return not (self == other)\n",
    "#\n",
    "#     def root(self):\n",
    "#         raise NotImplementedError\n",
    "#\n",
    "#     def parent(self, p):\n",
    "#         raise NotImplementedError\n",
    "#\n",
    "#     def num_children(self, p):\n",
    "#         raise NotImplementedError\n",
    "#\n",
    "#     def children(self, p):\n",
    "#         raise NotImplementedError\n",
    "#\n",
    "#     def __len__(self):\n",
    "#         raise NotImplementedError\n",
    "#\n",
    "#     def is_root(self, p):\n",
    "#         return self.root() == p\n",
    "#\n",
    "#     def is_leaf(self, p):\n",
    "#         return self.num_children(p) == 0\n",
    "#\n",
    "#     def is_empty(self):\n",
    "#         return len(self) == 0\n",
    "#\n",
    "#     def depth(self, p):\n",
    "#         \"\"\"O(d_{p} + 1)\"\"\"\n",
    "#         if self.is_root(p):\n",
    "#             return 0\n",
    "#         else:\n",
    "#             return 1 + self.depth(self.parent(p))\n",
    "#\n",
    "#     def height(self, p=None):\n",
    "#         if self.is_empty():\n",
    "#             return None\n",
    "#         p = self.root() if p is None else p\n",
    "#         def _func(p):\n",
    "#             if self.is_leaf(p):\n",
    "#                 return 0\n",
    "#             else:\n",
    "#                 return 1 + max(_func(c) for c in self.children(p))\n",
    "#         return _func(p)\n",
    "#\n",
    "#     def __iter__(self):\n",
    "#         for p in self.positions():\n",
    "#             yield p.element()\n",
    "#\n",
    "#     def positions(self):\n",
    "#         return self.preorder()\n",
    "#\n",
    "#     def preorder(self):\n",
    "#         if not self.is_empty():\n",
    "#             for p in self.subtree_preorder(self.root()):\n",
    "#                 yield p\n",
    "#\n",
    "#     def subtree_preorder(self, p):\n",
    "#         yield p\n",
    "#         for c in self.children(p):\n",
    "#             for other in self.subtree_preorder(c):\n",
    "#                 yield other\n",
    "#\n",
    "#     def postorder(self):\n",
    "#         if not self.is_empty():\n",
    "#             for p in self.subtree_preorder(self.root()):\n",
    "#                 yield p\n",
    "#\n",
    "#     def subtree_postorder(self, p):\n",
    "#         for c in self.children(p):\n",
    "#             for other in self.subtree_preorder(c):\n",
    "#                 yield other\n",
    "#         yield p\n",
    "#\n",
    "#     def breadthfirst(self):\n",
    "#         if not self.is_empty():\n",
    "#             q = LinkedQueue()\n",
    "#             q.enqueue(self.root())\n",
    "#             while not q.is_empty():\n",
    "#                 p = q.dequeue()\n",
    "#                 yield p\n",
    "#                 for c in self.children(p):\n",
    "#                     q.enqueue(c)\n",
    "#     def __repr__(self):\n",
    "#         for el in self:\n",
    "#             print(el, end=' ')"
   ],
   "metadata": {
    "collapsed": false,
    "pycharm": {
     "name": "#%%\n"
    }
   }
  },
  {
   "cell_type": "code",
   "execution_count": 12,
   "outputs": [],
   "source": [
    "# class BinaryTree(Tree):\n",
    "#\n",
    "#     def left(self, p):\n",
    "#         raise NotImplementedError\n",
    "#\n",
    "#     def right(self, p):\n",
    "#         raise NotImplementedError\n",
    "#\n",
    "#     def sibling(self, p):\n",
    "#         parent = self.parent(p)\n",
    "#         if parent is None:\n",
    "#             return None\n",
    "#         if (q:=self.left(parent)) == p:\n",
    "#             return self.right(parent)\n",
    "#         else:\n",
    "#             return q\n",
    "#\n",
    "#     def children(self, p):\n",
    "#         if (q:= self.left(p)) is not None:\n",
    "#             yield q\n",
    "#         if (q:= self.right(p)) is not None:\n",
    "#             yield q\n",
    "#\n",
    "#     def inorder(self):\n",
    "#         if not self.is_empty():\n",
    "#             for p in self.subtree_inorder(self.root()):\n",
    "#                 yield p\n",
    "#\n",
    "#     def subtree_inorder(self, p):\n",
    "#         if (q := self.left(p)) is not None:\n",
    "#             for other in self.subtree_inorder(q):\n",
    "#                 yield other\n",
    "#         yield p\n",
    "#\n",
    "#         if (q := self.right(p)) is not None:\n",
    "#             for other in self.subtree_inorder(q):\n",
    "#                 yield other\n",
    "#\n",
    "#     def positions(self):\n",
    "#         return self.inorder()"
   ],
   "metadata": {
    "collapsed": false,
    "pycharm": {
     "name": "#%%\n"
    }
   }
  },
  {
   "cell_type": "code",
   "execution_count": 13,
   "outputs": [],
   "source": [
    "# class LinkedBinaryTree(BinaryTree):\n",
    "#\n",
    "#     class Node:\n",
    "#         __slots__ = '_element', '_parent', '_left', '_right'\n",
    "#\n",
    "#         def __init__(self, element, parent=None, left=None, right=None):\n",
    "#             self._element = element\n",
    "#             self._parent = parent\n",
    "#             self._left = left\n",
    "#             self._right = right\n",
    "#\n",
    "#     class Position(BinaryTree.Position):\n",
    "#         def __init__(self, container, node):\n",
    "#             self._container = container\n",
    "#             self._node = node\n",
    "#\n",
    "#         def element(self):\n",
    "#             return self._node._element\n",
    "#\n",
    "#         def __eq__(self, other):\n",
    "#             return type(self) is type(other) and other._node is self._node\n",
    "#\n",
    "#     def validate(self, p):\n",
    "#         if not isinstance(p, self.Position):\n",
    "#             raise TypeError\n",
    "#         if p._container is not self:\n",
    "#             raise ValueError\n",
    "#         if p._node._parent is p._node:\n",
    "#             raise ValueError\n",
    "#\n",
    "#         return p._node\n",
    "#\n",
    "#     def make_position(self, node):\n",
    "#         return self.Position(self, node) if node is not None else None\n",
    "#\n",
    "#     def __init__(self):\n",
    "#         self._root = None\n",
    "#         self._size = 0\n",
    "#\n",
    "#     def __len__(self):\n",
    "#         return self._size\n",
    "#\n",
    "#     def root(self):\n",
    "#         return self.make_position(self._root)\n",
    "#\n",
    "#     def parent(self, p):\n",
    "#         node = self.validate(p)\n",
    "#         return self.make_position(node._parent)\n",
    "#\n",
    "#     def left(self, p):\n",
    "#         node = self.validate(p)\n",
    "#         return self.make_position(node._left)\n",
    "#\n",
    "#     def right(self, p):\n",
    "#         node = self.validate(p)\n",
    "#         return self.make_position(node._right)\n",
    "#\n",
    "#     def num_children(self, p):\n",
    "#         node = self.validate(p)\n",
    "#         count = int(node._left is not None) + int(node._right is not None)\n",
    "#         return count\n",
    "#\n",
    "#     def add_root(self, e):\n",
    "#         if self._root is not None:\n",
    "#             raise ValueError\n",
    "#         self._size = 1\n",
    "#         self._root = self.Node(e)\n",
    "#         return self.make_position(e)\n",
    "#\n",
    "#     def add_left(self, p, e):\n",
    "#         node = self.validate(p)\n",
    "#         if node._left is not None:\n",
    "#             raise ValueError\n",
    "#         self._size += 1\n",
    "#         node._left = self.Node(e, node)\n",
    "#         return self.make_position(node._left)\n",
    "#\n",
    "#     def add_right(self, p, e):\n",
    "#         node = self.validate(p)\n",
    "#         if node._right is not None:\n",
    "#             raise ValueError\n",
    "#         self._size += 1\n",
    "#         node._right = self.Node(e, node)\n",
    "#         return self.make_position(node._right)\n",
    "#\n",
    "#     def replace(self, p, e):\n",
    "#         node = self.validate(p)\n",
    "#         old = node._element\n",
    "#         node._element = e\n",
    "#         return old\n",
    "#\n",
    "#     def delete(self, p):\n",
    "#         node = self.validate(p)\n",
    "#         if self.num_children(p) == 2:\n",
    "#             raise ValueError(\"p has two children\")\n",
    "#         child = node._left if node._left else node._right\n",
    "#         if child is not None:\n",
    "#             child._parent = node._parent\n",
    "#\n",
    "#         if node is self.root:\n",
    "#             self._root = child\n",
    "#         else:\n",
    "#             parent = node._parent\n",
    "#             if node is parent._left:\n",
    "#                 parent._left = child\n",
    "#             else:\n",
    "#                 parent._right = child\n",
    "#         self._size -= 1\n",
    "#         node._parent = node\n",
    "#         return node._element\n",
    "#\n",
    "#     def attach(self, p, t1, t2):\n",
    "#         node = self.validate(p)\n",
    "#         if not self.is_leaf(p):\n",
    "#             raise ValueError(\"p must be leaf\")\n",
    "#         if not (type(self) is type(t1) and type(self) is type(t2)):\n",
    "#             raise TypeError\n",
    "#         self._size += len(t1) + len(t2)\n",
    "#\n",
    "#         if not t1.is_empty():\n",
    "#             t1._root._parent = node\n",
    "#             node._left = t1._root\n",
    "#             t1._root = None\n",
    "#             t1._size  = 0\n",
    "#         if not t2.is_empty():\n",
    "#             t2._root._parent = node\n",
    "#             node._left = t2._root\n",
    "#             t2._root = None\n",
    "#             t2._size  = 0\n"
   ],
   "metadata": {
    "collapsed": false,
    "pycharm": {
     "name": "#%%\n"
    }
   }
  },
  {
   "cell_type": "code",
   "execution_count": 14,
   "outputs": [
    {
     "data": {
      "text/plain": "<__main__.LinkedBinaryTree.Position at 0x7f56441f7df0>"
     },
     "execution_count": 14,
     "metadata": {},
     "output_type": "execute_result"
    }
   ],
   "source": [
    "# tree = LinkedBinaryTree()\n",
    "# tree.add_root(4)"
   ],
   "metadata": {
    "collapsed": false,
    "pycharm": {
     "name": "#%%\n"
    }
   }
  },
  {
   "cell_type": "code",
   "execution_count": 15,
   "outputs": [],
   "source": [
    "# class EulerTour:\n",
    "#\n",
    "#     def __init__(self, tree):\n",
    "#         self._tree = tree\n",
    "#\n",
    "#     def tree(self):\n",
    "#         return self._tree\n",
    "#\n",
    "#     def execute(self):\n",
    "#         if len(self._tree):\n",
    "#             return self._tour(self._tree.root(), 0, [])\n",
    "#\n",
    "#     def _tour(self, p, d, path):\n",
    "#         self._hook_previsit(p, d, path)\n",
    "#         results = []\n",
    "#         path.append(0)\n",
    "#\n",
    "#         for c in self._tree.children(p):\n",
    "#             results.append(self._tour(c,d+1, path))\n",
    "#             path[-1] +=1\n",
    "#         path.pop()\n",
    "#         answer = self._hook_postvisit(p, d, path, results)\n",
    "#         return answer\n",
    "#\n",
    "#     def _hook_previsit(self, p, d, path):\n",
    "#         pass\n",
    "#\n",
    "#     def _hook_postvisit(self, p, d, path, results):\n",
    "#         pass"
   ],
   "metadata": {
    "collapsed": false,
    "pycharm": {
     "name": "#%%\n"
    }
   }
  },
  {
   "cell_type": "code",
   "execution_count": 16,
   "outputs": [],
   "source": [
    "# class PreorderPrintIndentedTour(EulerTour):\n",
    "#     def _hook_previsit(self, p, d, path):\n",
    "#         print(2 * d * \"  \" + str(p.element( )))\n",
    "#\n",
    "# class PreorderPrintIndentedLabeledTour(EulerTour):\n",
    "#     def _hook_previsit(self, p, d, path):\n",
    "#         label = \".\".join(str(j+1) for j in path) # labels are one-indexed\n",
    "#         print(2*d*\" \" + label, p.element())"
   ],
   "metadata": {
    "collapsed": false,
    "pycharm": {
     "name": "#%%\n"
    }
   }
  },
  {
   "cell_type": "code",
   "execution_count": 63,
   "outputs": [
    {
     "name": "stdout",
     "output_type": "stream",
     "text": [
      "The autoreload extension is already loaded. To reload it, use:\n",
      "  %reload_ext autoreload\n"
     ]
    },
    {
     "name": "stderr",
     "output_type": "stream",
     "text": [
      "[autoreload of data_structures.ds3 failed: Traceback (most recent call last):\n",
      "  File \"/home/mtb/env/lib/python3.8/site-packages/IPython/extensions/autoreload.py\", line 245, in check\n",
      "    superreload(m, reload, self.old_objects)\n",
      "  File \"/home/mtb/env/lib/python3.8/site-packages/IPython/extensions/autoreload.py\", line 394, in superreload\n",
      "    module = reload(module)\n",
      "  File \"/home/mtb/env/lib/python3.8/imp.py\", line 314, in reload\n",
      "    return importlib.reload(module)\n",
      "  File \"/home/mtb/env/lib/python3.8/importlib/__init__.py\", line 169, in reload\n",
      "    _bootstrap._exec(spec, module)\n",
      "  File \"<frozen importlib._bootstrap>\", line 604, in _exec\n",
      "  File \"<frozen importlib._bootstrap_external>\", line 783, in exec_module\n",
      "  File \"<frozen importlib._bootstrap>\", line 219, in _call_with_frames_removed\n",
      "  File \"/home/mtb/Projects/algo/data_structures/ds3.py\", line 314, in <module>\n",
      "    e\n",
      "NameError: name 'e' is not defined\n",
      "]\n"
     ]
    }
   ],
   "source": [
    "%load_ext autoreload\n",
    "%autoreload 2\n",
    "from data_structures.ds3 import LinkedBinaryTree\n",
    "from data_structures.euler_tour import EulerTour"
   ],
   "metadata": {
    "collapsed": false,
    "pycharm": {
     "name": "#%%\n"
    }
   }
  },
  {
   "cell_type": "code",
   "execution_count": 64,
   "outputs": [],
   "source": [
    "def form_tree1():\n",
    "    tree = LinkedBinaryTree()\n",
    "    r = tree.add_root(\"Paper\")\n",
    "    left, right = tree.add_left(r, \"Title\"),tree.add_right(r, \"Abstract\")\n",
    "\n",
    "    left1, right1 = tree.add_left(right, \"$1\"),tree.add_right(right, \"$2\")\n",
    "    left2, _ = tree.add_left(left1, \"$1.1\"),tree.add_right(left1, \"$1.2\")\n",
    "    left3, _ = tree.add_left(right1, \"$2.1\"),tree.add_right(right1, \"$2.2\")\n",
    "\n",
    "    return tree"
   ],
   "metadata": {
    "collapsed": false,
    "pycharm": {
     "name": "#%%\n"
    }
   }
  },
  {
   "cell_type": "code",
   "execution_count": 65,
   "outputs": [
    {
     "name": "stdout",
     "output_type": "stream",
     "text": [
      "  Paper\n",
      "   Title\n",
      "   Abstract\n",
      "     $1\n",
      "         $1.1\n",
      "         $1.2\n",
      "     $2\n",
      "         $2.1\n",
      "         $2.2\n"
     ]
    }
   ],
   "source": [
    "def indent_table_contents(T, node = None, d=1):\n",
    "    node = T.get_root() if node is None else node\n",
    "    print(\" \" * d, node.element)\n",
    "    for c in T.children(node):\n",
    "        indent_table_contents(T, c, d*2)\n",
    "\n",
    "\n",
    "tree = form_tree1()\n",
    "indent_table_contents(tree)\n"
   ],
   "metadata": {
    "collapsed": false,
    "pycharm": {
     "name": "#%%\n"
    }
   }
  },
  {
   "cell_type": "code",
   "execution_count": 66,
   "outputs": [
    {
     "name": "stdout",
     "output_type": "stream",
     "text": [
      "Title\n",
      "Paper\n",
      "$1.1\n",
      "$1\n",
      "$1.2\n",
      "Abstract\n",
      "$2.1\n",
      "$2\n",
      "$2.2\n",
      "\n"
     ]
    }
   ],
   "source": [
    "print(tree)\n",
    "\n",
    "\n"
   ],
   "metadata": {
    "collapsed": false,
    "pycharm": {
     "name": "#%%\n"
    }
   }
  },
  {
   "cell_type": "code",
   "execution_count": 69,
   "outputs": [],
   "source": [
    "class PreorderPrintIndentedTour(EulerTour):\n",
    "\n",
    "    def hook_previsit(self, node, depth, path):\n",
    "        print(\" \" * 2 * depth, node.element)\n"
   ],
   "metadata": {
    "collapsed": false,
    "pycharm": {
     "name": "#%%\n"
    }
   }
  },
  {
   "cell_type": "code",
   "execution_count": 70,
   "outputs": [],
   "source": [
    "tour = PreorderPrintIndentedTour(tree)"
   ],
   "metadata": {
    "collapsed": false,
    "pycharm": {
     "name": "#%%\n"
    }
   }
  },
  {
   "cell_type": "code",
   "execution_count": 71,
   "outputs": [
    {
     "name": "stdout",
     "output_type": "stream",
     "text": [
      " Paper\n",
      "   Title\n",
      "   Abstract\n",
      "     $1\n",
      "       $1.1\n",
      "       $1.2\n",
      "     $2\n",
      "       $2.1\n",
      "       $2.2\n"
     ]
    }
   ],
   "source": [
    "tour.execute()"
   ],
   "metadata": {
    "collapsed": false,
    "pycharm": {
     "name": "#%%\n"
    }
   }
  },
  {
   "cell_type": "code",
   "execution_count": 1,
   "outputs": [],
   "source": [
    "%load_ext autoreload\n",
    "%autoreload 2\n",
    "from data_structures.expression_tree import ExpressionTree\n",
    "from data_structures.ds3 import LinkedStack"
   ],
   "metadata": {
    "collapsed": false,
    "pycharm": {
     "name": "#%%\n"
    }
   }
  },
  {
   "cell_type": "code",
   "execution_count": 2,
   "outputs": [
    {
     "name": "stdout",
     "output_type": "stream",
     "text": [
      " k: (, False\n",
      " k: (, False\n",
      " k: (, False\n",
      " k: 3, False\n",
      " k: +, False\n",
      " k: 1, False\n",
      " k: ), True\n",
      " k: *, False\n",
      " k: 4, False\n",
      " k: ), True\n",
      " k: /, False\n",
      " k: (, False\n",
      " k: (, False\n",
      " k: 9, False\n",
      " k: -, False\n",
      " k: 5, False\n",
      " k: ), True\n",
      " k: +, False\n",
      " k: 2, False\n",
      " k: ), True\n",
      " k: ), True\n"
     ]
    }
   ],
   "source": [
    "def build_expression(tokens):\n",
    "    s = LinkedStack()\n",
    "    for k in tokens:\n",
    "        print(f\" k: {k}, {k.strip() == ')'}\")\n",
    "        k = k.strip()\n",
    "        if k == '':\n",
    "            continue\n",
    "\n",
    "        if k != ')':\n",
    "            s.push(k)\n",
    "        else:\n",
    "            right, op, left,_ = [s.pop() for _ in range(4)]\n",
    "            if not isinstance(left, ExpressionTree):\n",
    "                left = ExpressionTree(left)\n",
    "            if not isinstance(right, ExpressionTree):\n",
    "                right =  ExpressionTree(right)\n",
    "            exp_tree = ExpressionTree(op, left, right)\n",
    "            s.push(exp_tree)\n",
    "\n",
    "    res = s.pop()\n",
    "    assert s.is_empty()\n",
    "\n",
    "    return res\n",
    "tree = build_expression(\"(((3+1)*4)/((9-5)+2))\")"
   ],
   "metadata": {
    "collapsed": false,
    "pycharm": {
     "name": "#%%\n"
    }
   }
  },
  {
   "cell_type": "code",
   "execution_count": 3,
   "outputs": [
    {
     "data": {
      "text/plain": "2.6666666666666665"
     },
     "execution_count": 3,
     "metadata": {},
     "output_type": "execute_result"
    }
   ],
   "source": [
    "tree.evaluate()"
   ],
   "metadata": {
    "collapsed": false,
    "pycharm": {
     "name": "#%%\n"
    }
   }
  },
  {
   "cell_type": "code",
   "execution_count": 4,
   "outputs": [
    {
     "name": "stdout",
     "output_type": "stream",
     "text": [
      "          /\n",
      "\n",
      "\n",
      "      *             +\n",
      "\n",
      "   +       4           -               2\n",
      "\n",
      " 3   1     9       5"
     ]
    }
   ],
   "source": [
    "tree.draw()"
   ],
   "metadata": {
    "collapsed": false,
    "pycharm": {
     "name": "#%%\n"
    }
   }
  },
  {
   "cell_type": "code",
   "execution_count": 9,
   "outputs": [
    {
     "name": "stderr",
     "output_type": "stream",
     "text": [
      "[autoreload of data_structures.ds3 failed: Traceback (most recent call last):\n",
      "  File \"/home/mtb/env/lib/python3.8/site-packages/IPython/extensions/autoreload.py\", line 245, in check\n",
      "    superreload(m, reload, self.old_objects)\n",
      "  File \"/home/mtb/env/lib/python3.8/site-packages/IPython/extensions/autoreload.py\", line 410, in superreload\n",
      "    update_generic(old_obj, new_obj)\n",
      "  File \"/home/mtb/env/lib/python3.8/site-packages/IPython/extensions/autoreload.py\", line 347, in update_generic\n",
      "    update(a, b)\n",
      "  File \"/home/mtb/env/lib/python3.8/site-packages/IPython/extensions/autoreload.py\", line 302, in update_class\n",
      "    if update_generic(old_obj, new_obj): continue\n",
      "  File \"/home/mtb/env/lib/python3.8/site-packages/IPython/extensions/autoreload.py\", line 347, in update_generic\n",
      "    update(a, b)\n",
      "  File \"/home/mtb/env/lib/python3.8/site-packages/IPython/extensions/autoreload.py\", line 317, in update_class\n",
      "    update_instances(old, new)\n",
      "  File \"/home/mtb/env/lib/python3.8/site-packages/IPython/extensions/autoreload.py\", line 280, in update_instances\n",
      "    ref.__class__ = new\n",
      "TypeError: __class__ assignment: 'Node' object layout differs from 'Node'\n",
      "]\n"
     ]
    }
   ],
   "source": [
    "from data_structures.ds3 import LinkedBinaryTree\n",
    "\n",
    "def is_ismorphic(t1, t2):\n",
    "    \"\"\"\n",
    "    Two ordered trees T\u0002 and T\u0002\u0002 are said to be isomorphic if one of the following\n",
    "    holds:\n",
    "    • Both T\u0002 and T\u0002\u0002 are empty.\n",
    "    • The roots of T\u0002 and T\u0002\u0002 have the same number k ≥ 0 of subtrees, and\n",
    "    the ith such subtree of T\u0002 is isomorphic to the ith such subtree of T\u0002\u0002\n",
    "    for i = 1, . . . ,k.\n",
    "    Design an algorithm that tests whether two given ordered trees are isomorphic.\n",
    "    What is the running time of your algorithm?\n",
    "\n",
    "    \"\"\"\n",
    "    pass\n",
    "\n",
    "\n"
   ],
   "metadata": {
    "collapsed": false,
    "pycharm": {
     "name": "#%%\n"
    }
   }
  },
  {
   "cell_type": "code",
   "execution_count": 6,
   "outputs": [],
   "source": [
    "root = tree.get_root()"
   ],
   "metadata": {
    "collapsed": false,
    "pycharm": {
     "name": "#%%\n"
    }
   }
  },
  {
   "cell_type": "code",
   "execution_count": null,
   "outputs": [],
   "source": [
    "%load_ext autoreload\n",
    "%autoreload 2"
   ],
   "metadata": {
    "collapsed": false,
    "pycharm": {
     "name": "#%%\n"
    }
   }
  },
  {
   "cell_type": "code",
   "execution_count": 2,
   "outputs": [],
   "source": [
    "\n",
    "def lowest_common_ancestor(T, node1, node2, h1= None, h2=None):\n",
    "    if node1 == node2:\n",
    "        return node1\n",
    "    if h1 is None:\n",
    "        h1 = T.depth(node1)\n",
    "        h2 = T.depth(node2)\n",
    "    if h1 > h2:\n",
    "        return lowest_common_ancestor(T, node1.parent, node2, h1 - 1, h2)\n",
    "    elif h2 > h1:\n",
    "        return lowest_common_ancestor(T, node1, node2.parent, h1, h2 - 1)\n",
    "    else:\n",
    "        if node1.parent == node2.parent:\n",
    "            return node1.parent\n",
    "        return lowest_common_ancestor(node1.parent, node2.parent, h1-1, h2-1)"
   ],
   "metadata": {
    "collapsed": false,
    "pycharm": {
     "name": "#%%\n"
    }
   }
  },
  {
   "cell_type": "code",
   "execution_count": null,
   "outputs": [],
   "source": [],
   "metadata": {
    "collapsed": false,
    "pycharm": {
     "name": "#%%\n"
    }
   }
  }
 ],
 "metadata": {
  "kernelspec": {
   "display_name": "Python 3",
   "language": "python",
   "name": "python3"
  },
  "language_info": {
   "codemirror_mode": {
    "name": "ipython",
    "version": 2
   },
   "file_extension": ".py",
   "mimetype": "text/x-python",
   "name": "python",
   "nbconvert_exporter": "python",
   "pygments_lexer": "ipython2",
   "version": "2.7.6"
  }
 },
 "nbformat": 4,
 "nbformat_minor": 0
}