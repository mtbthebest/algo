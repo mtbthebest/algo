{
 "cells": [
  {
   "cell_type": "code",
   "execution_count": 3,
   "metadata": {
    "collapsed": true
   },
   "outputs": [
    {
     "name": "stdout",
     "output_type": "stream",
     "text": [
      "The autoreload extension is already loaded. To reload it, use:\n",
      "  %reload_ext autoreload\n"
     ]
    }
   ],
   "source": [
    "%load_ext autoreload\n",
    "%autoreload 2\n",
    "from data_structures.container import Container"
   ]
  },
  {
   "cell_type": "code",
   "execution_count": 5,
   "outputs": [
    {
     "name": "stdout",
     "output_type": "stream",
     "text": [
      "None\n",
      "2\n"
     ]
    }
   ],
   "source": [
    "class BitVector:\n",
    "\n",
    "    def __init__(self, maxlength):\n",
    "        self.vector = [0 for _ in range(maxlength)]\n",
    "\n",
    "    def insert(self, k):\n",
    "        self.vector[k] = 1\n",
    "\n",
    "    def search(self, k):\n",
    "        if self.vector[k] != 0:\n",
    "            return k\n",
    "        return None\n",
    "\n",
    "    def delete(self, x):\n",
    "        self.vector[x] = 0\n",
    "\n",
    "\n",
    "V = BitVector(10)\n",
    "V.insert(4)\n",
    "V.insert(3)\n",
    "V.insert(2)\n",
    "V.insert(2)\n",
    "print(V.search(1))\n",
    "print(V.search(2))"
   ],
   "metadata": {
    "collapsed": false,
    "pycharm": {
     "name": "#%%\n"
    }
   }
  },
  {
   "cell_type": "code",
   "execution_count": null,
   "outputs": [],
   "source": [
    "\n"
   ],
   "metadata": {
    "collapsed": false,
    "pycharm": {
     "name": "#%%\n"
    }
   }
  }
 ],
 "metadata": {
  "kernelspec": {
   "display_name": "Python 3",
   "language": "python",
   "name": "python3"
  },
  "language_info": {
   "codemirror_mode": {
    "name": "ipython",
    "version": 2
   },
   "file_extension": ".py",
   "mimetype": "text/x-python",
   "name": "python",
   "nbconvert_exporter": "python",
   "pygments_lexer": "ipython2",
   "version": "2.7.6"
  }
 },
 "nbformat": 4,
 "nbformat_minor": 0
}