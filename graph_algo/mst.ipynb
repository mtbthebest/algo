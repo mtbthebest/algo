{
 "cells": [
  {
   "cell_type": "code",
   "execution_count": 2,
   "metadata": {
    "collapsed": true
   },
   "outputs": [],
   "source": [
    "%load_ext autoreload\n",
    "%autoreload 2\n",
    "import copy\n",
    "from graph_algo.adt import LinkedGraph as LG, MatrixGraph as MG, Vertex, Edge, MapGraph\n",
    "import  math\n",
    "from data_structures import LinkedQueue, LinkedStack, SortedPriorityQueue\n",
    "from graph_algo.union_find import UF"
   ]
  },
  {
   "cell_type": "code",
   "execution_count": 3,
   "outputs": [],
   "source": [
    "def make_graph(string, max_vertices, directed=False):\n",
    "    g = MapGraph(directed=directed)\n",
    "    vertices = [Vertex(i) for i in range(max_vertices + 1)]\n",
    "    for uv in string.split(\" \"):\n",
    "        u, v, w = map(lambda x: int(x[1]) if x[0]<2 else float(x[1]),\n",
    "                   enumerate(uv.split(\"-\")))\n",
    "        g.insert_edge(Edge(vertices[u], vertices[v], w))\n",
    "    return g\n"
   ],
   "metadata": {
    "collapsed": false,
    "pycharm": {
     "name": "#%%\n"
    }
   }
  },
  {
   "cell_type": "code",
   "execution_count": 4,
   "outputs": [],
   "source": [
    "\n",
    "\n",
    "g = make_graph(\"0-6-0.51 0-1-0.32 0-2-0.29 4-3-0.34 5-3-0.18 \"\n",
    "               \"7-4-0.46 5-4-0.4 0-5-0.6 6-4-0.51 7-0-0.31 7-6-0.25 7-1-0.21\", 7)"
   ],
   "metadata": {
    "collapsed": false,
    "pycharm": {
     "name": "#%%\n"
    }
   }
  },
  {
   "cell_type": "code",
   "execution_count": 5,
   "outputs": [
    {
     "data": {
      "text/plain": "Edge(Vertex(value=0), Vertex(value=1), 0.32)\nEdge(Vertex(value=0), Vertex(value=2), 0.29)\nEdge(Vertex(value=0), Vertex(value=5), 0.6)\nEdge(Vertex(value=0), Vertex(value=6), 0.51)\nEdge(Vertex(value=4), Vertex(value=3), 0.34)\nEdge(Vertex(value=5), Vertex(value=3), 0.18)\nEdge(Vertex(value=5), Vertex(value=4), 0.4)\nEdge(Vertex(value=6), Vertex(value=4), 0.51)\nEdge(Vertex(value=7), Vertex(value=0), 0.31)\nEdge(Vertex(value=7), Vertex(value=1), 0.21)\nEdge(Vertex(value=7), Vertex(value=4), 0.46)\nEdge(Vertex(value=7), Vertex(value=6), 0.25)"
     },
     "execution_count": 5,
     "metadata": {},
     "output_type": "execute_result"
    }
   ],
   "source": [
    "g"
   ],
   "metadata": {
    "collapsed": false,
    "pycharm": {
     "name": "#%%\n"
    }
   }
  },
  {
   "cell_type": "code",
   "execution_count": 6,
   "outputs": [
    {
     "name": "stdout",
     "output_type": "stream",
     "text": [
      "0 Edge(Vertex(value=0), Vertex(value=1), 0.32) 0.32\n",
      "1 Edge(Vertex(value=0), Vertex(value=2), 0.29) 0.29\n",
      "2 Edge(Vertex(value=0), Vertex(value=5), 0.6) 0.6\n",
      "3 Edge(Vertex(value=0), Vertex(value=6), 0.51) 0.51\n",
      "4 Edge(Vertex(value=4), Vertex(value=3), 0.34) 0.34\n",
      "5 Edge(Vertex(value=5), Vertex(value=3), 0.18) 0.18\n",
      "6 Edge(Vertex(value=5), Vertex(value=4), 0.4) 0.4\n",
      "7 Edge(Vertex(value=6), Vertex(value=4), 0.51) 0.51\n",
      "8 Edge(Vertex(value=7), Vertex(value=0), 0.31) 0.31\n",
      "9 Edge(Vertex(value=7), Vertex(value=1), 0.21) 0.21\n",
      "10 Edge(Vertex(value=7), Vertex(value=4), 0.46) 0.46\n",
      "11 Edge(Vertex(value=7), Vertex(value=6), 0.25) 0.25\n"
     ]
    }
   ],
   "source": [
    "for i, edge in enumerate(g.edges):\n",
    "    print(i, edge, edge.weight)"
   ],
   "metadata": {
    "collapsed": false,
    "pycharm": {
     "name": "#%%\n"
    }
   }
  },
  {
   "cell_type": "code",
   "execution_count": 7,
   "outputs": [
    {
     "name": "stdout",
     "output_type": "stream",
     "text": [
      "0 Vertex(value=0)\n",
      "0.32 Vertex(value=1)\n",
      "0.29 Vertex(value=2)\n",
      "0.6 Vertex(value=5)\n",
      "0.51 Vertex(value=6)\n",
      "0.31 Vertex(value=7)\n",
      "0.46 Vertex(value=4)\n",
      "0.34 Vertex(value=3)\n"
     ]
    }
   ],
   "source": [
    "\n",
    "def find_prim_mst(g):\n",
    "    \"Prim mst algorithm\"\n",
    "\n",
    "    root = None\n",
    "    for v in g.vertices:\n",
    "        v.is_visited = False\n",
    "        v.parent = None\n",
    "        v.mst_weight = float(\"inf\")\n",
    "        if root is None:\n",
    "            v.mst_weight = 0\n",
    "            root = v\n",
    "\n",
    "    q = SortedPriorityQueue()\n",
    "    q.add(root.mst_weight, root)\n",
    "    mst = MapGraph()\n",
    "    while not q.is_empty():\n",
    "        _, vertex = q.remove_min()\n",
    "        vertex.is_visited = True\n",
    "        if vertex.parent is not None:\n",
    "            mst.insert_edge(Edge(vertex.parent, vertex, vertex.mst_weight))\n",
    "        for adj in g.adjacent(vertex):\n",
    "            if not adj.is_visited:\n",
    "                edge = g.get_edge(vertex, adj)\n",
    "                if not q.contains(adj):\n",
    "                    adj.parent = vertex\n",
    "                    adj.mst_weight = edge.weight\n",
    "                    q.add(adj.mst_weight, adj)\n",
    "\n",
    "                elif edge.weight < adj.mst_weight:\n",
    "                    assert adj.mst_weight < float(\"inf\")\n",
    "                    adj.mst_weight = edge.weight\n",
    "                    adj.parent = vertex\n",
    "\n",
    "    return mst\n",
    "\n",
    "        \n",
    "    \n",
    "min_span_tree = find_prim_mst(copy.deepcopy(g))"
   ],
   "metadata": {
    "collapsed": false,
    "pycharm": {
     "name": "#%%\n"
    }
   }
  },
  {
   "cell_type": "code",
   "execution_count": 8,
   "outputs": [
    {
     "data": {
      "text/plain": "Edge(Vertex(value=0), Vertex(value=2), 0.29)\nEdge(Vertex(value=0), Vertex(value=7), 0.31)\nEdge(Vertex(value=3), Vertex(value=5), 0.18)\nEdge(Vertex(value=4), Vertex(value=3), 0.34)\nEdge(Vertex(value=7), Vertex(value=1), 0.21)\nEdge(Vertex(value=7), Vertex(value=4), 0.46)\nEdge(Vertex(value=7), Vertex(value=6), 0.25)"
     },
     "execution_count": 8,
     "metadata": {},
     "output_type": "execute_result"
    }
   ],
   "source": [
    "min_span_tree"
   ],
   "metadata": {
    "collapsed": false,
    "pycharm": {
     "name": "#%%\n"
    }
   }
  },
  {
   "cell_type": "code",
   "execution_count": 9,
   "outputs": [],
   "source": [
    "def find_krus_mst(g):\n",
    "    \"Kuskal mst algorithm\"\n",
    "    edges = list(g.edges)\n",
    "    edges = sorted(edges, key=lambda edge: edge.weight)\n",
    "    mst = MapGraph()\n",
    "    uf = UF(g.vertices)\n",
    "    for edge in edges:\n",
    "        if mst.count_edges() == g.count_vertices() - 1:\n",
    "            break\n",
    "        head, tail = edge\n",
    "        if uf.find(head) != uf.find(tail):\n",
    "            uf.union(head, tail)\n",
    "            mst.insert_edge(edge)\n",
    "            head.mst, tail.mst = True, True\n",
    "\n",
    "    return mst\n",
    "min_span_tree = find_krus_mst(make_graph(\"0-6-0.51 0-1-0.32 0-2-0.29 4-3-0.34 5-3-0.18 \"\n",
    "               \"7-4-0.46 5-4-0.4 0-5-0.6 6-4-0.51 7-0-0.31 7-6-0.25 7-1-0.21\", 7))"
   ],
   "metadata": {
    "collapsed": false,
    "pycharm": {
     "name": "#%%\n"
    }
   }
  },
  {
   "cell_type": "code",
   "execution_count": 10,
   "outputs": [
    {
     "data": {
      "text/plain": "Edge(Vertex(value=0), Vertex(value=2), 0.29)\nEdge(Vertex(value=4), Vertex(value=3), 0.34)\nEdge(Vertex(value=5), Vertex(value=3), 0.18)\nEdge(Vertex(value=7), Vertex(value=0), 0.31)\nEdge(Vertex(value=7), Vertex(value=1), 0.21)\nEdge(Vertex(value=7), Vertex(value=4), 0.46)\nEdge(Vertex(value=7), Vertex(value=6), 0.25)"
     },
     "execution_count": 10,
     "metadata": {},
     "output_type": "execute_result"
    }
   ],
   "source": [
    "min_span_tree"
   ],
   "metadata": {
    "collapsed": false,
    "pycharm": {
     "name": "#%%\n"
    }
   }
  },
  {
   "cell_type": "code",
   "execution_count": 10,
   "outputs": [],
   "source": [
    "\n"
   ],
   "metadata": {
    "collapsed": false,
    "pycharm": {
     "name": "#%%\n"
    }
   }
  }
 ],
 "metadata": {
  "kernelspec": {
   "display_name": "Python 3",
   "language": "python",
   "name": "python3"
  },
  "language_info": {
   "codemirror_mode": {
    "name": "ipython",
    "version": 2
   },
   "file_extension": ".py",
   "mimetype": "text/x-python",
   "name": "python",
   "nbconvert_exporter": "python",
   "pygments_lexer": "ipython2",
   "version": "2.7.6"
  }
 },
 "nbformat": 4,
 "nbformat_minor": 0
}