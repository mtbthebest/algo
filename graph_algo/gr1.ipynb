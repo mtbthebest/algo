{
 "cells": [
  {
   "cell_type": "code",
   "execution_count": 1,
   "outputs": [],
   "source": [
    "%load_ext autoreload\n",
    "%autoreload 2\n",
    "import copy\n",
    "from graph_algo.adt import LinkedGraph as LG, MatrixGraph as MG, Vertex, Edge, MapGraph"
   ],
   "metadata": {
    "collapsed": false,
    "pycharm": {
     "name": "#%%\n"
    }
   }
  },
  {
   "cell_type": "code",
   "execution_count": 2,
   "outputs": [
    {
     "name": "stdout",
     "output_type": "stream",
     "text": [
      "  0 1 2 3 4 5 6 7 \n",
      "0 0 1 0 0 0 0 0 0 \n",
      "1 1 0 0 0 0 0 0 0 \n",
      "2 0 0 0 1 0 0 0 0 \n",
      "3 0 0 1 0 0 0 0 0 \n",
      "4 0 0 0 0 0 0 1 0 \n",
      "5 0 0 0 0 0 0 0 0 \n",
      "6 0 0 0 0 1 0 0 0 \n",
      "7 0 0 0 0 0 0 0 0 \n"
     ]
    },
    {
     "data": {
      "text/plain": ""
     },
     "execution_count": 2,
     "metadata": {},
     "output_type": "execute_result"
    }
   ],
   "source": [
    "g = MG()\n",
    "g.insert_edge(Edge(Vertex(0), Vertex(1)))\n",
    "g.insert_edge(Edge(Vertex(6), Vertex(4)))\n",
    "g.insert_edge(Edge(Vertex(3), Vertex(2)))\n",
    "g"
   ],
   "metadata": {
    "collapsed": false,
    "pycharm": {
     "name": "#%%\n"
    }
   }
  },
  {
   "cell_type": "code",
   "execution_count": 3,
   "outputs": [
    {
     "name": "stdout",
     "output_type": "stream",
     "text": [
      "Edge(Vertex(value=0), Vertex(value=1))\n",
      "Edge(Vertex(value=6), Vertex(value=4))\n",
      "Edge(Vertex(value=3), Vertex(value=2))\n"
     ]
    },
    {
     "data": {
      "text/plain": "[Vertex(value=0),\n Vertex(value=1),\n Vertex(value=6),\n Vertex(value=4),\n Vertex(value=3),\n Vertex(value=2)]"
     },
     "execution_count": 3,
     "metadata": {},
     "output_type": "execute_result"
    }
   ],
   "source": [
    "list(g.vertices)"
   ],
   "metadata": {
    "collapsed": false,
    "pycharm": {
     "name": "#%%\n"
    }
   }
  },
  {
   "cell_type": "code",
   "execution_count": 4,
   "outputs": [
    {
     "data": {
      "text/plain": "[Edge(Vertex(value=0), Vertex(value=1)),\n Edge(Vertex(value=6), Vertex(value=4)),\n Edge(Vertex(value=3), Vertex(value=2))]"
     },
     "execution_count": 4,
     "metadata": {},
     "output_type": "execute_result"
    }
   ],
   "source": [
    "list(g.edges)"
   ],
   "metadata": {
    "collapsed": false,
    "pycharm": {
     "name": "#%%\n"
    }
   }
  },
  {
   "cell_type": "code",
   "execution_count": 5,
   "outputs": [
    {
     "name": "stdout",
     "output_type": "stream",
     "text": [
      "  0 1 2 3 4 5 6 7 \n",
      "0 0 1 0 0 0 0 0 0 \n",
      "1 1 0 0 0 0 0 0 0 \n",
      "2 0 0 0 1 0 0 0 0 \n",
      "3 0 0 1 0 0 0 0 0 \n",
      "4 0 0 0 0 0 0 0 0 \n",
      "5 0 0 0 0 0 0 0 0 \n",
      "6 0 0 0 0 0 0 0 0 \n",
      "7 0 0 0 0 0 0 0 0 \n"
     ]
    },
    {
     "data": {
      "text/plain": ""
     },
     "execution_count": 5,
     "metadata": {},
     "output_type": "execute_result"
    }
   ],
   "source": [
    "g.remove_edge(g.edges[1])\n",
    "g"
   ],
   "metadata": {
    "collapsed": false,
    "pycharm": {
     "name": "#%%\n"
    }
   }
  },
  {
   "cell_type": "code",
   "execution_count": 6,
   "outputs": [
    {
     "name": "stdout",
     "output_type": "stream",
     "text": [
      "0 1->2\n",
      "\n",
      "1 0\n",
      "\n",
      "2 0->3\n",
      "\n",
      "3 2\n",
      "\n",
      "4 6\n",
      "\n",
      "5 \n",
      "6 4\n",
      "\n",
      "7 \n"
     ]
    },
    {
     "data": {
      "text/plain": ""
     },
     "execution_count": 6,
     "metadata": {},
     "output_type": "execute_result"
    }
   ],
   "source": [
    "g = LG()\n",
    "g.insert_edge(Edge(Vertex(0), Vertex(1)))\n",
    "g.insert_edge(Edge(Vertex(0), Vertex(2)))\n",
    "g.insert_edge(Edge(Vertex(6), Vertex(4)))\n",
    "g.insert_edge(Edge(Vertex(3), Vertex(2)))\n",
    "g"
   ],
   "metadata": {
    "collapsed": false,
    "pycharm": {
     "name": "#%%\n"
    }
   }
  },
  {
   "cell_type": "code",
   "execution_count": 7,
   "outputs": [
    {
     "data": {
      "text/plain": "[Vertex(value=0),\n Vertex(value=1),\n Vertex(value=2),\n Vertex(value=3),\n Vertex(value=4),\n Vertex(value=6)]"
     },
     "execution_count": 7,
     "metadata": {},
     "output_type": "execute_result"
    }
   ],
   "source": [
    "g.vertices"
   ],
   "metadata": {
    "collapsed": false,
    "pycharm": {
     "name": "#%%\n"
    }
   }
  },
  {
   "cell_type": "code",
   "execution_count": 8,
   "outputs": [],
   "source": [
    "edges = list(g.edges)\n"
   ],
   "metadata": {
    "collapsed": false,
    "pycharm": {
     "name": "#%%\n"
    }
   }
  },
  {
   "cell_type": "code",
   "execution_count": 9,
   "outputs": [],
   "source": [
    "g.remove_edge(edges[-1])"
   ],
   "metadata": {
    "collapsed": false,
    "pycharm": {
     "name": "#%%\n"
    }
   }
  },
  {
   "cell_type": "code",
   "execution_count": 10,
   "outputs": [
    {
     "data": {
      "text/plain": "[(Vertex(value=0), Vertex(value=1)),\n (Vertex(value=0), Vertex(value=2)),\n (Vertex(value=2), Vertex(value=3))]"
     },
     "execution_count": 10,
     "metadata": {},
     "output_type": "execute_result"
    }
   ],
   "source": [
    "list(g.edges)"
   ],
   "metadata": {
    "collapsed": false,
    "pycharm": {
     "name": "#%%\n"
    }
   }
  },
  {
   "cell_type": "code",
   "execution_count": 11,
   "outputs": [
    {
     "name": "stdout",
     "output_type": "stream",
     "text": [
      "0 1->2\n",
      "\n",
      "1 0\n",
      "\n",
      "2 0->3\n",
      "\n",
      "3 2\n",
      "\n",
      "4 \n",
      "5 \n",
      "6 \n",
      "7 \n"
     ]
    },
    {
     "data": {
      "text/plain": ""
     },
     "execution_count": 11,
     "metadata": {},
     "output_type": "execute_result"
    }
   ],
   "source": [
    "g"
   ],
   "metadata": {
    "collapsed": false,
    "pycharm": {
     "name": "#%%\n"
    }
   }
  },
  {
   "cell_type": "code",
   "execution_count": 12,
   "outputs": [],
   "source": [
    "g = MapGraph()"
   ],
   "metadata": {
    "collapsed": false,
    "pycharm": {
     "name": "#%%\n"
    }
   }
  },
  {
   "cell_type": "code",
   "execution_count": 13,
   "outputs": [],
   "source": [
    "g.generate_graph(10, 5)"
   ],
   "metadata": {
    "collapsed": false,
    "pycharm": {
     "name": "#%%\n"
    }
   }
  },
  {
   "cell_type": "code",
   "execution_count": 14,
   "outputs": [
    {
     "data": {
      "text/plain": "[Vertex(value=0),\n Vertex(value=2),\n Vertex(value=7),\n Vertex(value=8),\n Vertex(value=9)]"
     },
     "execution_count": 14,
     "metadata": {},
     "output_type": "execute_result"
    }
   ],
   "source": [
    "list(g.vertices)"
   ],
   "metadata": {
    "collapsed": false,
    "pycharm": {
     "name": "#%%\n"
    }
   }
  },
  {
   "cell_type": "code",
   "execution_count": 15,
   "outputs": [
    {
     "data": {
      "text/plain": "[Edge(Vertex(value=7), Vertex(value=2)),\n Edge(Vertex(value=8), Vertex(value=0)),\n Edge(Vertex(value=9), Vertex(value=7))]"
     },
     "execution_count": 15,
     "metadata": {},
     "output_type": "execute_result"
    }
   ],
   "source": [
    "list(g.edges)"
   ],
   "metadata": {
    "collapsed": false,
    "pycharm": {
     "name": "#%%\n"
    }
   }
  },
  {
   "cell_type": "code",
   "execution_count": 16,
   "outputs": [
    {
     "data": {
      "text/plain": "Edge(Vertex(value=7), Vertex(value=2))\nEdge(Vertex(value=8), Vertex(value=0))\nEdge(Vertex(value=9), Vertex(value=7))"
     },
     "execution_count": 16,
     "metadata": {},
     "output_type": "execute_result"
    }
   ],
   "source": [
    "g"
   ],
   "metadata": {
    "collapsed": false,
    "pycharm": {
     "name": "#%%\n"
    }
   }
  },
  {
   "cell_type": "code",
   "execution_count": 17,
   "outputs": [
    {
     "name": "stdout",
     "output_type": "stream",
     "text": [
      "Adjacent to  Vertex(value=0) : \n",
      " [Vertex(value=8)]\n"
     ]
    }
   ],
   "source": [
    "edge = list(g.edges)[1]\n",
    "vertex = edge[1]\n",
    "print(\"Adjacent to \", vertex, \": \\n\", list(g.adjacent(vertex)))"
   ],
   "metadata": {
    "collapsed": false,
    "pycharm": {
     "name": "#%%\n"
    }
   }
  },
  {
   "cell_type": "code",
   "execution_count": 17,
   "outputs": [],
   "source": [],
   "metadata": {
    "collapsed": false,
    "pycharm": {
     "name": "#%%\n"
    }
   }
  },
  {
   "cell_type": "code",
   "execution_count": 18,
   "outputs": [],
   "source": [
    "def pathR_GRAPH():\n",
    "    g = MapGraph()\n",
    "    g.insert_edge(Edge(Vertex(0), Vertex(6)))\n",
    "    g.insert_edge(Edge(Vertex(0), Vertex(2)))\n",
    "    g.insert_edge(Edge(Vertex(0), Vertex(1)))\n",
    "    g.insert_edge(Edge(Vertex(0), Vertex(5)))\n",
    "    g.insert_edge(Edge(Vertex(1), Vertex(2)))\n",
    "    g.insert_edge(Edge(Vertex(3), Vertex(2)))\n",
    "    g.insert_edge(Edge(Vertex(4), Vertex(2)))\n",
    "    g.insert_edge(Edge(Vertex(4), Vertex(3)))\n",
    "    g.insert_edge(Edge(Vertex(4), Vertex(5)))\n",
    "    g.insert_edge(Edge(Vertex(4), Vertex(6)))\n",
    "\n",
    "    return g"
   ],
   "metadata": {
    "collapsed": false,
    "pycharm": {
     "name": "#%%\n"
    }
   }
  },
  {
   "cell_type": "code",
   "execution_count": 19,
   "outputs": [
    {
     "name": "stdout",
     "output_type": "stream",
     "text": [
      "[5, 6]\n",
      "[5, 6, 4]\n",
      "[5, 6, 4, 3]\n",
      "[5, 6, 4, 3, 4]\n",
      "[5, 6, 4, 3, 4, 2]\n",
      "[5, 6, 4, 3, 4, 2, 3]\n",
      "[5, 6, 4, 3, 4, 2, 3, 2]\n",
      "[5, 6, 4, 3, 4, 2, 3, 2, 1]\n",
      "[5, 6, 4, 3, 4, 2, 3, 2, 1, 2]\n",
      "[5, 6, 4, 3, 4, 2, 3, 2, 1, 2, 4]\n",
      "[5, 6, 4, 3, 4, 2, 3, 2, 1, 2, 4]\n",
      "[5, 6, 4, 3, 4, 2, 3, 2, 1, 2, 4, 0]\n",
      "[5, 6, 4, 3, 4, 2, 3, 2, 1, 2, 4, 0, 2]\n",
      "[5, 6, 4, 3, 4, 2, 3, 2, 1, 2, 4, 0, 2, 0]\n",
      "[5, 6, 4, 3, 4, 2, 3, 2, 1, 2, 4, 0, 2, 0, 1]\n",
      "[5, 6, 4, 3, 4, 2, 3, 2, 1, 2, 4, 0, 2, 0, 1, 0]\n"
     ]
    },
    {
     "data": {
      "text/plain": "(True, [5, 0, 1, 0, 2, 0, 4, 2, 1, 2, 3, 2, 4, 3, 4, 6])"
     },
     "execution_count": 19,
     "metadata": {},
     "output_type": "execute_result"
    }
   ],
   "source": [
    "def pathR(g, start, end, tour= None):\n",
    "    \"\"\"Simple path\"\"\"\n",
    "\n",
    "    if not (isinstance(start, Vertex) and isinstance(end, Vertex)):\n",
    "        raise ValueError\n",
    "    if tour is None:\n",
    "        tour= [start.value]\n",
    "\n",
    "    if start == end:\n",
    "        tour.append(end.value)\n",
    "        return True\n",
    "\n",
    "    if hasattr(start, \"visited\") and start.visited == True:\n",
    "        return False\n",
    "\n",
    "    adj_start = list(g.adjacent(start))\n",
    "    start.visited = True\n",
    "    for vertex in adj_start:\n",
    "        has_path = pathR(g, vertex, end, tour)\n",
    "        if has_path:\n",
    "            print(tour)\n",
    "            if tour[0]== start.value:\n",
    "                tour = [tour[0]] +list(reversed(tour[1:]))\n",
    "                return True, tour\n",
    "            tour.append(start.value)\n",
    "            return True\n",
    "    return False\n",
    "\n",
    "\n",
    "pathR(pathR_GRAPH(), Vertex(5), Vertex(6))"
   ],
   "metadata": {
    "collapsed": false,
    "pycharm": {
     "name": "#%%\n"
    }
   }
  },
  {
   "cell_type": "code",
   "execution_count": 20,
   "outputs": [
    {
     "data": {
      "text/plain": "[Vertex(value=0),\n Vertex(value=1),\n Vertex(value=2),\n Vertex(value=3),\n Vertex(value=5),\n Vertex(value=4),\n Vertex(value=5)]"
     },
     "execution_count": 20,
     "metadata": {},
     "output_type": "execute_result"
    }
   ],
   "source": [
    "def pathH_GRAPH():\n",
    "    g = MapGraph()\n",
    "\n",
    "    vertices = [Vertex(i) for i in range(7)]\n",
    "    g.insert_edge(Edge(vertices[0], vertices[6]))\n",
    "    g.insert_edge(Edge(vertices[0], vertices[2]))\n",
    "    g.insert_edge(Edge(vertices[0], vertices[1]))\n",
    "    g.insert_edge(Edge(vertices[0], vertices[5]))\n",
    "    g.insert_edge(Edge(vertices[1], vertices[2]))\n",
    "    g.insert_edge(Edge(vertices[1], vertices[3]))\n",
    "    g.insert_edge(Edge(vertices[3], vertices[2]))\n",
    "    g.insert_edge(Edge(vertices[3], vertices[5]))\n",
    "    g.insert_edge(Edge(vertices[4], vertices[2]))\n",
    "    g.insert_edge(Edge(vertices[4], vertices[3]))\n",
    "    g.insert_edge(Edge(vertices[4], vertices[5]))\n",
    "    g.insert_edge(Edge(vertices[4], vertices[6]))\n",
    "\n",
    "    return g\n",
    "def pathH(g, start, end, tour=None):\n",
    "    \"\"\"Hamilton path\n",
    "    Given two vertices, is there a simple path connecting them that visits\n",
    "    every vertex in the graph exactly once? If the path is from a vertex back to itself, this\n",
    "    problem is known as the Hamilton tour problem. Is there a cycle that visits every vertex\n",
    "    in the graph exactly once?\n",
    "    \"\"\"\n",
    "    if not (isinstance(start, Vertex) and isinstance(end, Vertex)):\n",
    "        raise ValueError\n",
    "    tour = [] if tour is None else tour\n",
    "    if start == end:\n",
    "        tour.append(end)\n",
    "        if len(tour) == g.count_vertices():\n",
    "            return True\n",
    "        return False\n",
    "    if hasattr(start, \"visited\") and start.visited == True:\n",
    "        return False\n",
    "\n",
    "    start.visited = True\n",
    "    tour.append(start)\n",
    "    for vertex in g.adjacent(start):\n",
    "        if not hasattr(vertex, \"visited\"):\n",
    "            has_path = pathH(g, vertex, end, tour)\n",
    "            if has_path:\n",
    "                return True if tour and tour[0] != start else tour\n",
    "    tour.pop()\n",
    "    return False\n",
    "\n",
    "\n",
    "g =  pathH_GRAPH()\n",
    "vertices = list(g.vertices)\n",
    "pathH(g, vertices[0], vertices[-2])\n"
   ],
   "metadata": {
    "collapsed": false,
    "pycharm": {
     "name": "#%%\n"
    }
   }
  },
  {
   "cell_type": "code",
   "execution_count": 23,
   "outputs": [
    {
     "name": "stdout",
     "output_type": "stream",
     "text": [
      "\n",
      "[]\n"
     ]
    },
    {
     "data": {
      "text/plain": "([Edge(Vertex(value=0), Vertex(value=1)),\n  Edge(Vertex(value=1), Vertex(value=2)),\n  Edge(Vertex(value=0), Vertex(value=2)),\n  Edge(Vertex(value=0), Vertex(value=5)),\n  Edge(Vertex(value=4), Vertex(value=5)),\n  Edge(Vertex(value=2), Vertex(value=4)),\n  Edge(Vertex(value=2), Vertex(value=3)),\n  Edge(Vertex(value=3), Vertex(value=4)),\n  Edge(Vertex(value=4), Vertex(value=6)),\n  Edge(Vertex(value=0), Vertex(value=6))],\n True)"
     },
     "execution_count": 23,
     "metadata": {},
     "output_type": "execute_result"
    }
   ],
   "source": [
    "def graphEulerSample():\n",
    "    g = MapGraph()\n",
    "\n",
    "    vertices = [Vertex(i) for i in range(7)]\n",
    "    g.insert_edge(Edge(vertices[0], vertices[1]))\n",
    "    g.insert_edge(Edge(vertices[0], vertices[2]))\n",
    "    g.insert_edge(Edge(vertices[0], vertices[5]))\n",
    "    g.insert_edge(Edge(vertices[0], vertices[6]))\n",
    "    g.insert_edge(Edge(vertices[1], vertices[2]))\n",
    "    g.insert_edge(Edge(vertices[2], vertices[3]))\n",
    "    g.insert_edge(Edge(vertices[2], vertices[4], ))\n",
    "    g.insert_edge(Edge( vertices[3], vertices[4],))\n",
    "    g.insert_edge(Edge(vertices[4], vertices[5]))\n",
    "    g.insert_edge(Edge(vertices[4], vertices[6]))\n",
    "    # g.insert_edge(Edge(vertices[1], vertices[6]))\n",
    "\n",
    "    return g\n",
    "\n",
    "\n",
    "def get_euler_path(g, start, tour=None):\n",
    "    \"\"\"\n",
    "    A graph has a Euler path if and only if it is connected and exactly two of its\n",
    "    vertices are of odd degree\n",
    "    \"\"\"\n",
    "    if tour is None:\n",
    "        gvert_odd = list(filter(lambda l: l % 2 == 1,\n",
    "                           map(lambda v: len(list(g.adjacent(v))), vertices))\n",
    "                           )\n",
    "        # len 2 for euler path and len  0 for euler tour \n",
    "        if len(gvert_odd) != 2 and len(gvert_odd) != 0:\n",
    "            return False\n",
    "\n",
    "    tour = [] if tour is None else tour\n",
    "    for adj in g.adjacent(start):\n",
    "        edge = g.get_edge(start, adj)\n",
    "        if hasattr(edge, \"traversed\") and edge.traversed == True:\n",
    "            continue\n",
    "        edge.traversed = True\n",
    "        tour.append(edge)\n",
    "        is_path = get_euler_path(g, adj, tour)\n",
    "        if not is_path:\n",
    "            tour.remove(edge)\n",
    "            edge.traversed = False\n",
    "            return False\n",
    "        return is_path\n",
    "\n",
    "    if len(tour) == g.count_edges():\n",
    "        return tour, True\n",
    "    return False\n",
    "    \n",
    "g =  graphEulerSample()\n",
    "vertices = list(g.vertices)\n",
    "get_euler_path(copy.deepcopy(g), vertices[0])"
   ],
   "metadata": {
    "collapsed": false,
    "pycharm": {
     "name": "#%%\n"
    }
   }
  },
  {
   "cell_type": "code",
   "execution_count": null,
   "outputs": [],
   "source": [],
   "metadata": {
    "collapsed": false,
    "pycharm": {
     "name": "#%%\n"
    }
   }
  },
  {
   "cell_type": "code",
   "execution_count": null,
   "outputs": [],
   "source": [
    "\n"
   ],
   "metadata": {
    "collapsed": false,
    "pycharm": {
     "name": "#%%\n"
    }
   }
  }
 ],
 "metadata": {
  "kernelspec": {
   "display_name": "Python 3",
   "language": "python",
   "name": "python3"
  },
  "language_info": {
   "codemirror_mode": {
    "name": "ipython",
    "version": 2
   },
   "file_extension": ".py",
   "mimetype": "text/x-python",
   "name": "python",
   "nbconvert_exporter": "python",
   "pygments_lexer": "ipython2",
   "version": "2.7.6"
  }
 },
 "nbformat": 4,
 "nbformat_minor": 0
}