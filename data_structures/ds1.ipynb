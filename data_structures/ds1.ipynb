{
 "cells": [
  {
   "cell_type": "code",
   "execution_count": 59,
   "metadata": {
    "collapsed": true
   },
   "outputs": [],
   "source": [
    "import abc\n",
    "from abc import abstractmethod\n",
    "from collections import Sequence"
   ]
  },
  {
   "cell_type": "code",
   "execution_count": 60,
   "outputs": [],
   "source": [
    "class EmptyException(Exception):\n",
    "    pass\n",
    "\n",
    "class Stack(metaclass=abc.ABCMeta):\n",
    "\n",
    "    def __init__(self, data=None):\n",
    "        data = [] if data is None else data\n",
    "        assert isinstance(data, (Sequence,))\n",
    "        self._data = data\n",
    "\n",
    "    def push(self, e):\n",
    "        raise NotImplementedError\n",
    "\n",
    "    def pop(self):\n",
    "        raise NotImplementedError\n",
    "    \n",
    "    def top(self,):\n",
    "        raise NotImplementedError\n",
    "    \n",
    "    def is_empty(self):\n",
    "        return len(self._data) == 0\n",
    "    \n",
    "    def __len__(self):\n",
    "        return len(self._data)"
   ],
   "metadata": {
    "collapsed": false,
    "pycharm": {
     "name": "#%%\n"
    }
   }
  },
  {
   "cell_type": "code",
   "execution_count": 61,
   "outputs": [],
   "source": [
    "\n",
    "class ArrayStack(Stack):\n",
    "\n",
    "    def push(self, e):\n",
    "        self._data.append(e)\n",
    "\n",
    "    def top(self):\n",
    "        if self.is_empty():\n",
    "            raise EmptyException(\"The stack is empty\")\n",
    "        return self._data[-1]\n",
    "\n",
    "    def pop(self):\n",
    "        if self.is_empty():\n",
    "            raise EmptyException(\"The stack is empty\")\n",
    "        return self._data.pop()\n",
    "\n",
    "    def __repr__(self):\n",
    "        return str(list(reversed(self._data)))"
   ],
   "metadata": {
    "collapsed": false,
    "pycharm": {
     "name": "#%%\n"
    }
   }
  },
  {
   "cell_type": "code",
   "execution_count": 62,
   "outputs": [],
   "source": [
    "def is_matched(expr):\n",
    "    \"\"\"Algorithm for Matching Delimiters\"\"\"\n",
    "    left, right = \"({[\", \")}]\"\n",
    "    S = ArrayStack()\n",
    "    for c in expr:\n",
    "        if c in left:\n",
    "            S.push(c)\n",
    "        elif c in right:\n",
    "            if S.is_empty():\n",
    "                return False\n",
    "            if right.index(c) != left.index(S.pop()):\n",
    "                return False\n",
    "\n",
    "    return S.is_empty()\n"
   ],
   "metadata": {
    "collapsed": false,
    "pycharm": {
     "name": "#%%\n"
    }
   }
  },
  {
   "cell_type": "code",
   "execution_count": 63,
   "outputs": [
    {
     "name": "stdout",
     "output_type": "stream",
     "text": [
      "True\n"
     ]
    }
   ],
   "source": [
    "print(is_matched(\"[(5+x)-(y+z)]\"))"
   ],
   "metadata": {
    "collapsed": false,
    "pycharm": {
     "name": "#%%\n"
    }
   }
  },
  {
   "cell_type": "code",
   "execution_count": 64,
   "outputs": [
    {
     "name": "stdout",
     "output_type": "stream",
     "text": [
      "['body']\n",
      "['center', 'body']\n",
      "['h1', 'center', 'body']\n",
      "['p', 'body']\n",
      "['ol', 'body']\n",
      "['li', 'ol', 'body']\n",
      "['li', 'ol', 'body']\n",
      "['li', 'ol', 'body']\n"
     ]
    },
    {
     "data": {
      "text/plain": "True"
     },
     "execution_count": 64,
     "metadata": {},
     "output_type": "execute_result"
    }
   ],
   "source": [
    "def is_matched_html(raw: str):\n",
    "    S = ArrayStack()\n",
    "    j = raw.find(\"<\")\n",
    "    while j != -1:\n",
    "        k = raw.find(\">\", j+1)\n",
    "        if k == -1:\n",
    "            return False\n",
    "        tag = raw[j+1:k]\n",
    "        if not tag.startswith(\"/\"):\n",
    "            S.push(tag)\n",
    "            print(S)\n",
    "        else:\n",
    "            if S.is_empty():\n",
    "                return False \n",
    "            if tag[1:] != S.pop():\n",
    "                return False\n",
    "        \n",
    "        j = raw.find(\"<\", k+1)\n",
    "        \n",
    "    return S.is_empty()\n",
    "\n",
    "is_matched_html(\"\"\"\n",
    "<body>\n",
    "<center>\n",
    "<h1> The Little Boat </h1>\n",
    "</center>\n",
    "<p> The storm tossed the little\n",
    "boat like a cheap sneaker in an\n",
    "old washing machine. The three\n",
    "drunken fishermen were used to\n",
    "such treatment, of course, but\n",
    "not the tree salesman, who even as\n",
    "a stowaway now felt that he\n",
    "had overpaid for the voyage. </p>\n",
    "<ol>\n",
    "<li> Will the salesman die? </li>\n",
    "<li> What color is the boat? </li>\n",
    "<li> And what about Naomi? </li>\n",
    "</ol>\n",
    "</body>\n",
    "\n",
    "\n",
    "\"\"\")"
   ],
   "metadata": {
    "collapsed": false,
    "pycharm": {
     "name": "#%%\n"
    }
   }
  },
  {
   "cell_type": "code",
   "execution_count": 65,
   "outputs": [],
   "source": [
    "class Queue(abc.ABC):\n",
    "\n",
    "    def __init__(self, data=None):\n",
    "        data = [] if data is None else data\n",
    "        assert isinstance(data, (Sequence,))\n",
    "        self._data = data\n",
    "\n",
    "    def enqueue(self, e):\n",
    "        raise NotImplementedError\n",
    "\n",
    "    def dequeue(self):\n",
    "        raise NotImplementedError\n",
    "\n",
    "    def __len__(self):\n",
    "        raise NotImplementedError\n",
    "\n",
    "    def first(self):\n",
    "        raise NotImplementedError\n",
    "\n",
    "    def is_empty(self):\n",
    "        raise NotImplementedError\n",
    "\n",
    "    def __repr__(self):\n",
    "        return str(self._data)\n"
   ],
   "metadata": {
    "collapsed": false,
    "pycharm": {
     "name": "#%%\n"
    }
   }
  },
  {
   "cell_type": "code",
   "execution_count": 66,
   "outputs": [],
   "source": [
    "class ArrayQueue(Queue):\n",
    "    DEFAULT_CAPACITY = 10\n",
    "\n",
    "    def __init__(self):\n",
    "        super().__init__( [None] * self.DEFAULT_CAPACITY)\n",
    "        self.size = 0\n",
    "        self.front = 0\n",
    "\n",
    "    def __len__(self):\n",
    "        return self.size\n",
    "\n",
    "    def is_empty(self):\n",
    "        return self.size == 0\n",
    "\n",
    "    def first(self):\n",
    "        if self.is_empty():\n",
    "            raise EmptyException(\"Queue is empty\")\n",
    "        return self._data[self.front]\n",
    "\n",
    "    def dequeue(self):\n",
    "        if self.is_empty():\n",
    "            raise EmptyException(\"Queue is empty\")\n",
    "        val = self._data[self.front]\n",
    "        self._data[self.front] = None\n",
    "        self.front += 1\n",
    "        self.front %= len(self._data)\n",
    "        self.size -= 1\n",
    "        if 0 < self.size < len(self._data) // 4:\n",
    "            self.resize(len(self._data) // 2)\n",
    "\n",
    "        return val\n",
    "\n",
    "    def enqueue(self, e):\n",
    "        if self.size == len(self._data):\n",
    "            self.resize(2 * self.size)\n",
    "        index = (self.front + self.size) % len(self._data)\n",
    "        self._data[index] = e\n",
    "        self.size += 1\n",
    "        \n",
    "        \n",
    "    def resize(self, capacity):\n",
    "        old = self._data\n",
    "        self._data = [None] * capacity\n",
    "        walk = self.front\n",
    "        for k in range(self.size):\n",
    "            self._data[k] = old[walk]\n",
    "            walk = (walk + 1) % len(old)\n",
    "        self.front = 0"
   ],
   "metadata": {
    "collapsed": false,
    "pycharm": {
     "name": "#%%\n"
    }
   }
  },
  {
   "cell_type": "code",
   "execution_count": 67,
   "outputs": [
    {
     "name": "stdout",
     "output_type": "stream",
     "text": [
      "1\n",
      "12\n",
      "12\n",
      "14\n",
      "2\n",
      "14\n"
     ]
    }
   ],
   "source": [
    "q = ArrayQueue()\n",
    "q.enqueue(1)\n",
    "q.enqueue(12)\n",
    "print(q.dequeue())\n",
    "print(q.dequeue())\n",
    "q.enqueue(12)\n",
    "q.enqueue(14)\n",
    "q.enqueue(2)\n",
    "print(q.dequeue())\n",
    "print(q.dequeue())\n",
    "print(q.dequeue())\n",
    "q.enqueue(14)\n",
    "\n",
    "print(q.dequeue())"
   ],
   "metadata": {
    "collapsed": false,
    "pycharm": {
     "name": "#%%\n"
    }
   }
  },
  {
   "cell_type": "code",
   "execution_count": 68,
   "outputs": [],
   "source": [
    "class Deque(Queue):\n",
    "    DEFAULT_CAPACITY = 10\n",
    "    def __init__(self):\n",
    "        super().__init__( [None] * self.DEFAULT_CAPACITY)\n",
    "        self.size = 0\n",
    "        self.front = 0\n",
    "        self.rear = 0\n",
    "\n",
    "    def __len__(self):\n",
    "        return self.size\n",
    "\n",
    "    def is_empty(self):\n",
    "        return self.size == 0\n",
    "\n",
    "    def add_front(self, e):\n",
    "        if self.is_empty():\n",
    "            self._data[self.front] = e\n",
    "        else:\n",
    "            if self.size == len(self._data):\n",
    "                self.resize(2 * self.size)\n",
    "            self.front = ((self.front + self.size - 1) % len(self._data) +\n",
    "                         (len(self._data) - self.size)) % len(self._data)\n",
    "            self._data[self.front] = e\n",
    "        self.size +=1\n",
    "\n",
    "    def add_rear(self, e):\n",
    "        if self.is_empty():\n",
    "            self._data[self.rear] = e\n",
    "        else:\n",
    "            if self.size == len(self._data):\n",
    "                self.resize(2 * self.size)\n",
    "            self.rear = (self.front + self.size) % len(self._data)\n",
    "            self._data[self.rear] = e\n",
    "        self.size +=1\n",
    "\n",
    "    def remove_front(self):\n",
    "        if self.is_empty():\n",
    "            raise EmptyException(\"Queue is empty\")\n",
    "        val = self._data[self.front]\n",
    "        self._data[self.front] = None\n",
    "        self.front += 1\n",
    "        self.front %= len(self._data)\n",
    "\n",
    "        self.size -= 1\n",
    "        if 0 < self.size < len(self._data) // 4:\n",
    "            self.resize(len(self._data) // 2)\n",
    "        return val\n",
    "\n",
    "    def remove_rear(self):\n",
    "        if self.is_empty():\n",
    "            raise EmptyException(\"Queue is empty\")\n",
    "        val = self._data[self.rear]\n",
    "        self._data[self.rear] = None\n",
    "        self.rear -= 1\n",
    "        self.rear %= len(self._data)\n",
    "        self.size -= 1\n",
    "        if 0 < self.size < len(self._data) // 4:\n",
    "            self.resize(len(self._data) // 2)\n",
    "        return val\n",
    "\n",
    "    def last(self):\n",
    "        if self.is_empty():\n",
    "            raise EmptyException(\"Queue is empty\")\n",
    "        return self._data[self.rear]\n",
    "\n",
    "    def first(self):\n",
    "        if self.is_empty():\n",
    "            raise EmptyException(\"Queue is empty\")\n",
    "        return self._data[self.front]\n",
    "\n",
    "    def resize(self, capacity):\n",
    "        old = self._data\n",
    "        self._data = [None] * capacity\n",
    "        walk = self.front\n",
    "        for k in range(self.size):\n",
    "            self._data[k] = old[walk]\n",
    "            walk = (walk + 1) % len(old)\n",
    "        self.front = 0\n",
    "        self.rear = self.front + self.size - 1"
   ],
   "metadata": {
    "collapsed": false,
    "pycharm": {
     "name": "#%%\n"
    }
   }
  },
  {
   "cell_type": "code",
   "execution_count": 68,
   "outputs": [],
   "source": [],
   "metadata": {
    "collapsed": false,
    "pycharm": {
     "name": "#%%\n"
    }
   }
  },
  {
   "cell_type": "code",
   "execution_count": 69,
   "outputs": [],
   "source": [
    "d = Deque()\n",
    "d.add_front(5)\n",
    "d.add_front(2)\n",
    "d.add_rear(3)\n",
    "d.add_front(4)\n"
   ],
   "metadata": {
    "collapsed": false,
    "pycharm": {
     "name": "#%%\n"
    }
   }
  },
  {
   "cell_type": "code",
   "execution_count": 70,
   "outputs": [
    {
     "data": {
      "text/plain": "3"
     },
     "execution_count": 70,
     "metadata": {},
     "output_type": "execute_result"
    }
   ],
   "source": [
    "# d.add_front(6)\n",
    "d.remove_rear()"
   ],
   "metadata": {
    "collapsed": false,
    "pycharm": {
     "name": "#%%\n"
    }
   }
  },
  {
   "cell_type": "code",
   "execution_count": 71,
   "outputs": [
    {
     "data": {
      "text/plain": "[set(),\n {'A'},\n {'B'},\n {'A', 'B'},\n {'C'},\n {'A', 'C'},\n {'B', 'C'},\n {'A', 'B', 'C'}]"
     },
     "execution_count": 71,
     "metadata": {},
     "output_type": "execute_result"
    }
   ],
   "source": [
    "def power_set(arr):\n",
    "    \"\"\"Use stack S and a queue Q to generate all possible subsets\"\"\"\n",
    "    S = ArrayStack()\n",
    "    Q = ArrayQueue()\n",
    "    Q.enqueue(set())\n",
    "    for el in arr:\n",
    "        S.push(el)\n",
    "\n",
    "    while not S.is_empty():\n",
    "        s = S.pop()\n",
    "        size = Q.size\n",
    "        while  size >0:\n",
    "            qs = Q.dequeue()\n",
    "            Q.enqueue(qs)\n",
    "            Q.enqueue(qs | set(s))\n",
    "            size -= 1\n",
    "    return [s for s in Q._data if s is not None]\n",
    "\n",
    "\n",
    "power_set([\"A\", \"B\", \"C\"])\n"
   ],
   "metadata": {
    "collapsed": false,
    "pycharm": {
     "name": "#%%\n"
    }
   }
  },
  {
   "cell_type": "code",
   "execution_count": 72,
   "outputs": [],
   "source": [
    "class ArrayQStack(Stack):\n",
    "\n",
    "    def __init__(self):\n",
    "        self.q = ArrayQueue()\n",
    "\n",
    "    def __len__(self):\n",
    "        return len(self.q)\n",
    "    @property\n",
    "    def size(self):\n",
    "        return self.q.size\n",
    "\n",
    "    def push(self, e):\n",
    "        self.q.enqueue(e)\n",
    "\n",
    "    def pop(self):\n",
    "        if self.q.is_empty():\n",
    "            raise EmptyException(\"The stack is empty\")\n",
    "        if self.q.size == len(self.q._data):\n",
    "            self.q.resize( 2 * self.q.size)\n",
    "        last_val = self.q._data[self.q.front + self.size - 1]\n",
    "        self.q._data[self.q.front + self.size - 1] = None\n",
    "        self.q.size -= 1\n",
    "        return last_val\n",
    "\n",
    "    def top(self,):\n",
    "        return self.q._data[self.q.front + self.q.size - 1]\n"
   ],
   "metadata": {
    "collapsed": false,
    "pycharm": {
     "name": "#%%\n"
    }
   }
  },
  {
   "cell_type": "code",
   "execution_count": 73,
   "outputs": [],
   "source": [
    "q = ArrayQStack()"
   ],
   "metadata": {
    "collapsed": false,
    "pycharm": {
     "name": "#%%\n"
    }
   }
  },
  {
   "cell_type": "code",
   "execution_count": 74,
   "outputs": [
    {
     "name": "stdout",
     "output_type": "stream",
     "text": [
      "4\n",
      "8\n",
      "6\n",
      "2\n"
     ]
    }
   ],
   "source": [
    "q.push(2)\n",
    "q.push(4)\n",
    "print(q.pop())\n",
    "q.push(6)\n",
    "q.push(8)\n",
    "print(q.pop())\n",
    "print(q.pop())\n",
    "print(q.pop())"
   ],
   "metadata": {
    "collapsed": false,
    "pycharm": {
     "name": "#%%\n"
    }
   }
  },
  {
   "cell_type": "code",
   "execution_count": 80,
   "outputs": [
    {
     "data": {
      "text/plain": "'5 2 + 8 3 - * 4'"
     },
     "execution_count": 80,
     "metadata": {},
     "output_type": "execute_result"
    }
   ],
   "source": [
    "class ParseError(Exception): ...\n",
    "\n",
    "def postfix_notation(expr):\n",
    "    s = len(expr)\n",
    "    i = 0\n",
    "    opening = \"([{\"\n",
    "    closing = \")]}\"\n",
    "    op = \"+-*/%\"\n",
    "    S = ArrayStack()\n",
    "    OpStack = ArrayQStack()\n",
    "    NStack =  ArrayStack()\n",
    "    res = []\n",
    "    while s>0:\n",
    "        x = expr[i]\n",
    "        if x in opening:\n",
    "            S.push(x)\n",
    "        elif x in closing:\n",
    "            if closing.index(x) != opening.index(S.pop()):\n",
    "                raise ParseError\n",
    "            o = OpStack.pop()\n",
    "            res.append(o)\n",
    "        elif x in op:\n",
    "            OpStack.push(x)\n",
    "        elif str(x).isdigit():\n",
    "            res.append(x)\n",
    "        else:\n",
    "            raise NotImplementedError\n",
    "        s -= 1\n",
    "        i +=1\n",
    "    \n",
    "    return \" \".join(res)\n",
    "\n",
    "\n",
    "postfix_notation(\"((5+2)*(8-3))/4\")\n",
    "\n"
   ],
   "metadata": {
    "collapsed": false,
    "pycharm": {
     "name": "#%%\n"
    }
   }
  },
  {
   "cell_type": "code",
   "execution_count": null,
   "outputs": [],
   "source": [
    "\n"
   ],
   "metadata": {
    "collapsed": false,
    "pycharm": {
     "name": "#%%\n"
    }
   }
  }
 ],
 "metadata": {
  "kernelspec": {
   "display_name": "Python 3",
   "language": "python",
   "name": "python3"
  },
  "language_info": {
   "codemirror_mode": {
    "name": "ipython",
    "version": 2
   },
   "file_extension": ".py",
   "mimetype": "text/x-python",
   "name": "python",
   "nbconvert_exporter": "python",
   "pygments_lexer": "ipython2",
   "version": "2.7.6"
  }
 },
 "nbformat": 4,
 "nbformat_minor": 0
}