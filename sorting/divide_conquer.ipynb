{
 "cells": [
  {
   "cell_type": "code",
   "execution_count": 1,
   "metadata": {
    "collapsed": true
   },
   "outputs": [],
   "source": [
    "from copy import deepcopy\n",
    "import numpy as np\n",
    "import math"
   ]
  },
  {
   "cell_type": "code",
   "execution_count": 2,
   "outputs": [
    {
     "name": "stdout",
     "output_type": "stream",
     "text": [
      "[4, -1, -2, 1, 5] 7\n"
     ]
    }
   ],
   "source": [
    "def find_maximum_subarray(x, low, high):\n",
    "    \"\"\"Given an array of integers, find a contiguous subarray which has the largest sum.\"\"\"\n",
    "    def find_maximum_cross(x, low, mid,high):\n",
    "        left_sum = right_sum = float(\"-inf\")\n",
    "        left_low, left_high = mid-1, mid-1\n",
    "        right_low, right_high = mid, mid\n",
    "        _sum = 0\n",
    "        for i in range(mid-1, low-1,-1):\n",
    "            _sum += x[i]\n",
    "            if _sum > left_sum:\n",
    "                left_sum = _sum\n",
    "                left_low = i\n",
    "        _sum = 0\n",
    "        for i in range(mid, high):\n",
    "            _sum += x[i]\n",
    "            if _sum > right_sum:\n",
    "                right_sum = _sum\n",
    "                right_high = i\n",
    "        return left_low, right_high+1, left_sum + right_sum\n",
    "\n",
    "    if high - 1  == low:\n",
    "        return low, high, x[low]\n",
    "\n",
    "    mid = math.floor((high + low) / 2)\n",
    "    low_left, high_left, left_sum = find_maximum_subarray(x, low, mid)\n",
    "    low_right, high_right, right_sum = find_maximum_subarray(x, mid, high)\n",
    "    low_cross, high_cross, cross_sum = find_maximum_cross(x, low, mid,high)\n",
    "    if left_sum >= right_sum and left_sum >= cross_sum:\n",
    "        return low_left, high_left, left_sum\n",
    "    elif right_sum >= left_sum and right_sum >= cross_sum:\n",
    "        return low_right, high_right, right_sum\n",
    "    else:\n",
    "        return low_cross, high_cross, cross_sum\n",
    "\n",
    "# _x = deepcopy([1])\n",
    "_x = deepcopy([5,4,-1,7,8])\n",
    "_x = deepcopy([-2, -3, 4, -1, -2, 1, 5, -3])\n",
    "left, right, _sum = find_maximum_subarray(_x, 0,len(_x))\n",
    "print(_x[left:right], _sum)"
   ],
   "metadata": {
    "collapsed": false,
    "pycharm": {
     "name": "#%%\n"
    }
   }
  },
  {
   "cell_type": "code",
   "execution_count": 3,
   "outputs": [
    {
     "data": {
      "text/plain": "3"
     },
     "execution_count": 3,
     "metadata": {},
     "output_type": "execute_result"
    }
   ],
   "source": [
    "def find_fixed_point(x, low, high):\n",
    "    \"\"\"\n",
    "    Let T [1..n] be a sorted array of distinct integers. Give a divide-and-\n",
    "    conquer algorithm that finds an index i such that T [i] = i (if one exists) and\n",
    "    runs in time O(log n).\n",
    "    \"\"\"\n",
    "    if high-1 >= low:\n",
    "        mid = low + (high-low)// 2\n",
    "    else:\n",
    "        return -1\n",
    "    if mid == x[mid]:\n",
    "        return mid\n",
    "    if mid <= x[mid]:\n",
    "        return find_fixed_point(x, low,mid)\n",
    "    else:\n",
    "        return find_fixed_point(x, mid+1, high)\n",
    "\n",
    "\n",
    "_x = [-1,-1,-2,3,5,7,9,15,16,25,30]\n",
    "\n",
    "find_fixed_point(_x, 0, len(_x))"
   ],
   "metadata": {
    "collapsed": false,
    "pycharm": {
     "name": "#%%\n"
    }
   }
  },
  {
   "cell_type": "code",
   "execution_count": 13,
   "outputs": [
    {
     "name": "stdout",
     "output_type": "stream",
     "text": [
      "low: 0, high: 5, 2\n",
      "low: 0, high: 2, 1\n",
      "Left low: 0, left high: 1\n",
      "Right low: 1, right high: 2\n",
      "returning sum: 2\n",
      "Left low: 0, left high: 2\n",
      "low: 2, high: 5, 3\n",
      "Left low: 2, left high: 3\n",
      "low: 3, high: 5, 4\n",
      "Left low: 3, left high: 4\n",
      "Right low: 4, right high: 5\n",
      "returning Left sum: 1\n",
      "Right low: 3, right high: 4\n",
      "returning sum: 2\n",
      "Right low: 2, right high: 4\n",
      "returning Left sum: 2\n"
     ]
    },
    {
     "data": {
      "text/plain": "(0, 2, 2)"
     },
     "execution_count": 13,
     "metadata": {},
     "output_type": "execute_result"
    }
   ],
   "source": [
    "s =[]\n",
    "def find_ascending_subarray(x, low, high):\n",
    "    \"\"\"longest ascending subsequence problem TODO with DP\"\"\"\n",
    "    # def find_cross_ascending_subarray(x, low, mid, high):\n",
    "    #     left_length, right_length = 0, 0\n",
    "    #     last_val = x[mid]\n",
    "    #     for i in range(mid-1, low-1, -1):\n",
    "    #         if x[i] <= last_val:\n",
    "    #             last_val = x[i]\n",
    "    #             left_length +=1\n",
    "    #     last_val = x[mid]\n",
    "    #     for j in range(mid+1, high):\n",
    "    #         if x[j] >= last_val:\n",
    "    #             last_val = x[j]\n",
    "    #             right_length +=1\n",
    "    #     return right_length + left_length + 1\n",
    "    # global s\n",
    "    # if high - 1  == low:\n",
    "    #     return low, high, 1\n",
    "    # mid = low + (high - low) // 2\n",
    "    # print(f\"low: {low}, high: {high}, {mid}\")\n",
    "    #\n",
    "    # left_low, left_high, left_length = find_ascending_subarray(x, low, mid)\n",
    "    # print(f\"Left low: {left_low}, left high: {left_high}\")\n",
    "    # right_low, right_high, right_length = find_ascending_subarray(x, mid, high)\n",
    "    # print(f\"Right low: {right_low}, right high: {right_high}\")\n",
    "    #\n",
    "    # if x[left_high - 1] <= x[right_low]:\n",
    "    #     print(f\"returning sum: {left_length + right_length}\")\n",
    "    #     return left_low, right_high, left_length + right_length\n",
    "    #\n",
    "    # elif left_length >= right_length:\n",
    "    #     print(f\"returning Left sum: {left_length }\")\n",
    "    #\n",
    "    #     return left_low, left_high, left_length\n",
    "    # else:\n",
    "    #     print(f\"returning right sum: {right_length}\")\n",
    "    #     return right_low, right_high, right_length\n",
    "    # else:\n",
    "    #     return {}, {}, cross_length\n",
    "\n",
    "_x = deepcopy([10,9,2,5,3,7,101,18])\n",
    "_x = deepcopy([1, 2, 1, 5,3])\n",
    "# _x = deepcopy([13,1,3,4,8,4])\n",
    "# _x = deepcopy([13,1,3,4,8,19,17,8,0,20,1])\n",
    "# _x = deepcopy([0, 8, 4, 12, 2, 10, 6, 14, 1, 9, 5, 13, 3, 11, 7, 15])\n",
    "find_ascending_subarray(_x,0, len(_x))\n"
   ],
   "metadata": {
    "collapsed": false,
    "pycharm": {
     "name": "#%%\n"
    }
   }
  },
  {
   "cell_type": "code",
   "execution_count": 6,
   "outputs": [],
   "source": [
    "class Point:\n",
    "\n",
    "    def __init__(self, x, y):\n",
    "        self.x = x\n",
    "        self.y = y\n",
    "\n",
    "    def distance(self, p):\n",
    "        return ((p.x - self.x) **2 + (p.y - self.y) ** 2) **0.5\n",
    "\n",
    "def find_closest_point(x):\n",
    "    \"TODO\"\n"
   ],
   "metadata": {
    "collapsed": false,
    "pycharm": {
     "name": "#%%\n"
    }
   }
  },
  {
   "cell_type": "code",
   "execution_count": 201,
   "outputs": [
    {
     "name": "stdout",
     "output_type": "stream",
     "text": [
      "[10, 20, 35, 40, 60, 70, 80, 90, 95, 100]\n",
      "[10, 20, 35, 40, 60]\n",
      "[70, 80, 90, 95, 100]\n"
     ]
    },
    {
     "data": {
      "text/plain": "70"
     },
     "execution_count": 201,
     "metadata": {},
     "output_type": "execute_result"
    }
   ],
   "source": [
    "from math import fabs, ceil, floor\n",
    "\n",
    "def find_kth_element(x, y, k):\n",
    "    \"\"\"Given two sorted sequences with m, n elements, respectively, design\n",
    "    and analyze an efficient divide-and-conquer algorithm to find the kth ele-\n",
    "    ment in the merge of the two sequences. The best algorithm runs in time\n",
    "    O(log(max(m, n))).\n",
    "    \"\"\"\n",
    "    def merge_sort(arr, low, high):\n",
    "        if high - 1 <= low:\n",
    "            return arr[low:high]\n",
    "        mid = (high - low)// 2\n",
    "        left, right = arr[low: mid], arr[mid:high]\n",
    "        merge_sort(left, 0, mid - low )\n",
    "        merge_sort(right,0, high - mid)\n",
    "        i,j,k = 0,0,0\n",
    "        while i < len(left) and j < len(right):\n",
    "            if left[i] <= right[j]:\n",
    "                arr[k] = left[i]\n",
    "                i += 1\n",
    "            else:\n",
    "                arr[k] = right[j]\n",
    "                j += 1\n",
    "            k += 1\n",
    "        while i < len(left):\n",
    "            arr[k] = left[i]\n",
    "            i += 1\n",
    "            k += 1\n",
    "\n",
    "        while j < len(right):\n",
    "            arr[k] = right[j]\n",
    "            j +=1\n",
    "            k +=1\n",
    "    _x, _y = deepcopy(x), deepcopy(y)\n",
    "    merge_sort(_x, 0, len(_x))\n",
    "    merge_sort(_y, 0, len(_y))\n",
    "    b = _x + _y\n",
    "    merge_sort(b, 0, len(b))\n",
    "    print(b)\n",
    "    print(_x)\n",
    "    print(_y)\n",
    "    if k == 1:\n",
    "        return min(_x[0], _y[0])\n",
    "    elif k == len(_x) + len(_y):\n",
    "        return max(_x[-1], _y[-1])\n",
    "    elif k <=0 or k > len(_x) + len(_y):\n",
    "        raise Exception(\"This indice is not allowed with this array\")\n",
    "\n",
    "    def found_criterion(u, v, left, right):\n",
    "        if left == 0:\n",
    "            return True\n",
    "        if right == 0:\n",
    "            return True\n",
    "\n",
    "        if left >= len(u):\n",
    "            return u[left - 1] <= v[right] if right < len(v) else u[left - 1] <= v[right - 1]\n",
    "        if right >= len(v):\n",
    "            return v[right - 1] <= u[left] if left < len(u) else v[right - 1] <= u[left - 1]\n",
    "        if u[left - 1] == v[right - 1]:\n",
    "            return True\n",
    "        if left < len(u) and right <len(v) and\\\n",
    "                u[left - 1] <= v[right] and v[right -1] <= u[left]:\n",
    "            return True\n",
    "\n",
    "        return False\n",
    "\n",
    "    def search(u, v, left, right):\n",
    "\n",
    "        if u[-1] < v[0]:\n",
    "            if k <= len(u):\n",
    "                return u[k-1]\n",
    "            else:\n",
    "                return v[k - len(u) -1]\n",
    "        if v[-1] < u[0]:\n",
    "            if k <= len(v):\n",
    "                return v[k-1]\n",
    "            else:\n",
    "                return u[k - len(v) -1]\n",
    "\n",
    "        cond = False\n",
    "        z = 0\n",
    "        mid = floor((left + right) / 2 )\n",
    "        left = mid\n",
    "        right = k - left\n",
    "        while 1:\n",
    "            cond = found_criterion(u, v, left, right)\n",
    "            if cond:\n",
    "                break\n",
    "            mid = max(1, floor(mid / 2))\n",
    "            if u[left - 1] <= v[right - 1]:\n",
    "                left = min(left + mid, len(u))\n",
    "                right = k - left\n",
    "            else:\n",
    "                right = min(right + mid, len(v))\n",
    "                left = k - right\n",
    "\n",
    "            z += 1\n",
    "            if z == 4:\n",
    "                return True\n",
    "        return max(u[left -1], v[right -1 ])\n",
    "\n",
    "    return search(_x, _y, 0, k)\n",
    "\n",
    "\n",
    "\n",
    "# A = [60, 20, 35,40, 10]\n",
    "A = [60, 20, 35,40, 10]\n",
    "# B = [50,70,15,35,100]\n",
    "B = [70,80,90,95,100]\n",
    "\n",
    "indice = 6\n",
    "find_kth_element(A, B, indice)"
   ],
   "metadata": {
    "collapsed": false,
    "pycharm": {
     "name": "#%%\n"
    }
   }
  },
  {
   "cell_type": "code",
   "execution_count": 203,
   "outputs": [
    {
     "data": {
      "text/plain": "3"
     },
     "execution_count": 203,
     "metadata": {},
     "output_type": "execute_result"
    }
   ],
   "source": [
    "def find_match(string, pattern):\n",
    "    \"\"\"Does t contain the pattern p as a substring, and if so where?\"\"\"\n",
    "    m, n = len(pattern), len(string)\n",
    "    for i in range(n-m+1):\n",
    "        j = 0\n",
    "        while j < m and string[i+j] == pattern[j]:\n",
    "            j +=1\n",
    "        if j == m: return i\n",
    "\n",
    "    return -1\n",
    "\n",
    "find_match(\"aababba\", \"abba\")"
   ],
   "metadata": {
    "collapsed": false,
    "pycharm": {
     "name": "#%%\n"
    }
   }
  },
  {
   "cell_type": "code",
   "execution_count": 206,
   "outputs": [
    {
     "data": {
      "text/plain": "27"
     },
     "execution_count": 206,
     "metadata": {},
     "output_type": "execute_result"
    }
   ],
   "source": [
    "def power(x, p):\n",
    "    \"\"\"Compute x**p\"\"\"\n",
    "    if p == 0: return 1\n",
    "    a = power(x, floor(p / 2))\n",
    "    if p % 2 == 0:\n",
    "        return a ** 2\n",
    "    else:\n",
    "        return x * a **2\n",
    "\n",
    "power(3, 3 )\n"
   ],
   "metadata": {
    "collapsed": false,
    "pycharm": {
     "name": "#%%\n"
    }
   }
  },
  {
   "cell_type": "code",
   "execution_count": null,
   "outputs": [],
   "source": [
    "\n"
   ],
   "metadata": {
    "collapsed": false,
    "pycharm": {
     "name": "#%%\n"
    }
   }
  }
 ],
 "metadata": {
  "kernelspec": {
   "display_name": "Python 3",
   "language": "python",
   "name": "python3"
  },
  "language_info": {
   "codemirror_mode": {
    "name": "ipython",
    "version": 2
   },
   "file_extension": ".py",
   "mimetype": "text/x-python",
   "name": "python",
   "nbconvert_exporter": "python",
   "pygments_lexer": "ipython2",
   "version": "2.7.6"
  }
 },
 "nbformat": 4,
 "nbformat_minor": 0
}