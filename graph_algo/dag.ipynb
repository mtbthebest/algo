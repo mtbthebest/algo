{
 "cells": [
  {
   "cell_type": "code",
   "execution_count": 2,
   "metadata": {
    "collapsed": true
   },
   "outputs": [],
   "source": [
    "%load_ext autoreload\n",
    "%autoreload 2\n",
    "import copy\n",
    "from graph_algo.adt import LinkedGraph as LG, MatrixGraph as MG, Vertex, Edge, MapGraph\n",
    "import  math\n",
    "from data_structures import LinkedQueue, LinkedStack"
   ]
  },
  {
   "cell_type": "code",
   "execution_count": 3,
   "outputs": [],
   "source": [
    "def make_graph(string, max_vertices, directed=True):\n",
    "    g = MapGraph(directed=directed)\n",
    "    vertices = [Vertex(i) for i in range(max_vertices + 1)]\n",
    "    for uv in string.split(\" \"):\n",
    "        u, v = map(lambda x:int(x), uv.split(\"-\"))\n",
    "        g.insert_edge(Edge(vertices[u], vertices[v]))\n",
    "    return g"
   ],
   "metadata": {
    "collapsed": false,
    "pycharm": {
     "name": "#%%\n"
    }
   }
  },
  {
   "cell_type": "code",
   "execution_count": 4,
   "outputs": [],
   "source": [
    "graph = make_graph(\"0-1 0-5 0-6 2-0 2-3 3-2 4-2 3-5 4-3 \"\n",
    "               \"4-11 5-4 6-4 6-9 7-6 7-8 8-7 8-9 \"\n",
    "               \"9-10 9-11 12-9 10-12 11-12\", 12, directed=True)"
   ],
   "metadata": {
    "collapsed": false,
    "pycharm": {
     "name": "#%%\n"
    }
   }
  },
  {
   "cell_type": "code",
   "execution_count": 5,
   "outputs": [
    {
     "data": {
      "text/plain": "Edge(Vertex(value=0), Vertex(value=1))\nEdge(Vertex(value=0), Vertex(value=5))\nEdge(Vertex(value=0), Vertex(value=6))\nEdge(Vertex(value=2), Vertex(value=0))\nEdge(Vertex(value=2), Vertex(value=3))\nEdge(Vertex(value=3), Vertex(value=2))\nEdge(Vertex(value=3), Vertex(value=5))\nEdge(Vertex(value=4), Vertex(value=2))\nEdge(Vertex(value=4), Vertex(value=3))\nEdge(Vertex(value=4), Vertex(value=11))\nEdge(Vertex(value=5), Vertex(value=4))\nEdge(Vertex(value=6), Vertex(value=4))\nEdge(Vertex(value=6), Vertex(value=9))\nEdge(Vertex(value=7), Vertex(value=6))\nEdge(Vertex(value=7), Vertex(value=8))\nEdge(Vertex(value=8), Vertex(value=7))\nEdge(Vertex(value=8), Vertex(value=9))\nEdge(Vertex(value=9), Vertex(value=10))\nEdge(Vertex(value=9), Vertex(value=11))\nEdge(Vertex(value=10), Vertex(value=12))\nEdge(Vertex(value=11), Vertex(value=12))\nEdge(Vertex(value=12), Vertex(value=9))"
     },
     "execution_count": 5,
     "metadata": {},
     "output_type": "execute_result"
    }
   ],
   "source": [
    "graph"
   ],
   "metadata": {
    "collapsed": false,
    "pycharm": {
     "name": "#%%\n"
    }
   }
  },
  {
   "cell_type": "code",
   "execution_count": 6,
   "outputs": [
    {
     "data": {
      "text/plain": "22"
     },
     "execution_count": 6,
     "metadata": {},
     "output_type": "execute_result"
    }
   ],
   "source": [
    "graph.num_edges"
   ],
   "metadata": {
    "collapsed": false,
    "pycharm": {
     "name": "#%%\n"
    }
   }
  },
  {
   "cell_type": "code",
   "execution_count": 7,
   "outputs": [],
   "source": [
    "g_reverse = graph.reverse()\n"
   ],
   "metadata": {
    "collapsed": false,
    "pycharm": {
     "name": "#%%\n"
    }
   }
  },
  {
   "cell_type": "code",
   "execution_count": 8,
   "outputs": [
    {
     "name": "stdout",
     "output_type": "stream",
     "text": [
      "Edge(Vertex(value=0), Vertex(value=2))\n",
      "Edge(Vertex(value=1), Vertex(value=0))\n",
      "Edge(Vertex(value=2), Vertex(value=3))\n",
      "Edge(Vertex(value=2), Vertex(value=4))\n",
      "Edge(Vertex(value=3), Vertex(value=2))\n",
      "Edge(Vertex(value=3), Vertex(value=4))\n",
      "Edge(Vertex(value=4), Vertex(value=5))\n",
      "Edge(Vertex(value=4), Vertex(value=6))\n",
      "Edge(Vertex(value=5), Vertex(value=0))\n",
      "Edge(Vertex(value=5), Vertex(value=3))\n",
      "Edge(Vertex(value=6), Vertex(value=0))\n",
      "Edge(Vertex(value=6), Vertex(value=7))\n",
      "Edge(Vertex(value=7), Vertex(value=8))\n",
      "Edge(Vertex(value=8), Vertex(value=7))\n",
      "Edge(Vertex(value=9), Vertex(value=6))\n",
      "Edge(Vertex(value=9), Vertex(value=8))\n",
      "Edge(Vertex(value=9), Vertex(value=12))\n",
      "Edge(Vertex(value=10), Vertex(value=9))\n",
      "Edge(Vertex(value=11), Vertex(value=4))\n",
      "Edge(Vertex(value=11), Vertex(value=9))\n",
      "Edge(Vertex(value=12), Vertex(value=10))\n",
      "Edge(Vertex(value=12), Vertex(value=11))\n"
     ]
    }
   ],
   "source": [
    "for edge in g_reverse.edges:\n",
    "    print(edge)"
   ],
   "metadata": {
    "collapsed": false,
    "pycharm": {
     "name": "#%%\n"
    }
   }
  },
  {
   "cell_type": "code",
   "execution_count": 9,
   "outputs": [
    {
     "data": {
      "text/plain": "22"
     },
     "execution_count": 9,
     "metadata": {},
     "output_type": "execute_result"
    }
   ],
   "source": [
    "g_reverse.num_edges"
   ],
   "metadata": {
    "collapsed": false,
    "pycharm": {
     "name": "#%%\n"
    }
   }
  },
  {
   "cell_type": "code",
   "execution_count": 10,
   "outputs": [
    {
     "data": {
      "text/plain": "'Exercises: 3-7 1-4 7-8 0-5 5-2 3-8 2-9 0-6 4-9 2-6 6-4'"
     },
     "execution_count": 10,
     "metadata": {},
     "output_type": "execute_result"
    }
   ],
   "source": [
    "\"\"\"Exercises: 3-7 1-4 7-8 0-5 5-2 3-8 2-9 0-6 4-9 2-6 6-4\"\"\"\n",
    "\n"
   ],
   "metadata": {
    "collapsed": false,
    "pycharm": {
     "name": "#%%\n"
    }
   }
  },
  {
   "cell_type": "code",
   "execution_count": 11,
   "outputs": [],
   "source": [
    "class Count:\n",
    "    pre = 0\n",
    "    post = 0\n",
    "\n",
    "def dfs(g):\n",
    "\n",
    "    def wrapper(vertex):\n",
    "        vertex.is_visited = True\n",
    "        vertex.pre = Count.pre\n",
    "        Count.pre += 1\n",
    "        for adj in g.adjacent(vertex):\n",
    "            if not adj.is_visited:\n",
    "                #  Tree edge\n",
    "                wrapper(adj)\n",
    "            \"\"\"\n",
    "            if vertex.pre < adj.pre and vertex.post > adj.pro => down edge\n",
    "            if vertex.pre > adj.pre and vertex.post < adj.pro => back edge\n",
    "            if vertex.pre > adj.pre and vertex.post > adj.pro => cross edge\n",
    "\n",
    "            \"\"\"\n",
    "        vertex.post = Count.post\n",
    "        Count.post += 1\n",
    "\n",
    "    for i, v in enumerate(g.vertices):\n",
    "        v.is_visited = False\n",
    "        v.pre = -1\n",
    "        v.post = -1\n",
    "\n",
    "    for _vertex in g.vertices:\n",
    "        if not _vertex.is_visited: wrapper(_vertex)\n",
    "\n",
    "\n",
    "_g = copy.deepcopy(graph)\n",
    "_root = list(_g.vertices)[0]\n",
    "dfs(_g)"
   ],
   "metadata": {
    "collapsed": false,
    "pycharm": {
     "name": "#%%\n"
    }
   }
  },
  {
   "cell_type": "code",
   "execution_count": 12,
   "outputs": [
    {
     "name": "stdout",
     "output_type": "stream",
     "text": [
      "Vertex(value=0) 0 10\n",
      "Vertex(value=1) 1 0\n",
      "Vertex(value=2) 4 2\n",
      "Vertex(value=3) 5 1\n",
      "Vertex(value=4) 3 7\n",
      "Vertex(value=5) 2 8\n",
      "Vertex(value=6) 10 9\n",
      "Vertex(value=7) 11 12\n",
      "Vertex(value=8) 12 11\n",
      "Vertex(value=9) 8 4\n",
      "Vertex(value=10) 9 3\n",
      "Vertex(value=11) 6 6\n",
      "Vertex(value=12) 7 5\n"
     ]
    }
   ],
   "source": [
    "for v in _g.vertices:\n",
    "    print(v, v.pre, v.post)"
   ],
   "metadata": {
    "collapsed": false,
    "pycharm": {
     "name": "#%%\n"
    }
   }
  },
  {
   "cell_type": "code",
   "execution_count": 13,
   "outputs": [
    {
     "name": "stdout",
     "output_type": "stream",
     "text": [
      "Edge(Vertex(value=0), Vertex(value=1)) 0 1\n",
      "Edge(Vertex(value=0), Vertex(value=5)) 0 2\n",
      "Edge(Vertex(value=0), Vertex(value=6)) 0 10\n",
      "Edge(Vertex(value=2), Vertex(value=0)) 4 0\n",
      "Edge(Vertex(value=2), Vertex(value=3)) 4 5\n",
      "Edge(Vertex(value=3), Vertex(value=2)) 5 4\n",
      "Edge(Vertex(value=3), Vertex(value=5)) 5 2\n",
      "Edge(Vertex(value=4), Vertex(value=2)) 3 4\n",
      "Edge(Vertex(value=4), Vertex(value=3)) 3 5\n",
      "Edge(Vertex(value=4), Vertex(value=11)) 3 6\n",
      "Edge(Vertex(value=5), Vertex(value=4)) 2 3\n",
      "Edge(Vertex(value=6), Vertex(value=4)) 10 3\n",
      "Edge(Vertex(value=6), Vertex(value=9)) 10 8\n",
      "Edge(Vertex(value=7), Vertex(value=6)) 11 10\n",
      "Edge(Vertex(value=7), Vertex(value=8)) 11 12\n",
      "Edge(Vertex(value=8), Vertex(value=7)) 12 11\n",
      "Edge(Vertex(value=8), Vertex(value=9)) 12 8\n",
      "Edge(Vertex(value=9), Vertex(value=10)) 8 9\n",
      "Edge(Vertex(value=9), Vertex(value=11)) 8 6\n",
      "Edge(Vertex(value=10), Vertex(value=12)) 9 7\n",
      "Edge(Vertex(value=11), Vertex(value=12)) 6 7\n",
      "Edge(Vertex(value=12), Vertex(value=9)) 7 8\n"
     ]
    }
   ],
   "source": [
    "for edge in _g.edges:\n",
    "    print(edge, edge[0].pre, edge[1].pre)"
   ],
   "metadata": {
    "collapsed": false,
    "pycharm": {
     "name": "#%%\n"
    }
   }
  },
  {
   "cell_type": "code",
   "execution_count": 14,
   "outputs": [
    {
     "data": {
      "text/plain": "Edge(Vertex(value=0), Vertex(value=1))\nEdge(Vertex(value=0), Vertex(value=2))\nEdge(Vertex(value=0), Vertex(value=4))\nEdge(Vertex(value=0), Vertex(value=5))\nEdge(Vertex(value=1), Vertex(value=0))\nEdge(Vertex(value=1), Vertex(value=2))\nEdge(Vertex(value=1), Vertex(value=4))\nEdge(Vertex(value=1), Vertex(value=5))\nEdge(Vertex(value=2), Vertex(value=0))\nEdge(Vertex(value=2), Vertex(value=1))\nEdge(Vertex(value=2), Vertex(value=4))\nEdge(Vertex(value=2), Vertex(value=5))\nEdge(Vertex(value=3), Vertex(value=0))\nEdge(Vertex(value=3), Vertex(value=1))\nEdge(Vertex(value=3), Vertex(value=2))\nEdge(Vertex(value=3), Vertex(value=4))\nEdge(Vertex(value=3), Vertex(value=5))\nEdge(Vertex(value=4), Vertex(value=5))\nEdge(Vertex(value=5), Vertex(value=4))"
     },
     "execution_count": 14,
     "metadata": {},
     "output_type": "execute_result"
    }
   ],
   "source": [
    "def graph_transitive_closure(g):\n",
    "    closure = copy.deepcopy(g)\n",
    "    vertices = list(g.vertices)\n",
    "    nvert = len(vertices)\n",
    "    for k in range(nvert):\n",
    "        for i in range(nvert):\n",
    "            if i != k and closure.get_edge(vertices[i], vertices[k]) is not None:\n",
    "                for j in range(nvert):\n",
    "                    if i !=j and j != k and \\\n",
    "                            closure.get_edge(vertices[k], vertices[j]) is not None:\n",
    "                        if  closure.get_edge(vertices[i], vertices[j]) is None:\n",
    "                            closure.insert_edge(Edge(vertices[i], vertices[j]))\n",
    "    return closure\n",
    "\n",
    "graph_transitive_closure(make_graph(\"0-2 0-5 1-0 2-1 3-2 3-4 4-5 5-4\", 5, directed=True))"
   ],
   "metadata": {
    "collapsed": false,
    "pycharm": {
     "name": "#%%\n"
    }
   }
  },
  {
   "cell_type": "code",
   "execution_count": 15,
   "outputs": [
    {
     "data": {
      "text/plain": "Edge(Vertex(value=0), Vertex(value=1))\nEdge(Vertex(value=0), Vertex(value=2))\nEdge(Vertex(value=0), Vertex(value=4))\nEdge(Vertex(value=0), Vertex(value=5))\nEdge(Vertex(value=1), Vertex(value=0))\nEdge(Vertex(value=1), Vertex(value=2))\nEdge(Vertex(value=1), Vertex(value=4))\nEdge(Vertex(value=1), Vertex(value=5))\nEdge(Vertex(value=2), Vertex(value=0))\nEdge(Vertex(value=2), Vertex(value=1))\nEdge(Vertex(value=2), Vertex(value=4))\nEdge(Vertex(value=2), Vertex(value=5))\nEdge(Vertex(value=3), Vertex(value=0))\nEdge(Vertex(value=3), Vertex(value=1))\nEdge(Vertex(value=3), Vertex(value=2))\nEdge(Vertex(value=3), Vertex(value=4))\nEdge(Vertex(value=3), Vertex(value=5))\nEdge(Vertex(value=4), Vertex(value=5))\nEdge(Vertex(value=5), Vertex(value=4))"
     },
     "execution_count": 15,
     "metadata": {},
     "output_type": "execute_result"
    }
   ],
   "source": [
    "def graph_dfs_transitive_closure(g):\n",
    "    def wrapper(edge):\n",
    "        g.tc.insert_edge(edge)\n",
    "        for adj in g.adjacent(edge[1]):\n",
    "            if (next_edge := g.tc.get_edge(edge[0], adj)) is None and edge[0] != adj:\n",
    "                wrapper(Edge(edge[0], adj))\n",
    "    g = copy.deepcopy(g)\n",
    "    g.tc = MapGraph(directed=g.directed)\n",
    "    for _ in g.edges:\n",
    "        wrapper(_)\n",
    "    return g.tc\n",
    "graph_dfs_transitive_closure(make_graph(\"0-2 0-5 1-0 2-1 3-2 3-4 4-5 5-4\", 5, directed=True))"
   ],
   "metadata": {
    "collapsed": false,
    "pycharm": {
     "name": "#%%\n"
    }
   }
  },
  {
   "cell_type": "code",
   "execution_count": 16,
   "outputs": [
    {
     "data": {
      "text/plain": "[Vertex(value=1),\n Vertex(value=10),\n Vertex(value=12),\n Vertex(value=11),\n Vertex(value=9),\n Vertex(value=4),\n Vertex(value=5),\n Vertex(value=3),\n Vertex(value=2),\n Vertex(value=6),\n Vertex(value=0),\n Vertex(value=7),\n Vertex(value=8)]"
     },
     "execution_count": 16,
     "metadata": {},
     "output_type": "execute_result"
    }
   ],
   "source": [
    "def reverse_topological_sort(g, root=None):\n",
    "    if root is None:\n",
    "        reverse_topological_sort.pos =0\n",
    "        reverse_topological_sort.ordering =[]\n",
    "        for vertex in g.vertices:\n",
    "            vertex.pos = -1\n",
    "            vertex.is_visited = False\n",
    "        for vertex in g.vertices:\n",
    "            if vertex.pos == -1:\n",
    "                reverse_topological_sort(g, vertex)\n",
    "                vertex.pos = reverse_topological_sort.pos\n",
    "                reverse_topological_sort.pos += 1\n",
    "                reverse_topological_sort.ordering.append(vertex)\n",
    "        return reverse_topological_sort.ordering\n",
    "    root.is_visited= True\n",
    "    for adj in g.adjacent(root):\n",
    "        if not adj.is_visited:\n",
    "            reverse_topological_sort(g, adj)\n",
    "            adj.pos = reverse_topological_sort.pos\n",
    "            reverse_topological_sort.pos += 1\n",
    "            reverse_topological_sort.ordering.append(adj)\n",
    "\n",
    "reverse_topological_sort(make_graph(\"0-1 0-2 0-3 0-5 0-6 2-3 \"\n",
    "                                    \"3-4 3-5 4-9 6-4 6-9 7-6 8-7 \"\n",
    "                                    \"9-10 9-11 9-12 11-12\", 12, directed=True)\n",
    ")"
   ],
   "metadata": {
    "collapsed": false,
    "pycharm": {
     "name": "#%%\n"
    }
   }
  },
  {
   "cell_type": "code",
   "execution_count": 17,
   "outputs": [
    {
     "data": {
      "text/plain": "[Vertex(value=0),\n Vertex(value=8),\n Vertex(value=1),\n Vertex(value=2),\n Vertex(value=7),\n Vertex(value=3),\n Vertex(value=6),\n Vertex(value=5),\n Vertex(value=4),\n Vertex(value=9),\n Vertex(value=10),\n Vertex(value=11),\n Vertex(value=12)]"
     },
     "execution_count": 17,
     "metadata": {},
     "output_type": "execute_result"
    }
   ],
   "source": [
    "def topological_sort(g):\n",
    "    \"DAG has always a sink and a source\"\n",
    "    def is_source(vertex):\n",
    "        return vertex.indegree == 0 and vertex.outdegree >= 0\n",
    "\n",
    "    q = LinkedQueue()\n",
    "    for vertex in g.vertices:\n",
    "        vertex.indegree = g.indegree(vertex)\n",
    "        vertex.outdegree = g.outdegree(vertex)\n",
    "        if is_source(vertex):\n",
    "            q.enqueue(vertex)\n",
    "    if q.is_empty():\n",
    "        return []\n",
    "\n",
    "    ordering = []\n",
    "    while not q.is_empty():\n",
    "        vertex = q.dequeue()\n",
    "        vertex.outdegree = 0\n",
    "        for adj in g.adjacent(vertex):\n",
    "            adj.indegree -= 1\n",
    "            if is_source(adj):\n",
    "                q.enqueue(adj)\n",
    "        ordering.append(vertex)\n",
    "    for vertex in g.vertices:\n",
    "        if vertex.outdegree > 0:\n",
    "            return []\n",
    "    return ordering\n",
    "\n",
    "topological_sort(make_graph(\"0-1 0-2 0-3 0-5 0-6 2-3 \"\n",
    "                                    \"3-4 3-5 4-9 6-4 6-9 7-6 8-7 \"\n",
    "                                    \"9-10 9-11 9-12 11-12\", 12, directed=True))"
   ],
   "metadata": {
    "collapsed": false,
    "pycharm": {
     "name": "#%%\n"
    }
   }
  },
  {
   "cell_type": "code",
   "execution_count": 18,
   "outputs": [
    {
     "data": {
      "text/plain": "6"
     },
     "execution_count": 18,
     "metadata": {},
     "output_type": "execute_result"
    }
   ],
   "source": [
    "def dag_longest_path(g):\n",
    "    def dsf_reverse_topological_sort(g):\n",
    "        ordering = []\n",
    "        stack = LinkedQueue()\n",
    "        def is_sink(v):\n",
    "            return v.indegree >=0 and vertex.outdegree == 0\n",
    "        for vertex in g.vertices:\n",
    "            vertex.indegree = g.indegree(vertex)\n",
    "            vertex.outdegree = g.outdegree(vertex)\n",
    "            vertex.level = 0\n",
    "            if is_sink(vertex):\n",
    "                stack.enqueue(vertex)\n",
    "        if stack.is_empty():\n",
    "            return []\n",
    "        for edge in g.edges:\n",
    "            head, tail = edge\n",
    "            try:\n",
    "                tail.parents.append(head)\n",
    "            except:\n",
    "                tail.parents = [head]\n",
    "        level = -1\n",
    "        while not stack.is_empty():\n",
    "            vertex = stack.dequeue()\n",
    "            vertex.indegree = 0\n",
    "            if hasattr(vertex, \"parents\") and vertex.parents:\n",
    "                for adj in vertex.parents:\n",
    "                    adj.outdegree -= 1\n",
    "                    if adj.outdegree == 0:\n",
    "                        stack.enqueue(adj)\n",
    "                    adj.level = vertex.level + 1\n",
    "            else:\n",
    "                vertex.outdegree =0\n",
    "                vertex.level = max(adj.level for adj in g.adjacent(vertex)) + 1\n",
    "            ordering.append(vertex)\n",
    "\n",
    "        for vertex in g.vertices:\n",
    "            if vertex.outdegree:\n",
    "                return []\n",
    "\n",
    "        return ordering\n",
    "    ordering = dsf_reverse_topological_sort(g)\n",
    "    if ordering:\n",
    "        return max(v.level for v in ordering)\n",
    "    return 0\n",
    "dag_longest_path(make_graph(\"0-1 0-2 0-3 0-5 0-6 2-3 \"\n",
    "                                    \"3-4 3-5 4-9 6-4 6-9 7-6 8-7 \"\n",
    "                                    \"9-10 9-11 9-12 11-12\", 12, directed=True))"
   ],
   "metadata": {
    "collapsed": false,
    "pycharm": {
     "name": "#%%\n"
    }
   }
  },
  {
   "cell_type": "code",
   "execution_count": 19,
   "outputs": [
    {
     "name": "stdout",
     "output_type": "stream",
     "text": [
      "[Vertex(value=9), Vertex(value=10), Vertex(value=11), Vertex(value=12)]\n",
      "[Vertex(value=1)]\n",
      "[Vertex(value=0), Vertex(value=2), Vertex(value=3), Vertex(value=4), Vertex(value=5), Vertex(value=6)]\n",
      "[Vertex(value=7), Vertex(value=8)]\n"
     ]
    }
   ],
   "source": [
    "def get_strong_components_kosaraju(g):\n",
    "    \"kosaraju Algorithm\"\n",
    "    post = 0\n",
    "    def dfs(g, vertex, callback = None):\n",
    "        nonlocal post\n",
    "        vertex.is_visited = True\n",
    "        for adj in g.adjacent(vertex):\n",
    "            if not adj.is_visited:\n",
    "                dfs(g, adj, callback = callback)\n",
    "        if callback is not None:\n",
    "            callback(vertex)\n",
    "        vertex.post = post\n",
    "        post += 1\n",
    "\n",
    "    rg = g.reverse()\n",
    "    for vertex in g.vertices:\n",
    "        vertex.is_visited = False\n",
    "        vertex.post = -1\n",
    "    for vertex in g.vertices:\n",
    "        if not vertex.is_visited:\n",
    "            dfs(rg, vertex)\n",
    "    post = 0\n",
    "    for vertex in g.vertices:\n",
    "        vertex.is_visited = False\n",
    "    component = -1\n",
    "    for vertex in sorted(g.vertices,\n",
    "                         key=lambda v: v.post, reverse=True):\n",
    "        if not vertex.is_visited:\n",
    "            component += 1\n",
    "            dfs(g, vertex,\n",
    "                lambda v: setattr(v, \"component\", component),\n",
    "                )\n",
    "    for i in range(0, component+1):\n",
    "        subgraph = [v for v in g.vertices if v.component == i]\n",
    "        print(subgraph)\n",
    "\n",
    "\n",
    "\n",
    "get_strong_components_kosaraju(make_graph(\"0-1 0-5 0-6 2-0 2-3 3-2 4-2 3-5 4-3 \"\n",
    "               \"4-11 5-4 6-4 6-9 7-6 7-8 8-7 8-9 \"\n",
    "               \"9-10 9-11 12-9 10-12 11-12\", 12, directed=True))\n",
    "\n"
   ],
   "metadata": {
    "collapsed": false,
    "pycharm": {
     "name": "#%%\n"
    }
   }
  },
  {
   "cell_type": "code",
   "execution_count": 21,
   "outputs": [
    {
     "name": "stdout",
     "output_type": "stream",
     "text": [
      "Vertex(value=0) 0 0 2\n",
      "Vertex(value=1) 1 1 0\n",
      "Vertex(value=2) 4 0 2\n",
      "Vertex(value=3) 5 2 2\n",
      "Vertex(value=4) 3 0 2\n",
      "Vertex(value=5) 2 0 2\n",
      "Vertex(value=6) 10 3 2\n",
      "Vertex(value=7) 11 11 3\n",
      "Vertex(value=8) 12 11 3\n",
      "Vertex(value=9) 8 6 1\n",
      "Vertex(value=10) 9 7 1\n",
      "Vertex(value=11) 6 6 1\n",
      "Vertex(value=12) 7 6 1\n"
     ]
    }
   ],
   "source": [
    "def get_strong_components_tarjan(g):\n",
    "    low = 0\n",
    "    pre = 0\n",
    "    component = 0\n",
    "    stack = LinkedStack()\n",
    "    def dfs(g, vertex):\n",
    "        nonlocal low, pre, component\n",
    "        vertex.is_visited = True\n",
    "        vertex.pre = pre\n",
    "        vertex.low = low\n",
    "        pre += 1\n",
    "        low += 1\n",
    "        stack.push(vertex)\n",
    "        vertex.is_stacked = True\n",
    "        for adj in g.adjacent(vertex):\n",
    "            if not adj.is_visited:\n",
    "                dfs(g, adj)\n",
    "                vertex.low = min(vertex.low, adj.low)\n",
    "            elif adj.is_stacked:\n",
    "                vertex.low = min(vertex.low, adj.pre)\n",
    "        if vertex.pre == vertex.low:\n",
    "            while stack.top() != vertex:\n",
    "                v = stack.pop()\n",
    "                v.is_stacked = False\n",
    "                v.component = component\n",
    "            stack.pop()\n",
    "            vertex.is_stacked = False\n",
    "            vertex.component = component\n",
    "            component += 1\n",
    "\n",
    "    for vertex in g.vertices:\n",
    "        vertex.is_visited = False\n",
    "        vertex.is_stacked = False\n",
    "        vertex.component = None\n",
    "        vertex.pre = -1\n",
    "        vertex.low = -1\n",
    "    for vertex in g.vertices:\n",
    "        if not vertex.is_visited:\n",
    "            dfs(g, vertex)\n",
    "    for vertex in g.vertices:\n",
    "        print(vertex, vertex.pre, vertex.low, vertex.component)\n",
    "get_strong_components_tarjan(make_graph(\"0-1 0-5 0-6 2-0 2-3 3-2 4-2 3-5 4-3 \"\n",
    "               \"4-11 5-4 6-4 6-9 7-6 7-8 8-7 8-9 \"\n",
    "               \"9-10 9-11 12-9 10-12 11-12\", 12, directed=True))\n"
   ],
   "metadata": {
    "collapsed": false,
    "pycharm": {
     "name": "#%%\n"
    }
   }
  },
  {
   "cell_type": "code",
   "execution_count": 20,
   "outputs": [],
   "source": [
    "\n"
   ],
   "metadata": {
    "collapsed": false,
    "pycharm": {
     "name": "#%%\n"
    }
   }
  }
 ],
 "metadata": {
  "kernelspec": {
   "display_name": "Python 3",
   "language": "python",
   "name": "python3"
  },
  "language_info": {
   "codemirror_mode": {
    "name": "ipython",
    "version": 2
   },
   "file_extension": ".py",
   "mimetype": "text/x-python",
   "name": "python",
   "nbconvert_exporter": "python",
   "pygments_lexer": "ipython2",
   "version": "2.7.6"
  }
 },
 "nbformat": 4,
 "nbformat_minor": 0
}