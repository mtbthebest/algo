{
 "cells": [
  {
   "cell_type": "code",
   "execution_count": 1,
   "metadata": {
    "collapsed": true
   },
   "outputs": [],
   "source": [
    "import numpy as np\n",
    "from copy import deepcopy\n",
    "import math"
   ]
  },
  {
   "cell_type": "code",
   "execution_count": 3,
   "outputs": [
    {
     "name": "stdout",
     "output_type": "stream",
     "text": [
      "[2, 4, 5, 6, 7, 8, 9, 11, 12, 19, 21, 23]\n"
     ]
    }
   ],
   "source": [
    "def partition(x, low, high):\n",
    "    pivot = x[high - 1]\n",
    "    i=low-1\n",
    "    for j in range(low, high):\n",
    "        if x[j] < pivot:\n",
    "            i +=1\n",
    "            x[j], x[i] = x[i], x[j]\n",
    "    x[i+1], x[high-1] = x[high-1], x[i+1]\n",
    "    return i + 1\n",
    "\n",
    "def quicksort(x, p, r):\n",
    "    if p < r:\n",
    "        q = partition(x, p, r)\n",
    "        quicksort(x, p, q)\n",
    "        quicksort(x, q+1, r)\n",
    "\n",
    "d= [23, 19, 9, 5, 12, 8, 7, 4, 21, 2, 6, 11]\n",
    "quicksort(d, 0, len(d))\n",
    "print(d)"
   ],
   "metadata": {
    "collapsed": false,
    "pycharm": {
     "name": "#%%\n"
    }
   }
  },
  {
   "cell_type": "code",
   "execution_count": 4,
   "outputs": [
    {
     "name": "stdout",
     "output_type": "stream",
     "text": [
      "[2, 4, 5, 6, 7, 8, 9, 11, 12, 19, 21, 23]\n"
     ]
    }
   ],
   "source": [
    "import random\n",
    "\n",
    "def randomized_partition(x, p, r):\n",
    "    i = random.randint(p, r-1)\n",
    "    x[i], x[r] = x[r], x[i]\n",
    "    return partition(x, p, r)\n",
    "\n",
    "def randomized_quicksort(x, p, r):\n",
    "    if p<r:\n",
    "        q = randomized_partition(x, p, r)\n",
    "        randomized_partition(x, p, q)\n",
    "        randomized_quicksort(x, q+1, r)\n",
    "d= [23, 19, 9, 5, 12, 8, 7, 4, 21, 2, 6, 11]\n",
    "quicksort(d, 0, len(d))\n",
    "print(d)"
   ],
   "metadata": {
    "collapsed": false,
    "pycharm": {
     "name": "#%%\n"
    }
   }
  },
  {
   "cell_type": "code",
   "execution_count": null,
   "outputs": [],
   "source": [
    "def interval_quicksort(arr):\n",
    "    \"\"\"TODO\"\"\"\n",
    "    pass\n",
    "\n"
   ],
   "metadata": {
    "collapsed": false,
    "pycharm": {
     "name": "#%%\n"
    }
   }
  }
 ],
 "metadata": {
  "kernelspec": {
   "display_name": "Python 3",
   "language": "python",
   "name": "python3"
  },
  "language_info": {
   "codemirror_mode": {
    "name": "ipython",
    "version": 2
   },
   "file_extension": ".py",
   "mimetype": "text/x-python",
   "name": "python",
   "nbconvert_exporter": "python",
   "pygments_lexer": "ipython2",
   "version": "2.7.6"
  }
 },
 "nbformat": 4,
 "nbformat_minor": 0
}