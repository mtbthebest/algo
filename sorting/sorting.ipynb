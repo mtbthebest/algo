{
 "cells": [
  {
   "cell_type": "code",
   "execution_count": 1,
   "metadata": {
    "collapsed": true
   },
   "outputs": [],
   "source": [
    "import numpy as np\n",
    "from copy import deepcopy"
   ]
  },
  {
   "cell_type": "code",
   "execution_count": 2,
   "outputs": [],
   "source": [
    "A = np.random.randint(0, 20, size=(20,))\n",
    "B = np.random.randint(0, 20, size=(45,))\n",
    "C= np.random.randint(0, 52, size=(10,))"
   ],
   "metadata": {
    "collapsed": false,
    "pycharm": {
     "name": "#%%\n"
    }
   }
  },
  {
   "cell_type": "code",
   "execution_count": 3,
   "outputs": [
    {
     "data": {
      "text/plain": "array([19,  0, 15, 11, 14,  5, 18, 18, 15, 12,  0, 12,  7, 13, 10, 10,  9,\n       18, 16,  0])"
     },
     "execution_count": 3,
     "metadata": {},
     "output_type": "execute_result"
    }
   ],
   "source": [
    "A"
   ],
   "metadata": {
    "collapsed": false,
    "pycharm": {
     "name": "#%%\n"
    }
   }
  },
  {
   "cell_type": "code",
   "execution_count": 4,
   "outputs": [],
   "source": [
    "def insert_sort(array, reverse=False):\n",
    "    cmp_func = lambda a, b:  a < b if reverse else a>b\n",
    "    for j in range(1, len(array) ):\n",
    "        current = array[j]\n",
    "        i = j -1\n",
    "\n",
    "        while i >=0 and cmp_func(array[i] , current):\n",
    "            array[i+1] = array[i]\n",
    "            i = i-1\n",
    "        array[i+1] = current\n",
    "\n"
   ],
   "metadata": {
    "collapsed": false,
    "pycharm": {
     "name": "#%%\n"
    }
   }
  },
  {
   "cell_type": "code",
   "execution_count": 5,
   "outputs": [
    {
     "name": "stdout",
     "output_type": "stream",
     "text": [
      "[19 18 18 18 16 15 15 14 13 12 12 11 10 10  9  7  5  0  0  0]\n",
      "[ 0  0  0  5  7  9 10 10 11 12 12 13 14 15 15 16 18 18 18 19]\n"
     ]
    }
   ],
   "source": [
    "insert_sort(A, reverse=True)\n",
    "print(A)\n",
    "insert_sort(A)\n",
    "print(A)"
   ],
   "metadata": {
    "collapsed": false,
    "pycharm": {
     "name": "#%%\n"
    }
   }
  },
  {
   "cell_type": "code",
   "execution_count": 6,
   "outputs": [
    {
     "data": {
      "text/plain": "array([ 0,  0,  0,  5,  7,  9, 10, 10, 11, 12, 12, 13, 14, 15, 15, 16, 18,\n       18, 18, 19])"
     },
     "execution_count": 6,
     "metadata": {},
     "output_type": "execute_result"
    }
   ],
   "source": [
    "A\n"
   ],
   "metadata": {
    "collapsed": false,
    "pycharm": {
     "name": "#%%\n"
    }
   }
  },
  {
   "cell_type": "code",
   "execution_count": 7,
   "outputs": [
    {
     "name": "stdout",
     "output_type": "stream",
     "text": [
      "[15  6 18  6  5 18 11 17 10 10 12  2 18 10  9 15  6  6 13  1 16 11  9  5\n",
      " 18 12 18 16 16 12  8 19  0 12 14  0 15  4  7  8  3  2 19 13 16]\n"
     ]
    },
    {
     "data": {
      "text/plain": "[0,\n 0,\n 1,\n 2,\n 2,\n 3,\n 4,\n 5,\n 5,\n 6,\n 6,\n 6,\n 6,\n 7,\n 8,\n 8,\n 9,\n 9,\n 10,\n 10,\n 10,\n 11,\n 11,\n 12,\n 12,\n 12,\n 12,\n 13,\n 13,\n 14,\n 15,\n 15,\n 15,\n 16,\n 16,\n 16,\n 16,\n 17,\n 18,\n 18,\n 18,\n 18,\n 18,\n 19,\n 19]"
     },
     "execution_count": 7,
     "metadata": {},
     "output_type": "execute_result"
    }
   ],
   "source": [
    "def merge(array1, array2):\n",
    "    array =[]\n",
    "    while 1:\n",
    "        if array1 and not array2:\n",
    "            array.extend(array1)\n",
    "            break\n",
    "        if array2 and not array1:\n",
    "            array.extend(array2)\n",
    "            break\n",
    "        if array1 and array1[0] <= array2[0]:\n",
    "            array.append(array1.pop(0))\n",
    "        else:\n",
    "            array.append(array2.pop(0))\n",
    "    return array\n",
    "    # assert len(array1) == len(array2)\n",
    "    # array1.append(float(\"inf\"))\n",
    "    # array2.append(float(\"inf\"))\n",
    "    # i, j= 0, 0\n",
    "    # new_array = []\n",
    "    # for k in range(len(array2) + len(array2) - 2):\n",
    "    #     if array1[i] <=array2[j]:\n",
    "    #         new_array.append(array1[i])\n",
    "    #         i +=1\n",
    "    #     else:\n",
    "    #         new_array.append(array2[j])\n",
    "    #         j += 1\n",
    "    # return new_array\n",
    "\n",
    "\n",
    "\n",
    "def merge_sort(array):\n",
    "    if len(array) == 1:\n",
    "        return [array[0]]\n",
    "    separator = len(array) // 2\n",
    "    left = merge_sort(array[:separator])\n",
    "    right = merge_sort(array[separator:])\n",
    "    mg= merge(left, right)\n",
    "    return mg\n",
    "\n",
    "\n",
    "print(B)\n",
    "merge_sort(B)\n",
    "\n"
   ],
   "metadata": {
    "collapsed": false,
    "pycharm": {
     "name": "#%%\n"
    }
   }
  },
  {
   "cell_type": "code",
   "execution_count": 8,
   "outputs": [
    {
     "data": {
      "text/plain": "[2, 6, 9, 15, 20, 23, 30, 33, 47, 50]"
     },
     "execution_count": 8,
     "metadata": {},
     "output_type": "execute_result"
    }
   ],
   "source": [
    "def insertion_sort_merge(arr, key):\n",
    "    for i in range(len(arr)):\n",
    "        if key <arr[i]:\n",
    "            arr.insert(i, key)\n",
    "            break\n",
    "    return arr\n",
    "\n",
    "\n",
    "\n",
    "def recursive_insertion_sort(arr):\n",
    "    if len(arr) == 1:\n",
    "        return [arr[0]]\n",
    "    key = arr[-1]\n",
    "    return insertion_sort_merge(recursive_insertion_sort(arr[:-1]), key)\n",
    "\n",
    "\n",
    "\n",
    "\n",
    "recursive_insertion_sort(C)"
   ],
   "metadata": {
    "collapsed": false,
    "pycharm": {
     "name": "#%%\n"
    }
   }
  },
  {
   "cell_type": "code",
   "execution_count": 8,
   "outputs": [],
   "source": [],
   "metadata": {
    "collapsed": false,
    "pycharm": {
     "name": "#%%\n"
    }
   }
  },
  {
   "cell_type": "code",
   "execution_count": 9,
   "outputs": [],
   "source": [
    "from math import floor\n",
    "\n",
    "class Node:\n",
    "\n",
    "    def __init__(self, indice, value):\n",
    "        self.indice = indice\n",
    "        self.value = value\n",
    "        self.parent = None\n",
    "        self.left = None\n",
    "        self.right = None\n",
    "\n",
    "    def __repr__(self):\n",
    "        \"\"\"\n",
    "                       # f\"parent={self.parent},\" \\\n",
    "\n",
    "        :return:\n",
    "        \"\"\"\n",
    "        return f\"Node(indice={self.indice}, \" \\\n",
    "               f\"value={self.value},\" \\\n",
    "\n",
    "class HeapList:\n",
    "\n",
    "    def __init__(self, data= None):\n",
    "        self.nodes = []\n",
    "        self._data = data\n",
    "        self.data = self.initialize(data)\n",
    "\n",
    "    @staticmethod\n",
    "    def initialize(data):\n",
    "        nodes = []\n",
    "        for i, v in enumerate(data, 1):\n",
    "            node = Node(i, v)\n",
    "            if i ==1:\n",
    "                nodes.append(node)\n",
    "                continue\n",
    "            parent = nodes[floor(i//2) -1 ]\n",
    "            node = Node(i, v)\n",
    "\n",
    "            if i % 2 ==0 :\n",
    "                parent.left  = node\n",
    "            else:\n",
    "                parent.right = node\n",
    "            node.parent = parent\n",
    "            nodes.append(node)\n",
    "        return nodes\n",
    "\n",
    "heap = HeapList([16, 14, 10,8,7,9,3, 2,4, 1])"
   ],
   "metadata": {
    "collapsed": false,
    "pycharm": {
     "name": "#%%\n"
    }
   }
  },
  {
   "cell_type": "code",
   "execution_count": 10,
   "outputs": [
    {
     "name": "stdout",
     "output_type": "stream",
     "text": [
      "Node(indice=10, value=1,\n"
     ]
    }
   ],
   "source": [
    "print(heap.data[4].left)"
   ],
   "metadata": {
    "collapsed": false,
    "pycharm": {
     "name": "#%%\n"
    }
   }
  },
  {
   "cell_type": "code",
   "execution_count": 11,
   "outputs": [
    {
     "name": "stdout",
     "output_type": "stream",
     "text": [
      "[0, 1, 3, 4, 5, 7, 8, 9, 10, 12, 13, 16, 17, 27]\n"
     ]
    }
   ],
   "source": [
    "class Heap(object):\n",
    "\n",
    "    def __init__(self, data=None):\n",
    "        data = [] if data is None else data\n",
    "        self.data = data\n",
    "        self.heapsize = len(self.data)\n",
    "\n",
    "    def parent(self, i):\n",
    "        # if i>1:\n",
    "        return i//2\n",
    "        # return None\n",
    "\n",
    "    def left(self, i):\n",
    "        # if 2*i < len(self.data) + 1:\n",
    "            # return self.data[2*i - 1]\n",
    "        return 2*i\n",
    "        # return None\n",
    "\n",
    "    def right(self, i):\n",
    "        # if (2*i + 1) < len(self.data) + 1:\n",
    "            # return self.data[2*i]\n",
    "            return 2*i + 1\n",
    "        # return None\n",
    "\n",
    "    def max_heapify(self, i):\n",
    "        left, right = self.left(i), self.right(i)\n",
    "        largest = i\n",
    "        if left <= self.heapsize and self.data[left -1] > self.data[largest - 1]:\n",
    "            largest = left\n",
    "        if right <=self.heapsize and self.data[right - 1] > self.data[largest - 1]:\n",
    "            largest = right\n",
    "        if largest != i:\n",
    "            tmp = self.data[i-1]\n",
    "            self.data[i-1] = self.data[largest-1]\n",
    "            self.data[largest-1] = tmp\n",
    "            self.max_heapify(largest)\n",
    "\n",
    "    def sort(self):\n",
    "        \"\"\"O(n*lgn)\"\"\"\n",
    "        self.build_max_heap()\n",
    "        for i in range(len(self.data), 1, -1):\n",
    "            tmp = self.data[i-1]\n",
    "            self.data[i-1] = self.data[0]\n",
    "            self.data[0] = tmp\n",
    "            self.heapsize -= 1\n",
    "            self.max_heapify(1)\n",
    "\n",
    "\n",
    "\n",
    "    def build_max_heap(self):\n",
    "        for i in range(len(self.data) // 2, 0, -1):\n",
    "            self.max_heapify(i)\n",
    "\n",
    "    def __getitem__(self, item):\n",
    "        return self.data[item]\n",
    "\n",
    "    def __len__(self):\n",
    "        return len(self.data)\n",
    "\n",
    "heap = Heap([ 27, 17, 3 , 16, 13,  10, 1, 5, 7, 12,\n",
    "              4, 8, 9, 0])\n",
    "heap.sort()\n",
    "print(heap.data)"
   ],
   "metadata": {
    "collapsed": false,
    "pycharm": {
     "name": "#%%\n"
    }
   }
  },
  {
   "cell_type": "code",
   "execution_count": 12,
   "outputs": [
    {
     "name": "stdout",
     "output_type": "stream",
     "text": [
      "1 0 0 2 3\n",
      "2 1 1 4 5\n",
      "3 3 1 6 7\n",
      "4 4 2 8 9\n",
      "5 5 2 10 11\n",
      "6 7 3 12 13\n",
      "7 8 3 14 15\n",
      "8 9 4 16 17\n",
      "9 10 4 18 19\n",
      "10 12 5 20 21\n",
      "11 13 5 22 23\n",
      "12 16 6 24 25\n",
      "13 17 6 26 27\n",
      "14 27 7 28 29\n"
     ]
    }
   ],
   "source": [
    "for i in range(1, len(heap.data) + 1):\n",
    "    print(i, heap[i-1], heap.parent(i),\n",
    "          heap.left(i), heap.right(i))"
   ],
   "metadata": {
    "collapsed": false,
    "pycharm": {
     "name": "#%%\n"
    }
   }
  },
  {
   "cell_type": "code",
   "execution_count": 13,
   "outputs": [
    {
     "data": {
      "text/plain": "14"
     },
     "execution_count": 13,
     "metadata": {},
     "output_type": "execute_result"
    }
   ],
   "source": [
    "len(heap)\n"
   ],
   "metadata": {
    "collapsed": false,
    "pycharm": {
     "name": "#%%\n"
    }
   }
  },
  {
   "cell_type": "code",
   "execution_count": 14,
   "outputs": [],
   "source": [
    "heap.sort()"
   ],
   "metadata": {
    "collapsed": false,
    "pycharm": {
     "name": "#%%\n"
    }
   }
  },
  {
   "cell_type": "code",
   "execution_count": 15,
   "outputs": [
    {
     "data": {
      "text/plain": "[1, 3, 4, 5, 7, 8, 9, 10, 12, 13, 16, 17, 27, 0]"
     },
     "execution_count": 15,
     "metadata": {},
     "output_type": "execute_result"
    }
   ],
   "source": [
    "heap.data\n"
   ],
   "metadata": {
    "collapsed": false,
    "pycharm": {
     "name": "#%%\n"
    }
   }
  },
  {
   "cell_type": "code",
   "execution_count": 16,
   "outputs": [
    {
     "name": "stdout",
     "output_type": "stream",
     "text": [
      "27\n",
      "7\n",
      "0 17\n",
      "25\n",
      "16\n",
      "17\n"
     ]
    }
   ],
   "source": [
    "# Priority queue\n",
    "class RangeError(Exception):\n",
    "    pass\n",
    "\n",
    "class PriorityQueue(Heap):\n",
    "    def __init__(self, data):\n",
    "        super(PriorityQueue, self).__init__(data)\n",
    "\n",
    "    def heap_maximum(self):\n",
    "        return self.data[0]\n",
    "\n",
    "    def heap_extract_max(self):\n",
    "        if self.heapsize < 1:\n",
    "            raise RangeError\n",
    "        max_ = self.data[0]\n",
    "        self.data[0] = self.data[self.heapsize - 1]\n",
    "        self.heapsize -= 1\n",
    "        self.max_heapify(1)\n",
    "\n",
    "        return max_\n",
    "    def heap_increase_key(self, i, key):\n",
    "        if key < self.data[i]:\n",
    "            raise ValueError\n",
    "        print(self.data[i])\n",
    "\n",
    "        self.data[i] = key\n",
    "        while i >0 and A[self.parent(i) - 1] < A[i]:\n",
    "            parent = self.parent(i) - 1\n",
    "            print(parent, self.data[parent])\n",
    "            parent_val = self.data[parent]\n",
    "            self.data[parent] = self.data[i]\n",
    "            self.data[i] = parent_val\n",
    "            i = parent\n",
    "\n",
    "pq = PriorityQueue([ 27, 17, 3 , 16, 13,  10, 1, 5, 7, 12,\n",
    "              4, 8, 9, 0])\n",
    "print(pq.heap_extract_max())\n",
    "pq.heap_increase_key(3, 25)\n",
    "print(pq.heap_extract_max())\n",
    "print(pq.heap_extract_max())\n",
    "print(pq.heap_extract_max())"
   ],
   "metadata": {
    "collapsed": false,
    "pycharm": {
     "name": "#%%\n"
    }
   }
  },
  {
   "cell_type": "code",
   "execution_count": 17,
   "outputs": [
    {
     "name": "stdout",
     "output_type": "stream",
     "text": [
      "[-1, 1, 3, 4, 5, 7, 8, 9, 10, 11, 12, 13, 16, 17, 27]\n"
     ]
    }
   ],
   "source": [
    "\"\"\"QuickSort\"\"\"\n",
    "def partition(data,p, r):\n",
    "        x = data[r]\n",
    "        i = p - 1\n",
    "        for j in range(p, r):\n",
    "            if data[j] <= x:\n",
    "                i +=1\n",
    "                dj = data[j]\n",
    "                data[j] = data[i]\n",
    "                data[i] = dj\n",
    "        ar = data[r]\n",
    "        data[r] = data[i+1]\n",
    "        data[i+1] = ar\n",
    "        return i + 1\n",
    "\n",
    "def quicksort(data, p=0, r= None):\n",
    "    if r is None:\n",
    "        r = len(data) - 1\n",
    "\n",
    "    if p < r:\n",
    "        q = partition(data, p, r)\n",
    "        quicksort(data, p, q-1)\n",
    "        quicksort(data, q+1, r)\n",
    "\n",
    "data = [ 27, 17, 3 , 16, 13,-1,  10, 1, 5, 7, 12, 4, 8, 9, 11]\n",
    "# data = [ 27, 17, 3 , 16, 13,  10, 12]\n",
    "\n",
    "quicksort(data)\n",
    "print(data)"
   ],
   "metadata": {
    "collapsed": false,
    "pycharm": {
     "name": "#%%\n"
    }
   }
  },
  {
   "cell_type": "code",
   "execution_count": 18,
   "outputs": [
    {
     "name": "stdout",
     "output_type": "stream",
     "text": [
      "[15 69 25 37 45  5 10 21  4  2  2 26  9 12 33 16 23 10 16 14 55 67 72  1\n",
      "  8]\n"
     ]
    }
   ],
   "source": [
    "data = np.random.random((25)) * np.random.randint(0,100,size=25) + 1\n",
    "data = np.array(data, np.int32)\n",
    "print(data)"
   ],
   "metadata": {
    "collapsed": false,
    "pycharm": {
     "name": "#%%\n"
    }
   }
  },
  {
   "cell_type": "code",
   "execution_count": 19,
   "outputs": [
    {
     "name": "stdout",
     "output_type": "stream",
     "text": [
      "[1, 2, 2, 4, 5, 8, 9, 10, 10, 12, 14, 15, 16, 16, 21, 23, 25, 26, 33, 37, 45, 55, 67, 69, 72]\n",
      "[15 69 25 37 45  5 10 21  4  2  2 26  9 12 33 16 23 10 16 14 55 67 72  1\n",
      "  8]\n"
     ]
    }
   ],
   "source": [
    "\"\"\"Merge Sort\"\"\"\n",
    "\n",
    "def merge_sort(data):\n",
    "    def merge(P1, P2):\n",
    "        s1 = len(P1)\n",
    "        s2 = len(P2)\n",
    "        P = []\n",
    "        i, j = 0, 0\n",
    "        s = len(P1) + len(P2)\n",
    "\n",
    "        while i + j < s:\n",
    "            if (i < s1 and j < s2 and P1[i] <= P2[j]) or j >= s2:\n",
    "                P.append(P1[i])\n",
    "                i += 1\n",
    "            elif (i < s1 and j < s2 and P2[j] < P1[i]) or i >= s1:\n",
    "                P.append(P2[j])\n",
    "                j += 1\n",
    "        return P\n",
    "\n",
    "    size = len(data)\n",
    "    if size == 1:\n",
    "        return data\n",
    "    p1, p2 = data[0:size // 2], data[size // 2:]\n",
    "    return merge( merge_sort(p1), merge_sort(p2))\n",
    "\n",
    "\n",
    "d = deepcopy(data)\n",
    "print(merge_sort(d))\n",
    "print(d)"
   ],
   "metadata": {
    "collapsed": false,
    "pycharm": {
     "name": "#%%\n"
    }
   }
  },
  {
   "cell_type": "code",
   "execution_count": 20,
   "outputs": [
    {
     "name": "stdout",
     "output_type": "stream",
     "text": [
      "None\n",
      "67\n"
     ]
    }
   ],
   "source": [
    "def binary_search(data, v, low=0, high=-1):\n",
    "    \"\"\"Search in sorted array. O(lgn)\"\"\"\n",
    "    if len(data)== 1:\n",
    "        return low if data[0] == v else None\n",
    "    p1, p2 = data[:len(data)//2], data[len(data)//2:]\n",
    "    return binary_search(p1, v, low=low) if p1[-1] >= v \\\n",
    "        else binary_search(p2, v, low=low + len(data)//2)\n",
    "print(binary_search(merge_sort(d), 52))\n",
    "print(merge_sort(d)[22])\n"
   ],
   "metadata": {
    "collapsed": false,
    "pycharm": {
     "name": "#%%\n"
    }
   }
  },
  {
   "cell_type": "code",
   "execution_count": 21,
   "outputs": [
    {
     "name": "stdout",
     "output_type": "stream",
     "text": [
      "d 12 72 81\n",
      "9 24\n"
     ]
    }
   ],
   "source": [
    "def find_element_for_sum(data, s):\n",
    "    \"\"\"0(nlgn)\"\"\"\n",
    "    data = merge_sort(data) # O(nlgn)\n",
    "    for i in range(len(data)):\n",
    "        target = binary_search(data[i+1:len(data)], s - data[i])\n",
    "        if target is not None:\n",
    "            print(\"d\", data[i], data[target + i +1 ], data[i] + data[target+i])\n",
    "            return i, target+i+1\n",
    "\n",
    "    return [None] * 2\n",
    "\n",
    "x1, x2 = find_element_for_sum(d, s=84)\n",
    "print(x1, x2)"
   ],
   "metadata": {
    "collapsed": false,
    "pycharm": {
     "name": "#%%\n"
    }
   }
  },
  {
   "cell_type": "code",
   "execution_count": 30,
   "outputs": [
    {
     "name": "stdout",
     "output_type": "stream",
     "text": [
      "Left: [2], Right: [3]\n",
      "Left: [6], Right: [1]\n",
      "Left: [8], Right: [1, 6]\n",
      "Left: [2, 3], Right: [1, 6, 8]\n"
     ]
    },
    {
     "data": {
      "text/plain": "5"
     },
     "execution_count": 30,
     "metadata": {},
     "output_type": "execute_result"
    }
   ],
   "source": [
    "\n",
    "def inversion(data):\n",
    "    \"\"\"Give an algorithm that determines the number of inversions in any permutation\n",
    "on n elements in ‚.n lg n/ worst-case time\"\"\"\n",
    "    if len(data) == 1:\n",
    "        return 0\n",
    "    left, right =data[:len(data)//2], data[len(data)//2:]\n",
    "    c_left = inversion(left)\n",
    "    c_right = inversion(right)\n",
    "    # c = c1 + c2\n",
    "    c = c_left + c_right\n",
    "    i=j=k=0\n",
    "    print(f\"Left: {left}, Right: {right}\")\n",
    "    while i < len(left) and j < len(right):\n",
    "        if left[i] <= right[j]:\n",
    "            data[k] = left[i]\n",
    "            i +=1\n",
    "        else:\n",
    "            c += len(left) - i\n",
    "            data[k] = right[j]\n",
    "            j +=1\n",
    "        k +=1\n",
    "\n",
    "    while i < len(left):\n",
    "        data[k] = left[i]\n",
    "        i +=1\n",
    "        k +=1\n",
    "    while j < len(right):\n",
    "        data[k] = right[j]\n",
    "\n",
    "        j +=1\n",
    "        k +=1\n",
    "\n",
    "    for _j in range(j, len(right)):\n",
    "        data[_j] = right[_j]\n",
    "\n",
    "    return c\n",
    "\n",
    "\n",
    "\n",
    "\n",
    "dd= [2,3,8,6,1]\n",
    "inversion(dd)"
   ],
   "metadata": {
    "collapsed": false,
    "pycharm": {
     "name": "#%%\n"
    }
   }
  },
  {
   "cell_type": "code",
   "execution_count": null,
   "outputs": [],
   "source": [],
   "metadata": {
    "collapsed": false,
    "pycharm": {
     "name": "#%%\n"
    }
   }
  }
 ],
 "metadata": {
  "kernelspec": {
   "display_name": "Python 3",
   "language": "python",
   "name": "python3"
  },
  "language_info": {
   "codemirror_mode": {
    "name": "ipython",
    "version": 2
   },
   "file_extension": ".py",
   "mimetype": "text/x-python",
   "name": "python",
   "nbconvert_exporter": "python",
   "pygments_lexer": "ipython2",
   "version": "2.7.6"
  }
 },
 "nbformat": 4,
 "nbformat_minor": 0
}