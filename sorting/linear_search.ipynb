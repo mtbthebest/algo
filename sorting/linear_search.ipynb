{
 "cells": [
  {
   "cell_type": "code",
   "execution_count": null,
   "metadata": {
    "collapsed": true
   },
   "outputs": [],
   "source": []
  },
  {
   "cell_type": "code",
   "execution_count": 2,
   "outputs": [],
   "source": [
    "import numpy as np\n",
    "import random\n",
    "from copy import deepcopy\n",
    "import math"
   ],
   "metadata": {
    "collapsed": false,
    "pycharm": {
     "name": "#%%\n"
    }
   }
  },
  {
   "cell_type": "code",
   "execution_count": 23,
   "outputs": [],
   "source": [
    "data = [2,5,3,0,2,3,0,3]\n"
   ],
   "metadata": {
    "collapsed": false,
    "pycharm": {
     "name": "#%%\n"
    }
   }
  },
  {
   "cell_type": "code",
   "execution_count": 39,
   "outputs": [
    {
     "name": "stdout",
     "output_type": "stream",
     "text": [
      "[2, 5, 3, 0, 2, 3, 0, 3]\n",
      "[2, 2, 4, 7, 7, 8]\n",
      "Fixiing 3 tp 6\n",
      "[None, None, None, None, None, None, 3, None]\n",
      "[2, 2, 4, 6, 7, 8]\n",
      "-------------\n",
      "-------------\n",
      "Fixiing 0 tp 1\n",
      "[None, 0, None, None, None, None, 3, None]\n",
      "[1, 2, 4, 6, 7, 8]\n",
      "-------------\n",
      "-------------\n",
      "Fixiing 3 tp 5\n",
      "[None, 0, None, None, None, 3, 3, None]\n",
      "[1, 2, 4, 5, 7, 8]\n",
      "-------------\n",
      "-------------\n",
      "Fixiing 2 tp 3\n",
      "[None, 0, None, 2, None, 3, 3, None]\n",
      "[1, 2, 3, 5, 7, 8]\n",
      "-------------\n",
      "-------------\n",
      "Fixiing 0 tp 0\n",
      "[0, 0, None, 2, None, 3, 3, None]\n",
      "[0, 2, 3, 5, 7, 8]\n",
      "-------------\n",
      "-------------\n",
      "Fixiing 3 tp 4\n",
      "[0, 0, None, 2, 3, 3, 3, None]\n",
      "[0, 2, 3, 4, 7, 8]\n",
      "-------------\n",
      "-------------\n",
      "Fixiing 5 tp 7\n",
      "[0, 0, None, 2, 3, 3, 3, 5]\n",
      "[0, 2, 3, 4, 7, 7]\n",
      "-------------\n",
      "-------------\n",
      "Fixiing 2 tp 2\n",
      "[0, 0, 2, 2, 3, 3, 3, 5]\n",
      "[0, 2, 2, 4, 7, 7]\n",
      "-------------\n",
      "-------------\n",
      "[0, 0, 2, 2, 3, 3, 3, 5]\n"
     ]
    }
   ],
   "source": [
    "def counting_sort(A, k):\n",
    "    C = [0 for _ in range(k + 1)]\n",
    "    # Add the number of element equal to each element in the array\n",
    "    for i in range(len(A)):\n",
    "        C[A[i]] += 1\n",
    "    for i in range(1, len(C)):\n",
    "        C[i] = C[i-1] + C[i]\n",
    "    res = [None for _ in range(len(A))]\n",
    "    for j in range(len(A) - 1, -1, -1):\n",
    "        # print(j, A[j], len(res), C[A[j]])\n",
    "        res[C[A[j]] - 1] = A[j]\n",
    "        C[A[j]] = C[A[j]] - 1\n",
    "    return res\n",
    "\n",
    "\n",
    "A = deepcopy(data)\n",
    "B = counting_sort(A, 5)\n",
    "# quicksort(A=A, p=0, r=len(data), key=smallest)\n",
    "# print(A)\n",
    "print(B)"
   ],
   "metadata": {
    "collapsed": false,
    "pycharm": {
     "name": "#%%\n"
    }
   }
  },
  {
   "cell_type": "code",
   "execution_count": 59,
   "outputs": [
    {
     "name": "stdout",
     "output_type": "stream",
     "text": [
      "['SEA', 'TEA', 'MOB', 'TAB', 'DOG', 'RUG', 'DIG', 'BIG', 'BAR', 'EAR', 'TAR', 'COW', 'ROW', 'NOW', 'BOX', 'FOX']\n",
      "['TAB', 'BAR', 'EAR', 'TAR', 'SEA', 'TEA', 'DIG', 'BIG', 'COW', 'DOG', 'ROW', 'MOB', 'BOX', 'NOW', 'FOX', 'RUG']\n",
      "['BOX', 'BAR', 'BIG', 'COW', 'DOG', 'DIG', 'EAR', 'FOX', 'MOB', 'NOW', 'RUG', 'ROW', 'SEA', 'TAB', 'TAR', 'TEA']\n"
     ]
    },
    {
     "data": {
      "text/plain": "['BOX',\n 'BAR',\n 'BIG',\n 'COW',\n 'DOG',\n 'DIG',\n 'EAR',\n 'FOX',\n 'MOB',\n 'NOW',\n 'RUG',\n 'ROW',\n 'SEA',\n 'TAB',\n 'TAR',\n 'TEA']"
     },
     "execution_count": 59,
     "metadata": {},
     "output_type": "execute_result"
    }
   ],
   "source": [
    "def radix_sort(A, k=3):\n",
    "    def _count_sort(A, _max, index):\n",
    "        C= [0 for _ in range(_max)]\n",
    "\n",
    "        for i in range(len(A)):\n",
    "            C[ord(A[i][index])- 65] += 1\n",
    "\n",
    "        for j in range(1,len(C)):\n",
    "            C[j] = C[j-1] + C[j]\n",
    "\n",
    "        res = [None for _ in range(len(A))]\n",
    "\n",
    "        for j in range(len(A) -1, -1 , -1):\n",
    "            order = ord(A[j][index]) - 65\n",
    "            res[C[order] - 1] = A[j]\n",
    "            C[order] -=1\n",
    "\n",
    "        return res\n",
    "\n",
    "    B = A\n",
    "    for i in range(k-1, -1, -1):\n",
    "        B = _count_sort(A, 26, index=i)\n",
    "        print(B)\n",
    "\n",
    "    return B\n",
    "\n",
    "data =['COW', 'DOG', 'SEA', 'RUG', 'ROW', 'MOB', 'BOX', 'TAB',\n",
    "    'BAR', 'EAR', 'TAR', 'DIG', 'BIG', 'TEA', 'NOW', 'FOX']\n",
    "radix_sort(data)"
   ],
   "metadata": {
    "collapsed": false,
    "pycharm": {
     "name": "#%%\n"
    }
   }
  },
  {
   "cell_type": "code",
   "execution_count": 69,
   "outputs": [
    {
     "name": "stdout",
     "output_type": "stream",
     "text": [
      "[0.1234, 0.15, 0.1725, 0.3434, 0.565, 0.656, 0.665, 0.897]\n"
     ]
    }
   ],
   "source": [
    "def insertion_sort(arr):\n",
    "    for j in range(1, len(arr)):\n",
    "        key = arr[j]\n",
    "        i = j - 1\n",
    "        while i>=0 and arr[i] > key:\n",
    "            temp = arr[i]\n",
    "            arr[i] = key\n",
    "            arr[i+1] = temp\n",
    "            i -=1\n",
    "\n",
    "\n",
    "def bucket_sort(x, n=10):\n",
    "    B=[ [] for _ in range(n)]\n",
    "\n",
    "    for i in range(len(x)):\n",
    "        B[math.floor(x[i] * 10) ].append(x[i])\n",
    "    for i in range(n):\n",
    "        insertion_sort(B[i])\n",
    "    res = []\n",
    "    for i in range(len(B)):\n",
    "        res += B[i]\n",
    "\n",
    "    return res\n",
    "\n",
    "\n",
    "x = [0.897, 0.565,\n",
    "     0.1234,0.15 , 0.665, 0.656,0.3434, 0.1725]\n",
    "y = bucket_sort(x)\n",
    "print(y)"
   ],
   "metadata": {
    "collapsed": false,
    "pycharm": {
     "name": "#%%\n"
    }
   }
  },
  {
   "cell_type": "code",
   "execution_count": null,
   "outputs": [],
   "source": [
    "\n"
   ],
   "metadata": {
    "collapsed": false,
    "pycharm": {
     "name": "#%%\n"
    }
   }
  }
 ],
 "metadata": {
  "kernelspec": {
   "display_name": "Python 3",
   "language": "python",
   "name": "python3"
  },
  "language_info": {
   "codemirror_mode": {
    "name": "ipython",
    "version": 2
   },
   "file_extension": ".py",
   "mimetype": "text/x-python",
   "name": "python",
   "nbconvert_exporter": "python",
   "pygments_lexer": "ipython2",
   "version": "2.7.6"
  }
 },
 "nbformat": 4,
 "nbformat_minor": 0
}