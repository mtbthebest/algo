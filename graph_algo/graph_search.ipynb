{
 "cells": [
  {
   "cell_type": "code",
   "execution_count": 1,
   "metadata": {
    "collapsed": true
   },
   "outputs": [],
   "source": [
    "\n",
    "%load_ext autoreload\n",
    "%autoreload 2\n",
    "import copy\n",
    "from graph_algo.adt import LinkedGraph as LG, MatrixGraph as MG, Vertex, Edge, MapGraph\n",
    "import  math"
   ]
  },
  {
   "cell_type": "code",
   "execution_count": 2,
   "outputs": [],
   "source": [
    "def make_graph(string, max_vertices):\n",
    "    g = MapGraph()\n",
    "    vertices = [Vertex(i) for i in range(max_vertices + 1)]\n",
    "    for uv in string.split(\" \"):\n",
    "        u, v = map(lambda x:int(x), uv.split(\"-\"))\n",
    "        g.insert_edge(Edge(vertices[u], vertices[v]))\n",
    "    return g"
   ],
   "metadata": {
    "collapsed": false,
    "pycharm": {
     "name": "#%%\n"
    }
   }
  },
  {
   "cell_type": "code",
   "execution_count": 3,
   "outputs": [
    {
     "name": "stdout",
     "output_type": "stream",
     "text": [
      "0-2\n",
      "2-6\n",
      "4-6\n",
      "3-4\n",
      "3-5\n",
      "4-7\n",
      "1-7\n"
     ]
    },
    {
     "data": {
      "text/plain": "[Edge(Vertex(value=0), Vertex(value=2)),\n Edge(Vertex(value=2), Vertex(value=6)),\n Edge(Vertex(value=4), Vertex(value=6)),\n Edge(Vertex(value=3), Vertex(value=4)),\n Edge(Vertex(value=3), Vertex(value=5)),\n Edge(Vertex(value=4), Vertex(value=7)),\n Edge(Vertex(value=1), Vertex(value=7))]"
     },
     "execution_count": 3,
     "metadata": {},
     "output_type": "execute_result"
    }
   ],
   "source": [
    "def dfs(g, root=None, path=None):\n",
    "    \"\"\"Depth first search\"\"\"\n",
    "    path = [] if path is None else path\n",
    "    if root is None:\n",
    "        for _ in g.vertices:\n",
    "            root = _\n",
    "            root.visited = True\n",
    "            break\n",
    "\n",
    "    for vertex in g.adjacent(root):\n",
    "        edge = g.get_edge(root, vertex)\n",
    "        if not hasattr(vertex, \"visited\"):\n",
    "            vertex.visited = True\n",
    "            path.append(edge)\n",
    "            g.print_edge(edge)\n",
    "            dfs(g, vertex, path)\n",
    "\n",
    "    return path\n",
    "\n",
    "dfs(make_graph(\"0-2 0-5 0-7 1-7 2-6 3-4 3-5 4-5 4-6 4-7\",7))"
   ],
   "metadata": {
    "collapsed": false,
    "pycharm": {
     "name": "#%%\n"
    }
   }
  },
  {
   "cell_type": "code",
   "execution_count": 4,
   "outputs": [
    {
     "data": {
      "text/plain": "[Vertex(value=0),\n Vertex(value=2),\n Vertex(value=5),\n Vertex(value=7),\n Vertex(value=6),\n Vertex(value=3),\n Vertex(value=4),\n Vertex(value=1)]"
     },
     "execution_count": 4,
     "metadata": {},
     "output_type": "execute_result"
    }
   ],
   "source": [
    "from data_structures import LinkedQueue\n",
    "def bfs(g, root=None, path=None):\n",
    "    \"\"\"Depth first search\"\"\"\n",
    "    path = [] if path is None else path\n",
    "    if root is None:\n",
    "        for _ in g.vertices:\n",
    "            root = _\n",
    "            root.visited = True\n",
    "            path.append(root)\n",
    "            break\n",
    "    q = LinkedQueue()\n",
    "    q.enqueue(root)\n",
    "    while not q.is_empty():\n",
    "        vertex = q.dequeue()\n",
    "        for adj in g.adjacent(vertex):\n",
    "            if not hasattr(adj, \"visited\"):\n",
    "                q.enqueue(adj)\n",
    "                adj.visited = True\n",
    "                path.append(adj)\n",
    "    return path\n",
    "\n",
    "bfs(make_graph(\"0-2 0-5 0-7 1-7 2-6 3-4 3-5 4-5 4-6 4-7\",7))"
   ],
   "metadata": {
    "collapsed": false,
    "pycharm": {
     "name": "#%%\n"
    }
   }
  },
  {
   "cell_type": "code",
   "execution_count": 116,
   "outputs": [
    {
     "data": {
      "text/plain": "True"
     },
     "execution_count": 116,
     "metadata": {},
     "output_type": "execute_result"
    }
   ],
   "source": [
    "from data_structures import LinkedStack\n",
    "def cycle_detection(g):\n",
    "    for edge in g:\n",
    "        edge.is_traversed = False\n",
    "    for vertex in g.vertices:\n",
    "        vertex.is_visited = False\n",
    "        vertex.parent = None\n",
    "    stack = LinkedStack()\n",
    "    for vertex in g.vertices:\n",
    "        if not vertex.is_visited:\n",
    "            stack.push(vertex)\n",
    "            vertex.is_visited = True\n",
    "        while not stack.is_empty():\n",
    "            vertex = stack.pop()\n",
    "            for adj in g.adjacent(vertex):\n",
    "                if not adj.is_visited:\n",
    "                    adj.is_visited = True\n",
    "                    adj.parent = vertex\n",
    "                    stack.push(adj)\n",
    "                elif adj.is_visited and adj.parent and vertex != adj.parent:\n",
    "                    return True\n",
    "\n",
    "    return False\n",
    "\n",
    "\n",
    "\n",
    "cycle_detection(make_graph(\"0-2 0-5 0-7 1-7 2-6 \"\n",
    "                           \"3-4 3-5 4-5 4-6 4-7\",7))\n",
    "# cycle_detection(make_graph(\"0-1 0-2 2-3 0-4 4-5 4-6 5-6\",6))"
   ],
   "metadata": {
    "collapsed": false,
    "pycharm": {
     "name": "#%%\n"
    }
   }
  },
  {
   "cell_type": "code",
   "execution_count": 114,
   "outputs": [
    {
     "data": {
      "text/plain": "[Vertex(value=4), Vertex(value=7), Vertex(value=0), Vertex(value=5)]"
     },
     "execution_count": 114,
     "metadata": {},
     "output_type": "execute_result"
    }
   ],
   "source": [
    "def find_cycle(g):\n",
    "    for vertex in g.vertices:\n",
    "        vertex.is_visited = False\n",
    "        vertex.parent = None\n",
    "    path = []\n",
    "    stack = LinkedStack()\n",
    "    for vertex in g.vertices:\n",
    "        if not vertex.is_visited:\n",
    "            stack.push(vertex)\n",
    "            vertex.is_visited = True\n",
    "        while not stack.is_empty():\n",
    "            vertex = stack.pop()\n",
    "            for adj in g.adjacent(vertex):\n",
    "                if not adj.is_visited:\n",
    "                    adj.is_visited = True\n",
    "                    adj.parent = vertex\n",
    "                    stack.push(adj)\n",
    "                if adj.is_visited  and adj.parent and\\\n",
    "                        vertex != adj.parent:\n",
    "                    curr_vertex =  vertex\n",
    "                    path.append(curr_vertex)\n",
    "                    while  curr_vertex != adj:\n",
    "                        if curr_vertex.parent is None:\n",
    "                            break\n",
    "                        curr_vertex = curr_vertex.parent\n",
    "                        path.append(curr_vertex)\n",
    "                    if curr_vertex != adj:\n",
    "                        sub_path = []\n",
    "                        root , curr_vertex = curr_vertex, adj\n",
    "                        while curr_vertex != root:\n",
    "                            sub_path.append(curr_vertex)\n",
    "                            curr_vertex = curr_vertex.parent\n",
    "                        path = path + list(reversed(sub_path))\n",
    "\n",
    "                    return path\n",
    "    return  False\n",
    "\n",
    "find_cycle(make_graph(\"0-2 0-5 0-7 1-7 2-6 \"\n",
    "                           \"3-4 3-5 4-5 4-6 4-7\",7))"
   ],
   "metadata": {
    "collapsed": false,
    "pycharm": {
     "name": "#%%\n"
    }
   }
  },
  {
   "cell_type": "code",
   "execution_count": 113,
   "outputs": [
    {
     "name": "stdout",
     "output_type": "stream",
     "text": [
      "Vertex(value=7) Vertex(value=2) Vertex(value=0) Vertex(value=1)\n",
      "Vertex(value=0) Vertex(value=1)\n",
      "Vertex(value=0) Vertex(value=0)  D \n",
      "[Vertex(value=1)]\n"
     ]
    },
    {
     "data": {
      "text/plain": "[Vertex(value=7), Vertex(value=2), Vertex(value=0), Vertex(value=1)]"
     },
     "execution_count": 113,
     "metadata": {},
     "output_type": "execute_result"
    }
   ],
   "source": [
    "find_cycle(make_graph(\"0-3 0-2 0-1 2-6 2-5 2-4 4-1 1-7 2-7 7-8\",8))\n"
   ],
   "metadata": {
    "collapsed": false,
    "pycharm": {
     "name": "#%%\n"
    }
   }
  },
  {
   "cell_type": "code",
   "execution_count": 119,
   "outputs": [],
   "source": [
    "# ame problem Two-colorability, bipartiteness, odd cycle\n",
    "def is_bipartite(g):\n",
    "    class Color:\n",
    "        BLACK = 0\n",
    "        WHITE = 1\n",
    "\n",
    "    stack = LinkedStack()\n",
    "    for vertex in g.vertices:\n",
    "        vertex.is_visited = False\n",
    "        vertex.color = None\n",
    "\n",
    "    for vertex in g.vertices:\n",
    "        if not vertex.is_visited:\n",
    "            vertex.color = Color.BLACK\n",
    "            stack.push(vertex)\n",
    "\n",
    "        while not stack.is_empty():\n",
    "            vertex = stack.pop()\n",
    "\n",
    "            for adj in g.adjacent(vertex):\n",
    "                if not adj.is_visited:\n",
    "                    adj.color = Color.BLACK if vertex.color == Color.WHITE else Color.WHITE\n",
    "                    adj.is_visited = True\n",
    "                    stack.push(adj)\n",
    "                elif adj.is_visited and vertex.color == adj.color:\n",
    "                    return False\n",
    "    return True\n",
    "\n"
   ],
   "metadata": {
    "collapsed": false,
    "pycharm": {
     "name": "#%%\n"
    }
   }
  },
  {
   "cell_type": "code",
   "execution_count": 238,
   "outputs": [
    {
     "name": "stdout",
     "output_type": "stream",
     "text": [
      "----------\n",
      "Vertex(value=8) low:  4 tin:  5\n",
      "Vertex(value=10) low:  4 tin:  6\n",
      "----------\n",
      "----------\n",
      "Vertex(value=7) low:  4 tin:  4\n",
      "Vertex(value=8) low:  4 tin:  5\n",
      "----------\n",
      "----------\n",
      "Vertex(value=6) low:  0 tin:  3\n",
      "Vertex(value=7) low:  4 tin:  4\n",
      "----------\n",
      "Edge(Vertex(value=6), Vertex(value=7))\n",
      "----------\n",
      "Vertex(value=2) low:  0 tin:  2\n",
      "Vertex(value=6) low:  0 tin:  3\n",
      "----------\n",
      "----------\n",
      "Vertex(value=1) low:  0 tin:  1\n",
      "Vertex(value=2) low:  0 tin:  2\n",
      "----------\n",
      "----------\n",
      "Vertex(value=0) low:  0 tin:  0\n",
      "Vertex(value=1) low:  0 tin:  1\n",
      "----------\n",
      "----------\n",
      "Vertex(value=11) low:  9 tin:  11\n",
      "Vertex(value=12) low:  12 tin:  12\n",
      "----------\n",
      "Edge(Vertex(value=11), Vertex(value=12))\n",
      "----------\n",
      "Vertex(value=9) low:  9 tin:  10\n",
      "Vertex(value=11) low:  9 tin:  11\n",
      "----------\n",
      "----------\n",
      "Vertex(value=4) low:  7 tin:  9\n",
      "Vertex(value=9) low:  9 tin:  10\n",
      "----------\n",
      "----------\n",
      "Vertex(value=3) low:  7 tin:  8\n",
      "Vertex(value=4) low:  7 tin:  9\n",
      "----------\n",
      "----------\n",
      "Vertex(value=5) low:  7 tin:  7\n",
      "Vertex(value=3) low:  7 tin:  8\n",
      "----------\n",
      "----------\n",
      "Vertex(value=0) low:  0 tin:  0\n",
      "Vertex(value=5) low:  7 tin:  7\n",
      "----------\n",
      "Edge(Vertex(value=0), Vertex(value=5))\n"
     ]
    }
   ],
   "source": [
    "class C:\n",
    "    count = 0\n",
    "def get_bridges(g, vertex=None, res=None):\n",
    "    if vertex is None:\n",
    "        for i, v in enumerate(g.vertices):\n",
    "            v.is_visited = False\n",
    "            v.tin = -1\n",
    "            v.low = -1\n",
    "            v.parent=None\n",
    "            # v.tin = float(\"inf\")\n",
    "            # v.low = float(\"inf\")\n",
    "            if i == 0:\n",
    "                vertex = v\n",
    "    vertex.is_visited = True\n",
    "    vertex.tin =  C.count\n",
    "    vertex.low = C.count\n",
    "    C.count += 1\n",
    "    for adj in g.adjacent(vertex):\n",
    "        edge = g.get_edge(vertex, adj)\n",
    "        if not adj.is_visited:\n",
    "            # print(\"not visited\")\\\n",
    "            adj.parent = vertex\n",
    "            get_bridges(g, adj)\n",
    "            # print(\"---\")\n",
    "            # print(\"return to\", vertex, adj, adj.low )\n",
    "            vertex.low = min(vertex.low, adj.low)\n",
    "            print(\"-\"*10)\n",
    "            print(vertex, f\"low: \",  vertex.low, f\"tin: \", vertex.tin)\n",
    "            print(adj, f\"low: \", adj.low, f\"tin: \", adj.tin)\n",
    "            print(\"-\"*10)\n",
    "            if adj.low > vertex.tin:\n",
    "                print(edge)\n",
    "        else:\n",
    "            if vertex.parent and vertex.parent != adj:\n",
    "                vertex.low = min(vertex.low, adj.tin)\n",
    "\n",
    "get_bridges(make_graph(\"0-1 0-5 0-6 1-2 2-6 3-4 3-5 4-5 4-9 4-11 \"\n",
    "           \"6-7 7-8 7-10 8-10 9-11 11-12\" , 12))\n",
    "# get_bridges(make_graph(\"3-7 1-4 7-8 0-5 5-2 3-8 2-9 0-6 4-9 2-6 6-4\", 9))"
   ],
   "metadata": {
    "collapsed": false,
    "pycharm": {
     "name": "#%%\n"
    }
   }
  },
  {
   "cell_type": "code",
   "execution_count": 242,
   "outputs": [
    {
     "name": "stdout",
     "output_type": "stream",
     "text": [
      "----------\n",
      "Vertex(value=1) low:  0 tin:  1\n",
      "Vertex(value=2) low:  0 tin:  2\n",
      "----------\n",
      "----------\n",
      "Vertex(value=3) low:  1 tin:  3\n",
      "Vertex(value=4) low:  1 tin:  4\n",
      "----------\n",
      "----------\n",
      "Vertex(value=1) low:  0 tin:  1\n",
      "Vertex(value=3) low:  1 tin:  3\n",
      "----------\n",
      "----------\n",
      "Vertex(value=0) low:  0 tin:  0\n",
      "Vertex(value=1) low:  0 tin:  1\n",
      "----------\n",
      "Articulation point:  Vertex(value=0)\n"
     ]
    }
   ],
   "source": [
    "class C:\n",
    "    root = None\n",
    "    count = 0\n",
    "def get_articulation_point(g, vertex=None):\n",
    "    \"\"\"\n",
    "    https://cp-algorithms.com/graph/cutpoints.html\n",
    "    Let's say we are in the DFS, looking through the edges starting from vertex v≠root. If the current edge (v,to) is such that none of the vertices to or its descendants in the DFS traversal tree has a back-edge to any of ancestors of v, then v is an articulation point. Otherwise, v is not an articulation point.\n",
    "\n",
    "Let's consider the remaining case of v=root. This vertex will be the point of articulation if and only if this vertex has more than one child in the DFS tree.\n",
    "    :param g:\n",
    "    :param vertex:\n",
    "    :return:\n",
    "    \"\"\"\n",
    "    if vertex is None:\n",
    "        for i, v in enumerate(g.vertices):\n",
    "            v.is_visited = False\n",
    "            v.tin = -1\n",
    "            v.low = -1\n",
    "            v.parent=None\n",
    "            # v.tin = float(\"inf\")\n",
    "            # v.low = float(\"inf\")\n",
    "            if i == 0:\n",
    "                vertex = v\n",
    "    if C.root is None:\n",
    "        C.root = vertex\n",
    "    vertex.is_visited = True\n",
    "    vertex.tin =  C.count\n",
    "    vertex.low = C.count\n",
    "    children = 0\n",
    "    C.count += 1\n",
    "    for adj in g.adjacent(vertex):\n",
    "        edge = g.get_edge(vertex, adj)\n",
    "        if not adj.is_visited:\n",
    "            # print(\"not visited\")\\\n",
    "            adj.parent = vertex\n",
    "            get_bridges(g, adj)\n",
    "            # print(\"---\")\n",
    "            # print(\"return to\", vertex, adj, adj.low )\n",
    "            vertex.low = min(vertex.low, adj.low)\n",
    "            print(\"-\"*10)\n",
    "            print(vertex, f\"low: \",  vertex.low, f\"tin: \", vertex.tin)\n",
    "            print(adj, f\"low: \", adj.low, f\"tin: \", adj.tin)\n",
    "            print(\"-\"*10)\n",
    "            if adj.low >= vertex.tin:\n",
    "                print(\"Articulation point: \", vertex)\n",
    "\n",
    "            children += 1\n",
    "        else:\n",
    "            if vertex.parent and vertex.parent != adj:\n",
    "                vertex.low = min(vertex.low, adj.tin)\n",
    "    if children > 1 and C.root == vertex:\n",
    "        print(\"Articulation point: \", vertex)\n",
    "get_articulation_point(make_graph(\"0-1 1-2 0-2 1-3 1-4 3-4\", 4))\n",
    "# get_articulation_point(make_graph(\"0-1 0-5 0-6 1-2 2-6 3-4 3-5 4-5 4-9 4-11 \"\n",
    "#            \"6-7 7-8 7-10 8-10 9-11 11-12\" , 12))\n"
   ],
   "metadata": {
    "collapsed": false,
    "pycharm": {
     "name": "#%%\n"
    }
   }
  },
  {
   "cell_type": "code",
   "execution_count": null,
   "outputs": [],
   "source": [
    "\"\"\"\n",
    "Exercises: 3-7 1-4 7-8 0-5 5-2 3-8 2-9 0-6 4-9 2-6 6-4\n",
    "\"\"\"\n",
    "\n",
    "\n"
   ],
   "metadata": {
    "collapsed": false,
    "pycharm": {
     "name": "#%%\n"
    }
   }
  },
  {
   "cell_type": "code",
   "execution_count": 167,
   "outputs": [
    {
     "name": "stdout",
     "output_type": "stream",
     "text": [
      "1 2\n",
      "2 1\n",
      "3 2\n",
      "4 2\n",
      "5 1\n",
      "6 2\n",
      "7 1\n",
      "8 2\n",
      "9 1\n"
     ]
    }
   ],
   "source": [
    "def find_shortest_path(g, start, end):\n",
    "    q = LinkedQueue()\n",
    "    q.enqueue(start)\n",
    "    for vertex in g.vertices:\n",
    "        vertex.distance = float(\"inf\")\n",
    "        vertex.is_visited = False\n",
    "    start.is_visited = True\n",
    "    start.distance = 0\n",
    "    while not q.is_empty():\n",
    "        vertex = q.dequeue()\n",
    "        for adj in g.adjacent(vertex):\n",
    "            if not adj.is_visited:\n",
    "                adj.is_visited = True\n",
    "                q.enqueue(adj)\n",
    "                adj.distance = min(vertex.distance + 1, adj.distance)\n",
    "    return end.distance\n",
    "\n",
    "\n",
    "\n",
    "_g = make_graph(\"0-2 0-5 0-7 1-7 2-6 \"\n",
    "                           \"3-4 3-5 4-5 4-6 4-7 1-8 8-9 9-0\",9)\n",
    "vertices = list(_g.vertices)\n",
    "\n",
    "for i in range(1,10):\n",
    "    print(i, find_shortest_path(_g, vertices[0], vertices[i]))"
   ],
   "metadata": {
    "collapsed": false,
    "pycharm": {
     "name": "#%%\n"
    }
   }
  },
  {
   "cell_type": "code",
   "execution_count": null,
   "outputs": [],
   "source": [
    "\n"
   ],
   "metadata": {
    "collapsed": false,
    "pycharm": {
     "name": "#%%\n"
    }
   }
  }
 ],
 "metadata": {
  "kernelspec": {
   "display_name": "Python 3",
   "language": "python",
   "name": "python3"
  },
  "language_info": {
   "codemirror_mode": {
    "name": "ipython",
    "version": 2
   },
   "file_extension": ".py",
   "mimetype": "text/x-python",
   "name": "python",
   "nbconvert_exporter": "python",
   "pygments_lexer": "ipython2",
   "version": "2.7.6"
  }
 },
 "nbformat": 4,
 "nbformat_minor": 0
}