{
 "cells": [
  {
   "cell_type": "code",
   "execution_count": 1,
   "outputs": [],
   "source": [
    "import numpy as np\n",
    "import random\n",
    "from copy import deepcopy\n",
    "import math"
   ],
   "metadata": {
    "collapsed": false,
    "pycharm": {
     "name": "#%%\n"
    }
   }
  },
  {
   "cell_type": "code",
   "execution_count": 48,
   "outputs": [],
   "source": [
    "data = np.random.rand(6)\n"
   ],
   "metadata": {
    "collapsed": false,
    "pycharm": {
     "name": "#%%\n"
    }
   }
  },
  {
   "cell_type": "code",
   "execution_count": 49,
   "outputs": [
    {
     "name": "stdout",
     "output_type": "stream",
     "text": [
      "[0.57963972 0.78412806 0.75699451 0.09579398 0.32764831 0.77670297]\n",
      "0.09579397979089765 0.784128058688774\n"
     ]
    }
   ],
   "source": [
    "class Empty(Exception):...\n",
    "\n",
    "def find_min_max(x):\n",
    "    '''Simultaneous minmax with 3 * theta(n/2)'''\n",
    "    n = len(x)\n",
    "    if n == 0:\n",
    "        raise Empty(\"The array is empty\")\n",
    "    if n == 1:\n",
    "        return x[0], x[0]\n",
    "\n",
    "    if n % 2 == 1:\n",
    "        max_, min_ = x[0], x[0]\n",
    "        index = 1\n",
    "    else:\n",
    "        min_ = min(x[0], x[1])\n",
    "        max_ = max(x[0], x[1])\n",
    "        index = 2\n",
    "    for i in range(index, n-1, 2):\n",
    "        val1, val2 = x[i], x[i+1]\n",
    "        if val1 < val2:\n",
    "            if  val1 < min_:\n",
    "                min_ = val1\n",
    "            if val2 > max_:\n",
    "                max_ = val2\n",
    "        else:\n",
    "            if  val2 < min_:\n",
    "                min_ = val2\n",
    "            if val1 > max_:\n",
    "                max_ = val1\n",
    "\n",
    "    return min_, max_\n",
    "\n",
    "min_, max_ = find_min_max(deepcopy(data))\n",
    "print(data)\n",
    "print(min_, max_)"
   ],
   "metadata": {
    "collapsed": false,
    "pycharm": {
     "name": "#%%\n"
    }
   }
  },
  {
   "cell_type": "code",
   "execution_count": 65,
   "outputs": [
    {
     "name": "stdout",
     "output_type": "stream",
     "text": [
      "-1\n",
      "[16, 17, 2, 14, -4, 3, 27, -1, 14, 8, 13, 10, 9]\n"
     ]
    }
   ],
   "source": [
    "smallest = lambda x, y : x < y\n",
    "def partition(A, p, r, key =smallest):\n",
    "    \"\"\"Worst Case O(n**2) best case theta(nlgn)  \"\"\"\n",
    "    i = p - 1\n",
    "    pivot = A[r - 1]\n",
    "    for j in range(p, r - 1):\n",
    "        flag = key(A[j], pivot)\n",
    "        if flag:\n",
    "            i +=1\n",
    "            temp = A[j]\n",
    "            A[j] = A[i]\n",
    "            A[i] = temp\n",
    "    temp = pivot\n",
    "    A[r-1] = A[i+1]\n",
    "    A[i+1] = temp\n",
    "\n",
    "    return i + 1\n",
    "\n",
    "\n",
    "def randomized_partition(A, p, r, key=smallest):\n",
    "    i = random.randint(p, r - 1)\n",
    "    temp = A[r - 1]\n",
    "    A[r - 1] = A[i]\n",
    "    A[i] = temp\n",
    "    return partition(A, p, r)\n",
    "\n",
    "def randomized_select(x, p,r,i):\n",
    "    \"O(n)\"\n",
    "    q = randomized_partition(x, p, r)\n",
    "    k = q - p + 1\n",
    "    if k == i:\n",
    "        return x[k]\n",
    "    elif i < k:\n",
    "        return randomized_select(x, p, q, i)\n",
    "    else:\n",
    "        return randomized_select(x, q+1, r, i - k)\n",
    "\n",
    "\n",
    "data = [ 16, 17,2, 14, -4, 3 , 27, -1,  14, 8, 13,  10, 9]\n",
    "\n",
    "r = randomized_select(deepcopy(data),0,len(data), 1)\n",
    "print(r)\n",
    "print(data)"
   ],
   "metadata": {
    "collapsed": false,
    "pycharm": {
     "name": "#%%\n"
    }
   }
  },
  {
   "cell_type": "code",
   "execution_count": null,
   "outputs": [],
   "source": [
    "\n"
   ],
   "metadata": {
    "collapsed": false,
    "pycharm": {
     "name": "#%%\n"
    }
   }
  }
 ],
 "metadata": {
  "kernelspec": {
   "display_name": "Python 3",
   "language": "python",
   "name": "python3"
  },
  "language_info": {
   "codemirror_mode": {
    "name": "ipython",
    "version": 2
   },
   "file_extension": ".py",
   "mimetype": "text/x-python",
   "name": "python",
   "nbconvert_exporter": "python",
   "pygments_lexer": "ipython2",
   "version": "2.7.6"
  }
 },
 "nbformat": 4,
 "nbformat_minor": 0
}