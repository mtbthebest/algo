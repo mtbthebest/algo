{
 "cells": [
  {
   "cell_type": "code",
   "execution_count": 11,
   "metadata": {
    "collapsed": true
   },
   "outputs": [
    {
     "name": "stdout",
     "output_type": "stream",
     "text": [
      "The autoreload extension is already loaded. To reload it, use:\n",
      "  %reload_ext autoreload\n"
     ]
    }
   ],
   "source": [
    "\n",
    "%load_ext autoreload\n",
    "%autoreload 2\n",
    "from math import floor\n",
    "from copy import deepcopy"
   ]
  },
  {
   "cell_type": "code",
   "execution_count": 2,
   "outputs": [],
   "source": [
    "from data_structures.priority_queue import  SortedPriorityQueue"
   ],
   "metadata": {
    "collapsed": false,
    "pycharm": {
     "name": "#%%\n"
    }
   }
  },
  {
   "cell_type": "code",
   "execution_count": 5,
   "outputs": [
    {
     "name": "stdout",
     "output_type": "stream",
     "text": [
      "[Item(key=9, value=C), Item(key=7, value=Z), Item(key=5, value=A), Item(key=3, value=B), Item(key=2, value=G), Item(key=1, value=Q)]\n"
     ]
    }
   ],
   "source": [
    "sq = SortedPriorityQueue()\n",
    "\n",
    "sq.add(5, \"A\")\n",
    "sq.add(9, \"C\")\n",
    "sq.add(3, \"B\")\n",
    "sq.add(2, \"G\")\n",
    "sq.add(1, \"Q\")\n",
    "sq.add(7, \"Z\")\n",
    "print(sq)"
   ],
   "metadata": {
    "collapsed": false,
    "pycharm": {
     "name": "#%%\n"
    }
   }
  },
  {
   "cell_type": "code",
   "execution_count": 6,
   "outputs": [
    {
     "name": "stdout",
     "output_type": "stream",
     "text": [
      "(1, 'Q')\n",
      "(2, 'G')\n",
      "(3, 'B')\n",
      "(5, 'A')\n"
     ]
    }
   ],
   "source": [
    "for j in range(4):\n",
    "    print(sq.remove_min())\n",
    "\n",
    "\n"
   ],
   "metadata": {
    "collapsed": false,
    "pycharm": {
     "name": "#%%\n"
    }
   }
  },
  {
   "cell_type": "code",
   "execution_count": 15,
   "outputs": [],
   "source": [
    "from data_structures import HeapPriorityQueue\n"
   ],
   "metadata": {
    "collapsed": false,
    "pycharm": {
     "name": "#%%\n"
    }
   }
  },
  {
   "cell_type": "code",
   "execution_count": 16,
   "outputs": [],
   "source": [
    "heap = HeapPriorityQueue()\n",
    "heap.add(5, \"A\")\n",
    "heap.add(9, \"C\")\n",
    "heap.add(3, \"B\")\n",
    "heap.add(2, \"G\")\n",
    "heap.add(48, \"P\")\n",
    "heap.add(0, \"O\")\n",
    "heap.add(7, \"Z\")\n",
    "heap.add(89, \"Z\")\n",
    "heap.add(17, \"U\")\n",
    "heap.add(8, \"I\")\n",
    "heap.add(62, \"Z\")\n",
    "heap.add(10, \"J\")"
   ],
   "metadata": {
    "collapsed": false,
    "pycharm": {
     "name": "#%%\n"
    }
   }
  },
  {
   "cell_type": "code",
   "execution_count": 17,
   "outputs": [],
   "source": [
    "heap.heapify()"
   ],
   "metadata": {
    "collapsed": false,
    "pycharm": {
     "name": "#%%\n"
    }
   }
  },
  {
   "cell_type": "code",
   "execution_count": 18,
   "outputs": [
    {
     "data": {
      "text/plain": "[Item(key=0, value=O),\n Item(key=2, value=G),\n Item(key=3, value=B),\n Item(key=9, value=C),\n Item(key=8, value=I),\n Item(key=5, value=A),\n Item(key=7, value=Z),\n Item(key=89, value=Z),\n Item(key=17, value=U),\n Item(key=48, value=P),\n Item(key=62, value=Z),\n Item(key=10, value=J)]"
     },
     "execution_count": 18,
     "metadata": {},
     "output_type": "execute_result"
    }
   ],
   "source": [
    "heap._data"
   ],
   "metadata": {
    "collapsed": false,
    "pycharm": {
     "name": "#%%\n"
    }
   }
  },
  {
   "cell_type": "code",
   "execution_count": 19,
   "outputs": [],
   "source": [
    "# for _ in range(len(heap)):\n",
    "#     print(heap.remove_min())"
   ],
   "metadata": {
    "collapsed": false,
    "pycharm": {
     "name": "#%%\n"
    }
   }
  },
  {
   "cell_type": "code",
   "execution_count": 20,
   "outputs": [
    {
     "name": "stdout",
     "output_type": "stream",
     "text": [
      "[3, 62, 10, 17, 48, 5, 7, 9, 2, 0, 8, 89]\n",
      "[3, 48, 10, 17, 8, 5, 7, 9, 2, 0, 62, 89]\n",
      "[0, 17, 10, 9, 8, 5, 7, 3, 2, 48, 62, 89]\n",
      "[2, 9, 10, 3, 8, 5, 7, 0, 17, 48, 62, 89]\n",
      "[0, 9, 7, 3, 8, 5, 2, 10, 17, 48, 62, 89]\n",
      "[2, 8, 7, 3, 0, 5, 9, 10, 17, 48, 62, 89]\n",
      "[5, 3, 7, 2, 0, 8, 9, 10, 17, 48, 62, 89]\n",
      "[0, 3, 5, 2, 7, 8, 9, 10, 17, 48, 62, 89]\n",
      "[2, 3, 0, 5, 7, 8, 9, 10, 17, 48, 62, 89]\n",
      "[0, 2, 3, 5, 7, 8, 9, 10, 17, 48, 62, 89]\n",
      "[0, 2, 3, 5, 7, 8, 9, 10, 17, 48, 62, 89]\n"
     ]
    },
    {
     "data": {
      "text/plain": "[0, 2, 3, 5, 7, 8, 9, 10, 17, 48, 62, 89]"
     },
     "execution_count": 20,
     "metadata": {},
     "output_type": "execute_result"
    }
   ],
   "source": [
    "heap.sort()\n",
    "heap"
   ],
   "metadata": {
    "collapsed": false,
    "pycharm": {
     "name": "#%%\n"
    }
   }
  },
  {
   "cell_type": "code",
   "execution_count": 20,
   "outputs": [],
   "source": [
    "\n",
    "def union_heap_of_binary_trees(t1, t2):\n",
    "    \"\"\"Suppose two binary trees, T1 and T2, hold entries satisfying the heap-order\n",
    "property (but not necessarily the complete binary tree property). Describe\n",
    "a method for combining T1 and T2 into a binary tree T, whose nodes hold\n",
    "the union of the entries in T1 and T2 and also satisfy the heap-order property.\n",
    "Your algorithm should run in time O(h1 +h2) where h1 and h2 are\n",
    "the respective heights of T1 and T2.\"\"\"\n",
    "\n",
    "    pass"
   ],
   "metadata": {
    "collapsed": false,
    "pycharm": {
     "name": "#%%\n"
    }
   }
  },
  {
   "cell_type": "code",
   "execution_count": null,
   "outputs": [],
   "source": [
    "    for el in t2._data:\n",
    "        t1.add(el.key, el.value)"
   ],
   "metadata": {
    "collapsed": false,
    "pycharm": {
     "name": "#%%\n"
    }
   }
  },
  {
   "cell_type": "code",
   "execution_count": null,
   "outputs": [],
   "source": [
    "def find_k_largest1(arr, k):\n",
    "    \"\"\"Explain how the k largest elements from an unordered collection of size n\n",
    "can be found in time O(n+k logn) using a maximum-oriented heap.\"\"\"\n",
    "    arr = list(map(lambda x:(x, x), arr))\n",
    "    heap = HeapPriorityQueue(arr) # O(n)\n",
    "    if k > len(arr):\n",
    "        return []\n",
    "    res = []\n",
    "    for i in range(k):\n",
    "        \"O(klg(n))\"\n",
    "        res.append(heap.remove_min()[1])\n",
    "    return res\n",
    "\n",
    "def find_k_largest2(arr, k):\n",
    "    \"\"\"Explain how the k largest elements from an unordered collection of size n\n",
    "can be found in time O(nlog k) using O(k) auxiliary space.\"\"\"\n",
    "    arr = list(map(lambda x:(x, x), arr))\n",
    "    kth_arr = arr[:k]\n",
    "    n = len(arr)\n",
    "\n",
    "    heap = HeapPriorityQueue(kth_arr) # \"O(k)\"\n",
    "    for i in range(k, n):\n",
    "        \"O((n-k)*log(k))\"\n",
    "        if arr[i] < heap.min()[1]:\n",
    "            heap.remove_min()\n",
    "            heap.add(arr[i], arr[i])\n",
    "\n",
    "\n"
   ],
   "metadata": {
    "collapsed": false,
    "pycharm": {
     "name": "#%%\n"
    }
   }
  }
 ],
 "metadata": {
  "kernelspec": {
   "display_name": "Python 3",
   "language": "python",
   "name": "python3"
  },
  "language_info": {
   "codemirror_mode": {
    "name": "ipython",
    "version": 2
   },
   "file_extension": ".py",
   "mimetype": "text/x-python",
   "name": "python",
   "nbconvert_exporter": "python",
   "pygments_lexer": "ipython2",
   "version": "2.7.6"
  }
 },
 "nbformat": 4,
 "nbformat_minor": 0
}