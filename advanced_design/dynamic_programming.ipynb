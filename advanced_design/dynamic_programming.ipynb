{
 "cells": [
  {
   "cell_type": "code",
   "execution_count": 5,
   "metadata": {
    "collapsed": true
   },
   "outputs": [
    {
     "data": {
      "text/plain": "18"
     },
     "execution_count": 5,
     "metadata": {},
     "output_type": "execute_result"
    }
   ],
   "source": [
    "prices = {\n",
    "    1: 1,\n",
    "    2: 5,\n",
    "    3: 8,\n",
    "    4: 9,\n",
    "    5: 10,\n",
    "    6: 17,\n",
    "    7: 17,\n",
    "    8: 20,\n",
    "    9: 24,\n",
    "    10: 30,\n",
    "}\n",
    "\n",
    "def cache(func):\n",
    "    lst = dict()\n",
    "    def wrapper(p, n):\n",
    "        if lst.get(0, None) is not None:\n",
    "            return lst[n]\n",
    "        lst[n] = func(p, n)\n",
    "\n",
    "        return lst[n]\n",
    "\n",
    "    return wrapper\n",
    "\n",
    "@cache\n",
    "def cut_rod(p, n):\n",
    "    if n == 0:\n",
    "        return 0\n",
    "\n",
    "    q = float(\"-inf\")\n",
    "    for i in range(1, n + 1):\n",
    "        q = max(q, p[i] + cut_rod(p, n-i))\n",
    "        # print(f\"n:{n}, i: {i}, {q}\")\n",
    "    return q\n",
    "\n",
    "cut_rod(prices, 7)"
   ]
  },
  {
   "cell_type": "code",
   "execution_count": 12,
   "outputs": [
    {
     "name": "stdout",
     "output_type": "stream",
     "text": [
      " i:0,k:0, k+1:1,j:1,   \n",
      " i:1,k:1, k+1:2,j:2,   \n",
      " i:2,k:2, k+1:3,j:3,   \n",
      " i:3,k:3, k+1:4,j:4,   \n",
      " i:4,k:4, k+1:5,j:5,   \n",
      " i:0,k:0, k+1:1,j:2,   \n",
      " i:0,k:1, k+1:2,j:2,   \n",
      " i:1,k:1, k+1:2,j:3,   \n",
      " i:1,k:2, k+1:3,j:3,   \n",
      " i:2,k:2, k+1:3,j:4,   \n",
      " i:2,k:3, k+1:4,j:4,   \n",
      " i:3,k:3, k+1:4,j:5,   \n",
      " i:3,k:4, k+1:5,j:5,   \n",
      " i:0,k:0, k+1:1,j:3,   \n",
      " i:0,k:1, k+1:2,j:3,   \n",
      " i:0,k:2, k+1:3,j:3,   \n",
      " i:1,k:1, k+1:2,j:4,   \n",
      " i:1,k:2, k+1:3,j:4,   \n",
      " i:1,k:3, k+1:4,j:4,   \n",
      " i:2,k:2, k+1:3,j:5,   \n",
      " i:2,k:3, k+1:4,j:5,   \n",
      " i:2,k:4, k+1:5,j:5,   \n",
      " i:0,k:0, k+1:1,j:4,   \n",
      " i:0,k:1, k+1:2,j:4,   \n",
      " i:0,k:2, k+1:3,j:4,   \n",
      " i:0,k:3, k+1:4,j:4,   \n",
      " i:1,k:1, k+1:2,j:5,   \n",
      " i:1,k:2, k+1:3,j:5,   \n",
      " i:1,k:3, k+1:4,j:5,   \n",
      " i:1,k:4, k+1:5,j:5,   \n",
      " i:0,k:0, k+1:1,j:5,   \n",
      " i:0,k:1, k+1:2,j:5,   \n",
      " i:0,k:2, k+1:3,j:5,   \n",
      " i:0,k:3, k+1:4,j:5,   \n",
      " i:0,k:4, k+1:5,j:5,   \n"
     ]
    },
    {
     "data": {
      "text/plain": "([[0, 15750, 7875, 9375, 11875, 15125],\n  [inf, 0, 2625, 4375, 7125, 10500],\n  [inf, inf, 0, 750, 2500, 5375],\n  [inf, inf, inf, 0, 1000, 3500],\n  [inf, inf, inf, inf, 0, 5000],\n  [inf, inf, inf, inf, inf, 0]],\n [[None, 0, 0, 2, 2, 2],\n  [None, None, 1, 2, 2, 2],\n  [None, None, None, 2, 2, 2],\n  [None, None, None, None, 3, 4],\n  [None, None, None, None, None, 4],\n  [None, None, None, None, None, None]])"
     },
     "execution_count": 12,
     "metadata": {},
     "output_type": "execute_result"
    }
   ],
   "source": [
    "def matrix_chain_order(p):\n",
    "    n = len(p) - 1\n",
    "    m = [[float(\"inf\") for _ in range(n)] for __ in range(n)]\n",
    "    s = [[None for _ in range(n)] for __ in range(n)]\n",
    "\n",
    "    for i in range(n):\n",
    "        m[i][i] = 0\n",
    "\n",
    "    # for i in range(n-1):\n",
    "    #     print(p[i])\n",
    "    #     for j in range(i+1, n):\n",
    "    #         for k in range(i, j):\n",
    "    #             q = m[i][k] + m[k+1][j] + p[i] * p[k + 1] * p[j + 1]\n",
    "    #\n",
    "\n",
    "    for l in range(1, n):\n",
    "        for i in range(n-l):\n",
    "            j = i + l\n",
    "            m[i][j] = float(\"inf\")\n",
    "            for k in range(i, j):\n",
    "                print(f\" i:{i},k:{k}, k+1:{k+1},j:{j},   \" )\n",
    "                q = m[i][k] + m[k+1][j] + p[i] * p[k+1] * p[j+1]\n",
    "                if q < m[i][j]:\n",
    "                    m[i][j] = q\n",
    "                    s[i][j] = k\n",
    "\n",
    "    return m, s\n",
    "\n",
    "\n",
    "\n",
    "p =[30,35,15,5,10,20,25]\n",
    "matrix_chain_order(p)\n"
   ],
   "metadata": {
    "collapsed": false,
    "pycharm": {
     "name": "#%%\n"
    }
   }
  },
  {
   "cell_type": "code",
   "execution_count": 21,
   "outputs": [
    {
     "name": "stdout",
     "output_type": "stream",
     "text": [
      "0 0\n",
      "0 1\n",
      "0 2\n",
      "0 3\n",
      "0 4\n",
      "0 5\n",
      "1 0\n",
      "1 1\n",
      "1 2\n",
      "1 3\n",
      "1 4\n",
      "1 5\n",
      "2 0\n",
      "2 1\n",
      "2 2\n",
      "2 3\n",
      "2 4\n",
      "2 5\n",
      "3 0\n",
      "3 1\n",
      "3 2\n",
      "3 3\n",
      "3 4\n",
      "3 5\n",
      "4 0\n",
      "4 1\n",
      "4 2\n",
      "4 3\n",
      "4 4\n",
      "4 5\n",
      "5 0\n",
      "5 1\n",
      "5 2\n",
      "5 3\n",
      "5 4\n",
      "5 5\n",
      "6 0\n",
      "6 1\n",
      "6 2\n",
      "6 3\n",
      "6 4\n",
      "6 5\n"
     ]
    },
    {
     "data": {
      "text/plain": "[[6, 6, 6, 0, 4, 0, 6],\n [0, 6, 6, 6, 0, 0, 6],\n [6, 6, 7, 7, 7, 7, 6],\n [0, 6, 7, 7, 0, 7, 6],\n [6, 0, 7, 7, 7, 7, 6],\n [6, 6, 7, 8, 8, 8, 6],\n [0, 6, 7, 8, 9, 9, 6],\n [0, 1, 2, 3, 4, 5, 6]]"
     },
     "execution_count": 21,
     "metadata": {},
     "output_type": "execute_result"
    }
   ],
   "source": [
    "def lcs_length(x, y):\n",
    "    m = len(x)\n",
    "    n = len(y)\n",
    "    c = [[_ for _ in range(n + 1)] for __ in range(m + 1)]\n",
    "    for i in range(m):\n",
    "        for j in range(n):\n",
    "            if x[i] == y[j]:\n",
    "                c[i][j] = 0 if i&j ==0 else c[i-1][j-1] + 1\n",
    "            elif c[i-1][j] >= c[i][j -1]:\n",
    "                c[i][j] = c[i-1][j]\n",
    "            else:\n",
    "                c[i][j] = c[i][j-1]\n",
    "    return c\n",
    "lcs_length(['A' ,'B' ,'C' ,'B' ,'D' ,'A', 'B'],\n",
    "           ['B', 'D', 'C', 'A', 'B', 'A']\n",
    "           )"
   ],
   "metadata": {
    "collapsed": false,
    "pycharm": {
     "name": "#%%\n"
    }
   }
  },
  {
   "cell_type": "code",
   "execution_count": null,
   "outputs": [],
   "source": [
    "\n"
   ],
   "metadata": {
    "collapsed": false,
    "pycharm": {
     "name": "#%%\n"
    }
   }
  }
 ],
 "metadata": {
  "kernelspec": {
   "display_name": "Python 3",
   "language": "python",
   "name": "python3"
  },
  "language_info": {
   "codemirror_mode": {
    "name": "ipython",
    "version": 2
   },
   "file_extension": ".py",
   "mimetype": "text/x-python",
   "name": "python",
   "nbconvert_exporter": "python",
   "pygments_lexer": "ipython2",
   "version": "2.7.6"
  }
 },
 "nbformat": 4,
 "nbformat_minor": 0
}