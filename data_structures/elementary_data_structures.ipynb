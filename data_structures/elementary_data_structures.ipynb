{
 "cells": [
  {
   "cell_type": "code",
   "execution_count": 1,
   "outputs": [],
   "source": [
    "class Container:\n",
    "\n",
    "    def __init__(self, data=None):\n",
    "        self.data = [] if data is None else data\n",
    "\n",
    "    def __len__(self):\n",
    "        return len(self.data)\n",
    "\n",
    "    def __getitem__(self, item):\n",
    "        return self.data[item]\n",
    "    def __setitem__(self, item, value):\n",
    "        self.data[item] = value\n",
    "\n",
    "    def __iter__(self):\n",
    "        return iter(self.data)\n",
    "\n",
    "    def append(self, value):\n",
    "        self.data.append(value)\n",
    "\n",
    "    def pop(self):\n",
    "        return self.data.pop()\n",
    "\n",
    "    def insert(self, index, value):\n",
    "        self.data.insert(index, value)\n",
    "\n",
    "    def __repr__(self):\n",
    "        return f\"{self.__class__.__name__}({self.data})\"\n"
   ],
   "metadata": {
    "collapsed": false,
    "pycharm": {
     "name": "#%%\n"
    }
   }
  },
  {
   "cell_type": "code",
   "execution_count": 2,
   "outputs": [
    {
     "name": "stdout",
     "output_type": "stream",
     "text": [
      "8\n",
      "-4\n"
     ]
    }
   ],
   "source": [
    "class FullError(Exception):...\n",
    "class EmptyError(Exception):...\n",
    "\n",
    "class Stack:\n",
    "\n",
    "    def __init__(self, maxlength):\n",
    "        self.maxlength = maxlength\n",
    "        self.cont = Container([None for _ in range(maxlength)])\n",
    "        self.top = -1\n",
    "\n",
    "    def empty(self):\n",
    "        return self.top < 0\n",
    "\n",
    "    def full(self):\n",
    "        return self.top == self.maxlength - 1\n",
    "\n",
    "\n",
    "    def push(self, value):\n",
    "        if self.full():\n",
    "            raise FullError(\"Full Stack\")\n",
    "        self.cont.append(value)\n",
    "        self.top += 1\n",
    "\n",
    "    def pop(self):\n",
    "        if not self.empty():\n",
    "            self.top -= 1\n",
    "            return self.cont.pop()\n",
    "        raise EmptyError(\"Underflow\")\n",
    "\n",
    "    def __repr__(self):\n",
    "        return f\"{self.__class__.__name__}({self.cont})\"\n",
    "\n",
    "\n",
    "st = Stack(maxlength=5)\n",
    "st.push(8)\n",
    "print(st.pop())\n",
    "# print(st.pop())\n",
    "st.push(-4)\n",
    "print(st.pop())\n",
    "# print(st.pop())"
   ],
   "metadata": {
    "collapsed": false,
    "pycharm": {
     "name": "#%%\n"
    }
   }
  },
  {
   "cell_type": "code",
   "execution_count": 3,
   "outputs": [
    {
     "name": "stdout",
     "output_type": "stream",
     "text": [
      "1\n",
      "2\n"
     ]
    }
   ],
   "source": [
    "\n",
    "\n",
    "class Queue:\n",
    "\n",
    "    def __init__(self, maxlength):\n",
    "        self.cont = Container([None for _ in range(maxlength)])\n",
    "        self.maxlength = maxlength\n",
    "        self.tail = 0\n",
    "        self.head = 0\n",
    "        self._empty = True\n",
    "\n",
    "    def enqueue(self, x):\n",
    "        self.cont[self.tail] = x\n",
    "        self.tail += 1\n",
    "        self.tail %= self.maxlength\n",
    "        if self.empty:\n",
    "            self.empty = False\n",
    "\n",
    "    def dequeue(self):\n",
    "        if self.empty:\n",
    "            raise Exception(\"Empty\")\n",
    "        x = self.cont[self.head]\n",
    "        self.head += 1\n",
    "        self.head %= self.maxlength\n",
    "\n",
    "        if self.head == self.tail:\n",
    "            self.empty = True\n",
    "        return x\n",
    "\n",
    "    @property\n",
    "    def empty(self):\n",
    "        return self._empty\n",
    "\n",
    "    @empty.setter\n",
    "    def empty(self, value):\n",
    "        self._empty = value\n",
    "\n",
    "    @property\n",
    "    def full(self):\n",
    "        return self.head == self.tail + 1 or (self.head == 0 and self.tail == self.maxlength)\n",
    "\n",
    "\n",
    "q = Queue(3)\n",
    "# print(q.dequeue())\n",
    "\n",
    "q.enqueue(1)\n",
    "q.enqueue(2)\n",
    "print(q.dequeue())\n",
    "\n",
    "q.enqueue(4)\n",
    "print(q.dequeue())\n",
    "# print(q.dequeue())\n",
    "# print(q.dequeue())\n",
    "# print(q.dequeue())"
   ],
   "metadata": {
    "collapsed": false,
    "pycharm": {
     "name": "#%%\n"
    }
   }
  },
  {
   "cell_type": "code",
   "execution_count": 4,
   "outputs": [
    {
     "name": "stdout",
     "output_type": "stream",
     "text": [
      "Container([4, 3, -3, None, None, 4, 3])\n",
      "4\n"
     ]
    }
   ],
   "source": [
    "class Deque(Queue):\n",
    "\n",
    "    def __init__(self, maxlength):\n",
    "        super(Deque, self).__init__(maxlength)\n",
    "        self.left_tail = 0\n",
    "        self.right_tail = -1\n",
    "\n",
    "        self.left_head = 0\n",
    "        self.right_head = -1\n",
    "\n",
    "\n",
    "    def left_enqueue(self, x):\n",
    "        self.cont[self.left_tail] = x\n",
    "        self.left_tail += 1\n",
    "        self.left_tail %= self.maxlength\n",
    "        if self.empty:\n",
    "            self.empty = False\n",
    "\n",
    "    def right_enqueue(self, x):\n",
    "        self.cont[self.right_tail] = x\n",
    "        self.right_tail -= 1\n",
    "        self.right_tail = -((self.right_tail * -1) % self.maxlength)\n",
    "        if self.empty:\n",
    "            self.empty = False\n",
    "\n",
    "\n",
    "    def left_dequeue(self):\n",
    "        if self.empty:\n",
    "            raise Exception(\"Empty\")\n",
    "        x = self.cont[self.left_head]\n",
    "        self.left_head += 1\n",
    "        self.left_head %= self.maxlength\n",
    "\n",
    "        if self.left_tail == self.left_head:\n",
    "            self.empty = True\n",
    "        return x\n",
    "\n",
    "    def right_dequeue(self):\n",
    "        if self.empty:\n",
    "            raise Exception(\"Empty\")\n",
    "        x = self.cont[self.right_head]\n",
    "        self.right_head -= 1\n",
    "        self.right_head *= -1\n",
    "        self.right_head %= self.maxlength\n",
    "        self.right_head *= -1\n",
    "\n",
    "        if self.right_tail == self.right_head:\n",
    "            self.empty = True\n",
    "        return x\n",
    "\n",
    "\n",
    "    enqueue = left_enqueue\n",
    "    dequeue = left_dequeue\n",
    "\n",
    "d = Deque(7)\n",
    "d.enqueue(4)\n",
    "d.right_enqueue(3)\n",
    "d.right_enqueue(4)\n",
    "\n",
    "d.left_enqueue(3)\n",
    "d.left_enqueue(-3)\n",
    "\n",
    "print(d.cont)\n",
    "print(d.dequeue())"
   ],
   "metadata": {
    "collapsed": false,
    "pycharm": {
     "name": "#%%\n"
    }
   }
  },
  {
   "cell_type": "code",
   "execution_count": 5,
   "outputs": [
    {
     "name": "stdout",
     "output_type": "stream",
     "text": [
      "2\n",
      "3\n",
      "3\n",
      "3\n"
     ]
    }
   ],
   "source": [
    "from math import floor\n",
    "class Queue2:\n",
    "    def __init__(self, maxlength):\n",
    "        self.cont = Container([None for _ in range(maxlength)])\n",
    "        divider = floor(maxlength / 2)\n",
    "\n",
    "        self.stack1 = Stack(maxlength=maxlength)\n",
    "        self.stack2 = Stack(maxlength=maxlength)\n",
    "\n",
    "        self.maxlength = maxlength\n",
    "\n",
    "        # self.tail = self.stack1.top\n",
    "        # self.head = self.stack1.top\n",
    "        # self._empty = True\n",
    "\n",
    "    def enqueue(self, x):\n",
    "        self.stack1.push(x)\n",
    "\n",
    "    def dequeue(self):\n",
    "        if not self.stack2.empty():\n",
    "            return self.stack2.pop()\n",
    "        if self.stack1.empty():\n",
    "            raise EmptyError(\"empty\")\n",
    "        if len(self.stack1.cont) == 1:\n",
    "            return self.stack1.pop()\n",
    "        self.move()\n",
    "        x = self.stack2.pop()\n",
    "        return x\n",
    "\n",
    "\n",
    "    def move(self):\n",
    "        while not self.stack1.empty():\n",
    "            self.stack2.push(self.stack1.pop())\n",
    "\n",
    "q2 = Queue2(5)\n",
    "q2.enqueue(2)\n",
    "q2.enqueue(3)\n",
    "print(q2.dequeue())\n",
    "print(q2.dequeue())\n",
    "q2.enqueue(3)\n",
    "q2.enqueue(3)\n",
    "\n",
    "\n",
    "print(q2.dequeue())\n",
    "print(q2.dequeue())"
   ],
   "metadata": {
    "collapsed": false,
    "pycharm": {
     "name": "#%%\n"
    }
   }
  },
  {
   "cell_type": "code",
   "execution_count": 6,
   "outputs": [
    {
     "name": "stdout",
     "output_type": "stream",
     "text": [
      "LinkedList(Node(5),Node(3),Node(4),Node(None))\n",
      "Node(5)\n",
      "Node(3)\n",
      "None\n",
      "Node(4)\n",
      "Node(None)\n",
      "LinkedList(Node(5),Node(4),Node(None))\n"
     ]
    }
   ],
   "source": [
    "class Node:\n",
    "    def __init__(self, k):\n",
    "        self.key = k\n",
    "        self.next = None\n",
    "        self.prev = None\n",
    "    def __repr__(self):\n",
    "        return f\"Node({self.key})\"\n",
    "\n",
    "class LinkedList:\n",
    "    def __init__(self):\n",
    "        self.head = Node(None)\n",
    "        self.size = 0\n",
    "\n",
    "    def insert(self, x):\n",
    "        x.next = self.head\n",
    "        if self.head is not None:\n",
    "            self.head.prev = x\n",
    "        self.head = x\n",
    "        x.prev = None\n",
    "        self.size += 1\n",
    "\n",
    "    def search(self, k):\n",
    "        x = self.head\n",
    "        while x is not None and x.key != k:\n",
    "            x = x.next\n",
    "        return  x\n",
    "\n",
    "    def delete(self, x):\n",
    "        if x.prev is not None:\n",
    "            x.prev.next = x.next\n",
    "        else: self.head = x.next\n",
    "        if x.next is not None:\n",
    "            x.next.prev = x.prev\n",
    "        self.size -= 1\n",
    "\n",
    "    def reverse(self):\n",
    "        \"TODO\"\n",
    "        x = self.head\n",
    "        prev = x.next\n",
    "        nxt = None\n",
    "        while x is not None:\n",
    "            x.prev = prev\n",
    "            x.next = nxt\n",
    "\n",
    "            nxt = x\n",
    "            x = prev\n",
    "            prev = x.next\n",
    "\n",
    "        self.head = x\n",
    "\n",
    "    def __repr__(self):\n",
    "        r = \"LinkedList(\"\n",
    "        x = self.head\n",
    "        while x is not None:\n",
    "            r +=f\"{x},\"\n",
    "            x = x.next\n",
    "        r = r[:-1]\n",
    "        r +=\")\"\n",
    "        return r\n",
    "\n",
    "\n",
    "lk = LinkedList()\n",
    "lk.insert(Node(4))\n",
    "lk.insert(Node(3))\n",
    "lk.insert(Node(5))\n",
    "print(lk)\n",
    "\n",
    "print(lk.head)\n",
    "print(lk.head.next)\n",
    "print(lk.head.prev)\n",
    "lk.delete(lk.search(3))\n",
    "print(lk.head.next)\n",
    "print(lk.head.next.next)\n",
    "print(lk)"
   ],
   "metadata": {
    "collapsed": false,
    "pycharm": {
     "name": "#%%\n"
    }
   }
  },
  {
   "cell_type": "code",
   "execution_count": 11,
   "outputs": [
    {
     "name": "stdout",
     "output_type": "stream",
     "text": [
      "3\n",
      "4\n",
      "2\n"
     ]
    }
   ],
   "source": [
    "\n",
    "class Stack:\n",
    "\n",
    "    def __init__(self, maxlength):\n",
    "        self.lk = LinkedList()\n",
    "        self.maxlength = maxlength\n",
    "\n",
    "    def push(self, x):\n",
    "        if self.lk.size == self.maxlength:\n",
    "            raise FullError(\"Full Stack\")\n",
    "        node = Node(x)\n",
    "        self.lk.insert(node)\n",
    "\n",
    "    def pop(self):\n",
    "        if self.lk.size == 0:\n",
    "            raise EmptyError(\"Empty Stack\")\n",
    "        x = self.lk.head.key\n",
    "        self.lk.delete(self.lk.head)\n",
    "        return x\n",
    "\n",
    "stack = Stack(5)\n",
    "stack.push(4)\n",
    "stack.push(3)\n",
    "print(stack.pop())\n",
    "print(stack.pop())\n",
    "stack.push(2)\n",
    "\n",
    "print(stack.pop())"
   ],
   "metadata": {
    "collapsed": false,
    "pycharm": {
     "name": "#%%\n"
    }
   }
  },
  {
   "cell_type": "code",
   "execution_count": 20,
   "outputs": [
    {
     "name": "stdout",
     "output_type": "stream",
     "text": [
      "4\n",
      "2\n",
      "1\n"
     ]
    }
   ],
   "source": [
    "class TailedLinkedList(LinkedList):\n",
    "    _tail = Node(None)\n",
    "\n",
    "    def insert(self, x):\n",
    "        super().insert(x)\n",
    "        if self._tail.prev is None:\n",
    "            self._tail = x\n",
    "\n",
    "    def delete(self, x):\n",
    "        self._tail = x.prev\n",
    "        super().delete(x)\n",
    "\n",
    "    @property\n",
    "    def tail(self):\n",
    "        return self._tail\n",
    "\n",
    "class Queue:\n",
    "\n",
    "    def __init__(self, maxlength):\n",
    "        self.lk = TailedLinkedList()\n",
    "        self.maxlength = maxlength\n",
    "\n",
    "    def enqueue(self, x):\n",
    "        if self.lk.size == self.maxlength:\n",
    "            raise FullError(\"Full Stack\")\n",
    "        node = Node(x)\n",
    "        self.lk.insert(node)\n",
    "\n",
    "    def dequeue(self):\n",
    "        if self.lk.size == 0:\n",
    "            raise EmptyError(\"Empty Stack\")\n",
    "        x = self.lk.tail.key\n",
    "        self.lk.delete(self.lk.tail)\n",
    "        return x\n",
    "\n",
    "\n",
    "q = Queue(5)\n",
    "q.enqueue(4)\n",
    "q.enqueue(2)\n",
    "q.enqueue(1)\n",
    "print(q.dequeue())\n",
    "print(q.dequeue())\n",
    "print(q.dequeue())"
   ],
   "metadata": {
    "collapsed": false,
    "pycharm": {
     "name": "#%%\n"
    }
   }
  },
  {
   "cell_type": "code",
   "execution_count": null,
   "outputs": [],
   "source": [
    "\n"
   ],
   "metadata": {
    "collapsed": false,
    "pycharm": {
     "name": "#%%\n"
    }
   }
  }
 ],
 "metadata": {
  "kernelspec": {
   "display_name": "Python 3",
   "language": "python",
   "name": "python3"
  },
  "language_info": {
   "codemirror_mode": {
    "name": "ipython",
    "version": 2
   },
   "file_extension": ".py",
   "mimetype": "text/x-python",
   "name": "python",
   "nbconvert_exporter": "python",
   "pygments_lexer": "ipython2",
   "version": "2.7.6"
  }
 },
 "nbformat": 4,
 "nbformat_minor": 0
}