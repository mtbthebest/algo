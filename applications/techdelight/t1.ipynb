{
 "cells": [
  {
   "cell_type": "code",
   "execution_count": 1,
   "metadata": {
    "tags": []
   },
   "outputs": [],
   "source": [
    "from typing import List, Tuple, Set\n"
   ]
  },
  {
   "cell_type": "code",
   "execution_count": null,
   "metadata": {
    "collapsed": false,
    "jupyter": {
     "outputs_hidden": false
    },
    "pycharm": {
     "name": "#%%\n"
    }
   },
   "outputs": [],
   "source": [
    "'''\n",
    "\n",
    "Given an unsorted integer array, find a pair with the given sum in it.\n",
    "\n",
    "• Each input can have multiple solutions. The output should match with either one of them.\n",
    "\n",
    "Input : nums[] = [8, 7, 2, 5, 3, 1], target = 10\n",
    "Output: (8, 2) or (7, 3)\n",
    "\n",
    "• The solution can return pair in any order. If no pair with the given sum exists, the solution should return an empty tuple.\n",
    "\n",
    "Input : nums[] = [5, 2, 6, 8, 1, 9], target = 12\n",
    "Output: ()\n",
    "\n",
    "'''\n",
    "\n",
    "\n",
    "def findPair(self, nums, target: int):\n",
    "    # Write your code here...\n",
    "    d = set()\n",
    "    for i, val in enumerate(nums):\n",
    "        if (target - val) not in d:\n",
    "            d.add(val)\n",
    "        else:\n",
    "            return target - val, val\n",
    "    return ()\n",
    "\n",
    "\n"
   ]
  },
  {
   "cell_type": "code",
   "execution_count": null,
   "metadata": {
    "collapsed": false,
    "jupyter": {
     "outputs_hidden": false
    },
    "pycharm": {
     "name": "#%%\n"
    }
   },
   "outputs": [],
   "source": [
    "'''\n",
    "\n",
    "Given an integer array, check if it contains a contiguous subarray having zero-sum.\n",
    "\n",
    "Input : [3, 4, -7, 3, 1, 3, 1, -4, -2, -2]\n",
    "Output: True\n",
    "Explanation: The subarrays with zero-sum are\n",
    "\n",
    "[3, 4, -7]\n",
    "[4, -7, 3]\n",
    "[-7, 3, 1, 3]\n",
    "[3, 1, -4]\n",
    "[3, 1, 3, 1, -4, -2, -2]\n",
    "[3, 4, -7, 3, 1, 3, 1, -4, -2, -2]\n",
    "\n",
    "Input : [4, -7, 1, 2, -1]\n",
    "Output: False\n",
    "Explanation: The subarray with zero-sum doesn't exist.\n",
    "\n",
    "'''\n",
    "\n",
    "def hasZeroSumSubarray(self, nums) -> bool:\n",
    "    # Write your code here...\n",
    "    s = set()\n",
    "    s.add(0)\n",
    "    _sum = 0\n",
    "    for i, val in enumerate(nums):\n",
    "        _sum += val\n",
    "        if _sum in s:\n",
    "            return True\n",
    "        s.add(_sum)\n",
    "\n",
    "    return False\n"
   ]
  },
  {
   "cell_type": "code",
   "execution_count": null,
   "metadata": {
    "collapsed": false,
    "jupyter": {
     "outputs_hidden": false
    },
    "pycharm": {
     "name": "#%%\n"
    }
   },
   "outputs": [],
   "source": [
    "'''\n",
    "\n",
    "Given an integer array, find all contiguous subarrays with zero-sum.\n",
    "\n",
    "Input : [4, 2, -3, -1, 0, 4]\n",
    "Output: {(0), (-3, -1, 0, 4)}\n",
    "\n",
    "Input : [3, 4, -7, 3, 1, 3, 1, -4, -2, -2]\n",
    "Output: {(3, 4, -7, 3, 1, 3, 1, -4, -2, -2), (3, 4, -7), (3, 1, 3, 1, -4, -2, -2), (3, 1, -4), (-7, 3, 1, 3), (4, -7, 3)}\n",
    "\n",
    "Input : [0, 0]\n",
    "Output: {(0), (0, 0)}\n",
    "\n",
    "Input : [1, 2, 3]\n",
    "Output: {}\n",
    "\n",
    "Note: Since an input can have multiple subarrays with zero-sum, the solution should return a set of tuples containing all the distinct subarrays.\n",
    "\n",
    "'''\n",
    "\n",
    "class Solution:\n",
    "    def getAllZeroSumSubarrays(self, nums):\n",
    "        subarrays = set()\n",
    "        from collections import defaultdict\n",
    "        _sum = 0\n",
    "        indices = defaultdict(list)\n",
    "        indices[0].append(-1)\n",
    "        sums = []\n",
    "        for i, val in enumerate(nums):\n",
    "            _sum += val\n",
    "            sums.append(_sum)\n",
    "            indices[_sum].append(i)\n",
    "        for i,_sum in enumerate(sums):\n",
    "            if len(indices[_sum]) <= 1: continue\n",
    "            if _sum == 0:\n",
    "                from itertools import combinations\n",
    "                for u, v in combinations(indices[_sum], 2):\n",
    "                    u, v = u+1, v+1\n",
    "                    if val := tuple( nums[u: v]):\n",
    "                        subarrays.add(val)\n",
    "                continue\n",
    "\n",
    "            for k in range(len(indices[_sum]) - 1):\n",
    "                u,v =indices[_sum][k] + 1 , indices[_sum][k+1] + 1\n",
    "                if val := tuple( nums[u: v]):\n",
    "                    subarrays.add(val)\n",
    "\n",
    "        return subarrays"
   ]
  },
  {
   "cell_type": "code",
   "execution_count": null,
   "metadata": {
    "collapsed": false,
    "jupyter": {
     "outputs_hidden": false
    },
    "pycharm": {
     "name": "#%%\n"
    }
   },
   "outputs": [],
   "source": [
    "'''\n",
    "\n",
    "Given a binary array, in-place sort it in linear time and constant space. The output should contain all zeroes, followed by all ones.\n",
    "\n",
    "Input : [1, 0, 1, 0, 1, 0, 0, 1]\n",
    "Output: [0, 0, 0, 0, 1, 1, 1, 1]\n",
    "\n",
    "Input : [1, 1]\n",
    "Output: [1, 1]\n",
    "\n",
    "'''\n",
    "\n",
    "def sortArray(self, nums):\n",
    "    # Write your code here...\n",
    "    index = 0\n",
    "\n",
    "    for i, val in enumerate(nums):\n",
    "        if val == 0:\n",
    "            nums[index], nums[i] = nums[i], nums[index]\n",
    "            index += 1\n",
    "\n",
    "    return nums\n",
    "\n"
   ]
  },
  {
   "cell_type": "code",
   "execution_count": null,
   "metadata": {
    "collapsed": false,
    "jupyter": {
     "outputs_hidden": false
    },
    "pycharm": {
     "name": "#%%\n"
    }
   },
   "outputs": [],
   "source": [
    "'''\n",
    "\n",
    "Given an integer array, find the maximum length contiguous subarray having a given sum.\n",
    "\n",
    "Input : nums[] = [5, 6, -5, 5, 3, 5, 3, -2, 0], target = 8\n",
    "Output: [-5, 5, 3, 5]\n",
    "Explanation: The subarrays with sum 8 are [[-5, 5, 3, 5], [3, 5], [5, 3]]. The longest subarray is [-5, 5, 3, 5] having length 4.\n",
    "\n",
    "Note: Since an input can contain several maximum length subarrays with given sum, the solution should return any one of the maximum length subarray.\n",
    "\n",
    "'''\n",
    "\n",
    "class Solution:\n",
    "\n",
    "\tdef findCrossMaxLenSubarray(self, left, right, target):\n",
    "\t\tarr = left + right\n",
    "\t\tn = len(arr)\n",
    "\t\tsums = []\n",
    "\t\t_sum = 0\n",
    "\t\tfor i in range(n):\n",
    "\t\t\t_sum += arr[i]\n",
    "\t\t\tsums.append(_sum)\n",
    "\t\tres = []\n",
    "\t\tindices ={0:-1}\n",
    "\t\tfor i in range(n):\n",
    "\t\t\tval = sums[i] - target\n",
    "\t\t\tif val in indices:\n",
    "\t\t\t\tj = indices[val]\n",
    "\t\t\t\tif len(res) < len(arr[j+1:i+1]):\n",
    "\t\t\t\t\tres = arr[j+1:i+1]\n",
    "\t\t\tif not indices.get(sums[i]):\n",
    "\t\t\t\tindices[sums[i]] = i\n",
    "\t\t\telse:\n",
    "\t\t\t\tindices[sums[i]] = min(i, indices[sums[i]])\n",
    "\n",
    "\t\treturn res\n",
    "\n",
    "\n",
    "\n",
    "\tdef findMaxLenSubarray(self, nums, target: int):\n",
    "\t\t# Write your code here...\n",
    "\t\tif not len(nums):\n",
    "\t\t\treturn []\n",
    "\t\tif len(nums) == 1:\n",
    "\t\t\treturn [nums[-1]] if  nums[-1] == target else []\n",
    "\n",
    "\t\tmid = len(nums) // 2\n",
    "\t\tleft_arr, right_arr = nums[:mid], nums[mid:]\n",
    "\t\tleft = self.findMaxLenSubarray(left_arr, target)\n",
    "\t\tright = self.findMaxLenSubarray(right_arr, target)\n",
    "\t\tcross = self.findCrossMaxLenSubarray(left_arr, right_arr, target)\n",
    "\n",
    "\t\tif len(left) >= max(len(right), len(cross)):\n",
    "\t\t\treturn left\n",
    "\n",
    "\t\telif len(right) >= max(len(left), len(cross)):\n",
    "\t\t\treturn right\n",
    "\t\telse:\n",
    "\t\t\treturn cross\n",
    "\n"
   ]
  },
  {
   "cell_type": "code",
   "execution_count": 46,
   "metadata": {
    "collapsed": false,
    "jupyter": {
     "outputs_hidden": false
    },
    "pycharm": {
     "name": "#%%\n"
    }
   },
   "outputs": [
    {
     "name": "stdout",
     "output_type": "stream",
     "text": [
      "[1, 2, 3, 4, 5]\n",
      "[14, 15, 16, 17, 6]\n",
      "[13, 20, 19, 18, 7]\n",
      "0 2 0 4\n",
      "No\n",
      "No\n",
      "Mat  [[1, 1, 2, 3, 4], [13, 15, 16, 17, 5], [20, 19, 18, 7, 6]]\n",
      "14\n",
      "1 1 1 3\n",
      "No\n",
      "Mat  [[1, 1, 2, 3, 4], [13, 14, 15, 16, 5], [20, 19, 18, 7, 6]]\n",
      "17\n",
      "[[17, 1, 2, 3, 4], [13, 14, 15, 16, 5], [20, 19, 18, 7, 6]]\n"
     ]
    }
   ],
   "source": [
    "'''\n",
    "\n",
    "Given an `M × N` integer matrix, shift all its elements by `1` in spiral order.\n",
    "\n",
    "Input:\n",
    "\n",
    "[\n",
    "\t[ 1,  2,  3,  4, 5],\n",
    "\t[16, 17, 18, 19, 6],\n",
    "\t[15, 24, 25, 20, 7],\n",
    "\t[14, 23, 22, 21, 8],\n",
    "\t[13, 12, 11, 10, 9]\n",
    "]\n",
    "\n",
    "Output:\n",
    "\n",
    "[\n",
    "\t[25,  1,  2,  3, 4],\n",
    "\t[15, 16, 17, 18, 5],\n",
    "\t[14, 23, 24, 19, 6],\n",
    "\t[13, 22, 21, 20, 7],\n",
    "\t[12, 11, 10,  9, 8]\n",
    "]\n",
    "\n",
    "'''\n",
    "\n",
    "\n",
    "class Solution:\n",
    "    \n",
    "    def move_sideways(self, start, stop, step, first_el, mat, row):\n",
    "        for i in range(start, stop, step):\n",
    "            mat[row][i], first_el = first_el, mat[row][i]\n",
    "        \n",
    "        return first_el\n",
    "    \n",
    "    def move_updown(self, start, stop, step, first_el, mat, col):\n",
    "        for i in range(start, stop, step):\n",
    "            mat[i][col], first_el = first_el, mat[i][col]\n",
    "        \n",
    "        return first_el\n",
    "\n",
    "    \n",
    "\n",
    "    def shiftMatrix(self, mat: List[List[int]]) -> None:\n",
    "        # Write your code here...\n",
    "        if not mat:\n",
    "            return\n",
    "        m, n = len(mat), len(mat[0])\n",
    "        if m == 1 and n == 1:\n",
    "            return mat\n",
    "        \n",
    "        top, bottom, left, right = 0, m - 1, 0, n - 1\n",
    "        first_el = None\n",
    "        for el in mat:\n",
    "            print(el)\n",
    "        \n",
    "        while top <= bottom and left <= right:\n",
    "            print(top, bottom, left, right)\n",
    "\n",
    "            \n",
    "            if left == right == bottom == top:\n",
    "                # Shift the central point\n",
    "                mat[0][0] = first_el\n",
    "                mat[top][left], mat[0][0] = first_el, mat[top][left]\n",
    "                first_el = None\n",
    "                break\n",
    "            \n",
    "            for k in range(4):\n",
    "                if k % 2 == 0:\n",
    "                    # Move sideways\n",
    "                    if left >= right or (k == 2 and top == bottom):\n",
    "                        continue\n",
    "                    print(\"No\")\n",
    "                    \n",
    "                    if first_el is None:\n",
    "                        first_el = mat[top][left]\n",
    "                    start, stop, step = (left, right, 1) if k == 0 \\\n",
    "                        else (right, left, -1)\n",
    "                    row = top if k == 0 else bottom\n",
    "                    first_el = self.move_sideways(start, stop, step, mat=mat,\n",
    "                                                  first_el=first_el, row=row)\n",
    "                    if k == 0 and top == bottom:\n",
    "                        first_el, mat[row][stop] =mat[row][stop], first_el\n",
    "                else:\n",
    "                    if top >= bottom or (left == right and k == 3):\n",
    "                        continue\n",
    "                    \n",
    "                    if first_el is None:\n",
    "                        first_el = mat[top][left]\n",
    "                    start, stop, step = (top, bottom, 1) if k == 1 \\\n",
    "                        else (bottom, top, -1)\n",
    "                    if top == 1:\n",
    "                        print(start, stop, \"Kk\", k)\n",
    "                    col = right if k == 1 else left\n",
    "                    \n",
    "                    first_el = self.move_updown(start, stop, step, mat=mat,\n",
    "                                                first_el=first_el, col=col)\n",
    "                    if left == right and k == 1:\n",
    "                        first_el, mat[stop][col] = mat[stop][col], first_el\n",
    "                        \n",
    "\n",
    "            top += 1\n",
    "            bottom -= 1\n",
    "            left += 1\n",
    "            right -= 1\n",
    "            print(\"Mat \", mat)\n",
    "            print(first_el)\n",
    "            \n",
    "        \n",
    "        if first_el is not None:\n",
    "            mat[0][0] = first_el\n",
    "        \n",
    "        print(mat)\n",
    "Solution().shiftMatrix([[1, 2, 3, 4, 5], [14, 15, 16, 17, 6], [13, 20, 19, 18, 7]])"
   ]
  },
  {
   "cell_type": "code",
   "execution_count": 2,
   "metadata": {
    "collapsed": false,
    "jupyter": {
     "outputs_hidden": false
    },
    "pycharm": {
     "name": "#%%\n"
    }
   },
   "outputs": [],
   "source": [
    "'''\n",
    "\n",
    "Given a binary array containing 0’s and 1’s, find the largest contiguous subarray with equal numbers of 0’s and 1’s.\n",
    "\n",
    "Input : [0, 0, 1, 0, 1, 0, 0]\n",
    "Output: [0, 1, 0, 1] or [1, 0, 1, 0]\n",
    "\n",
    "Input : [0, 0, 0, 0]\n",
    "Output: []\n",
    "\n",
    "Note: Since an input can contain several largest subarrays with equal numbers of 0’s and 1’s, the code should return any one of them.\n",
    "\n",
    "'''\n",
    "\n",
    "\n",
    "class Solution:\n",
    "    def findLargestSubarray(self, nums: List[int]) -> List[int]:\n",
    "        # Write your code here...\n",
    "        s = {0: [-1, 0]}\n",
    "        backup_nums = list(nums)\n",
    "        for i, num in enumerate(nums):\n",
    "            nums[i] = -1 if num == 0 else 1\n",
    "        print('Nums ', nums)\n",
    "        _sum = 0\n",
    "        max_size = 0\n",
    "        res = []\n",
    "        for i, num in enumerate(nums):\n",
    "            _sum += num\n",
    "            print(i, \"sum \", _sum)\n",
    "\n",
    "            if _sum in s:\n",
    "                s[_sum] = [s[_sum][0], i]\n",
    "                start, stop = s[_sum]\n",
    "                print(\"Start stop \", _sum)\n",
    "                if stop - start > max_size:\n",
    "                    res = backup_nums[start+1:stop+1]\n",
    "                    max_size = stop - start\n",
    "            else:\n",
    "                s[_sum] = [i, i]\n",
    "\n",
    "        return res\n"
   ]
  },
  {
   "cell_type": "code",
   "execution_count": 5,
   "outputs": [
    {
     "data": {
      "text/plain": "True"
     },
     "execution_count": 5,
     "metadata": {},
     "output_type": "execute_result"
    }
   ],
   "source": [
    "'''\n",
    "\n",
    "Check if a given string can be derived from another string by circularly rotating it. The rotation can be in a clockwise or anti-clockwise rotation.\n",
    "\n",
    "Input: X = 'ABCD', Y = 'DABC'\n",
    "Output: True\n",
    "Explanation: 'DABC' can be derived from 'ABCD' by right-rotating it by 1 unit\n",
    "\n",
    "'''\n",
    "\n",
    "\n",
    "class Solution:\n",
    "    def check(self, X: str, Y: str) -> bool:\n",
    "        n, m = len(X), len(Y)\n",
    "        if n != m:\n",
    "            return False\n",
    "        if not X and not Y:\n",
    "            return True\n",
    "        if (X and not Y) or (not X and Y):\n",
    "            return False\n",
    "        j = 0\n",
    "        while j < m:\n",
    "            if X[0] != Y[j]:\n",
    "                j += 1\n",
    "                continue\n",
    "            k = 0\n",
    "            while  k < n and X[k] == Y[(j + k) % m]:\n",
    "                k += 1\n",
    "            if k == n:\n",
    "                return True\n",
    "            j += 1\n",
    "\n",
    "\n",
    "        return False\n",
    "\n",
    "Solution().check( X = 'ABCD', Y = 'DABC')"
   ],
   "metadata": {
    "collapsed": false,
    "pycharm": {
     "name": "#%%\n"
    }
   }
  },
  {
   "cell_type": "code",
   "execution_count": 6,
   "outputs": [],
   "source": [
    "'''\n",
    "\n",
    "Given a string, check if it is a rotated palindrome or not.\n",
    "\n",
    "Input: 'CBAABCD'\n",
    "Output: True\n",
    "Explanation: 'CBAABCD' is a rotation of the palindrome 'ABCDCBA'\n",
    "\n",
    "Input: 'BAABCC'\n",
    "Output: True\n",
    "Explanation: 'BAABCC' is a rotation of the palindrome 'ABCCBA'\n",
    "\n",
    "Input: 'DCABC'\n",
    "Output: False\n",
    "\n",
    "'''\n",
    "\n",
    "class Solution:\n",
    "\tdef isRotatedPalindrome(self, s: str) -> bool:\n",
    "\t\t# Write your code here...\n",
    "        # n = len(s)\n",
    "        # Pseudo-code: s = s + s\n",
    "        # for each i in [0, n]:\n",
    "        #   check palindrome for s[i:i+n]  'O(n / 2)'\n",
    "\t\treturn"
   ],
   "metadata": {
    "collapsed": false,
    "pycharm": {
     "name": "#%%\n"
    }
   }
  },
  {
   "cell_type": "code",
   "execution_count": 1,
   "metadata": {
    "collapsed": false,
    "jupyter": {
     "outputs_hidden": false
    },
    "pycharm": {
     "name": "#%%\n"
    }
   },
   "outputs": [
    {
     "data": {
      "text/plain": [
       "[[13, 9, 5, 1], [14, 10, 6, 2], [15, 11, 7, 3], [16, 12, 8, 4]]"
      ]
     },
     "execution_count": 1,
     "metadata": {},
     "output_type": "execute_result"
    }
   ],
   "source": [
    "'''\n",
    "\n",
    "Given an `N × N` integer matrix, rotate the matrix by 90 degrees in a clockwise direction. The transformation should be done in-place and in quadratic time.\n",
    "\n",
    "Input:\n",
    "\n",
    "[\n",
    "    [1,  2,  3,  4],\n",
    "    [5,  6,  7,  8],\n",
    "    [9,  10, 11, 12],\n",
    "    [13, 14, 15, 16],\n",
    "]\n",
    "\n",
    "Output:\n",
    "\n",
    "[\n",
    "    [13, 9,  5, 1],\n",
    "    [14, 10, 6, 2],\n",
    "    [15, 11, 7, 3],\n",
    "    [16, 12, 8, 4]\n",
    "]\n",
    "\n",
    "'''\n",
    "from typing import List\n",
    "\n",
    "\n",
    "class Solution:\n",
    "\n",
    "    def shift_row(self, mat, row, left_pos, bottom, start, stop, step):\n",
    "        k = 0\n",
    "        for j in range(start, stop, step):\n",
    "            mat[row][j], mat[bottom - k][left_pos] = mat[bottom - k][left_pos], mat[row][j]\n",
    "            k += 1\n",
    "        return mat\n",
    "\n",
    "    def shift_col(self, mat, col, left_pos, bottom, start, stop, step):\n",
    "        k = 0\n",
    "        for j in range(start, stop, step):\n",
    "            mat[j][col], mat[bottom - k][left_pos] = mat[bottom - k][left_pos], mat[j][col]\n",
    "            k += 1\n",
    "\n",
    "        return mat\n",
    "\n",
    "    def rotateMatrix(self, mat: List[List[int]]):\n",
    "        if not mat:\n",
    "            return mat\n",
    "        n = len(mat)\n",
    "        nrow, ncol = n, n\n",
    "        top, right, bottom, left = 0, ncol - 1, nrow - 1, 0\n",
    "\n",
    "        while top < bottom:\n",
    "            for i in range(3):\n",
    "                # i = 0 top\n",
    "                if i % 2 == 0:\n",
    "                    if i == 0:\n",
    "                        start, stop, step = left, right, 1\n",
    "                        row_col = top\n",
    "                    else:\n",
    "                        start, stop, step = right, left, -1\n",
    "                        row_col = bottom\n",
    "\n",
    "                    mat = self.shift_row(mat, row_col, left, bottom, start, stop, step)\n",
    "\n",
    "                else:\n",
    "                    #i = 1 right\n",
    "                    start, stop, step = top, bottom, 1\n",
    "                    row_col = right\n",
    "                    mat = self.shift_col(mat, row_col, left, bottom, start, stop, step)\n",
    "            top += 1\n",
    "            right -= 1\n",
    "            bottom -= 1\n",
    "            left += 1\n",
    "\n",
    "            ncol -= 2\n",
    "            nrow -= 2\n",
    "\n",
    "        return mat\n",
    "\n",
    "\n",
    "Solution().rotateMatrix(\n",
    "[\n",
    "    [1,  2,  3,  4],\n",
    "    [5,  6,  7,  8],\n",
    "    [9,  10, 11, 12],\n",
    "    [13, 14, 15, 16],\n",
    "])"
   ]
  },
  {
   "cell_type": "code",
   "execution_count": 17,
   "metadata": {
    "collapsed": false,
    "jupyter": {
     "outputs_hidden": false
    },
    "pycharm": {
     "name": "#%%\n"
    }
   },
   "outputs": [
    {
     "name": "stdout",
     "output_type": "stream",
     "text": [
      "0 2 0 2\n",
      "[[5, 6, 7], [8, 9, 4], [3, 2, 1]]\n",
      "1 1 0 2\n",
      "[[5, 6, 7], [4, 9, 8], [3, 2, 1]]\n"
     ]
    },
    {
     "data": {
      "text/plain": [
       "[[5, 6, 7], [4, 9, 8], [3, 2, 1]]"
      ]
     },
     "execution_count": 17,
     "metadata": {},
     "output_type": "execute_result"
    }
   ],
   "source": [
    "'''\n",
    "\n",
    "Given an `N × N` integer matrix, rotate the matrix by 180 degrees in a clockwise direction. The transformation should be done in-place in quadratic time.\n",
    "\n",
    "Input:\n",
    "\n",
    "[\n",
    "\t[1,  2,  3,  4],\n",
    "\t[5,  6,  7,  8],\n",
    "\t[9,  10, 11, 12],\n",
    "\t[13, 14, 15, 16]\n",
    "]\n",
    "\n",
    "Output:\n",
    "\n",
    "[\n",
    "\t[16, 15, 14, 13],\n",
    "\t[12, 11, 10, 9],\n",
    "\t[8,  7,  6,  5],\n",
    "\t[4,  3,  2,  1]\n",
    "]\n",
    "\n",
    "'''\n",
    "\n",
    "\n",
    "class Solution:\n",
    "\n",
    "\n",
    "    def rotateMatrix(self, mat: List[List[int]]) -> List[List[int]]:\n",
    "\t\t# Write your code here...\n",
    "        if not mat:\n",
    "            return mat\n",
    "        n = len(mat)\n",
    "        ncol, nrow = n, n\n",
    "        top, left, bottom, right = 0,0, nrow - 1, ncol - 1\n",
    "        while top <= bottom:\n",
    "            print(top, bottom, left, right)\n",
    "            for i in range(left, right + 1, 1):\n",
    "                if top == bottom and i == (left + right) // 2:\n",
    "                    break\n",
    "                mat[top][i], mat[bottom][right - i] = mat[bottom][right - i], mat[top][i]\n",
    "            top += 1\n",
    "            bottom -= 1\n",
    "            print(mat)\n",
    "        return mat\n",
    "\n",
    "# Solution().rotateMatrix(\n",
    "# [\n",
    "#     [1,  2,  3,  4],\n",
    "#     [5,  6,  7,  8],\n",
    "#     [9,  10, 11, 12],\n",
    "#     [13, 14, 15, 16],\n",
    "# ])\n",
    "Solution().rotateMatrix([[1, 2, 3], [8, 9, 4], [7, 6, 5]])"
   ]
  },
  {
   "cell_type": "code",
   "execution_count": 18,
   "metadata": {
    "collapsed": false,
    "jupyter": {
     "outputs_hidden": false
    },
    "pycharm": {
     "name": "#%%\n"
    }
   },
   "outputs": [
    {
     "name": "stdout",
     "output_type": "stream",
     "text": [
      "[1, 2, 3, 4, 7] [8, 9, 10]\n"
     ]
    }
   ],
   "source": [
    "'''\n",
    "\n",
    "Given two sorted integer arrays, `X[]` and `Y[]` of size `m` and `n` each, in-place merge elements of `X[]` with elements of array `Y[]` by maintaining the sorted order, i.e., fill `X[]` with the first `m` smallest elements and fill `Y[]` with remaining elements.\n",
    "\n",
    "Input :\n",
    "\n",
    "X[] = [1, 4, 7, 8, 10]\n",
    "Y[] = [2, 3, 9]\n",
    "\n",
    "Output:\n",
    "\n",
    "X[] = [1, 2, 3, 4, 7]\n",
    "Y[] = [8, 9, 10]\n",
    "\n",
    "'''\n",
    "\n",
    "class Solution:\n",
    "\n",
    "\n",
    "    def merge(self, X: List[int], Y: List[int]) -> None:\n",
    "        Z = []\n",
    "        import heapq\n",
    "        for _ in X:\n",
    "            heapq.heappush(Z, _)\n",
    "        for _ in Y:\n",
    "            heapq.heappush(Z,_)\n",
    "\n",
    "        for i in range(len(X)):\n",
    "            X[i] = heapq.heappop(Z)\n",
    "        for i in range(len(Y)):\n",
    "            Y[i] = heapq.heappop(Z)\n",
    "\n",
    "\n",
    "\n",
    "X = [1, 4, 7, 8, 10]\n",
    "Y = [2, 3, 9]\n",
    "\n",
    "Solution().merge(X, Y)\n",
    "print(X, Y)"
   ]
  },
  {
   "cell_type": "code",
   "execution_count": 32,
   "metadata": {
    "collapsed": false,
    "jupyter": {
     "outputs_hidden": false
    },
    "pycharm": {
     "name": "#%%\n"
    }
   },
   "outputs": [
    {
     "name": "stdout",
     "output_type": "stream",
     "text": [
      "X  [0, 2, 0, 3, 0, 5, 6, 0, 0]\n",
      "X  [2, 2, 0, 3, 0, 5, 6, 0, 0]\n",
      "X  [2, 2, 0, 3, 0, 5, 6, 0, 0]\n",
      "X  [2, 3, 0, 3, 0, 5, 6, 0, 0]\n",
      "X  [2, 3, 0, 3, 0, 5, 6, 0, 0]\n",
      "X  [2, 3, 5, 3, 0, 5, 6, 0, 0]\n",
      "X  [2, 3, 5, 6, 0, 5, 6, 0, 0]\n",
      "X  [2, 3, 5, 6, 0, 5, 6, 0, 0]\n",
      "X  [2, 3, 5, 6, 0, 5, 6, 0, 0]\n",
      "[2, 3, 5, 6, 0, 5, 6, 0, 0]\n",
      "6\n",
      "K VAL  8\n",
      "[1, 2, 3, 5, 6, 8, 9, 10, 15]\n"
     ]
    }
   ],
   "source": [
    "'''\n",
    "\n",
    "Given two sorted integer arrays `X[]` and `Y[]` of size `m` and `n` each where `m >= n` and `X[]` has exactly `n` vacant cells, merge elements of `Y[]` in their correct position in array `X[]`, i.e., merge `(X, Y)` by keeping the sorted order.\n",
    "\n",
    "Input : Two arrays X[] and Y[] where vacant cells in X[] is represented by 0.\n",
    "\n",
    "X[] = [0, 2, 0, 3, 0, 5, 6, 0, 0]\n",
    "Y[] = [1, 8, 9, 10, 15]\n",
    "\n",
    "Output: X[] = [1, 2, 3, 5, 6, 8, 9, 10, 15]\n",
    "\n",
    "'''\n",
    "\n",
    "class Solution:\n",
    "\n",
    "    def _merge(self, X, Y, m, n):\n",
    "        k = m + n + 1\n",
    "        while m >= 0 and n >= 0:\n",
    "            if X[m] > Y[n]:\n",
    "                X[k] = X[m]\n",
    "                m = m - 1\n",
    "                k = k - 1\n",
    "            else:\n",
    "                X[k] = Y[n]\n",
    "                n = n - 1\n",
    "                k = k - 1\n",
    "        while n >= 0:\n",
    "            X[k] = Y[n]\n",
    "            k = k - 1\n",
    "            n = n - 1\n",
    "\n",
    "\n",
    "\n",
    "    def merge(self, X: List[int], Y: List[int]) -> None:\n",
    "        if not len(X):\n",
    "            return\n",
    "        k = 0\n",
    "        for i in range(len(X)):\n",
    "            if X[i]:\n",
    "                X[k] = X[i]\n",
    "                k = k + 1\n",
    "        self._merge(X, Y, k - 1, len(Y) - 1)\n",
    "\n",
    "\n",
    "Solution().merge(X= [0, 2, 0, 3, 0, 5, 6, 0, 0],\n",
    "                Y = [1, 8, 9, 10, 15])"
   ]
  },
  {
   "cell_type": "code",
   "execution_count": 45,
   "metadata": {
    "collapsed": false,
    "jupyter": {
     "outputs_hidden": false
    },
    "pycharm": {
     "name": "#%%\n"
    }
   },
   "outputs": [
    {
     "name": "stdout",
     "output_type": "stream",
     "text": [
      "[0, 0, 0, 0, 0, 1, 1, 1, 1, 2, 2, 2]\n"
     ]
    }
   ],
   "source": [
    "'''\n",
    "\n",
    "Given an array containing only 0’s, 1’s, and 2’s, sort it in linear time and using constant space.\n",
    "\n",
    "Input : [0, 1, 2, 2, 1, 0, 0, 2, 0, 1, 1, 0]\n",
    "Output: [0, 0, 0, 0, 0, 1, 1, 1, 1, 2, 2, 2]\n",
    "\n",
    "'''\n",
    "\n",
    "class Solution:\n",
    "    def sortArray(self, nums: List[int]) -> None:\n",
    "        s = dict(zip([0,1,2], [0,0,0]))\n",
    "        for _ in nums:\n",
    "            s[_] += 1\n",
    "        for k in s:\n",
    "            if k != 0:\n",
    "                s[k] += s[k-1]\n",
    "\n",
    "        n = len(nums) - 1\n",
    "        i = 0\n",
    "        while i < len(nums) - 1:\n",
    "            val = nums[n]\n",
    "            index = s[val]\n",
    "            nums[index - 1], nums[n] = nums[n], nums[index - 1]\n",
    "            s[val] = s[val] - 1\n",
    "            if index - 1 == n:\n",
    "                n -= 1\n",
    "            i += 1\n",
    "        print(nums)\n",
    "Solution().sortArray([0, 1, 2, 2, 1, 0, 0, 2, 0, 1, 1, 0])\n"
   ]
  },
  {
   "cell_type": "code",
   "execution_count": 30,
   "outputs": [
    {
     "name": "stdout",
     "output_type": "stream",
     "text": [
      "End:  1 1 0\n"
     ]
    },
    {
     "data": {
      "text/plain": "-1"
     },
     "execution_count": 30,
     "metadata": {},
     "output_type": "execute_result"
    }
   ],
   "source": [
    "'''\n",
    "\n",
    "Given a binary array, find the index of 0 to be replaced with 1 to get the maximum length sequence of continuous ones. The solution should return the index of first occurence of 0, when multiple continuous sequence of maximum length is possible.\n",
    "\n",
    "Input : [0, 0, 1, 0, 1, 1, 1, 0, 1, 1]\n",
    "Output: 7\n",
    "Explanation: Replace index 7 to get the continuous sequence of length 6 containing all 1’s.\n",
    "\n",
    "Input : [0, 1, 1, 0, 0]\n",
    "Output: 0\n",
    "Explanation: Replace index 0 or 3 to get the continuous sequence of length 3 containing all 1’s. The solution should return the first occurence.\n",
    "\n",
    "Input : [1, 1]\n",
    "Output: -1\n",
    "Explanation: Invalid Input (all 1’s)\n",
    "\n",
    "'''\n",
    "\n",
    "class Solution:\n",
    "    def findIndexofZero(self, nums: List[int]) -> int:\n",
    "        max_index = -1\n",
    "        zero_index = None\n",
    "\n",
    "        max_count = 0\n",
    "        current_count = 0\n",
    "        n = len(nums)\n",
    "        if  n == 0:\n",
    "            return max_index\n",
    "        for i in range(n):\n",
    "            num = nums[i]\n",
    "            if num == 0:\n",
    "                if zero_index is None:\n",
    "                    zero_index = i\n",
    "                    continue\n",
    "                elif zero_index + 1  == i:\n",
    "                    zero_index = i\n",
    "                    current_count = 0\n",
    "                    continue\n",
    "                if current_count > max_count:\n",
    "                    max_count = current_count\n",
    "                    max_index = zero_index\n",
    "                current_count = sum(nums[zero_index+1: i +1])\n",
    "                zero_index = i\n",
    "            elif num == 1:\n",
    "                current_count += 1\n",
    "\n",
    "        if current_count == 0:\n",
    "            return 0\n",
    "\n",
    "        if current_count > max_count:\n",
    "            max_count = current_count\n",
    "            max_index = zero_index if zero_index is not None else max_index\n",
    "        return max_index\n",
    "# Solution().findIndexofZero([0, 0, 1, 0, 1, 1, 1, 0, 1, 1])\n",
    "Solution().findIndexofZero([0, 1])"
   ],
   "metadata": {
    "collapsed": false,
    "pycharm": {
     "name": "#%%\n"
    }
   }
  },
  {
   "cell_type": "code",
   "execution_count": null,
   "outputs": [],
   "source": [
    "'''\n",
    "# TODO\n",
    "Given a binary array and a positive integer `k`, return the indices of the maximum sequence of continuous 1’s that can be formed by replacing at most `k` zeroes by ones.\n",
    "\n",
    "• The solution should return a pair of the starting and the ending index of the maximum sequence.\n",
    "• For invalid inputs, the solution should return an empty tuple.\n",
    "• In case multiple sequence of continuous 1’s of maximum length exists, the solution can return any one of them.\n",
    "\n",
    "Input : nums[] = [1, 1, 0, 1, 1, 0, 1, 1, 1, 1, 0, 0], k = 0\n",
    "Output: (6, 9)\n",
    "Explanation: The longest sequence of continuous 1’s is formed by index 6 to 9.\n",
    "\n",
    "Input : nums[] = [1, 1, 0, 1, 1, 0, 1, 1, 1, 1, 0, 0], k = 1\n",
    "Output: (3, 9)\n",
    "Explanation: The longest sequence of continuous 1’s is formed by index 3 to 9 on replacing zero at index 5.\n",
    "\n",
    "Input : nums[] = [1, 1, 1, 1, 1], k = 1\n",
    "Output: (0, 4)\n",
    "\n",
    "Input : nums[] = [1, 0, 1, 1, 0, 0, 1, 1, 0, 1], k = 1\n",
    "Output: (0, 3) or (6, 9)\n",
    "\n",
    "Input : nums[] = [], k = 1\n",
    "Output: ()\n",
    "\n",
    "'''\n",
    "\n",
    "\n",
    "class Solution:\n",
    "    def findLongestSequence(self, nums: List[int], k: int) -> Tuple[int]:\n",
    "        max_index = ()\n",
    "        count = 0\n",
    "        zero_index = None\n",
    "        n = len(nums)\n",
    "        if n == 0:\n",
    "            return max_index\n",
    "        for i in range(n):\n",
    "            num = nums[i]\n",
    "\n",
    "            if num == 1:\n",
    "                count += 1\n",
    "            else:\n",
    "                if zero_index is None:\n",
    "                    zero_index = i\n",
    "                    k -= 1\n",
    "                    continue\n",
    "\n",
    "                if zero_index + 1 == i:\n",
    "                    pass\n",
    "\n",
    "                if k > -1:\n",
    "                    k -= 1\n",
    "\n",
    "\n",
    "\n",
    "        return max_index"
   ],
   "metadata": {
    "collapsed": false,
    "pycharm": {
     "name": "#%%\n"
    }
   }
  },
  {
   "cell_type": "code",
   "execution_count": 9,
   "metadata": {
    "collapsed": false,
    "jupyter": {
     "outputs_hidden": false
    },
    "pycharm": {
     "name": "#%%\n"
    }
   },
   "outputs": [
    {
     "name": "stdout",
     "output_type": "stream",
     "text": [
      "[5, 6, 2, 7, 3, 1, 4, 3, 5]\n"
     ]
    },
    {
     "data": {
      "text/plain": [
       "{0, 6}"
      ]
     },
     "execution_count": 9,
     "metadata": {},
     "output_type": "execute_result"
    }
   ],
   "source": [
    "'''\n",
    "\n",
    "Given an integer array, return all equilibrium index in it.\n",
    "For an array `A[0..n-1]`, index `i` is an equilibrium index if the sum of elements of subarray \n",
    "`A[0…i-1]` is equal to the sum of elements of subarray `A[i+1…n-1]`.\n",
    "\n",
    "Input : [0, -3, 5, -4, -2, 3, 1, 0]\n",
    "Output: {0, 3, 7}\n",
    "Explanation: For each index `i` in the output, A[0] + A[1] + … + A[i-1] = A[i+1] + A[i+2] + … + A[n-1]\n",
    "\n",
    "Input : [-7, 3, 7, -3, 1]\n",
    "Output: {4}\n",
    "Explanation: `n-1` is an equilibrium index if A[0] + A[1] + … + A[n-2] sums to 0.\n",
    "\n",
    "Input : [1, 2, -4, 2]\n",
    "Output: {0}\n",
    "Explanation: 0 is an equilibrium index if A[1] + A[2] + … + A[n-1] sums to 0.\n",
    "\n",
    "'''\n",
    "\n",
    "\n",
    "class Solution:\n",
    "    def findEquilibriumIndex(self, nums: List[int]) -> Set[int]:\n",
    "        indices = set()\n",
    "        if not nums:\n",
    "            return indices\n",
    "        sums = [nums[0]]\n",
    "        for i in range(1, len(nums)):\n",
    "            sums.append(nums[i] + sums[-1])\n",
    "        n = len(sums)\n",
    "        print(sums)\n",
    "        if sums[n - 2] == 0:\n",
    "            indices.add(n-1)\n",
    "        if sums[n-1] - nums[0] == 0:\n",
    "            indices.add(0)\n",
    "        for i in range(1, len(nums)-1):\n",
    "            if sums[i-1] == sums[-1] - sums[i]:\n",
    "                indices.add(i)\n",
    "\n",
    "        return indices\n",
    "\n",
    "\n",
    "Solution().findEquilibriumIndex([5, 1, -4, 5, -4, -2, 3, -1, 2])"
   ]
  },
  {
   "cell_type": "code",
   "execution_count": null,
   "metadata": {
    "collapsed": false,
    "jupyter": {
     "outputs_hidden": false
    },
    "pycharm": {
     "name": "#%%\n"
    }
   },
   "outputs": [],
   "source": [
    "'''\n",
    "\n",
    "##TODO\n",
    "\n",
    "Given an integer array, find the largest contiguous subarray formed by consecutive integers. The subarray should contain all distinct values.\n",
    "\n",
    "Input : [2, 0, 2, 1, 4, 3, 1, 0]\n",
    "Output: [0, 2, 1, 4, 3]\n",
    "\n",
    "In case the multiple consecutive subarrays of maximum length exists, the solution can return any one of them.\n",
    "\n",
    "Input : [-5, -1, 0, 2, 1, 6, 5, 8, 7]\n",
    "Output: [-1, 0, 2, 1] or [6, 5, 8, 7]\n",
    "\n",
    "'''\n",
    "\n",
    "\n",
    "class Solution:\n",
    "\n",
    "    def findLargestSubarray(self, nums: List[int]) -> List[int]:\n",
    "        \n",
    "        return\n",
    "\n"
   ]
  }
 ],
 "metadata": {
  "kernelspec": {
   "display_name": "Python 3 (ipykernel)",
   "language": "python",
   "name": "python3"
  },
  "language_info": {
   "codemirror_mode": {
    "name": "ipython",
    "version": 3
   },
   "file_extension": ".py",
   "mimetype": "text/x-python",
   "name": "python",
   "nbconvert_exporter": "python",
   "pygments_lexer": "ipython3",
   "version": "3.9.10"
  }
 },
 "nbformat": 4,
 "nbformat_minor": 4
}