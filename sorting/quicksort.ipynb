{
 "cells": [
  {
   "cell_type": "code",
   "execution_count": 32,
   "metadata": {
    "collapsed": true
   },
   "outputs": [],
   "source": [
    "import numpy as np\n",
    "import random\n",
    "from copy import deepcopy\n",
    "import math"
   ]
  },
  {
   "cell_type": "code",
   "execution_count": 54,
   "outputs": [],
   "source": [
    "data = [ 16, 17,2, 14, -4, 3 , 27, -1,  14, 8, 13,  10, 9]\n"
   ],
   "metadata": {
    "collapsed": false,
    "pycharm": {
     "name": "#%%\n"
    }
   }
  },
  {
   "cell_type": "code",
   "execution_count": 63,
   "outputs": [
    {
     "name": "stdout",
     "output_type": "stream",
     "text": [
      "[-4, -1, 2, 3, 8, 9, 10, 13, 14, 14, 16, 17, 27]\n"
     ]
    }
   ],
   "source": [
    "def smallest(a, b):\n",
    "    return a < b\n",
    "\n",
    "def largest (a, b):\n",
    "    return a > b\n",
    "def partition(A, p, r, key =smallest):\n",
    "        \"\"\"Worst Case O(n**2) best case theta(nlgn)  \"\"\"\n",
    "        i = p - 1\n",
    "        pivot = A[r - 1]\n",
    "        for j in range(p, r - 1):\n",
    "            flag = key(A[j], pivot)\n",
    "            if flag:\n",
    "                i +=1\n",
    "                temp = A[j]\n",
    "                A[j] = A[i]\n",
    "                A[i] = temp\n",
    "        temp = pivot\n",
    "        A[r-1] = A[i+1]\n",
    "        A[i+1] = temp\n",
    "\n",
    "        return i + 1\n",
    "\n",
    "def quicksort(A, p, r, key=smallest):\n",
    "    if p < r:\n",
    "        q = partition(A, p, r, key=key)\n",
    "        quicksort(A, p, q, key=key)\n",
    "        quicksort(A, q+1, r, key=key)\n",
    "\n",
    "\n",
    "def randomized_partition(A, p, r, key=smallest):\n",
    "    i = random.randint(p, r - 1)\n",
    "    temp = A[r - 1]\n",
    "    A[r - 1] = A[i]\n",
    "    A[i] = temp\n",
    "    return partition(A, p, r)\n",
    "\n",
    "\n",
    "def randomized_quicksort(A, p, r, key=smallest):\n",
    "    \"\"\"O(nlgn)\"\"\"\n",
    "    if p < r:\n",
    "        q = randomized_partition(A, p, r, key=key)\n",
    "        randomized_quicksort(A, p, q, key=key)\n",
    "        randomized_quicksort(A, q+1, r, key=key)\n",
    "\n",
    "A = deepcopy(data)\n",
    "# quicksort(A=A, p=0, r=len(data), key=smallest)\n",
    "randomized_quicksort(A=A, p=0, r=len(data), key=largest)\n",
    "print(A)"
   ],
   "metadata": {
    "collapsed": false,
    "pycharm": {
     "name": "#%%\n"
    }
   }
  },
  {
   "cell_type": "code",
   "execution_count": 47,
   "outputs": [],
   "source": [],
   "metadata": {
    "collapsed": false,
    "pycharm": {
     "name": "#%%\n"
    }
   }
  },
  {
   "cell_type": "code",
   "execution_count": null,
   "outputs": [],
   "source": [
    "\n"
   ],
   "metadata": {
    "collapsed": false,
    "pycharm": {
     "name": "#%%\n"
    }
   }
  }
 ],
 "metadata": {
  "kernelspec": {
   "display_name": "Python 3",
   "language": "python",
   "name": "python3"
  },
  "language_info": {
   "codemirror_mode": {
    "name": "ipython",
    "version": 2
   },
   "file_extension": ".py",
   "mimetype": "text/x-python",
   "name": "python",
   "nbconvert_exporter": "python",
   "pygments_lexer": "ipython2",
   "version": "2.7.6"
  }
 },
 "nbformat": 4,
 "nbformat_minor": 0
}