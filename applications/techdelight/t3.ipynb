{
 "cells": [
  {
   "cell_type": "code",
   "execution_count": 167,
   "metadata": {},
   "outputs": [],
   "source": [
    "from typing import List, Tuple, Set, Dict\n",
    "import math\n",
    "\n",
    "import numpy as np\n",
    "from copy import deepcopy\n",
    "from collections import defaultdict, namedtuple\n",
    "import sys"
   ]
  },
  {
   "cell_type": "code",
   "execution_count": 5,
   "outputs": [
    {
     "data": {
      "text/plain": "{(2, 3), (2, 4), (3, 4)}"
     },
     "execution_count": 5,
     "metadata": {},
     "output_type": "execute_result"
    }
   ],
   "source": [
    "'''\n",
    "\n",
    "Given an integer array, find all distinct combinations of a given length `k`. The solution should return a set containing all the distinct combinations, while preserving the relative order of elements as they appear in the array.\n",
    "\n",
    "Input : [2, 3, 4], k = 2\n",
    "Output: {(2, 3), (2, 4), (3, 4)}\n",
    "\n",
    "Input : [1, 2, 1], k = 2\n",
    "Output: {(1, 2), (1, 1), (2, 1)}\n",
    "\n",
    "Input : [1, 1, 1], k = 2\n",
    "Output: {(1, 1)}\n",
    "\n",
    "Input : [1, 2, 3], k = 4\n",
    "Output: {}\n",
    "\n",
    "Input : [1, 2], k = 0\n",
    "Output: {()}\n",
    "\n",
    "'''\n",
    "\n",
    "\n",
    "class Solution:\n",
    "\n",
    "    def iter(self, nums, n, k, subarrays, item=()):\n",
    "        if k > n or len(nums) == 0:\n",
    "            return\n",
    "        if k == 0:\n",
    "            subarrays.add(item)\n",
    "            return\n",
    "        for i in reversed(range(n)):\n",
    "            self.iter(nums, i, k - 1, subarrays,(nums[i], ) + item)\n",
    "        \n",
    "    def findCombinations(self, nums: List[int], k: int) -> Set[Tuple[int]]:\n",
    "        subarrays = set()\n",
    "        self.iter(nums, len(nums), k, subarrays)\n",
    "        return subarrays\n",
    "\n",
    "Solution().findCombinations([2, 3, 4],  2)"
   ],
   "metadata": {
    "collapsed": false,
    "pycharm": {
     "name": "#%%\n"
    }
   }
  },
  {
   "cell_type": "code",
   "execution_count": 3,
   "outputs": [
    {
     "name": "stdout",
     "output_type": "stream",
     "text": [
      "[1, 2, 3]\n"
     ]
    },
    {
     "data": {
      "text/plain": "{(1, 1, 1), (1, 2), (3,)}"
     },
     "execution_count": 3,
     "metadata": {},
     "output_type": "execute_result"
    }
   ],
   "source": [
    "'''\n",
    "\n",
    "Find all combinations of positive integers in increasing order that sum to a given positive number `N`.\n",
    "\n",
    "Input : N = 3\n",
    "Output: {(1, 1, 1), (1, 2), (3)}\n",
    "\n",
    "Input : N = 4\n",
    "Output: {(1, 1, 1, 1), (1, 1, 2), (1, 3), (2, 2), (4)}\n",
    "\n",
    "Input : N = 5\n",
    "Output: {(1, 1, 1, 1, 1), (1, 1, 1, 2), (1, 1, 3), (1, 2, 2), (1, 4), (2, 3), (5)}\n",
    "\n",
    "'''\n",
    "\n",
    "\n",
    "class Solution:\n",
    "\n",
    "    def iter(self, nums, combinations, n, item=()):\n",
    "        if len(item) > n or sum(item) > n:\n",
    "            return\n",
    "        if sum(item) == n:\n",
    "            combinations.add(item)\n",
    "            return\n",
    "        for el in nums:\n",
    "            if item and el < item[-1]:\n",
    "                continue\n",
    "            self.iter(nums, combinations, n, item = item+(el,))\n",
    "\n",
    "    def findCombinations(self, n: int) -> Set[Tuple[int]]:\n",
    "        combinations = set()\n",
    "        nums = list(range(1, n + 1))\n",
    "        print(nums)\n",
    "        self.iter(nums, combinations, n)\n",
    "\n",
    "        return combinations\n",
    "\n",
    "\n",
    "Solution().findCombinations(3)"
   ],
   "metadata": {
    "collapsed": false,
    "pycharm": {
     "name": "#%%\n"
    }
   }
  },
  {
   "cell_type": "code",
   "execution_count": 15,
   "outputs": [
    {
     "data": {
      "text/plain": "set()"
     },
     "execution_count": 15,
     "metadata": {},
     "output_type": "execute_result"
    }
   ],
   "source": [
    "\n",
    "'''\n",
    "Given a positive number `n`, find all combinations of `2×n` elements such that every element from 1 to `n` appears exactly twice and the distance between its two appearances is exactly equal to the value of the element.\n",
    "\n",
    "Input : n = 3\n",
    "Output: {(3, 1, 2, 1, 3, 2), (2, 3, 1, 2, 1, 3)}\n",
    "\n",
    "Input : n = 4\n",
    "Output: {(4, 1, 3, 1, 2, 4, 3, 2), (2, 3, 4, 2, 1, 3, 1, 4)}\n",
    "\n",
    "Input : n = 5\n",
    "Output: {}\n",
    "\n",
    "'''\n",
    "\n",
    "\n",
    "class Solution:\n",
    "    Item = namedtuple('Item', ['data', 'counter', 'flag'])\n",
    "\n",
    "    def iter(self, n, combinations, item=None, last_item=None):\n",
    "        if item and len(item.data) == 2*n:\n",
    "            if item.flag:\n",
    "                combinations.add(item.data)\n",
    "            return\n",
    "        for i in range(1, n+1):\n",
    "            _item = self.Item(tuple(), defaultdict(list), True) if item is None else deepcopy(item)\n",
    "            if not _item.flag or len(_item.counter[i]) == 2:\n",
    "                continue\n",
    "            data, counter, flag = _item\n",
    "            counter[i].append(len(data))\n",
    "            data = data + (i,)\n",
    "            if len(counter[i]) == 2 and \\\n",
    "                    counter[i][1] - counter[i][0] -1 != i:\n",
    "                    flag = False\n",
    "            _item = self.Item(data, counter, flag)\n",
    "\n",
    "            self.iter(n, combinations, _item, last_item=i)\n",
    "\n",
    "    def findCombinations(self, n: int) -> Set[Tuple[int]]:\n",
    "        combinations = set()\n",
    "        self.iter(n, combinations)\n",
    "        return combinations\n",
    "\n",
    "Solution().findCombinations(6)"
   ],
   "metadata": {
    "collapsed": false,
    "pycharm": {
     "name": "#%%\n"
    }
   }
  },
  {
   "cell_type": "code",
   "execution_count": 18,
   "outputs": [
    {
     "data": {
      "text/plain": "{(1, 1, 1), (1, 1, 2), (1, 2, 2), (2, 2, 2)}"
     },
     "execution_count": 18,
     "metadata": {},
     "output_type": "execute_result"
    }
   ],
   "source": [
    "'''\n",
    "\n",
    "Given an integer array, find all distinct combinations of a given length `k`, where the repetition of elements is allowed.\n",
    "\n",
    "Input : [1, 2, 3], k = 2\n",
    "Output: {(1, 1), (1, 2), (1, 3), (2, 2), (2, 3), (3, 3)}\n",
    "\n",
    "Input : [1, 1, 1], k = 2\n",
    "Output: {(1, 1)}\n",
    "\n",
    "Input : [1, 2], k = 0\n",
    "Output: {()}\n",
    "\n",
    "Input : [], k = 1\n",
    "Output: {}\n",
    "\n",
    "The solution should consider only distinct combinations. For example, either [1, 1, 2] or [1, 2, 1] or [2, 1, 1] should be considered for the below input. Same goes for [1, 2, 2] or [2, 1, 2] or [2, 2, 1].\n",
    "\n",
    "Input : [1, 2, 1], k = 3\n",
    "Output: {(1, 1, 1), (1, 1, 2), (1, 2, 2), (2, 2, 2)}\n",
    "\n",
    "'''\n",
    "\n",
    "\n",
    "class Solution:\n",
    "\n",
    "    def iter(self,nums, n, k, combinations, item=()):\n",
    "        if len(nums) == 0:\n",
    "            return\n",
    "        if k == 0:\n",
    "            item = sorted(list(item))\n",
    "            combinations.add(tuple(item))\n",
    "            return\n",
    "        for el in nums:\n",
    "            self.iter(nums, n, k-1, combinations,\n",
    "                      item=(el, ) + item)\n",
    "\n",
    "    def findCombinations(self, nums: List[int], k: int) -> Set[Tuple[int]]:\n",
    "        combinations = set()\n",
    "        n = len(nums)\n",
    "        self.iter(nums, n, k, combinations)\n",
    "\n",
    "        return combinations\n",
    "\n",
    "Solution().findCombinations([1, 2, 1], k = 3)\n",
    "\n"
   ],
   "metadata": {
    "collapsed": false,
    "pycharm": {
     "name": "#%%\n"
    }
   }
  },
  {
   "cell_type": "code",
   "execution_count": 21,
   "outputs": [
    {
     "data": {
      "text/plain": "{(1, 1, 1, 1), (1, 1, 2), (1, 3), (2, 2), (4,)}"
     },
     "execution_count": 21,
     "metadata": {},
     "output_type": "execute_result"
    }
   ],
   "source": [
    "'''\n",
    "\n",
    "Given a positive integer `n`, find all combinations of numbers between 1 and `n` having sum `n`.\n",
    "\n",
    "Input : n = 4\n",
    "Output: {(4), (1, 3), (2, 2), (1, 1, 2), (1, 1, 1, 1)}\n",
    "\n",
    "Input : n = 5\n",
    "Output: {(5), (1, 4), (2, 3), (1, 1, 3), (1, 2, 2), (1, 1, 1, 2), (1, 1, 1, 1, 1)}\n",
    "\n",
    "The solution should return a set containing all the distinct combinations in increasing order.\n",
    "\n",
    "'''\n",
    "\n",
    "\n",
    "class Solution:\n",
    "    def iter(self, n, combinations, item=()):\n",
    "        if sum(item) > n:\n",
    "            return\n",
    "        if sum(item) == n:\n",
    "            item = tuple(sorted(list(item)))\n",
    "            combinations.add(item)\n",
    "            return\n",
    "        for i in range(1, n+1):\n",
    "            self.iter(n, combinations, item=item+(i,))\n",
    "\n",
    "    def findCombinations(self, n: int) -> Set[Tuple[int]]:\n",
    "        combinations = set()\n",
    "\n",
    "        self.iter(n, combinations)\n",
    "        return combinations\n",
    "Solution().findCombinations(4)"
   ],
   "metadata": {
    "collapsed": false,
    "pycharm": {
     "name": "#%%\n"
    }
   }
  },
  {
   "cell_type": "code",
   "execution_count": 23,
   "outputs": [],
   "source": [
    "'''\n",
    "\n",
    "Given a sequence of numbers between 2 and 9, print all possible combinations of words formed from the mobile keypad which has english alphabets associated with each key.\n",
    "\n",
    "keypad = {\n",
    "\t2: ['A', 'B', 'C'],\n",
    "\t3: ['D', 'E', 'F'],\n",
    "\t4: ['G', 'H', 'I'],\n",
    "\t5: ['J', 'K', 'L'],\n",
    "\t6: ['M', 'N', 'O'],\n",
    "\t7: ['P', 'Q', 'R', 'S'],\n",
    "\t8: ['T', 'U', 'V'],\n",
    "\t9: ['W', 'X', 'Y', 'Z']\n",
    "}\n",
    "\n",
    "Input : [2, 3, 4]\n",
    "\n",
    "Output: {'CEG', 'AEH', 'CDH', 'CFI', 'CEH', 'BEI', 'AFH', 'BFG', 'BDI', 'ADH', 'AEG', 'AEI', 'BEH', 'BFH', 'BDH', 'CEI', 'AFG', 'BFI', 'ADG', 'CDG', 'BDG', 'CDI', 'BEG', 'AFI', 'CFG', 'CFH', 'ADI'}\n",
    "\n",
    "'''\n",
    "\n",
    "\n",
    "class Solution:\n",
    "    def iter(self, keypad, nums, k, combinations, item=''):\n",
    "        if len(nums) == 0 or k > len(nums):\n",
    "            return\n",
    "        if len(item) == len(nums):\n",
    "            combinations.add(item)\n",
    "            return\n",
    "        for i in range(k, k+1):\n",
    "            el = nums[i]\n",
    "            for _el in keypad[el]:\n",
    "                self.iter(keypad, nums, k + 1, combinations,\n",
    "                      item=item + _el )\n",
    "\n",
    "    def findCombinations(self, keypad: Dict[int, List[str]],\n",
    "                         nums: List[int]) -> Set[str]:\n",
    "        combinations : Set[str] = set()\n",
    "        k = 0\n",
    "        self.iter(keypad, nums, k, combinations)\n",
    "\n",
    "        return combinations"
   ],
   "metadata": {
    "collapsed": false,
    "pycharm": {
     "name": "#%%\n"
    }
   }
  },
  {
   "cell_type": "code",
   "execution_count": 23,
   "outputs": [
    {
     "data": {
      "text/plain": "{'ALLU',\n 'ALLV',\n 'ALLW',\n 'ALLX',\n 'ALLY',\n 'ALLZ',\n 'AMMU',\n 'AMMV',\n 'AMMW',\n 'AMMX',\n 'AMMY',\n 'AMMZ',\n 'ANNU',\n 'ANNV',\n 'ANNW',\n 'ANNX',\n 'ANNY',\n 'ANNZ',\n 'AOOU',\n 'AOOV',\n 'AOOW',\n 'AOOX',\n 'AOOY',\n 'AOOZ',\n 'APPU',\n 'APPV',\n 'APPW',\n 'APPX',\n 'APPY',\n 'APPZ',\n 'AQQU',\n 'AQQV',\n 'AQQW',\n 'AQQX',\n 'AQQY',\n 'AQQZ',\n 'BLLU',\n 'BLLV',\n 'BLLW',\n 'BLLX',\n 'BLLY',\n 'BLLZ',\n 'BMMU',\n 'BMMV',\n 'BMMW',\n 'BMMX',\n 'BMMY',\n 'BMMZ',\n 'BNNU',\n 'BNNV',\n 'BNNW',\n 'BNNX',\n 'BNNY',\n 'BNNZ',\n 'BOOU',\n 'BOOV',\n 'BOOW',\n 'BOOX',\n 'BOOY',\n 'BOOZ',\n 'BPPU',\n 'BPPV',\n 'BPPW',\n 'BPPX',\n 'BPPY',\n 'BPPZ',\n 'BQQU',\n 'BQQV',\n 'BQQW',\n 'BQQX',\n 'BQQY',\n 'BQQZ',\n 'CLLU',\n 'CLLV',\n 'CLLW',\n 'CLLX',\n 'CLLY',\n 'CLLZ',\n 'CMMU',\n 'CMMV',\n 'CMMW',\n 'CMMX',\n 'CMMY',\n 'CMMZ',\n 'CNNU',\n 'CNNV',\n 'CNNW',\n 'CNNX',\n 'CNNY',\n 'CNNZ',\n 'COOU',\n 'COOV',\n 'COOW',\n 'COOX',\n 'COOY',\n 'COOZ',\n 'CPPU',\n 'CPPV',\n 'CPPW',\n 'CPPX',\n 'CPPY',\n 'CPPZ',\n 'CQQU',\n 'CQQV',\n 'CQQW',\n 'CQQX',\n 'CQQY',\n 'CQQZ',\n 'DLLU',\n 'DLLV',\n 'DLLW',\n 'DLLX',\n 'DLLY',\n 'DLLZ',\n 'DMMU',\n 'DMMV',\n 'DMMW',\n 'DMMX',\n 'DMMY',\n 'DMMZ',\n 'DNNU',\n 'DNNV',\n 'DNNW',\n 'DNNX',\n 'DNNY',\n 'DNNZ',\n 'DOOU',\n 'DOOV',\n 'DOOW',\n 'DOOX',\n 'DOOY',\n 'DOOZ',\n 'DPPU',\n 'DPPV',\n 'DPPW',\n 'DPPX',\n 'DPPY',\n 'DPPZ',\n 'DQQU',\n 'DQQV',\n 'DQQW',\n 'DQQX',\n 'DQQY',\n 'DQQZ'}"
     },
     "execution_count": 23,
     "metadata": {},
     "output_type": "execute_result"
    }
   ],
   "source": [
    "'''\n",
    "# TODO\n",
    "Given n lists of characters and a number whose digits lie between 1 and n, print all possible combinations by replacing its digits with the characters of the corresponding list. If any digit of the number gets repeated, it should be replaced by the same character considered in its previous occurrence.\n",
    "\n",
    "Input:\n",
    "\n",
    "lists =\n",
    "[\n",
    "\t['A', 'B', 'C', 'D'],\n",
    "\t['E', 'F', 'G', 'H', 'I', 'J', 'K'],\n",
    "\t['L', 'M', 'N', 'O', 'P', 'Q'],\n",
    "\t['R', 'S', 'T'],\n",
    "\t['U', 'V', 'W', 'X', 'Y', 'Z']\n",
    "]\n",
    "\n",
    "keys = [0, 2, 0]\n",
    "\n",
    "Output: {'ALA', 'AMA', 'ANA', 'AOA', 'APA', 'AQA', 'BLB', 'BMB', 'BNB', 'BOB', 'BPB', 'BQB', 'CLC', 'CMC', 'CNC', 'COC', 'CPC', 'CQC', 'DLD', 'DMD', 'DND', 'DOD', 'DPD', 'DQD'}\n",
    "\n",
    "'''\n",
    "\n",
    "\n",
    "class Solution:\n",
    "\n",
    "    def iter(self, lists, keys, combinations, k=0, item=()):\n",
    "\n",
    "        if len(item) == len(keys):\n",
    "            if not item:\n",
    "                return\n",
    "            item = ''.join(item)\n",
    "            combinations.add(item)\n",
    "            return\n",
    "\n",
    "        if keys[k] in keys[:k]:\n",
    "            for j in range(len(keys)):\n",
    "                if keys[j] == keys[k]:\n",
    "                    letter = item[j]\n",
    "                    self.iter(lists, keys, combinations, k+1, item+(letter,))\n",
    "                    return\n",
    "        for letter in lists[keys[k]]:\n",
    "            self.iter(lists, keys, combinations, k+1, item+(letter,))\n",
    "\n",
    "    def findCombinations(self, lists: List[List[str]], keys: List[int]) -> Set[str]:\n",
    "        combinations = set()\n",
    "        self.iter(lists, keys, combinations, k=0)\n",
    "        return combinations\n",
    "\n",
    "Solution().findCombinations([['A', 'B', 'C', 'D'],\n",
    "                             ['E', 'F', 'G', 'H', 'I', 'J', 'K'],\n",
    "                             ['L', 'M', 'N', 'O', 'P', 'Q'],\n",
    "                             ['R', 'S', 'T'],\n",
    "                             ['U', 'V', 'W', 'X', 'Y', 'Z']],\n",
    "                            [0, 2, 2, 4])"
   ],
   "metadata": {
    "collapsed": false,
    "pycharm": {
     "name": "#%%\n"
    }
   }
  },
  {
   "cell_type": "code",
   "execution_count": 41,
   "outputs": [
    {
     "data": {
      "text/plain": "{('A', 'B', 'C'), ('A', 'BC'), ('AB', 'C'), ('ABC',)}"
     },
     "execution_count": 41,
     "metadata": {},
     "output_type": "execute_result"
    }
   ],
   "source": [
    "'''\n",
    "\n",
    "Given a string, return all combinations of non-overlapping substrings of it.\n",
    "\n",
    "Input : 'ABC'\n",
    "Output: {('A', 'B', 'C'), ('A', 'BC'), ('AB', 'C'), ('ABC')}\n",
    "\n",
    "Input : 'ABCD'\n",
    "Output: {('A', 'B', 'C', 'D'), ('A', 'B', 'CD'), ('A', 'BC', 'D'), ('A', 'BCD'), ('AB', 'C', 'D'), ('AB', 'CD'), ('ABC', 'D'), ('ABCD')}\n",
    "\n",
    "'''\n",
    "\n",
    "\n",
    "class Solution:\n",
    "    def iter(self, s, combinations, low, high, item=()):\n",
    "        # print(low, high, item)\n",
    "        if low == high:\n",
    "            if not item:\n",
    "        \t    return\n",
    "            combinations.add(item)\n",
    "            return\n",
    "        for i in range(low, high):\n",
    "            # print(f\"loop low: {low}, i:{i}, high:{high} item: {item} \",)\n",
    "            self.iter(s, combinations,i+1, high,\n",
    "                      item +(s[low:i+1], ))\n",
    "\n",
    "    def findCombinations(self, s: str) -> Set[Tuple[str]]:\n",
    "        combinations = set()\n",
    "        self.iter(s, combinations, 0, len(s))\n",
    "        return combinations\n",
    "\n",
    "\n",
    "Solution().findCombinations(\"ABC\")"
   ],
   "metadata": {
    "collapsed": false,
    "pycharm": {
     "name": "#%%\n"
    }
   }
  },
  {
   "cell_type": "code",
   "execution_count": 44,
   "outputs": [
    {
     "data": {
      "text/plain": "{'Emma Hates Chess',\n 'Emma Hates Cricket',\n 'Emma Hates Soccer',\n 'Emma Plays Chess',\n 'Emma Plays Cricket',\n 'Emma Plays Soccer',\n 'Emma Watches Chess',\n 'Emma Watches Cricket',\n 'Emma Watches Soccer',\n 'John Hates Chess',\n 'John Hates Cricket',\n 'John Hates Soccer',\n 'John Plays Chess',\n 'John Plays Cricket',\n 'John Plays Soccer',\n 'John Watches Chess',\n 'John Watches Cricket',\n 'John Watches Soccer'}"
     },
     "execution_count": 44,
     "metadata": {},
     "output_type": "execute_result"
    }
   ],
   "source": [
    "'''\n",
    "\n",
    "Given a lists of words, print all combinations of phrases that can be formed by picking one word from each list.\n",
    "\n",
    "Input:\n",
    "\n",
    "lists =\n",
    "[\n",
    "\t['John', 'Emma'],\n",
    "\t['Plays', 'Hates', 'Watches'],\n",
    "\t['Cricket', 'Soccer', 'Chess']\n",
    "]\n",
    "\n",
    "Output:\n",
    "\n",
    "{\n",
    "\t'John Plays Cricket',\n",
    "\t'John Plays Soccer',\n",
    "\t'John Plays Chess',\n",
    "\t'John Hates Cricket',\n",
    "\t'John Hates Soccer',\n",
    "\t'John Hates Chess',\n",
    "\t'John Watches Cricket',\n",
    "\t'John Watches Soccer',\n",
    "\t'John Watches Chess',\n",
    "\t'Emma Plays Cricket',\n",
    "\t'Emma Plays Soccer',\n",
    "\t'Emma Plays Chess',\n",
    "\t'Emma Hates Cricket',\n",
    "\t'Emma Hates Soccer',\n",
    "\t'Emma Hates Chess',\n",
    "\t'Emma Watches Cricket',\n",
    "\t'Emma Watches Soccer',\n",
    "\t'Emma Watches Chess'\n",
    "}\n",
    "\n",
    "'''\n",
    "\n",
    "\n",
    "class Solution:\n",
    "\n",
    "    def iter(self, lists, combinations, k = 0, item=()):\n",
    "        if len(item) == len(lists):\n",
    "            if item:\n",
    "                combinations.add(' '.join(item))\n",
    "            return\n",
    "\n",
    "        for i in range(len(lists[k])):\n",
    "            letter = lists[k][i]\n",
    "            self.iter(lists, combinations, k + 1, item + (letter, ))\n",
    "\n",
    "\n",
    "    def findCombinations(self, lists: List[List[str]]) -> Set[str]:\n",
    "        combinations = set()\n",
    "\n",
    "        self.iter(lists, combinations=combinations)\n",
    "\n",
    "        return combinations\n",
    "\n",
    "Solution().findCombinations([\n",
    "\t['John', 'Emma'],\n",
    "\t['Plays', 'Hates', 'Watches'],\n",
    "\t['Cricket', 'Soccer', 'Chess']\n",
    "])"
   ],
   "metadata": {
    "collapsed": false,
    "pycharm": {
     "name": "#%%\n"
    }
   }
  },
  {
   "cell_type": "code",
   "execution_count": 80,
   "outputs": [
    {
     "data": {
      "text/plain": "36"
     },
     "execution_count": 80,
     "metadata": {},
     "output_type": "execute_result"
    }
   ],
   "source": [
    "'''\n",
    "# TODO with dynamo programming\n",
    "\n",
    "Given a positive number `n` and a mobile keypad having digits from 0 to 9 associated with each key, count the total possible combinations of digits having length `n`. You can start with any digit and press only four adjacent keys of any digit. The keypad also contains `*` and `#` keys, which you're not allowed to press.\n",
    "\n",
    "keypad = {\n",
    "\t{ '1', '2', '3' },\n",
    "\t{ '4', '5', '6' },\n",
    "\t{ '7', '8', '9' },\n",
    "\t{ '*', '0', '#' }\n",
    "};\n",
    "\n",
    "Input: n = 2\n",
    "Output: 36\n",
    "Explanation: Total possible combinations are 36 [00, 08, 11, 12, 14, 21, 22, 23, 25, 32, 33, 36, 41, 44, 45, 47, … ,96, 98, 99]\n",
    "\n",
    "'''\n",
    "\n",
    "\n",
    "class Solution:\n",
    "\n",
    "    def iter(self, keypad, n, shift, xy, combinations, item=()):\n",
    "        # print(item, xy)\n",
    "        if n == 0:\n",
    "            combinations.add(''.join(item))\n",
    "            return\n",
    "        for s in shift:\n",
    "            # print(*xy, s)\n",
    "            new_x, new_y = xy[0] + s[0], xy[1] + s[1]\n",
    "            if not ( 0<=new_x<len(keypad[0]) and\n",
    "                    0<=new_y<len(keypad)) or \\\n",
    "                    keypad[new_y][new_x] in ['*', '#']:\n",
    "                continue\n",
    "            # print(\"New x \",xy, (new_x, new_y))\n",
    "            # print(\"Keypad  \",keypad[xy[1]][xy[0]],\n",
    "            #                 keypad[new_y][new_x])\n",
    "            # print()\n",
    "            # print()\n",
    "            self.iter(keypad, n-1, shift, (new_x, new_y), combinations,\n",
    "                      item+(keypad[new_y][new_x], ))\n",
    "\n",
    "\n",
    "    def findCombinations(self, keypad: List[List[str]], n: int) -> int:\n",
    "        combinations = set()\n",
    "        # current left right top bottom\n",
    "        shift = ((0, 0), (-1, 0), (1, 0), (0, -1), (0, 1))\n",
    "        for x in range(len(keypad[0])):\n",
    "            for y in range(len(keypad)):\n",
    "                xy = x, y\n",
    "                if keypad[y][x] in [\"*\", '#']:\n",
    "                    continue\n",
    "                self.iter(keypad, n, shift, xy, combinations)\n",
    "                # break\n",
    "\n",
    "            # break\n",
    "        # print(combinations)\n",
    "        # print(sorted(list(combinations)))\n",
    "        return len(combinations)\n",
    "\n",
    "Solution().findCombinations(keypad = [\n",
    "\t[ '1', '2', '3' ],\n",
    "\t[ '4', '5', '6' ],\n",
    "\t[ '7', '8', '9' ],\n",
    "\t[ '*', '0', '#' ]\n",
    "], n = 2)"
   ],
   "metadata": {
    "collapsed": false,
    "pycharm": {
     "name": "#%%\n"
    }
   }
  },
  {
   "cell_type": "code",
   "execution_count": 121,
   "outputs": [
    {
     "name": "stdout",
     "output_type": "stream",
     "text": [
      "{(5, 3, -6, 2), (6, -2), (-5, 3, 6), (5, -3, 2)}\n"
     ]
    },
    {
     "data": {
      "text/plain": "4"
     },
     "execution_count": 121,
     "metadata": {},
     "output_type": "execute_result"
    }
   ],
   "source": [
    "\n",
    "'''\n",
    "# TODO error\n",
    "Given an integer array, return the total number of ways to calculate the specified target from array elements using only the addition and subtraction operator. The use of any other operator is forbidden.\n",
    "\n",
    "Input: nums = [5, 3, -6, 2], target = 6\n",
    "Output: 4\n",
    "Explanation: There are 4 ways to calculate the target of 6 using only + and - operators:\n",
    "\n",
    "(-)-6 = 6\n",
    "(+) 5 (+) 3 (-) 2 = 6\n",
    "(+) 5 (-) 3 (-) -6 (-) 2 = 6\n",
    "(-) 5 (+) 3 (-) -6 (+) 2 = 6\n",
    "\n",
    "Input: nums = [5, 3, -6, 2], target = 4\n",
    "Output: 4\n",
    "Explanation: There are 4 ways to calculate the target of 4 using only + and - operators:\n",
    "\n",
    "(-)-6 (-) 2 = 4\n",
    "(-) 5 (+) 3 (-)-6 = 4\n",
    "(+) 5 (-) 3 (+) 2 = 4\n",
    "(+) 5 (+) 3 (+)-6 (+) 2 = 4\n",
    "\n",
    "\n",
    "\n",
    "'''\n",
    "\n",
    "\n",
    "class Solution:\n",
    "    Item = namedtuple('Item', ['data', 'way'])\n",
    "\n",
    "    def iter(self, nums, target, low, combinations, item=None):\n",
    "        if item and sum(item.data) == target:\n",
    "            combinations.add(tuple(item.data))\n",
    "\n",
    "        if low == len(nums):\n",
    "            return\n",
    "\n",
    "        for i in range(low, len(nums)):\n",
    "            _item = self.Item(tuple(), '') if item is None else deepcopy(item)\n",
    "            data, way = _item\n",
    "            self.iter(nums,\n",
    "                      target,\n",
    "                      i+1,\n",
    "                      combinations,\n",
    "                      self.Item(data=data+(nums[i],),\n",
    "                                way=way + '+')\n",
    "                      )\n",
    "            self.iter(nums,\n",
    "                      target,\n",
    "                      i+1,\n",
    "                      combinations,\n",
    "                      self.Item(data=data+(-nums[i],),\n",
    "                                way=way + '-')\n",
    "                      )\n",
    "\n",
    "    def countWays(self, nums: List[int], target: int) -> int:\n",
    "        combinations = set()\n",
    "        for i in range(len(nums)):\n",
    "            self.iter(nums, target, i, combinations)\n",
    "            break\n",
    "        print(combinations)\n",
    "        return len(combinations)\n",
    "\n",
    "\n",
    "# Solution().countWays(nums = [7, 8, 1, 2, 3, 5], target = 10)\n",
    "Solution().countWays(nums = [5, 3, -6, 2], target = 4)"
   ],
   "metadata": {
    "collapsed": false,
    "pycharm": {
     "name": "#%%\n"
    }
   }
  },
  {
   "cell_type": "code",
   "execution_count": 128,
   "outputs": [
    {
     "name": "stdout",
     "output_type": "stream",
     "text": [
      "r\n",
      "br\n",
      "rbr\n",
      "brbr\n",
      "gbrbr\n",
      "bgbrbr\n",
      "grbr\n",
      "bgrbr\n",
      "gbr\n",
      "rgbr\n",
      "brgbr\n",
      "bgbr\n",
      "rbgbr\n",
      "brbgbr\n",
      "gr\n",
      "rgr\n",
      "brgr\n",
      "bgr\n",
      "rbgr\n",
      "brbgr\n",
      "b\n",
      "rb\n",
      "brb\n",
      "rbrb\n",
      "brbrb\n",
      "gbrbrb\n",
      "grbrb\n",
      "bgrbrb\n",
      "gbrb\n",
      "rgbrb\n",
      "brgbrb\n",
      "bgbrb\n",
      "rbgbrb\n",
      "grb\n",
      "rgrb\n",
      "brgrb\n",
      "bgrb\n",
      "rbgrb\n",
      "brbgrb\n",
      "gb\n",
      "rgb\n",
      "brgb\n",
      "rbrgb\n",
      "brbrgb\n",
      "bgb\n",
      "rbgb\n",
      "brbgb\n",
      "rbrbgb\n",
      "g\n",
      "rg\n",
      "brg\n",
      "rbrg\n",
      "brbrg\n",
      "bg\n",
      "rbg\n",
      "brbg\n",
      "rbrbg\n",
      "brbrbg\n"
     ]
    },
    {
     "data": {
      "text/plain": "10"
     },
     "execution_count": 128,
     "metadata": {},
     "output_type": "execute_result"
    }
   ],
   "source": [
    "'''\n",
    "\n",
    "Given r red, b blue, and g green balls, find the total number of arrangements in a row such that no two balls of the same color end up together.\n",
    "\n",
    "Input: r = 1, b = 2, g = 1\n",
    "Output: 6\n",
    "Explanation: The arrangements are [bgbr, bgrb, brbg, brgb, gbrb, rbgb]\n",
    "\n",
    "Input: r = 2, b = 3, g = 1\n",
    "Output: 10\n",
    "Explanation: The arrangements are [bgbrbr, bgrbrb, brbgbr, brbgrb, brbrbg, brbrgb, brgbrb, gbrbrb, rbgbrb, rbrbgb]\n",
    "\n",
    "'''\n",
    "\n",
    "\n",
    "class Solution:\n",
    "    \n",
    "    def iter(self, item, data, total, combinations):\n",
    "        print(item)\n",
    "        if len(item) == total:\n",
    "            combinations.add(item)\n",
    "\n",
    "        for color, count in data.items():\n",
    "            if count > 0 and item[0] != color:\n",
    "                d = deepcopy(data)\n",
    "                d[color] = d[color] - 1\n",
    "                self.iter(color + item, d, total, combinations)\n",
    "            \n",
    "\n",
    "    def totalWays(self, r: int, b: int, g: int) -> int:\n",
    "        combinations = set()\n",
    "        dp = {}\n",
    "        if r>0:\n",
    "            self.iter('r', dict(r=r-1, b=b, g=g),\n",
    "                      total=r+b+g,\n",
    "                      combinations=combinations)\n",
    "        if b:\n",
    "            self.iter('b', dict(r=r, b=b-1, g=g), total=r+b+g, combinations=combinations)\n",
    "        if g>0:\n",
    "            self.iter('g', dict(r=r, b=b, g=g-1), total=r+b+g, combinations=combinations)\n",
    "        return len(combinations)\n",
    "        \n",
    "\n",
    "Solution().totalWays(r = 2, b = 3, g = 1)"
   ],
   "metadata": {
    "collapsed": false,
    "pycharm": {
     "name": "#%%\n"
    }
   }
  },
  {
   "cell_type": "code",
   "execution_count": 130,
   "outputs": [
    {
     "data": {
      "text/plain": "[4, 2, 5]"
     },
     "execution_count": 130,
     "metadata": {},
     "output_type": "execute_result"
    }
   ],
   "source": [
    "'''\n",
    "\n",
    "Given an integer array and a positive integer `k`, find the minimum sum contiguous subarray of size `k`.\n",
    "\n",
    "Input : nums[] = [10, 4, 2, 5, 6, 3, 8, 1], k = 3\n",
    "Output: [4, 2, 5]\n",
    "\n",
    "Input : nums[] = [1, 4, 5, 3, 8], k = 6\n",
    "Output: [1, 4, 5, 3, 8]\n",
    "\n",
    "Note: Since an input can contain several minimum sum subarrays of size `k`, the solution can return any one of them.\n",
    "\n",
    "'''\n",
    "\n",
    "\n",
    "class Solution:\n",
    "    def findMinSumSubarray(self, nums: List[int], k: int) -> List[int]:\n",
    "        subarray = []\n",
    "        if k > len(nums):\n",
    "        \treturn nums\n",
    "        max_sum = float('inf')\n",
    "        for i in range(0, len(nums) - k + 1):\n",
    "            if sum(nums[i:i+k]) < max_sum:\n",
    "                subarray = nums[i:i+k]\n",
    "                max_sum = sum(subarray)\n",
    "        return subarray\n",
    "\n",
    "Solution().findMinSumSubarray(nums=[10, 4, 2, 5, 6, 3, 8, 1],\n",
    "                              k = 3)"
   ],
   "metadata": {
    "collapsed": false,
    "pycharm": {
     "name": "#%%\n"
    }
   }
  },
  {
   "cell_type": "code",
   "execution_count": 140,
   "outputs": [
    {
     "data": {
      "text/plain": "1600"
     },
     "execution_count": 140,
     "metadata": {},
     "output_type": "execute_result"
    }
   ],
   "source": [
    "'''\n",
    "\n",
    "\n",
    "Given an integer array, find the contiguous subarray that has the maximum product of its elements. The solution should return the maximum product of elements among all possible subarrays.\n",
    "\n",
    "Input : [-6, 4, -5, 8, -10, 0, 8]\n",
    "Output: 1600\n",
    "Explanation: The maximum product subarray is [4, -5, 8, -10] which has product 1600.\n",
    "\n",
    "Input : [40, 0, -20, -10]\n",
    "Output: 200\n",
    "Explanation: The maximum product subarray is [-20, -10] which has product 200.\n",
    "\n",
    "Input : [10]\n",
    "Output: 10\n",
    "\n",
    "Input : []\n",
    "Output: 0\n",
    "\n",
    "'''\n",
    "\n",
    "class Solution:\n",
    "\n",
    "    def getProduct(self, subarray):\n",
    "        i = 0\n",
    "        product = 1\n",
    "        while i < len(subarray):\n",
    "            product *= subarray[i]\n",
    "            i += 1\n",
    "        return product\n",
    "\n",
    "    def findMaxProduct(self, nums: List[int]) -> int:\n",
    "        if not nums:\n",
    "            return 0\n",
    "        max_product = float('-inf')\n",
    "        for i in range(len(nums)):\n",
    "            for j in range(i, len(nums)):\n",
    "                product = self.getProduct(nums[i:j+1])\n",
    "                if max_product < product:\n",
    "                    max_product = product\n",
    "\n",
    "        return max_product\n",
    "\n",
    "    def findMaxProduct2(self, nums: List[int]) -> int:\n",
    "        if not nums:\n",
    "            return 0\n",
    "        max_product = nums[0]\n",
    "        min_product = nums[0]\n",
    "        global_max = nums[0]\n",
    "        for i in range(1, len(nums)):\n",
    "            temp = max_product\n",
    "            max_product = max(nums[i], nums[i] * max_product, nums[i] * min_product)\n",
    "            min_product = min(nums[i], nums[i] * temp, nums[i] * min_product)\n",
    "            global_max = max(global_max, max_product)\n",
    "        return global_max\n",
    "\n",
    "Solution().findMaxProduct2([-6, 4, -5, 8, -10, 0, 8])"
   ],
   "metadata": {
    "collapsed": false,
    "pycharm": {
     "name": "#%%\n"
    }
   }
  },
  {
   "cell_type": "code",
   "execution_count": 141,
   "outputs": [
    {
     "data": {
      "text/plain": "[6, 0, 9]"
     },
     "execution_count": 141,
     "metadata": {},
     "output_type": "execute_result"
    }
   ],
   "source": [
    "'''\n",
    "\n",
    "Given an integer array, find a contiguous subarray having sum `k` in it where `k` is an integer.\n",
    "\n",
    "Input : nums[] = [2, 6, 0, 9, 7, 3, 1, 4, 1, 10], k = 15\n",
    "Output: [6, 0, 9]\n",
    "\n",
    "Input : nums[] = [0, 5, -7, 1, -4, 7, 6, 1, 4, 1, 10], k = -3\n",
    "Output: [1, -4] or [-7, 1, -4, 7]\n",
    "\n",
    "Note: Since an input can contain several subarrays having sum `k`, the solution can return any one of them.\n",
    "\n",
    "Input : nums[] = [0, 5, -7, 1, -4, 7, 6, 1, 4, 1, 10], k = 15\n",
    "Output: [1, -4, 7, 6, 1, 4] or [4, 1, 10]\n",
    "\n",
    "'''\n",
    "\n",
    "\n",
    "class Solution:\n",
    "    def findSubarray(self, nums: List[int], k: int) -> List[int]:\n",
    "        if not nums:\n",
    "            return nums\n",
    "        mapper = {}\n",
    "        total_sum = 0\n",
    "        for i in range(len(nums)):\n",
    "            total_sum += nums[i]\n",
    "            if total_sum - k in mapper:\n",
    "                return nums[mapper[total_sum - k] + 1:i+1]\n",
    "            if k in mapper:\n",
    "                return nums[:mapper[k]+1]\n",
    "            mapper[total_sum] = i\n",
    "        if k in mapper:\n",
    "            return nums[:mapper[k] + 1]\n",
    "        return []\n",
    "Solution().findSubarray([2, 6, 0, 9, 7, 3, 1, 4, 1, 10], k = 15)"
   ],
   "metadata": {
    "collapsed": false,
    "pycharm": {
     "name": "#%%\n"
    }
   }
  },
  {
   "cell_type": "code",
   "execution_count": 142,
   "outputs": [
    {
     "data": {
      "text/plain": "{(1, 3, 3), (3, 3, 1), (3, 4), (3, 4, -7, 1, 3, 3)}"
     },
     "execution_count": 142,
     "metadata": {},
     "output_type": "execute_result"
    }
   ],
   "source": [
    "'''\n",
    "# TODO with hash\n",
    "Given an integer array, find all contiguous subarrays with a given sum `k`.\n",
    "\n",
    "Input : nums[] = [3, 4, -7, 1, 3, 3, 1, -4], k = 7\n",
    "Output: {(3, 4), (3, 4, -7, 1, 3, 3), (1, 3, 3), (3, 3, 1)}\n",
    "\n",
    "Since the input can have multiple subarrays with sum `k`, the solution should return a set containing all the distinct subarrays.\n",
    "\n",
    "'''\n",
    "\n",
    "class Solution:\n",
    "    def getAllSubarrays(self, nums: List[int], k: int) -> Set[Tuple[int]]:\n",
    "        subarrays = set()\n",
    "\n",
    "        if not nums:\n",
    "            return subarrays\n",
    "        mapper = {}\n",
    "        total_sum = 0\n",
    "        for i in range(0, len(nums)):\n",
    "            total_sum += nums[i]\n",
    "            mapper[total_sum] = i\n",
    "\n",
    "            if k in mapper:\n",
    "                subarrays.add(tuple(nums[:mapper[k]+1]))\n",
    "            if total_sum - k in mapper:\n",
    "                subarrays.add(tuple(nums[mapper[total_sum - k] + 1:i+1]))\n",
    "        if k in mapper:\n",
    "            subarrays.add(tuple(nums[:mapper[k]+1]))\n",
    "        return subarrays\n",
    "\n",
    "Solution().getAllSubarrays( [3, 4, -7, 1, 3, 3, 1, -4], k = 7)"
   ],
   "metadata": {
    "collapsed": false,
    "pycharm": {
     "name": "#%%\n"
    }
   }
  },
  {
   "cell_type": "code",
   "execution_count": 168,
   "outputs": [
    {
     "data": {
      "text/plain": "2"
     },
     "execution_count": 168,
     "metadata": {},
     "output_type": "execute_result"
    }
   ],
   "source": [
    "'''\n",
    "# TODO\n",
    "Given an array of positive integers and a positive integer k, find the smallest contiguous subarray length whose sum of elements is greater than k.\n",
    "\n",
    "Input : [1, 2, 3, 4, 5, 6, 7, 8], k = 7\n",
    "Output: 1\n",
    "Explanation: The smallest subarray with sum > 20 is [8]\n",
    "\n",
    "Input : [1, 2, 3, 4, 5, 6, 7, 8], k = 20\n",
    "Output: 3\n",
    "Explanation: The smallest subarray with sum > 20 is [6, 7, 8]\n",
    "\n",
    "Input : [1, 2, 3, 4, 5, 6, 7, 8], k = 21\n",
    "Output: 4\n",
    "Explanation: The smallest subarray with sum > 20 is [5, 6, 7, 8]\n",
    "\n",
    "Input : [1, 2, 3, 4, 5, 6, 7, 8], k = 40\n",
    "Output: 0\n",
    "Explanation: No subarray exists\n",
    "\n",
    "'''\n",
    "\n",
    "\n",
    "class Solution:\n",
    "    def findSmallestSubarray(self, nums: List[int], k: int) -> int:\n",
    "        if not nums:\n",
    "            return 0\n",
    "        n = len(nums)\n",
    "        left = 0\n",
    "        max_sum = 0\n",
    "        length = sys.maxsize\n",
    "        for right in range(n):\n",
    "            max_sum = max_sum + nums[right]\n",
    "            while max_sum > k and left <= right:\n",
    "                length = min(length, right - left + 1)\n",
    "                max_sum -= nums[left]\n",
    "                left += 1\n",
    "        if length == sys.maxsize:\n",
    "            return 0\n",
    "        return length\n",
    "# Solution().findSmallestSubarray( [1, 2, 3, 4, 5, 6, 7, 8], k = 7)\n",
    "Solution().findSmallestSubarray( [1, 2, 3, 4, 5, 6, 7, 8], k = 8)\n",
    "# Solution().findSmallestSubarray( [1, 2, 3, 4, 5, 6, 7, 8], k = 21)"
   ],
   "metadata": {
    "collapsed": false,
    "pycharm": {
     "name": "#%%\n"
    }
   }
  },
  {
   "cell_type": "code",
   "execution_count": 171,
   "outputs": [
    {
     "data": {
      "text/plain": "(3, 6)"
     },
     "execution_count": 171,
     "metadata": {},
     "output_type": "execute_result"
    }
   ],
   "source": [
    "'''\n",
    "\n",
    "Given an integer array, find the smallest window sorting which will make the entire array sorted in increasing order. The solution should return a pair consisting of the starting and ending index of the smallest window.\n",
    "\n",
    "Input : [1, 2, 3, 7, 5, 6, 4, 8]\n",
    "Output: (3, 6)\n",
    "Explanation: The array can be sorted from index 3 to 6 to get sorted version.\n",
    "\n",
    "Input : [1, 3, 2, 7, 5, 6, 4, 8]\n",
    "Output: (1, 6)\n",
    "Explanation: The array can be sorted from index 1 to 6 to get sorted version.\n",
    "\n",
    "If the array is already sorted, the solution should return None.\n",
    "\n",
    "Input : [1, 2, 3, 4, 5]\n",
    "Output: None\n",
    "Explanation: The array is already sorted.\n",
    "\n",
    "'''\n",
    "\n",
    "\n",
    "class Solution:\n",
    "    def findSmallestWindow(self, nums: List[int]) -> Tuple[int]:\n",
    "        n = len(nums)\n",
    "        if n == 0:\n",
    "            return None\n",
    "        left = right = -1\n",
    "        max_val = -sys.maxsize\n",
    "        for i in range(n):\n",
    "            if nums[i] > max_val:\n",
    "                max_val = nums[i]\n",
    "            if nums[i] < max_val:\n",
    "                right = i\n",
    "        min_val = sys.maxsize\n",
    "        for i in range(n-1, -1, -1):\n",
    "            if min_val > nums[i]:\n",
    "                min_val = nums[i]\n",
    "            if nums[i] > min_val:\n",
    "                left = i\n",
    "        if left == -1:\n",
    "            return\n",
    "        return left, right\n",
    "Solution().findSmallestWindow([1, 2, 3, 7, 5, 6, 4, 8])"
   ],
   "metadata": {
    "collapsed": false,
    "pycharm": {
     "name": "#%%\n"
    }
   }
  },
  {
   "cell_type": "code",
   "execution_count": 180,
   "outputs": [
    {
     "name": "stdout",
     "output_type": "stream",
     "text": [
      "[3]\n",
      "[6, 7]\n",
      "[8, 10]\n",
      "[12, 15]\n",
      "[18]\n",
      "[100]\n"
     ]
    },
    {
     "data": {
      "text/plain": "199"
     },
     "execution_count": 180,
     "metadata": {},
     "output_type": "execute_result"
    }
   ],
   "source": [
    "'''\n",
    "\n",
    "Given two sorted arrays of integers, find a maximum sum path involving elements of both arrays whose sum is maximum. You can start from either array, but can switch between arrays only through its common elements.\n",
    "\n",
    "Input:\n",
    "\n",
    "X = [3, 6, 7, 8, 10, 12, 15, 18, 100]\n",
    "Y = [1, 2, 3, 5, 7, 9, 10, 11, 15, 16, 18, 25, 50]\n",
    "\n",
    "Output: The maximum sum is 199\n",
    "\n",
    "Explanation: The maximum sum path is 1 —> 2 —> 3 —> 6 —> 7 —> 9 —> 10 —> 12 —> 15 —> 16 —> 18 —> 100\n",
    "\n",
    "'''\n",
    "\n",
    "\n",
    "class Solution:\n",
    "    \n",
    "    def find(self, X, Y, xint, yint):\n",
    "        if not xint:\n",
    "            return 0\n",
    "        new_xint, new_yint = xint[:-1], yint[:-1]\n",
    "        max_sum = self.find(X, Y, new_xint, new_yint)\n",
    "        if len(xint) == 1:\n",
    "            xl, xh = 0, xint[0][0]\n",
    "            yl, yh = 0, yint[0][0]\n",
    "        else:\n",
    "            xl, xh = xint[-2][0], xint[-1][0]\n",
    "            yl, yh = yint[-2][0], yint[-1][0]\n",
    "        xsum = max_sum + sum(X[xl:xh])\n",
    "        ysum = max_sum + sum(Y[yl:yh])\n",
    "\n",
    "        return max(xsum, ysum)\n",
    "\n",
    "\n",
    "\n",
    "    def findMaxPathSum(self, X: List[int], Y: List[int]) -> int:\n",
    "        n, m = len(X), len(Y)\n",
    "        if not X:\n",
    "            return sum(Y)\n",
    "        if not Y:\n",
    "            return sum(X)\n",
    "        \n",
    "        intersection = list(sorted(set(X).intersection(set(Y))))\n",
    "\n",
    "        xint = list(filter(lambda xx: xx[1] in intersection,\n",
    "                      map(lambda x: (x[0] + 1, x[1]), enumerate(X))))\n",
    "        yint = list(filter(lambda xx: xx[1] in intersection,\n",
    "                      map(lambda x: (x[0] + 1, x[1]), enumerate(Y))))\n",
    "        if X[-1] != Y[-1]:\n",
    "            xint.append((n, X[-1]))\n",
    "            yint.append((m, Y[-1]))\n",
    "        assert len(xint) == len(yint)\n",
    "        max_sum = self.find(X, Y, xint, yint)\n",
    "        return max_sum\n",
    "\n",
    "\n",
    "Solution().findMaxPathSum(X = [3, 6, 7, 8, 10, 12, 15, 18, 100],\n",
    "Y = [1, 2, 3, 5, 7, 9, 10, 11, 15, 16, 18, 25, 50])\n",
    "        "
   ],
   "metadata": {
    "collapsed": false,
    "pycharm": {
     "name": "#%%\n"
    }
   }
  },
  {
   "cell_type": "code",
   "execution_count": 195,
   "outputs": [
    {
     "data": {
      "text/plain": "10"
     },
     "execution_count": 195,
     "metadata": {},
     "output_type": "execute_result"
    }
   ],
   "source": [
    "'''\n",
    "\n",
    "Given a list containing future prediction of share prices, find the maximum profit earned by buying and selling shares any number of times with the constraint, a new transaction can only start after the previous transaction is complete, i.e., you can only hold at most one share at a time.\n",
    "\n",
    "Input : [1, 5, 2, 3, 7, 6, 4, 5]\n",
    "Output: 10\n",
    "Explanation: Total profit earned is 10\n",
    "\n",
    "Buy on day 1 and sell on day 2\n",
    "Buy on day 3 and sell on day 5\n",
    "Buy on day 7 and sell on day 8\n",
    "\n",
    "\n",
    "Input : [10, 8, 6, 5, 4, 2]\n",
    "Output: 0\n",
    "\n",
    "'''\n",
    "\n",
    "\n",
    "class Solution:\n",
    "    def findMaxProfit(self, price: List[int]) -> int:\n",
    "        n = len(price)\n",
    "        if not n:\n",
    "        \treturn 0\n",
    "        max_profit = 0\n",
    "        max_price = price[0]\n",
    "        min_so_far = price[0]\n",
    "        for i in range(1, n):\n",
    "            if price[i] < max_price:\n",
    "                max_profit += max_price - min_so_far\n",
    "                min_so_far = price[i]\n",
    "                max_price = price[i]\n",
    "                continue\n",
    "            max_price = price[i]\n",
    "        return max_profit +  max(0, max_price - min_so_far)\n",
    "\n",
    "\n",
    "Solution().findMaxProfit( [1, 5, 2, 3, 7, 6, 4, 5])"
   ],
   "metadata": {
    "collapsed": false,
    "pycharm": {
     "name": "#%%\n"
    }
   }
  },
  {
   "cell_type": "code",
   "execution_count": 202,
   "outputs": [
    {
     "data": {
      "text/plain": "25"
     },
     "execution_count": 202,
     "metadata": {},
     "output_type": "execute_result"
    }
   ],
   "source": [
    "\n",
    "'''\n",
    "\n",
    "Find the maximum amount of water that can be trapped within a given set of bars where each bar’s width is 1 unit.\n",
    "\n",
    "Input : [7, 0, 4, 2, 5, 0, 6, 4, 0, 5]\n",
    "Output: 25\n",
    "Explanation: The maximum amount of water that can be trapped is 25.\n",
    "\n",
    "Pictorial representation: https://techiedelight.com/practice/images/TrappingRainWater.png\n",
    "\n",
    "\n",
    "Input : [10, 8, 6, 5, 4, 2]\n",
    "Output: 0\n",
    "\n",
    "'''\n",
    "\n",
    "\n",
    "class Solution:\n",
    "    def trapWater(self, bars: List[int]) -> int:\n",
    "        n = len(bars)\n",
    "        if not n:\n",
    "            return 0\n",
    "        max_height = bars[n-1]\n",
    "        height = 0\n",
    "        min_height = [bars[0]]\n",
    "        for i in range(1, n):\n",
    "            min_height.append(max(bars[i], min_height[i-1]))\n",
    "        for i in range(n-2, -1, -1):\n",
    "            height = height + max(0, min(min_height[i], max_height) - bars[i])\n",
    "            if max_height < bars[i]:\n",
    "                max_height = bars[i]\n",
    "        \n",
    "        return height\n",
    "Solution().trapWater([7, 0, 4, 2, 5, 0, 6, 4, 0, 5])"
   ],
   "metadata": {
    "collapsed": false,
    "pycharm": {
     "name": "#%%\n"
    }
   }
  },
  {
   "cell_type": "code",
   "execution_count": 205,
   "outputs": [
    {
     "data": {
      "text/plain": "3"
     },
     "execution_count": 205,
     "metadata": {},
     "output_type": "execute_result"
    }
   ],
   "source": [
    "'''\n",
    "\n",
    "Given a schedule containing the arrival and departure time of trains in a station, find the minimum number of platforms needed to avoid delay in any train’s arrival.\n",
    "\n",
    "Input:\n",
    "\n",
    "arrival = [2.00, 2.10, 3.00, 3.20, 3.50, 5.00]\n",
    "departure = [2.30, 3.40, 3.20, 4.30, 4.00, 5.20]\n",
    "\n",
    "Output: 2\n",
    "\n",
    "Explanation: The minimum platforms needed is 2\n",
    "\n",
    "The train arrived at 2.00 on platform 1\n",
    "The train arrived at 2.10 on platform 2\n",
    "The train departed at 2.30 from platform 1\n",
    "The train arrived at 3.00 on platform 1\n",
    "The train departed at 3.20 from platform 1\n",
    "The train arrived at 3.20 on platform 1\n",
    "The train departed at 3.40 from platform 2\n",
    "The train arrived at 3.50 on platform 2\n",
    "The train departed at 4.00 from platform 2\n",
    "The train departed at 4.30 from platform 1\n",
    "The train arrived at 5.00 on platform 1\n",
    "The train departed at 5.20 from platform 1\n",
    "\n",
    "'''\n",
    "\n",
    "\n",
    "class Solution:\n",
    "    def findMinPlatforms(self, arrival: List[float], departure: List[float]) -> int:\n",
    "        i =0\n",
    "        j=0\n",
    "        arrival = sorted(arrival)\n",
    "        departure = sorted(departure)\n",
    "        nplat =  nfree = 0\n",
    "        while i < len(arrival) and j < len(departure):\n",
    "            if arrival[i] < departure[j]:\n",
    "                if not nfree:\n",
    "                    nplat += 1\n",
    "                i += 1\n",
    "            else:\n",
    "                nfree += 1\n",
    "                j+= 1\n",
    "        return nplat\n",
    "\n",
    "\n",
    "Solution().findMinPlatforms( [2.0, 2.1, 3.0, 3.2, 3.5, 5.0],\n",
    "                            [4.3, 3.4, 3.2, 4.3, 4.0, 5.2])"
   ],
   "metadata": {
    "collapsed": false,
    "pycharm": {
     "name": "#%%\n"
    }
   }
  },
  {
   "cell_type": "code",
   "execution_count": null,
   "outputs": [],
   "source": [
    "'''\n",
    "# TODO\n",
    "Given an integer array `X`, which is constructed by taking the sum of every distinct pair from another array `Y`, decode `X` to get the original array back. If the original array is `Y[0], Y[1], … , Y[n-1]`, then the input array `X` is:\n",
    "\n",
    "[\n",
    "  (Y[0] + Y[1]), (Y[0] + Y[2]), … (Y[0] + Y[n-1]),\n",
    "  (Y[1] + Y[2]), (Y[1] + Y[3]), … (Y[1] + Y[n-1]),\n",
    "  …\n",
    "  …\n",
    "  (Y[i] + Y[i+1]), (Y[i] + Y[i+2]), … (Y[i] + Y[n-1]),\n",
    "  …\n",
    "  …\n",
    "  (Y[n-2] + Y[n-1])\n",
    "]\n",
    "\n",
    "Input : [3, 4, 5, 5, 6, 7]\n",
    "Output: [1, 2, 3, 4]\n",
    "Explanation: The input array [3, 4, 5, 5, 6, 7] is formed by the sum of every distinct pair of the output array [(1 + 2), (1 + 3), (1 + 4), (2 + 3), (2 + 4), (3 + 4)]\n",
    "\n",
    "Input : [3, 4, 5, 6, 5, 6, 7, 7, 8, 9]\n",
    "Output: [1, 2, 3, 4, 5]\n",
    "\n",
    "Input : [3, 4, 5]\n",
    "Output: [1, 2, 3]\n",
    "\n",
    "\n",
    "Note: Assume valid input and input size > 2\n",
    "\n",
    "'''\n",
    "\n",
    "\n",
    "class Solution:\n",
    "    def decode(self, nums: List[int]) -> List[int]:\n",
    "        pass\n"
   ],
   "metadata": {
    "collapsed": false,
    "pycharm": {
     "name": "#%%\n"
    }
   }
  },
  {
   "cell_type": "code",
   "execution_count": 207,
   "outputs": [
    {
     "name": "stdout",
     "output_type": "stream",
     "text": [
      "[3, 5, 6, 7, 8, 9]\n"
     ]
    }
   ],
   "source": [
    "'''\n",
    "\n",
    "Given an integer array where all its elements are sorted in increasing order except two swapped elements, sort it in linear time. Assume there are no duplicates in the array.\n",
    "\n",
    "Input : [3, 8, 6, 7, 5, 9] or [3, 5, 6, 9, 8, 7] or [3, 5, 7, 6, 8, 9]\n",
    "Output: [3, 5, 6, 7, 8, 9]\n",
    "\n",
    "'''\n",
    "\n",
    "\n",
    "class Solution:\n",
    "    def sortArray(self, nums: List[int]) -> None:\n",
    "        n = len(nums)\n",
    "        if not n:\n",
    "            return \n",
    "        max_val = nums[0]\n",
    "        flag = False\n",
    "        left, right = -1, -1\n",
    "        for i in range(1, n):\n",
    "            if flag and nums[i] < max_val:\n",
    "                right = i\n",
    "                continue\n",
    "            if flag and nums[i] > max_val:\n",
    "                right = i - 1\n",
    "                break\n",
    "                \n",
    "            if nums[i] < max_val and not flag:\n",
    "                left = i - 1\n",
    "                flag = True\n",
    "                \n",
    "            max_val = max(max_val, nums[i])\n",
    "        nums[left], nums[right] = nums[right], nums[left]\n",
    "        \n",
    "        print(nums)\n",
    "Solution().sortArray([3, 5, 6, 9, 8, 7])\n",
    "    "
   ],
   "metadata": {
    "collapsed": false,
    "pycharm": {
     "name": "#%%\n"
    }
   }
  },
  {
   "cell_type": "code",
   "execution_count": null,
   "outputs": [],
   "source": [
    "'''\n",
    "\n",
    "Given an unsorted integer array, find a triplet that sum to zero.\n",
    "\n",
    "Input : [4, -1, 1, 2, -1]\n",
    "Output: (-1, 2, -1)\n",
    "\n",
    "Input : [4, 5, 4, -1, 3]\n",
    "Output: ()\n",
    "Explanation: No triplet exists with zero-sum.\n",
    "\n",
    "If the input contains several triplets with zero-sum, the solution can return any one of them.\n",
    "\n",
    "Input : nums[] = [-5, 2, 4, 0, 9, 5, 1, -3]\n",
    "Output: (0, -5, 5) or (-5, 4, 1) or (1, 2, -3)\n",
    "\n",
    "Note: The solution can return the triplet in any order, not necessarily as they appear in the array.\n",
    "\n",
    "'''\n",
    "\n",
    "\n",
    "class Solution:\n",
    "\tdef findTriplets(self, nums: List[int]) -> Tuple[int]:\n",
    "\t\t# Write your code here...\n",
    "\t\treturn\n",
    "\n",
    "\n",
    "\n"
   ],
   "metadata": {
    "collapsed": false,
    "pycharm": {
     "name": "#%%\n"
    }
   }
  }
 ],
 "metadata": {
  "kernelspec": {
   "display_name": "Python 3.9.12 ('base')",
   "language": "python",
   "name": "python3"
  },
  "language_info": {
   "codemirror_mode": {
    "name": "ipython",
    "version": 3
   },
   "file_extension": ".py",
   "mimetype": "text/x-python",
   "name": "python",
   "nbconvert_exporter": "python",
   "pygments_lexer": "ipython3",
   "version": "3.9.12"
  },
  "orig_nbformat": 4,
  "vscode": {
   "interpreter": {
    "hash": "bb47844ab9c04b2023175cd7a233f93dfe39a1a0cb472aa97101bdc07c90b4cf"
   }
  }
 },
 "nbformat": 4,
 "nbformat_minor": 2
}