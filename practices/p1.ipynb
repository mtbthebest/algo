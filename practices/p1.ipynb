{
 "cells": [
  {
   "cell_type": "code",
   "execution_count": 81,
   "metadata": {
    "collapsed": true
   },
   "outputs": [
    {
     "name": "stdout",
     "output_type": "stream",
     "text": [
      "The autoreload extension is already loaded. To reload it, use:\n",
      "  %reload_ext autoreload\n"
     ]
    }
   ],
   "source": [
    "%load_ext autoreload\n",
    "%autoreload 2\n",
    "import numpy as np\n",
    "from copy import deepcopy\n",
    "from math import floor, ceil"
   ]
  },
  {
   "cell_type": "code",
   "execution_count": 82,
   "outputs": [
    {
     "data": {
      "text/plain": "[5, 6, 7, 8, 1, 2, 3, 4]"
     },
     "execution_count": 82,
     "metadata": {},
     "output_type": "execute_result"
    }
   ],
   "source": [
    "def reverse_arr(x, start, end):\n",
    "    while start <= end-1:\n",
    "        x[start], x[end-1] = x[end-1], x[start]\n",
    "        end -=1\n",
    "        start += 1\n",
    "\n",
    "def rotate_array(x, k):\n",
    "    \"\"\"Problem: Rotate an array of n elements to the right by k steps. For example, with n\n",
    "= 7 and k = 3, the array [1,2,3,4,5,6,7] is rotated to [5,6,7,1,2,3,4]. How many different\n",
    "ways do you know to solve this problem?\\\n",
    "    \"\"\"\n",
    "    \"\"\"\n",
    "    # Method 1:\n",
    "    n = len(x)\n",
    "    if k >= n:\n",
    "        k = k%n\n",
    "    start , end = n - k, 0\n",
    "    return x[start:] + x[:start]\n",
    "    \"\"\"\n",
    "\n",
    "    \"\"\"#Method2\n",
    "    if k < 0:\n",
    "        raise ValueError\n",
    "    n = len(x)\n",
    "    k = k % n if k >= n else k\n",
    "    for i in range(k):\n",
    "        current = x[-1]\n",
    "        last = x[0]\n",
    "        for j in range(1, n):\n",
    "            l = x[j]\n",
    "            x[j] = last\n",
    "            last = l\n",
    "        x[0] = current\n",
    "\n",
    "    return x\n",
    "\n",
    "    \"\"\"\n",
    "\n",
    "    \"\"\"Method 3: \"\"\"\n",
    "    if k < 0:\n",
    "        raise ValueError\n",
    "    n = len(x)\n",
    "    k = k % n if k >= n else k\n",
    "    if k > 0:\n",
    "        reverse_arr(x, 0, n-k)\n",
    "        reverse_arr(x, n-k, n)\n",
    "        reverse_arr(x,0,n)\n",
    "    return x\n",
    "\n",
    "\n",
    "\n",
    "\n",
    "\n",
    "\n",
    "rotate_array(deepcopy([1,2,3,4,5,6,7, 8]), 4)"
   ],
   "metadata": {
    "collapsed": false,
    "pycharm": {
     "name": "#%%\n"
    }
   }
  },
  {
   "cell_type": "code",
   "execution_count": 83,
   "outputs": [
    {
     "name": "stdout",
     "output_type": "stream",
     "text": [
      "((2 + 1) * 3)\n",
      "(4 + (13 / 5))\n"
     ]
    },
    {
     "data": {
      "text/plain": "6"
     },
     "execution_count": 83,
     "metadata": {},
     "output_type": "execute_result"
    }
   ],
   "source": [
    "from data_structures.ds3 import LinkedStack\n",
    "def evalRPN(x):\n",
    "    \"\"\"Evaluate the value of an arithmetic expression in Reverse Polish Notation. Valid op-\n",
    "erators are +, -, *, /. Each operand may be an integer or another expression. For\n",
    "example .\n",
    "        [\"2\", \"1\", \"+\", \"3\", \"*\"] -> ((2 + 1) * 3) -> 9\n",
    "        [\"4\", \"13\", \"5\", \"/\", \"+\"] -> (4 + (13 / 5)) -> 6\"\"\"\n",
    "    stack = LinkedStack()\n",
    "    ops = \"*+/-%\"\n",
    "    for el in x:\n",
    "        if el in ops:\n",
    "            right, left = stack.pop(), stack.pop()\n",
    "            res = f\"({left} {el} {right})\"\n",
    "            stack.push(res)\n",
    "        else:\n",
    "            stack.push(el)\n",
    "    res = stack.pop()\n",
    "    print(res)\n",
    "    return int(eval(res))\n",
    "\n",
    "\n",
    "evalRPN([\"2\", \"1\", \"+\", \"3\", \"*\"])\n",
    "evalRPN([\"4\", \"13\", \"5\", \"/\", \"+\"])"
   ],
   "metadata": {
    "collapsed": false,
    "pycharm": {
     "name": "#%%\n"
    }
   }
  },
  {
   "cell_type": "code",
   "execution_count": 84,
   "outputs": [
    {
     "data": {
      "text/plain": "False"
     },
     "execution_count": 84,
     "metadata": {},
     "output_type": "execute_result"
    }
   ],
   "source": [
    "def is_ismorphic_string(s1, s2):\n",
    "    \"\"\"Given two strings s and t, determine if they are isomorphic. Two strings are isomor-\n",
    "phic if the characters in s can be replaced to get t.\n",
    "For example,\"egg\" and \"add\" are isomorphic, \"foo\" and \"bar\" are not.\"\"\"\n",
    "    if len(s1) != len(s2):\n",
    "        return False\n",
    "    res = dict()\n",
    "    for (x, y) in zip(s1, s2):\n",
    "        if res.get(x) is None:\n",
    "            res[x] = y\n",
    "        elif res[x] !=y:\n",
    "            return False\n",
    "\n",
    "    return True\n",
    "\n",
    "# is_ismorphic_string(\"egg\", \"add\")\n",
    "is_ismorphic_string(\"foo\", \"bar\")\n",
    "# is_ismorphic_string(\"\", \"\")"
   ],
   "metadata": {
    "collapsed": false,
    "pycharm": {
     "name": "#%%\n"
    }
   }
  },
  {
   "cell_type": "code",
   "execution_count": 85,
   "outputs": [
    {
     "data": {
      "text/plain": "(5, [['code', 'code', 'cade', 'cate', 'date', 'data']])"
     },
     "execution_count": 85,
     "metadata": {},
     "output_type": "execute_result"
    }
   ],
   "source": [
    "from data_structures import LinkedQueue\n",
    "#TODO recheck wit graph theory\n",
    "def ladder_length(start, target, words):\n",
    "    \"\"\"Given two words (start and end), and a dictionary, find the length of shortest transfor-\n",
    "mation sequence from start to end, such that only one letter can be changed at a time\n",
    "and each intermediate word must exist in the dictionary. For example, given:\n",
    "start = \"hit\"\n",
    "end = \"cog\"\n",
    "dict = [\"hot\",\"dot\",\"dog\",\"lot\",\"log\"]\n",
    "One shortest transformation is \"hit\" ->\"hot\" ->\"dot\" ->\"dog\" ->\"cog\", the program\n",
    "should return its length 5.\"\"\"\n",
    "    class Node:\n",
    "\n",
    "        def __init__(self, word, steps, prev):\n",
    "            self.word = word\n",
    "            self.steps = steps\n",
    "            self.prev = prev\n",
    "\n",
    "        def get_properties(self):\n",
    "            return self.word, self.steps, self.prev\n",
    "\n",
    "    if start == target:\n",
    "        return 0\n",
    "    if target not in words:\n",
    "        words.append(target)\n",
    "\n",
    "    q = LinkedQueue()\n",
    "    q.enqueue(Node(start, 1, None))\n",
    "    lst = []\n",
    "\n",
    "    while not q.is_empty():\n",
    "        word_node = q.dequeue()\n",
    "        word, steps, prev= word_node.get_properties()\n",
    "        if prev is None:\n",
    "            lst.append([word])\n",
    "        else:\n",
    "            for i, ls in enumerate(lst):\n",
    "                if ls[-1] == prev.word:\n",
    "                    ls.append(word)\n",
    "                    break\n",
    "            else:\n",
    "                ls = deepcopy(lst[-1])\n",
    "                assert ls[-2] == prev.word\n",
    "                ls.pop()\n",
    "                ls.append(word)\n",
    "                lst.append(ls)\n",
    "        if word_node.word == target:\n",
    "            for ls in lst:\n",
    "                if word not in ls:\n",
    "                    ls.append(word)\n",
    "            return word_node.steps, lst\n",
    "        for i, word_l in enumerate(word_node.word):\n",
    "            for char in range(ord(\"a\"), ord(\"z\") + 1):\n",
    "                new_word = word_node.word[:i] + chr(char)\n",
    "                if i+1 < len(word_node.word):\n",
    "                    new_word += word_node.word[i+1:]\n",
    "                if new_word in words:\n",
    "                    q.enqueue(Node(new_word, word_node.steps + 1, word_node))\n",
    "                    words.remove(new_word)\n",
    "\n",
    "\n",
    "    return 0\n",
    "\n",
    "#\n",
    "# ladder_length(start = \"hit\",\n",
    "#               target = \"cog\",\n",
    "#               words = [\"hot\",\"dot\",\"dog\",\"lot\",\"log\", \"cog\"])\n",
    "\n",
    "ladder_length(start = \"code\",\n",
    "              target = \"data\",\n",
    "              words = [\"data\",\"date\",\"cate\",\"cade\",\"code\"])"
   ],
   "metadata": {
    "collapsed": false,
    "pycharm": {
     "name": "#%%\n"
    }
   }
  },
  {
   "cell_type": "code",
   "execution_count": 86,
   "outputs": [
    {
     "data": {
      "text/plain": "4.5"
     },
     "execution_count": 86,
     "metadata": {},
     "output_type": "execute_result"
    }
   ],
   "source": [
    "\n",
    "#TODO\n",
    "def find_median_sorted_array(x1, x2):\n",
    "    \"\"\"Given two sorted arrays nums1 and nums2 of size m and n respectively, return the median of the two sorted arrays.\n",
    "\n",
    "The overall run time complexity should be O(log (m+n)).\"\"\"\n",
    "    # Per case\n",
    "    # Case 1 empty\n",
    "    m, n = len(x1), len(x2)\n",
    "\n",
    "    def find_kth_element(start1, end1, start2, end2, k):\n",
    "        len1, len2 = end1 - start1 + 1, end2 - start2 + 1\n",
    "        if len1 == 0:\n",
    "            return x2[start2 + k]\n",
    "        if len2 == 0:\n",
    "            return x1[start1 + k]\n",
    "        if k == 0:\n",
    "            return x1[start1] if x1[start1] < x2[start2] else x2[start2]\n",
    "        m1 =  floor((len1 * k) / (len1 + len2) )\n",
    "        m2 = k - (m1 + 1)\n",
    "\n",
    "        m1 = start1 + m1\n",
    "        m2 = start2 + m2\n",
    "\n",
    "        if x1[m1] > x2[m2]:\n",
    "            k = k - (m2 - start2 + 1)\n",
    "            end1 = m1\n",
    "            start2 = m2 + 1\n",
    "        else:\n",
    "            k = k - (m1 - start1 + 1)\n",
    "            end2 = m2\n",
    "            start1 = m1 + 1\n",
    "\n",
    "        return find_kth_element(start1, end1, start2, end2, k)\n",
    "\n",
    "\n",
    "    if (m+n) % 2 != 0:\n",
    "        return find_kth_element(0, m-1, 0, n-1, k=floor((m+n) / 2))\n",
    "    else:\n",
    "        return (find_kth_element(0, m-1, 0, n-1, k=floor((m+n) / 2)) +\n",
    "                find_kth_element(0, m-1, 0, n-1, k=floor((m+n) / 2)) - 1) * 0.5\n",
    "\n",
    "\n",
    "find_median_sorted_array( [1,2,3,4,5],  [2, 7, 9, 11, 16] )"
   ],
   "metadata": {
    "collapsed": false,
    "pycharm": {
     "name": "#%%\n"
    }
   }
  },
  {
   "cell_type": "code",
   "execution_count": 87,
   "outputs": [
    {
     "name": "stdout",
     "output_type": "stream",
     "text": [
      "6\n",
      "5\n",
      "4\n",
      "3\n",
      "2\n",
      "1\n"
     ]
    }
   ],
   "source": [
    "def find_kth_largest(x, k, low=0, high=-1):\n",
    "    \"\"\"Find the kth largest element in an unsorted array. Note that it is the kth largest element\n",
    "in the sorted order, not the kth distinct element.\n",
    "For example, given [3,2,1,5,6,4] and k = 2, return 5.\n",
    "Note: You may assume k is always valid, 1 \u0014 k \u0014 array’s length.\"\"\"\n",
    "    # Method 1 quicksort\n",
    "\n",
    "    high = len(x) - 1 if high == -1 else high\n",
    "    def partition(arr, low, high):\n",
    "        pivot = arr[high]\n",
    "        i = -1\n",
    "        for j in range(high - low + 1):\n",
    "            if arr[low + j] > pivot:\n",
    "                i +=1\n",
    "                arr[low + i], arr[low + j] = arr[low + j], arr[low + i]\n",
    "        arr[low + i + 1], arr[high] = arr[high], arr[low+i+1]\n",
    "        return i+1\n",
    "\n",
    "    \n",
    "    q = partition(x, low=low, high=high)\n",
    "    if q == k -1:\n",
    "        return x[low + q]\n",
    "    if q > k-1:\n",
    "        return find_kth_largest(x, k, low=low, high=low + q-1)\n",
    "    else:\n",
    "        return find_kth_largest(x, k - (q+1), low=q+1, high=high)\n",
    "\n",
    "    # Method2 heap TODO\n",
    "\n",
    "for k in range(1, 7):\n",
    "    print(find_kth_largest([3,2,1,5,6,4], k = k))"
   ],
   "metadata": {
    "collapsed": false,
    "pycharm": {
     "name": "#%%\n"
    }
   }
  },
  {
   "cell_type": "code",
   "execution_count": 88,
   "outputs": [],
   "source": [
    "#TODO\n",
    "\n",
    "def is_match(s, p):\n",
    "    \"\"\"Implement wildcard pattern matching with support for ’?’ and ’*’.\"\"\"\n",
    "\n"
   ],
   "metadata": {
    "collapsed": false,
    "pycharm": {
     "name": "#%%\n"
    }
   }
  },
  {
   "cell_type": "code",
   "execution_count": 89,
   "outputs": [],
   "source": [
    "# TODO\n",
    "def is_match(s, p):\n",
    "    \"\"\"Implement regular expression matching with support for ’.’ and ’*’.\n",
    "’.’ Matches any single character. ’*’ Matches zero or more of the preceding element.\n",
    "The matching should cover the entire input string (not partial).\n",
    "The function prototype should be: bool isMatch(const char *s, const char *p)\n",
    "Some examples: isMatch(\"aa\",\"a\") return false isMatch(\"aa\",\"aa\") return true isMatch(\"aaa\",\"aa\")\n",
    "return false isMatch(\"aa\", \"a*\") return true isMatch(\"aa\", \".*\") return true isMatch(\"ab\",\n",
    "\".*\") return true isMatch(\"aab\", \"c*a*b\") return true\"\"\"\n",
    "\n"
   ],
   "metadata": {
    "collapsed": false,
    "pycharm": {
     "name": "#%%\n"
    }
   }
  },
  {
   "cell_type": "code",
   "execution_count": 90,
   "outputs": [
    {
     "data": {
      "text/plain": "[[1, 3], [5, 15], [18, 30]]"
     },
     "execution_count": 90,
     "metadata": {},
     "output_type": "execute_result"
    }
   ],
   "source": [
    "class Interval:\n",
    "    __slots__ = (\"a\", \"b\")\n",
    "    def __init__(self, a, b):\n",
    "        self.a = a\n",
    "        self.b = b\n",
    "\n",
    "    def __repr__(self):\n",
    "        return f\"Interval({self.a}, {self.b})\"\n",
    "\n",
    "def merge_intervals(x):\n",
    "    \"\"\"Given a collection of intervals, merge all overlapping intervals.\n",
    "For example,\n",
    "Given [1,3],[2,6],[8,10],[15,18],\n",
    "return [1,6],[8,10],[15,18].\"\"\"\n",
    "    y = list(map(lambda i: Interval(i[0], i[1]) , x))\n",
    "    y = sorted(y, key=lambda i:i.a)\n",
    "    \n",
    "    z = [y[0]]\n",
    "    for j in range(1, len(y)):\n",
    "        if z[-1].a <= y[j].a <= z[-1].b:\n",
    "            z[-1] = (Interval(z[-1].a, max(y[j].b,z[-1].b )))\n",
    "        else:\n",
    "            z.append(y[j])\n",
    "\n",
    "    return list(map(lambda i: [i.a, i.b], z))\n",
    "\n",
    "\n",
    "# merge_intervals([ [1,3],[15,18], [2,6],[8,10], ])\n",
    "# merge_intervals([[1, 5], [2, 3], [4, 6], [7, 8], [8, 10], [12, 15]]) # {1, 6}, {7, 10}, {12, 15}.\n",
    "merge_intervals([[1,3],[5,10],[7,15],[18,30],[22,25]]) # [[1,3],[5,15],[18,30]]"
   ],
   "metadata": {
    "collapsed": false,
    "pycharm": {
     "name": "#%%\n"
    }
   }
  },
  {
   "cell_type": "code",
   "execution_count": 91,
   "outputs": [
    {
     "data": {
      "text/plain": "[[1, 5], [6, 9]]"
     },
     "execution_count": 91,
     "metadata": {},
     "output_type": "execute_result"
    }
   ],
   "source": [
    "def merge_non_overlapping_intervals(intervals, new_interval):\n",
    "    intervals = list(map(lambda x: Interval(x[0], x[1]), intervals))\n",
    "    new_interval = Interval(new_interval[0], new_interval[1])\n",
    "\n",
    "    intervals.sort(key= lambda interval: interval.a)\n",
    "    res = []\n",
    "\n",
    "    if not intervals:\n",
    "        res = [new_interval]\n",
    "\n",
    "    for j in range(len(intervals)):\n",
    "        interval = intervals[j]\n",
    "        if min(new_interval.a, interval.a) <= max(new_interval.a, interval.a)  <= min(new_interval.b, interval.b):\n",
    "            new_interval = Interval(min(new_interval.a, interval.a),\n",
    "                                max(interval.b, new_interval.b)\n",
    "                                )\n",
    "            if res and res[-1].a<= new_interval.a <= res[-1].b:\n",
    "                res[-1] = Interval(res[-1].a, max(new_interval.b, res[-1].b))\n",
    "            else:\n",
    "                res.append(new_interval)\n",
    "        else:\n",
    "            res.append(interval)\n",
    "\n",
    "    return list(map(lambda i: [i.a, i.b], res))\n",
    "\n",
    "\n",
    "\n",
    "# merge_non_overlapping_intervals([[1,2],[3,5],[6,7],[8,10],[12,16]], [4,8])\n",
    "# merge_non_overlapping_intervals([], [5,7])\n",
    "merge_non_overlapping_intervals([[1,3],[6,9]], [2,5])\n",
    "\n"
   ],
   "metadata": {
    "collapsed": false,
    "pycharm": {
     "name": "#%%\n"
    }
   }
  },
  {
   "cell_type": "code",
   "execution_count": 92,
   "outputs": [
    {
     "data": {
      "text/plain": "[0, 1]"
     },
     "execution_count": 92,
     "metadata": {},
     "output_type": "execute_result"
    }
   ],
   "source": [
    "def binary_search(arr, target, between = False):\n",
    "    print(\"Binary search \", target)\n",
    "    mid = floor(len(arr) / 2)\n",
    "    low, high = 0, len(arr) - 1\n",
    "    while low <= high:\n",
    "        print(low, high, mid, \"tsrget \", target, arr[mid], target)\n",
    "        if arr[mid] == target :\n",
    "            return mid\n",
    "        elif arr[mid] > target:\n",
    "            if between and arr[mid-1] <= target:\n",
    "                return mid\n",
    "            low, high = low, mid-1\n",
    "            mid = floor((mid-low) / 2)\n",
    "        else:\n",
    "            low, high = mid + 1, high\n",
    "            mid = low + floor((high - mid) / 2)\n",
    "\n",
    "    return None\n",
    "\n",
    "\n",
    "\n",
    "def two_sum(nums, target):\n",
    "    \"\"\"Given an array of integers, find two numbers such that they add up to a specific target\n",
    "number.\n",
    "The function twoSum should return indices of the two numbers such that they add\n",
    "up to the target, where index1 must be less than index2. Please note that your returned\n",
    "answers (both index1 and index2) are not zero-based.\n",
    "For example:\n",
    "Input: numbers={2, 7, 11, 15}, target=9\n",
    "Output: index1=1, index2=2\"\"\"\n",
    "    # Method1\n",
    "    \"\"\"n2 = deepcopy(nums)\n",
    "    nums.sort()\n",
    "    index = len(nums) if target >= len(nums) else  binary_search(nums, target, between=True)\n",
    "\n",
    "\n",
    "    for j in range(index-1, -1, -1):\n",
    "        new_target = target - nums[j]\n",
    "        if (new_index := binary_search(nums, new_target)) is not None:\n",
    "            m,n = n2.index(nums[j]), n2.index(new_target)\n",
    "            return [m,n]\n",
    "    return None\"\"\"\n",
    "\n",
    "    res = dict()\n",
    "    for i, num in enumerate(nums):\n",
    "        if num in res:\n",
    "            return [res[num] , i]\n",
    "        res[target - num] = i\n",
    "\n",
    "two_sum( [2,7,11,15], 9)\n",
    "# two_sum([3,2,4], 6)"
   ],
   "metadata": {
    "collapsed": false,
    "pycharm": {
     "name": "#%%\n"
    }
   }
  },
  {
   "cell_type": "code",
   "execution_count": 93,
   "outputs": [
    {
     "data": {
      "text/plain": "[0, 1]"
     },
     "execution_count": 93,
     "metadata": {},
     "output_type": "execute_result"
    }
   ],
   "source": [
    "def two_sum(nums, target):\n",
    "    \"\"\"Array is sorted\"\"\"\n",
    "    if len(nums) == 0:\n",
    "        return None\n",
    "    i, j = 0, len(nums) - 1\n",
    "    while i < j:\n",
    "        x = nums[i] + nums[j]\n",
    "        if x < target:\n",
    "            i+=1\n",
    "        elif x > target:\n",
    "            j -= 1\n",
    "        else:\n",
    "            return [i, j]\n",
    "\n",
    "    return None\n",
    "\n",
    "two_sum( [2,7,11,15], 9)"
   ],
   "metadata": {
    "collapsed": false,
    "pycharm": {
     "name": "#%%\n"
    }
   }
  },
  {
   "cell_type": "code",
   "execution_count": 94,
   "outputs": [],
   "source": [
    "from collections import defaultdict\n",
    "class TwoSums:\n",
    "\n",
    "    def __init__(self):\n",
    "        self.data =defaultdict(int)\n",
    "\n",
    "    def add(self, v):\n",
    "        self.data[v] += 1\n",
    "\n",
    "    def find(self, value):\n",
    "        for k in self.data:\n",
    "            target = value - k\n",
    "            if target in self.data:\n",
    "                if k == target and self.data[target] < 2:\n",
    "                    continue\n",
    "                \n",
    "                return True\n",
    "        \n",
    "        return False"
   ],
   "metadata": {
    "collapsed": false,
    "pycharm": {
     "name": "#%%\n"
    }
   }
  },
  {
   "cell_type": "code",
   "execution_count": 95,
   "outputs": [
    {
     "name": "stdout",
     "output_type": "stream",
     "text": [
      "False\n",
      "True\n"
     ]
    }
   ],
   "source": [
    "d = TwoSums()\n",
    "\n",
    "d.add(1)\n",
    "d.add(6)\n",
    "d.add(5)\n",
    "print(d.find(5))\n",
    "print(d.find(7))"
   ],
   "metadata": {
    "collapsed": false,
    "pycharm": {
     "name": "#%%\n"
    }
   }
  },
  {
   "cell_type": "code",
   "execution_count": 96,
   "outputs": [
    {
     "ename": "SyntaxError",
     "evalue": "invalid syntax (<ipython-input-96-a887206a5c85>, line 6)",
     "output_type": "error",
     "traceback": [
      "\u001B[0;36m  File \u001B[0;32m\"<ipython-input-96-a887206a5c85>\"\u001B[0;36m, line \u001B[0;32m6\u001B[0m\n\u001B[0;31m    for i in\u001B[0m\n\u001B[0m             ^\u001B[0m\n\u001B[0;31mSyntaxError\u001B[0m\u001B[0;31m:\u001B[0m invalid syntax\n"
     ]
    }
   ],
   "source": [
    "\n",
    "\n",
    "def three_sum(nums, target):\n",
    "    \"\"\"Given an array S of n integers, are there elements a, b, c in S such that a + b + c = 0?\n",
    "Find all unique triplets in the array which gives the sum of zero.\n",
    "Note: Elements in a triplet (a,b,c) must be in non-descending order. (ie, a \u0014 b \u0014 c)\n",
    "The solution set must not contain duplicate triplets.\"\"\"\n",
    "    for i in \n",
    "\n",
    "    \n",
    "three_sum([-1, 0, 1, 2, -1, -4], 0)"
   ],
   "metadata": {
    "collapsed": false,
    "pycharm": {
     "name": "#%%\n"
    }
   }
  }
 ],
 "metadata": {
  "kernelspec": {
   "display_name": "Python 3",
   "language": "python",
   "name": "python3"
  },
  "language_info": {
   "codemirror_mode": {
    "name": "ipython",
    "version": 2
   },
   "file_extension": ".py",
   "mimetype": "text/x-python",
   "name": "python",
   "nbconvert_exporter": "python",
   "pygments_lexer": "ipython2",
   "version": "2.7.6"
  }
 },
 "nbformat": 4,
 "nbformat_minor": 0
}