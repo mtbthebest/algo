{
 "cells": [
  {
   "cell_type": "code",
   "execution_count": 1,
   "metadata": {
    "collapsed": true
   },
   "outputs": [],
   "source": [
    "%load_ext autoreload\n",
    "%autoreload 2\n",
    "from data_structures.container import Container"
   ]
  },
  {
   "cell_type": "code",
   "execution_count": 6,
   "outputs": [],
   "source": [
    "class Color:\n",
    "    RED = 0\n",
    "    BLACK = 1\n",
    "\n",
    "class Node:\n",
    "    def __init__(self, key, parent=None, left=None,\n",
    "                 right=None, color= None):\n",
    "        self.key= key\n",
    "        self.left = left\n",
    "        self.right =  right\n",
    "        self.parent = parent\n",
    "        self.color = color\n",
    "\n",
    "    @property\n",
    "    def p(self):\n",
    "        return self.parent\n",
    "    @p.setter\n",
    "    def p(self, v):\n",
    "        self.parent = v\n",
    "\n",
    "    def __repr__(self):\n",
    "        return f\"{self.__class__.__name__}({self.key})\""
   ],
   "metadata": {
    "collapsed": false,
    "pycharm": {
     "name": "#%%\n"
    }
   }
  },
  {
   "cell_type": "code",
   "execution_count": 8,
   "outputs": [],
   "source": [
    "class RedBlackTree:\n",
    "\n",
    "    def __init__(self):\n",
    "        self.root = None\n",
    "\n",
    "    def left_rotate(self, x):\n",
    "        y = x.right\n",
    "        x.right = y.left\n",
    "        if y.left is not None:\n",
    "            y.left.p = x\n",
    "        y.p = x.p\n",
    "        if x.p is None:\n",
    "            self.root = y\n",
    "        elif x == x.p.left:\n",
    "            x.p.left = y\n",
    "        else:\n",
    "            x.p.right = y\n",
    "        y.left = x\n",
    "        x.p = y\n",
    "\n",
    "    def right_rotate(self, y):\n",
    "        x = y.left\n",
    "        y.left = x.right\n",
    "        if x.right is not None:\n",
    "            x.right.p = y\n",
    "        x.p = y.p\n",
    "        if y.p is None:\n",
    "            self.root = x\n",
    "        elif y == y.p.right:\n",
    "            y.p.right = x\n",
    "        else:\n",
    "            y.p.left = x\n",
    "        x.right = y\n",
    "        y.p = x\n",
    "\n",
    "    def insert(self, z):\n",
    "        y = None\n",
    "        x = self.root\n",
    "\n",
    "        while x is not None:\n",
    "            y = x\n",
    "            if z.key < x.key:\n",
    "                x = x.left\n",
    "            else:\n",
    "                x = x.right\n",
    "        z.p = y\n",
    "\n",
    "        if y is None:\n",
    "            self.root = z\n",
    "        elif z.key < y.key:\n",
    "            y.left = z\n",
    "        else:\n",
    "            y.right = z\n",
    "\n",
    "        z.left = None\n",
    "        z.right = None\n",
    "        z.color = Color.RED\n",
    "\n",
    "        self.insert_fixup(z)\n",
    "\n",
    "    def insert_fixup(self, z):\n",
    "        while z.p.color == Color.RED:\n",
    "            if z.p == z.p.p.left:\n",
    "                y = z.p.p.right\n",
    "                if y.color == Color.RED:\n",
    "                    z.p.color = Color.BLACK\n",
    "                    y.color = Color.BLACK\n",
    "                    z.p.p.color = Color.RED\n",
    "                    z = z.p.p\n",
    "                elif z == z.p.right:\n",
    "                    z = z.p\n",
    "                    self.left_rotate(z)\n",
    "                    z.p.color = Color.BLACK\n",
    "                    z.p.p.color = Color.RED\n",
    "                    self.right_rotate(z.p.p)\n",
    "                else:\n",
    "                    z = z.p\n",
    "                    self.right_rotate(z)\n",
    "                    z.p.color = Color.BLACK\n",
    "                    z.p.p.color = Color.RED\n",
    "                    self.left_rotate(z.p.p)\n",
    "\n",
    "        self.root.color = Color.BLACK\n",
    "    def delete(self, z):\n",
    "        \"TODO\"\n",
    "        pass"
   ],
   "metadata": {
    "collapsed": false,
    "pycharm": {
     "name": "#%%\n"
    }
   }
  },
  {
   "cell_type": "code",
   "execution_count": null,
   "outputs": [],
   "source": [
    "\n"
   ],
   "metadata": {
    "collapsed": false,
    "pycharm": {
     "name": "#%%\n"
    }
   }
  }
 ],
 "metadata": {
  "kernelspec": {
   "display_name": "Python 3",
   "language": "python",
   "name": "python3"
  },
  "language_info": {
   "codemirror_mode": {
    "name": "ipython",
    "version": 2
   },
   "file_extension": ".py",
   "mimetype": "text/x-python",
   "name": "python",
   "nbconvert_exporter": "python",
   "pygments_lexer": "ipython2",
   "version": "2.7.6"
  }
 },
 "nbformat": 4,
 "nbformat_minor": 0
}