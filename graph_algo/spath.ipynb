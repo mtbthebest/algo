{
 "cells": [
  {
   "cell_type": "code",
   "execution_count": 1,
   "metadata": {
    "collapsed": true
   },
   "outputs": [],
   "source": [
    "import graph_algo\n",
    "%load_ext autoreload\n",
    "%autoreload 2\n",
    "import copy\n",
    "from graph_algo.adt import LinkedGraph as LG, MatrixGraph as MG, Vertex, Edge, MapGraph\n",
    "import  math\n",
    "from data_structures import LinkedQueue, LinkedStack, SortedPriorityQueue\n",
    "from graph_algo.union_find import UF\n"
   ]
  },
  {
   "cell_type": "code",
   "execution_count": 4,
   "outputs": [],
   "source": [
    "def make_graph(string, max_vertices, directed=False, split='-'):\n",
    "    g = MapGraph(directed=directed)\n",
    "    vertices = [Vertex(i) for i in range(max_vertices + 1)]\n",
    "    for uv in string.split(\" \"):\n",
    "        u, v, w = map(lambda x: int(x[1]) if x[0]<2 else float(x[1]),\n",
    "                   enumerate(uv.split(split)))\n",
    "        g.insert_edge(Edge(vertices[u], vertices[v], w))\n",
    "    return g"
   ],
   "metadata": {
    "collapsed": false,
    "pycharm": {
     "name": "#%%\n"
    }
   }
  },
  {
   "cell_type": "code",
   "execution_count": 14,
   "outputs": [],
   "source": [
    "def dijk_spt(g, s):\n",
    "    MAX_VAL = float(\"inf\")\n",
    "    distance = dict()\n",
    "    path = dict()\n",
    "    for edge in g.edges:\n",
    "        edge.is_traversed = False\n",
    "\n",
    "    for vertex in g.vertices:\n",
    "        vertex.is_visited = False\n",
    "        distance[vertex] = MAX_VAL\n",
    "        path[vertex] = None\n",
    "    s.is_visited = True\n",
    "    distance[s] = 0\n",
    "    path[s] = s\n",
    "    s.parent = s\n",
    "    q = LinkedQueue()\n",
    "    q.enqueue(s)\n",
    "    while not q.is_empty():\n",
    "        vertex = q.dequeue()\n",
    "        for adj in g.adjacent(vertex):\n",
    "            edge = g.get_edge(vertex, adj)\n",
    "            if not edge.is_traversed:\n",
    "                if distance[vertex] < MAX_VAL and\\\n",
    "                        distance[vertex] + edge.weight < distance[adj]:\n",
    "                    distance[adj] = distance[vertex] + edge.weight\n",
    "                    path[adj] = vertex\n",
    "                    adj.parent = vertex\n",
    "                q.enqueue(adj)\n",
    "                edge.is_traversed = True\n",
    "\n",
    "    return {\"distance\": distance,\n",
    "            \"path\": path\n",
    "            }\n",
    "\n",
    "graph = make_graph(\"0-1-0.41 1-2-0.51 2-3-0.5 4-3-0.36 3-5-0.38 3-0-0.45 \"\n",
    "                         \"0-5-0.29 5-4-0.21 1-4-0.32 4-2-0.32 5-1-0.29\", 5, directed=True)\n",
    "\n",
    "root = list(graph.vertices)[0]\n",
    "sp = dijk_spt(graph, root)\n"
   ],
   "metadata": {
    "collapsed": false,
    "pycharm": {
     "name": "#%%\n"
    }
   }
  },
  {
   "cell_type": "code",
   "execution_count": 15,
   "outputs": [
    {
     "data": {
      "text/plain": "{Vertex(value=0): Vertex(value=0),\n Vertex(value=1): Vertex(value=0),\n Vertex(value=2): Vertex(value=4),\n Vertex(value=3): Vertex(value=4),\n Vertex(value=4): Vertex(value=5),\n Vertex(value=5): Vertex(value=0)}"
     },
     "execution_count": 15,
     "metadata": {},
     "output_type": "execute_result"
    }
   ],
   "source": [
    "sp[\"path\"]"
   ],
   "metadata": {
    "collapsed": false,
    "pycharm": {
     "name": "#%%\n"
    }
   }
  },
  {
   "cell_type": "code",
   "execution_count": 16,
   "outputs": [
    {
     "data": {
      "text/plain": "{Vertex(value=0): 0,\n Vertex(value=1): 0.41,\n Vertex(value=2): 0.8200000000000001,\n Vertex(value=3): 0.86,\n Vertex(value=4): 0.5,\n Vertex(value=5): 0.29}"
     },
     "execution_count": 16,
     "metadata": {},
     "output_type": "execute_result"
    }
   ],
   "source": [
    "sp[\"distance\"]\n",
    "\n"
   ],
   "metadata": {
    "collapsed": false,
    "pycharm": {
     "name": "#%%\n"
    }
   }
  },
  {
   "cell_type": "code",
   "execution_count": 17,
   "outputs": [
    {
     "name": "stdout",
     "output_type": "stream",
     "text": [
      "Vertex(value=0) Vertex(value=0)\n",
      "Vertex(value=1) Vertex(value=0)\n",
      "Vertex(value=2) Vertex(value=4)\n",
      "Vertex(value=3) Vertex(value=4)\n",
      "Vertex(value=4) Vertex(value=5)\n",
      "Vertex(value=5) Vertex(value=0)\n"
     ]
    }
   ],
   "source": [
    "for vertex in graph.vertices:\n",
    "    print(vertex, vertex.parent)"
   ],
   "metadata": {
    "collapsed": false,
    "pycharm": {
     "name": "#%%\n"
    }
   }
  },
  {
   "cell_type": "code",
   "execution_count": 36,
   "outputs": [
    {
     "name": "stdout",
     "output_type": "stream",
     "text": [
      "<__main__.Distance object at 0x7f767e7b10a0> Vertex(value=1)\n",
      " ---- Vertex(value=2)\n",
      "<__main__.Distance object at 0x7f766ca5d370> Vertex(value=2)\n",
      " ---- Vertex(value=4)\n",
      "<__main__.Distance object at 0x7f766ca5d9d0> Vertex(value=4)\n",
      " ---- Vertex(value=3)\n",
      "<__main__.Distance object at 0x7f766ca5d220> Vertex(value=3)\n",
      " ---- Vertex(value=0)\n",
      "<__main__.Distance object at 0x7f766cc00f70> Vertex(value=0)\n",
      " ---- Vertex(value=5)\n",
      "<__main__.Distance object at 0x7f766ca5d6d0> Vertex(value=5)\n"
     ]
    }
   ],
   "source": [
    "\n",
    "class Distance:\n",
    "\n",
    "    def __init__(self, value):\n",
    "        self.value = value\n",
    "\n",
    "    def __lt__(self, other):\n",
    "        return self.value < other.value\n",
    "\n",
    "def dijk_psq_spt(g, s):\n",
    "    MAX_VAL = float(\"inf\")\n",
    "    distance = dict()\n",
    "    path = dict()\n",
    "    for edge in g.edges:\n",
    "        edge.is_traversed = False\n",
    "\n",
    "    for vertex in g.vertices:\n",
    "        distance[vertex] = MAX_VAL\n",
    "        path[vertex] = None\n",
    "        vertex.is_visited = False\n",
    "\n",
    "        vertex.distance = Distance(MAX_VAL)\n",
    "\n",
    "    distance[s] = 0\n",
    "    s.distance.value = 0\n",
    "    path[s] = s\n",
    "    q = SortedPriorityQueue()\n",
    "    q.add(Distance(0), s)\n",
    "    o = 0\n",
    "    while not q.is_empty():\n",
    "        _, vertex = q.remove_min()\n",
    "        vertex.is_visited = True\n",
    "        for adj in g.adjacent(vertex):\n",
    "            edge = g.get_edge(vertex, adj)\n",
    "            if not q.contains(adj) and not adj.is_visited:\n",
    "                print(\" ----\", adj)\n",
    "                distance[adj] = distance[vertex] + edge.weight\n",
    "                adj.distance.value = distance[adj]\n",
    "                adj.parent = vertex\n",
    "                path[adj] = vertex\n",
    "                q.add(adj.distance, adj)\n",
    "\n",
    "            elif distance[vertex] < MAX_VAL and\\\n",
    "                    vertex.distance.value + edge.weight < adj.distance.value:\n",
    "                distance[adj] = distance[vertex] + edge.weight\n",
    "                adj.distance.value = distance[adj]\n",
    "                path[adj] = vertex\n",
    "                adj.parent = vertex\n",
    "\n",
    "    return {\"distance\": distance,\n",
    "            \"path\": path\n",
    "            }\n",
    "\n",
    "graph = make_graph(\"0-1-0.41 1-2-0.51 2-3-0.5 4-3-0.36 3-5-0.38 3-0-0.45 \"\n",
    "                         \"0-5-0.29 5-4-0.21 1-4-0.32 4-2-0.32 5-1-0.29\", 5, directed=True)\n",
    "\n",
    "root = list(graph.vertices)[1]\n",
    "sp =  dijk_psq_spt(graph, root)"
   ],
   "metadata": {
    "collapsed": false,
    "pycharm": {
     "name": "#%%\n"
    }
   }
  },
  {
   "cell_type": "code",
   "execution_count": 37,
   "outputs": [
    {
     "data": {
      "text/plain": "{'distance': {Vertex(value=0): 1.13,\n  Vertex(value=1): 0,\n  Vertex(value=2): 0.51,\n  Vertex(value=3): 0.6799999999999999,\n  Vertex(value=4): 0.32,\n  Vertex(value=5): 1.06},\n 'path': {Vertex(value=0): Vertex(value=3),\n  Vertex(value=1): Vertex(value=1),\n  Vertex(value=2): Vertex(value=1),\n  Vertex(value=3): Vertex(value=4),\n  Vertex(value=4): Vertex(value=1),\n  Vertex(value=5): Vertex(value=3)}}"
     },
     "execution_count": 37,
     "metadata": {},
     "output_type": "execute_result"
    }
   ],
   "source": [
    "sp"
   ],
   "metadata": {
    "collapsed": false,
    "pycharm": {
     "name": "#%%\n"
    }
   }
  },
  {
   "cell_type": "code",
   "execution_count": 34,
   "outputs": [],
   "source": [
    "def floyd_marshal_spt(g):\n",
    "    MAX_VAL = float(\"inf\")\n",
    "    for vertex in g.vertices:\n",
    "        vertex.distance = MAX_VAL\n",
    "    vertices = list(g.vertices)\n",
    "    spt = MapGraph(directed=True)\n",
    "    path = MapGraph(directed=True)\n",
    "    for u in vertices:\n",
    "        for v in vertices:\n",
    "            if u == v:\n",
    "                weight = 0\n",
    "                waypoint = u\n",
    "            elif edge := g.get_edge(u, v):\n",
    "                weight = edge.weight\n",
    "                waypoint = u\n",
    "            else:\n",
    "                weight = MAX_VAL\n",
    "                waypoint = None\n",
    "            edge = Edge(u,v, weight)\n",
    "            spt.insert_edge(edge)\n",
    "            path.insert_edge(Edge(u, v, waypoint))\n",
    "    for w in vertices:\n",
    "        for u in vertices:\n",
    "            for v in vertices:\n",
    "                if u == v:\n",
    "                    continue\n",
    "                if w != u and w != v:\n",
    "                    uw, wv, uv = spt.get_edge(u, w),\\\n",
    "                                 spt.get_edge(w, v),\\\n",
    "                                 spt.get_edge(u, v),\n",
    "                    if uw.weight + wv.weight < uv.weight:\n",
    "                        uv.weight = uw.weight + wv.weight\n",
    "                        edge = path.get_edge(u, v)\n",
    "                        edge.weight = w\n",
    "    return {\"spt\": spt, \"path\": path}\n",
    "\n",
    "graph = make_graph(\"0-1-0.41 1-2-0.51 2-3-0.5 4-3-0.36 3-5-0.38 3-0-0.45 \"\n",
    "                         \"0-5-0.29 5-4-0.21 1-4-0.32 4-2-0.32 5-1-0.29\", 5, directed=True)\n",
    "\n",
    "fl = floyd_marshal_spt(graph,)"
   ],
   "metadata": {
    "collapsed": false,
    "pycharm": {
     "name": "#%%\n"
    }
   }
  },
  {
   "cell_type": "code",
   "execution_count": 35,
   "outputs": [
    {
     "name": "stdout",
     "output_type": "stream",
     "text": [
      "Vertex(value=0)\n",
      "Edge(Vertex(value=0), Vertex(value=0), 0)\n",
      "Vertex(value=0)\n",
      "Edge(Vertex(value=0), Vertex(value=1), 0.41)\n",
      "Vertex(value=0)\n",
      "Edge(Vertex(value=0), Vertex(value=2), 0.8200000000000001)\n",
      "Vertex(value=5)\n",
      "Edge(Vertex(value=0), Vertex(value=3), 0.8599999999999999)\n",
      "Vertex(value=5)\n",
      "Edge(Vertex(value=0), Vertex(value=4), 0.5)\n",
      "Vertex(value=5)\n",
      "Edge(Vertex(value=0), Vertex(value=5), 0.29)\n",
      "Vertex(value=0)\n",
      "\n",
      "\n",
      "\n",
      "Vertex(value=1)\n",
      "Edge(Vertex(value=1), Vertex(value=0), 1.1300000000000001)\n",
      "Vertex(value=4)\n",
      "Edge(Vertex(value=1), Vertex(value=1), 0)\n",
      "Vertex(value=1)\n",
      "Edge(Vertex(value=1), Vertex(value=2), 0.51)\n",
      "Vertex(value=1)\n",
      "Edge(Vertex(value=1), Vertex(value=3), 0.6799999999999999)\n",
      "Vertex(value=4)\n",
      "Edge(Vertex(value=1), Vertex(value=4), 0.32)\n",
      "Vertex(value=1)\n",
      "Edge(Vertex(value=1), Vertex(value=5), 1.06)\n",
      "Vertex(value=4)\n",
      "\n",
      "\n",
      "\n",
      "Vertex(value=2)\n",
      "Edge(Vertex(value=2), Vertex(value=0), 0.95)\n",
      "Vertex(value=3)\n",
      "Edge(Vertex(value=2), Vertex(value=1), 1.17)\n",
      "Vertex(value=5)\n",
      "Edge(Vertex(value=2), Vertex(value=2), 0)\n",
      "Vertex(value=2)\n",
      "Edge(Vertex(value=2), Vertex(value=3), 0.5)\n",
      "Vertex(value=2)\n",
      "Edge(Vertex(value=2), Vertex(value=4), 1.09)\n",
      "Vertex(value=5)\n",
      "Edge(Vertex(value=2), Vertex(value=5), 0.88)\n",
      "Vertex(value=3)\n",
      "\n",
      "\n",
      "\n",
      "Vertex(value=3)\n",
      "Edge(Vertex(value=3), Vertex(value=0), 0.45)\n",
      "Vertex(value=3)\n",
      "Edge(Vertex(value=3), Vertex(value=1), 0.6699999999999999)\n",
      "Vertex(value=5)\n",
      "Edge(Vertex(value=3), Vertex(value=2), 0.91)\n",
      "Vertex(value=5)\n",
      "Edge(Vertex(value=3), Vertex(value=3), 0)\n",
      "Vertex(value=3)\n",
      "Edge(Vertex(value=3), Vertex(value=4), 0.59)\n",
      "Vertex(value=5)\n",
      "Edge(Vertex(value=3), Vertex(value=5), 0.38)\n",
      "Vertex(value=3)\n",
      "\n",
      "\n",
      "\n",
      "Vertex(value=4)\n",
      "Edge(Vertex(value=4), Vertex(value=0), 0.81)\n",
      "Vertex(value=3)\n",
      "Edge(Vertex(value=4), Vertex(value=1), 1.03)\n",
      "Vertex(value=5)\n",
      "Edge(Vertex(value=4), Vertex(value=2), 0.32)\n",
      "Vertex(value=4)\n",
      "Edge(Vertex(value=4), Vertex(value=3), 0.36)\n",
      "Vertex(value=4)\n",
      "Edge(Vertex(value=4), Vertex(value=4), 0)\n",
      "Vertex(value=4)\n",
      "Edge(Vertex(value=4), Vertex(value=5), 0.74)\n",
      "Vertex(value=3)\n",
      "\n",
      "\n",
      "\n",
      "Vertex(value=5)\n",
      "Edge(Vertex(value=5), Vertex(value=0), 1.02)\n",
      "Vertex(value=4)\n",
      "Edge(Vertex(value=5), Vertex(value=1), 0.29)\n",
      "Vertex(value=5)\n",
      "Edge(Vertex(value=5), Vertex(value=2), 0.53)\n",
      "Vertex(value=4)\n",
      "Edge(Vertex(value=5), Vertex(value=3), 0.57)\n",
      "Vertex(value=4)\n",
      "Edge(Vertex(value=5), Vertex(value=4), 0.21)\n",
      "Vertex(value=5)\n",
      "Edge(Vertex(value=5), Vertex(value=5), 0)\n",
      "Vertex(value=5)\n",
      "\n",
      "\n",
      "\n"
     ]
    }
   ],
   "source": [
    "for vertex in fl[\"spt\"].vertices:\n",
    "    print(vertex)\n",
    "    for adj in fl[\"spt\"].adjacent(vertex):\n",
    "        edge = fl[\"spt\"].get_edge(vertex, adj)\n",
    "        print(edge)\n",
    "        print(fl[\"path\"].get_edge(vertex, adj).weight)\n",
    "    print()\n",
    "    print()\n",
    "    print()"
   ],
   "metadata": {
    "collapsed": false,
    "pycharm": {
     "name": "#%%\n"
    }
   }
  },
  {
   "cell_type": "code",
   "execution_count": 3,
   "outputs": [],
   "source": [
    "MAX_VAL = float(\"inf\")\n",
    "def dag_longest_weighted_path2(g):\n",
    "    \"\"\"\n",
    "    Topological sort\n",
    "    For each edge in the sort\n",
    "    dt[v] = min(dt[v], dt[u] + weight[u, v])\n",
    "    \"\"\"\n",
    "    \n",
    "    def is_source(v):\n",
    "        if v.indegree == 0:\n",
    "            return True\n",
    "        return False\n",
    "    sources = LinkedQueue()\n",
    "    for vertex in g.vertices:\n",
    "        vertex.is_source = False\n",
    "        vertex.root = vertex\n",
    "        vertex.dst = MAX_VAL\n",
    "        if is_source(vertex):\n",
    "            vertex.dst = 0\n",
    "            vertex.is_source = True\n",
    "            sources.enqueue(vertex)\n",
    "    while not sources.is_empty():\n",
    "        vertex = sources.dequeue()\n",
    "        for adj in g.adjacent(vertex):\n",
    "            adj.indegree -= 1\n",
    "            edge = g.get_edge(vertex, adj)\n",
    "            dst = edge.weight + vertex.weight\n",
    "            if is_source(adj):\n",
    "                sources.enqueue(adj)\n",
    "            adj.dst = min(dst, adj.dst)"
   ],
   "metadata": {
    "collapsed": false,
    "pycharm": {
     "name": "#%%\n"
    }
   }
  },
  {
   "cell_type": "code",
   "execution_count": 21,
   "outputs": [
    {
     "name": "stdout",
     "output_type": "stream",
     "text": [
      "Vertex(value=2) inf 0.32\n",
      "Vertex(value=2)\n",
      "Vertex(value=3) inf 0.36\n",
      "Vertex(value=3)\n",
      "Vertex(value=3) 0.36 0.8200000000000001\n",
      "Vertex(value=0) inf 0.81\n",
      "Vertex(value=0)\n",
      "Vertex(value=5) inf -0.020000000000000018\n",
      "Vertex(value=5)\n",
      "Vertex(value=1) inf 1.22\n",
      "Vertex(value=1)\n",
      "Vertex(value=5) -0.020000000000000018 1.1\n",
      "Vertex(value=1) 1.22 -0.31\n",
      "Vertex(value=1)\n",
      "Vertex(value=4) 0 0.18999999999999997\n",
      "Vertex(value=2) 0.32 0.2\n",
      "Vertex(value=2)\n",
      "Vertex(value=4) 0 0.010000000000000009\n"
     ]
    }
   ],
   "source": [
    "def bellman_ford(g, source):\n",
    "    MAX_VAL = float(\"inf\")\n",
    "    for vertex in g.vertices:\n",
    "        vertex.dst = MAX_VAL\n",
    "    source.is_root = True\n",
    "    source.dst = 0\n",
    "    source.path = 0\n",
    "    for edge in g.edges:\n",
    "        edge.is_traversed = False\n",
    "    q = LinkedQueue()\n",
    "    q.enqueue(source)\n",
    "    while not q.is_empty():\n",
    "        vertex = q.dequeue()\n",
    "        for adj in g.adjacent(vertex):\n",
    "            edge = g.get_edge(vertex, adj)\n",
    "            if not edge.is_traversed:\n",
    "                edge.is_traversed = True\n",
    "                q.enqueue(adj)\n",
    "                if not hasattr(adj, 'is_root') and  \\\n",
    "                         adj.dst > vertex.dst + edge.weight:\n",
    "                    adj.dst = vertex.dst + edge.weight\n",
    "                    adj.path = vertex\n",
    "    return g\n",
    "\n",
    "graph = make_graph(\"0|1|0.41 1|2|0.51 \"\n",
    "                   \"2|3|0.5 4|3|0.36 3|5|-0.38 \"\n",
    "                   \"3|0|0.45 \"\n",
    "                    \"0|5|0.29 5|4|0.21 1|4|0.32 4|2|0.32 5|1|-0.29\", 5, directed=True, split='|')\n",
    "root = list(graph.vertices)[4]\n",
    "\n",
    "bf = bellman_ford(graph, root)"
   ],
   "metadata": {
    "collapsed": false,
    "pycharm": {
     "name": "#%%\n"
    }
   }
  },
  {
   "cell_type": "code",
   "execution_count": 22,
   "outputs": [
    {
     "name": "stdout",
     "output_type": "stream",
     "text": [
      "0.81\n",
      "-0.31\n",
      "0.2\n",
      "0.36\n",
      "0\n",
      "-0.020000000000000018\n"
     ]
    }
   ],
   "source": [
    "for vertex in bf.vertices:\n",
    "    print(vertex.dst)"
   ],
   "metadata": {
    "collapsed": false,
    "pycharm": {
     "name": "#%%\n"
    }
   }
  },
  {
   "cell_type": "code",
   "execution_count": null,
   "outputs": [],
   "source": [],
   "metadata": {
    "collapsed": false,
    "pycharm": {
     "name": "#%%\n"
    }
   }
  }
 ],
 "metadata": {
  "kernelspec": {
   "display_name": "Python 3",
   "language": "python",
   "name": "python3"
  },
  "language_info": {
   "codemirror_mode": {
    "name": "ipython",
    "version": 2
   },
   "file_extension": ".py",
   "mimetype": "text/x-python",
   "name": "python",
   "nbconvert_exporter": "python",
   "pygments_lexer": "ipython2",
   "version": "2.7.6"
  }
 },
 "nbformat": 4,
 "nbformat_minor": 0
}