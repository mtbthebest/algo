{
 "cells": [
  {
   "cell_type": "code",
   "execution_count": 1,
   "metadata": {
    "collapsed": true
   },
   "outputs": [],
   "source": [
    "from copy import deepcopy\n",
    "import numpy as np\n",
    "from typing import Iterable\n",
    "from math import floor, ceil, log2"
   ]
  },
  {
   "cell_type": "code",
   "execution_count": 17,
   "outputs": [
    {
     "name": "stdout",
     "output_type": "stream",
     "text": [
      "[23, 17, 14, 6, 13, 10, 1, 5, 7, 12]\n",
      "[1, 5, 6, 7, 10, 12, 13, 14, 17, 23]\n"
     ]
    }
   ],
   "source": [
    "class Heap:\n",
    "    indent = 5\n",
    "    key = lambda self, a, b : a>=b\n",
    "    def __init__(self, data= None):\n",
    "        self.data = data if isinstance(data, Iterable) else None\n",
    "        self._size = len(data)\n",
    "\n",
    "    def __len__(self):\n",
    "        return len(self.data)\n",
    "\n",
    "    def __getitem__(self, item):\n",
    "        return self.data[item]\n",
    "\n",
    "    def __setitem__(self, item, value):\n",
    "        self.data[item] = value\n",
    "\n",
    "    @property\n",
    "    def size(self):\n",
    "        return self._size\n",
    "\n",
    "    @size.setter\n",
    "    def size(self, value):\n",
    "        if value > 0:\n",
    "            for i in range(value):\n",
    "                self.data[self._size + i] = None\n",
    "        self._size = value\n",
    "\n",
    "\n",
    "    def parent(self, i):\n",
    "        if i == 0:\n",
    "            return None\n",
    "        return floor( (i-1) // 2)\n",
    "\n",
    "    def left(self, i):\n",
    "        return 2*i + 1\n",
    "\n",
    "    def right(self, i):\n",
    "        return 2*i + 2\n",
    "    \n",
    "    @property\n",
    "    def height(self):\n",
    "        if not self.size:\n",
    "            return None\n",
    "        return floor(log2(self.size))\n",
    "\n",
    "    def get_height(self, index):\n",
    "        return floor(log2(index + 1))\n",
    "\n",
    "    def __str__(self):\n",
    "        self.print_branch(0)\n",
    "        return \"\"\n",
    "\n",
    "    def print_branch(self, x):\n",
    "        left, right = self.left(x), self.right(x)\n",
    "        if right < self.size:\n",
    "            self.print_branch(right)\n",
    "        current_height = self.get_height(x)\n",
    "        value = self.data[x]\n",
    "        print(f\"- {str(value)}\".rjust( self.indent * (current_height + 1)))\n",
    "        print(\"\\n\" * 0)\n",
    "        if left < self.size:\n",
    "            self.print_branch(left)\n",
    "\n",
    "    def heapify(self,i, key=None):\n",
    "        key = self.key if key is None else key\n",
    "        left, right = self.left(i), self.right(i)\n",
    "        largest = i\n",
    "        if left < self.size and key(self[left], self[largest]):\n",
    "            largest = left\n",
    "        if right < self.size and key(self[right], self[largest]):\n",
    "            largest = right\n",
    "        if largest != i:\n",
    "            self[i], self[largest] = self[largest], self[i]\n",
    "            self.heapify(largest, key)\n",
    "\n",
    "    def build_heap(self, key=None):\n",
    "        key = self.key if key is None else key\n",
    "        for i in range(self.size//2, -1, -1):\n",
    "            self.heapify(i, key)\n",
    "\n",
    "\n",
    "    def sort(self, key=None):\n",
    "        key = self.key if key is None else key\n",
    "        self.build_heap()\n",
    "        i = 0\n",
    "        while self.size:\n",
    "            self[i], self[self.size - 1] = self[self.size - 1], self[i]\n",
    "            self.size -= 1\n",
    "            self.heapify(i, key)\n",
    "\n",
    "h = Heap([23, 17, 14, 6, 13, 10, 1, 5, 7, 12])\n",
    "# h = Heap([\"A\", \"B\", \"C\", \"D\", \"E\", \"F\", \"G\", \"H\", \"I\", \"J\"])\n",
    "# print(h)\n",
    "# print(h.height)\n",
    "print(h.data)\n",
    "h.sort()\n",
    "print(h.data)"
   ],
   "metadata": {
    "collapsed": false,
    "pycharm": {
     "name": "#%%\n"
    }
   }
  },
  {
   "cell_type": "code",
   "execution_count": null,
   "outputs": [],
   "source": [
    "class MaxPriorityQueue(Heap):\n",
    "    \n",
    "    def heap_maximum(self):\n",
    "        return self.data[0]\n",
    "    \n",
    "    def extract_max(self):\n",
    "        if not self.size: \n",
    "            raise ValueError\n",
    "        _max = self[0]\n",
    "        self[0] = self[self.size - 1]\n",
    "        self.size -= 1\n",
    "        self.heapify(self, 0)\n",
    "        return _max\n",
    "\n",
    "    def increase_key(self, i, key):\n",
    "        if key < self[i]:\n",
    "            raise ValueError\n",
    "        self[i] = key\n",
    "        while i>= 0 and self[i]> (parent :=self.parent(i)):\n",
    "            self[i], self[parent] = self[parent], self[i]\n",
    "\n",
    "\n",
    "    def insert(self, key):\n",
    "        self.size += 1\n",
    "        self[self.size - 1] = float(\"-inf\")\n",
    "        self.increase_key(self.size  - 1, key)\n",
    "        \n",
    "    \n",
    "\n"
   ],
   "metadata": {
    "collapsed": false,
    "pycharm": {
     "name": "#%%\n"
    }
   }
  }
 ],
 "metadata": {
  "kernelspec": {
   "display_name": "Python 3",
   "language": "python",
   "name": "python3"
  },
  "language_info": {
   "codemirror_mode": {
    "name": "ipython",
    "version": 2
   },
   "file_extension": ".py",
   "mimetype": "text/x-python",
   "name": "python",
   "nbconvert_exporter": "python",
   "pygments_lexer": "ipython2",
   "version": "2.7.6"
  }
 },
 "nbformat": 4,
 "nbformat_minor": 0
}